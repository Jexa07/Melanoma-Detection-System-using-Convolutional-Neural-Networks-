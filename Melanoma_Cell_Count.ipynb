{
  "nbformat": 4,
  "nbformat_minor": 0,
  "metadata": {
    "colab": {
      "provenance": [],
      "gpuType": "T4"
    },
    "kernelspec": {
      "name": "python3",
      "display_name": "Python 3"
    },
    "language_info": {
      "name": "python"
    },
    "accelerator": "GPU"
  },
  "cells": [
    {
      "cell_type": "code",
      "execution_count": 2,
      "metadata": {
        "colab": {
          "base_uri": "https://localhost:8080/"
        },
        "id": "HlcKZr57y3qR",
        "outputId": "cf9bae0e-408a-46aa-fbaa-6a821dfba07b"
      },
      "outputs": [
        {
          "output_type": "stream",
          "name": "stdout",
          "text": [
            "Requirement already satisfied: roboflow in /usr/local/lib/python3.10/dist-packages (1.1.49)\n",
            "Requirement already satisfied: ultralytics in /usr/local/lib/python3.10/dist-packages (8.3.36)\n",
            "Requirement already satisfied: torch in /usr/local/lib/python3.10/dist-packages (2.5.1+cu121)\n",
            "Requirement already satisfied: torchvision in /usr/local/lib/python3.10/dist-packages (0.20.1+cu121)\n",
            "Requirement already satisfied: onnx in /usr/local/lib/python3.10/dist-packages (1.17.0)\n",
            "Requirement already satisfied: onnxruntime in /usr/local/lib/python3.10/dist-packages (1.20.1)\n",
            "Requirement already satisfied: scikit-learn in /usr/local/lib/python3.10/dist-packages (1.5.2)\n",
            "Requirement already satisfied: opencv-python in /usr/local/lib/python3.10/dist-packages (4.10.0.84)\n",
            "Requirement already satisfied: tensorflow in /usr/local/lib/python3.10/dist-packages (2.17.1)\n",
            "Requirement already satisfied: nvidia-pyindex in /usr/local/lib/python3.10/dist-packages (1.0.9)\n",
            "Requirement already satisfied: nvidia-tensorrt in /usr/local/lib/python3.10/dist-packages (99.0.0)\n",
            "Requirement already satisfied: zipfile36 in /usr/local/lib/python3.10/dist-packages (0.1.3)\n",
            "Requirement already satisfied: certifi in /usr/local/lib/python3.10/dist-packages (from roboflow) (2024.8.30)\n",
            "Requirement already satisfied: idna==3.7 in /usr/local/lib/python3.10/dist-packages (from roboflow) (3.7)\n",
            "Requirement already satisfied: cycler in /usr/local/lib/python3.10/dist-packages (from roboflow) (0.12.1)\n",
            "Requirement already satisfied: kiwisolver>=1.3.1 in /usr/local/lib/python3.10/dist-packages (from roboflow) (1.4.7)\n",
            "Requirement already satisfied: matplotlib in /usr/local/lib/python3.10/dist-packages (from roboflow) (3.8.0)\n",
            "Requirement already satisfied: numpy>=1.18.5 in /usr/local/lib/python3.10/dist-packages (from roboflow) (1.26.4)\n",
            "Requirement already satisfied: opencv-python-headless==4.10.0.84 in /usr/local/lib/python3.10/dist-packages (from roboflow) (4.10.0.84)\n",
            "Requirement already satisfied: Pillow>=7.1.2 in /usr/local/lib/python3.10/dist-packages (from roboflow) (11.0.0)\n",
            "Requirement already satisfied: python-dateutil in /usr/local/lib/python3.10/dist-packages (from roboflow) (2.8.2)\n",
            "Requirement already satisfied: python-dotenv in /usr/local/lib/python3.10/dist-packages (from roboflow) (1.0.1)\n",
            "Requirement already satisfied: requests in /usr/local/lib/python3.10/dist-packages (from roboflow) (2.32.3)\n",
            "Requirement already satisfied: six in /usr/local/lib/python3.10/dist-packages (from roboflow) (1.16.0)\n",
            "Requirement already satisfied: urllib3>=1.26.6 in /usr/local/lib/python3.10/dist-packages (from roboflow) (2.2.3)\n",
            "Requirement already satisfied: tqdm>=4.41.0 in /usr/local/lib/python3.10/dist-packages (from roboflow) (4.66.6)\n",
            "Requirement already satisfied: PyYAML>=5.3.1 in /usr/local/lib/python3.10/dist-packages (from roboflow) (6.0.2)\n",
            "Requirement already satisfied: requests-toolbelt in /usr/local/lib/python3.10/dist-packages (from roboflow) (1.0.0)\n",
            "Requirement already satisfied: filetype in /usr/local/lib/python3.10/dist-packages (from roboflow) (1.2.0)\n",
            "Requirement already satisfied: scipy>=1.4.1 in /usr/local/lib/python3.10/dist-packages (from ultralytics) (1.13.1)\n",
            "Requirement already satisfied: psutil in /usr/local/lib/python3.10/dist-packages (from ultralytics) (5.9.5)\n",
            "Requirement already satisfied: py-cpuinfo in /usr/local/lib/python3.10/dist-packages (from ultralytics) (9.0.0)\n",
            "Requirement already satisfied: pandas>=1.1.4 in /usr/local/lib/python3.10/dist-packages (from ultralytics) (2.2.2)\n",
            "Requirement already satisfied: seaborn>=0.11.0 in /usr/local/lib/python3.10/dist-packages (from ultralytics) (0.13.2)\n",
            "Requirement already satisfied: ultralytics-thop>=2.0.0 in /usr/local/lib/python3.10/dist-packages (from ultralytics) (2.0.12)\n",
            "Requirement already satisfied: filelock in /usr/local/lib/python3.10/dist-packages (from torch) (3.16.1)\n",
            "Requirement already satisfied: typing-extensions>=4.8.0 in /usr/local/lib/python3.10/dist-packages (from torch) (4.12.2)\n",
            "Requirement already satisfied: networkx in /usr/local/lib/python3.10/dist-packages (from torch) (3.4.2)\n",
            "Requirement already satisfied: jinja2 in /usr/local/lib/python3.10/dist-packages (from torch) (3.1.4)\n",
            "Requirement already satisfied: fsspec in /usr/local/lib/python3.10/dist-packages (from torch) (2024.10.0)\n",
            "Requirement already satisfied: sympy==1.13.1 in /usr/local/lib/python3.10/dist-packages (from torch) (1.13.1)\n",
            "Requirement already satisfied: mpmath<1.4,>=1.1.0 in /usr/local/lib/python3.10/dist-packages (from sympy==1.13.1->torch) (1.3.0)\n",
            "Requirement already satisfied: protobuf>=3.20.2 in /usr/local/lib/python3.10/dist-packages (from onnx) (4.25.5)\n",
            "Requirement already satisfied: coloredlogs in /usr/local/lib/python3.10/dist-packages (from onnxruntime) (15.0.1)\n",
            "Requirement already satisfied: flatbuffers in /usr/local/lib/python3.10/dist-packages (from onnxruntime) (24.3.25)\n",
            "Requirement already satisfied: packaging in /usr/local/lib/python3.10/dist-packages (from onnxruntime) (24.2)\n",
            "Requirement already satisfied: joblib>=1.2.0 in /usr/local/lib/python3.10/dist-packages (from scikit-learn) (1.4.2)\n",
            "Requirement already satisfied: threadpoolctl>=3.1.0 in /usr/local/lib/python3.10/dist-packages (from scikit-learn) (3.5.0)\n",
            "Requirement already satisfied: absl-py>=1.0.0 in /usr/local/lib/python3.10/dist-packages (from tensorflow) (1.4.0)\n",
            "Requirement already satisfied: astunparse>=1.6.0 in /usr/local/lib/python3.10/dist-packages (from tensorflow) (1.6.3)\n",
            "Requirement already satisfied: gast!=0.5.0,!=0.5.1,!=0.5.2,>=0.2.1 in /usr/local/lib/python3.10/dist-packages (from tensorflow) (0.6.0)\n",
            "Requirement already satisfied: google-pasta>=0.1.1 in /usr/local/lib/python3.10/dist-packages (from tensorflow) (0.2.0)\n",
            "Requirement already satisfied: h5py>=3.10.0 in /usr/local/lib/python3.10/dist-packages (from tensorflow) (3.12.1)\n",
            "Requirement already satisfied: libclang>=13.0.0 in /usr/local/lib/python3.10/dist-packages (from tensorflow) (18.1.1)\n",
            "Requirement already satisfied: ml-dtypes<0.5.0,>=0.3.1 in /usr/local/lib/python3.10/dist-packages (from tensorflow) (0.4.1)\n",
            "Requirement already satisfied: opt-einsum>=2.3.2 in /usr/local/lib/python3.10/dist-packages (from tensorflow) (3.4.0)\n",
            "Requirement already satisfied: setuptools in /usr/local/lib/python3.10/dist-packages (from tensorflow) (75.1.0)\n",
            "Requirement already satisfied: termcolor>=1.1.0 in /usr/local/lib/python3.10/dist-packages (from tensorflow) (2.5.0)\n",
            "Requirement already satisfied: wrapt>=1.11.0 in /usr/local/lib/python3.10/dist-packages (from tensorflow) (1.16.0)\n",
            "Requirement already satisfied: grpcio<2.0,>=1.24.3 in /usr/local/lib/python3.10/dist-packages (from tensorflow) (1.68.0)\n",
            "Requirement already satisfied: tensorboard<2.18,>=2.17 in /usr/local/lib/python3.10/dist-packages (from tensorflow) (2.17.1)\n",
            "Requirement already satisfied: keras>=3.2.0 in /usr/local/lib/python3.10/dist-packages (from tensorflow) (3.5.0)\n",
            "Requirement already satisfied: tensorflow-io-gcs-filesystem>=0.23.1 in /usr/local/lib/python3.10/dist-packages (from tensorflow) (0.37.1)\n",
            "Requirement already satisfied: tensorrt in /usr/local/lib/python3.10/dist-packages (from nvidia-tensorrt) (10.6.0.post1)\n",
            "Requirement already satisfied: wheel<1.0,>=0.23.0 in /usr/local/lib/python3.10/dist-packages (from astunparse>=1.6.0->tensorflow) (0.45.0)\n",
            "Requirement already satisfied: rich in /usr/local/lib/python3.10/dist-packages (from keras>=3.2.0->tensorflow) (13.9.4)\n",
            "Requirement already satisfied: namex in /usr/local/lib/python3.10/dist-packages (from keras>=3.2.0->tensorflow) (0.0.8)\n",
            "Requirement already satisfied: optree in /usr/local/lib/python3.10/dist-packages (from keras>=3.2.0->tensorflow) (0.13.1)\n",
            "Requirement already satisfied: contourpy>=1.0.1 in /usr/local/lib/python3.10/dist-packages (from matplotlib->roboflow) (1.3.1)\n",
            "Requirement already satisfied: fonttools>=4.22.0 in /usr/local/lib/python3.10/dist-packages (from matplotlib->roboflow) (4.55.0)\n",
            "Requirement already satisfied: pyparsing>=2.3.1 in /usr/local/lib/python3.10/dist-packages (from matplotlib->roboflow) (3.2.0)\n",
            "Requirement already satisfied: pytz>=2020.1 in /usr/local/lib/python3.10/dist-packages (from pandas>=1.1.4->ultralytics) (2024.2)\n",
            "Requirement already satisfied: tzdata>=2022.7 in /usr/local/lib/python3.10/dist-packages (from pandas>=1.1.4->ultralytics) (2024.2)\n",
            "Requirement already satisfied: charset-normalizer<4,>=2 in /usr/local/lib/python3.10/dist-packages (from requests->roboflow) (3.4.0)\n",
            "Requirement already satisfied: markdown>=2.6.8 in /usr/local/lib/python3.10/dist-packages (from tensorboard<2.18,>=2.17->tensorflow) (3.7)\n",
            "Requirement already satisfied: tensorboard-data-server<0.8.0,>=0.7.0 in /usr/local/lib/python3.10/dist-packages (from tensorboard<2.18,>=2.17->tensorflow) (0.7.2)\n",
            "Requirement already satisfied: werkzeug>=1.0.1 in /usr/local/lib/python3.10/dist-packages (from tensorboard<2.18,>=2.17->tensorflow) (3.1.3)\n",
            "Requirement already satisfied: humanfriendly>=9.1 in /usr/local/lib/python3.10/dist-packages (from coloredlogs->onnxruntime) (10.0)\n",
            "Requirement already satisfied: MarkupSafe>=2.0 in /usr/local/lib/python3.10/dist-packages (from jinja2->torch) (3.0.2)\n",
            "Requirement already satisfied: tensorrt-cu12==10.6.0.post1 in /usr/local/lib/python3.10/dist-packages (from tensorrt->nvidia-tensorrt) (10.6.0.post1)\n",
            "Requirement already satisfied: markdown-it-py>=2.2.0 in /usr/local/lib/python3.10/dist-packages (from rich->keras>=3.2.0->tensorflow) (3.0.0)\n",
            "Requirement already satisfied: pygments<3.0.0,>=2.13.0 in /usr/local/lib/python3.10/dist-packages (from rich->keras>=3.2.0->tensorflow) (2.18.0)\n",
            "Requirement already satisfied: mdurl~=0.1 in /usr/local/lib/python3.10/dist-packages (from markdown-it-py>=2.2.0->rich->keras>=3.2.0->tensorflow) (0.1.2)\n"
          ]
        }
      ],
      "source": [
        "!pip install roboflow ultralytics torch torchvision onnx onnxruntime scikit-learn opencv-python tensorflow nvidia-pyindex nvidia-tensorrt zipfile36"
      ]
    },
    {
      "cell_type": "code",
      "source": [
        "import os\n",
        "import cv2\n",
        "import numpy as np\n",
        "import time\n",
        "import matplotlib.pyplot as plt\n",
        "from ultralytics import YOLO\n",
        "from roboflow import Roboflow"
      ],
      "metadata": {
        "id": "eR8n6p9RzCsj"
      },
      "execution_count": 3,
      "outputs": []
    },
    {
      "cell_type": "code",
      "source": [
        "### Step 2: Mount Google Drive and Define Paths\n",
        "\n",
        "from google.colab import drive\n",
        "drive.mount('/content/drive')"
      ],
      "metadata": {
        "colab": {
          "base_uri": "https://localhost:8080/"
        },
        "id": "9PipkPhIzQnr",
        "outputId": "9fc3dd62-a27d-4bd2-a6fa-8a0490026130"
      },
      "execution_count": 4,
      "outputs": [
        {
          "output_type": "stream",
          "name": "stdout",
          "text": [
            "Drive already mounted at /content/drive; to attempt to forcibly remount, call drive.mount(\"/content/drive\", force_remount=True).\n"
          ]
        }
      ]
    },
    {
      "cell_type": "code",
      "source": [
        "# Define the path to the zip file\n",
        "zip_file_path = '/content/drive/MyDrive/filtered_tiles_output.zip'  # Update this to the actual zip file path\n",
        "\n",
        "# Define the directory where the dataset will be extracted\n",
        "dataset_path = '/content/final_tiles'  # Directory to extract files\n",
        "\n",
        "# Create the output directory for results\n",
        "output_path = '/content/output_images'\n",
        "os.makedirs(output_path, exist_ok=True)\n",
        "\n",
        "# Unzip the dataset if not already extracted\n",
        "if not os.path.exists(dataset_path):\n",
        "    import zipfile\n",
        "    print(f\"Extracting {zip_file_path}...\")\n",
        "    with zipfile.ZipFile(zip_file_path, 'r') as zip_ref:\n",
        "        zip_ref.extractall(dataset_path)\n",
        "    print(f\"Dataset extracted to {dataset_path}.\")\n",
        "else:\n",
        "    print(f\"Dataset already exists at {dataset_path}.\")\n"
      ],
      "metadata": {
        "colab": {
          "base_uri": "https://localhost:8080/"
        },
        "id": "pkTRfcpTzWUz",
        "outputId": "31f54a70-d9bd-4a3a-c425-a05ac8afc4d5"
      },
      "execution_count": 5,
      "outputs": [
        {
          "output_type": "stream",
          "name": "stdout",
          "text": [
            "Dataset already exists at /content/final_tiles.\n"
          ]
        }
      ]
    },
    {
      "cell_type": "code",
      "source": [
        "from roboflow import Roboflow\n",
        "\n",
        "rf = Roboflow(api_key=\"IT111k9ZCIpOy2nsvyeI\")\n",
        "project = rf.workspace(\"jexa\").project(\"melanoma-by-arpita\")\n",
        "version = project.version(3)\n",
        "\n",
        "# Check if dataset exists locally before downloading\n",
        "if not os.path.exists(\"yolov11\"):\n",
        "    dataset = version.download(\"yolov11\")\n",
        "    print(f\"Dataset downloaded and stored at: {dataset.location}\")\n",
        "else:\n",
        "    print(\"Dataset already downloaded.\")"
      ],
      "metadata": {
        "colab": {
          "base_uri": "https://localhost:8080/"
        },
        "id": "RYhkWOIGzY1E",
        "outputId": "f2d002d1-80f1-4509-df44-5938890bd963"
      },
      "execution_count": 6,
      "outputs": [
        {
          "output_type": "stream",
          "name": "stdout",
          "text": [
            "loading Roboflow workspace...\n",
            "loading Roboflow project...\n",
            "Dataset downloaded and stored at: /content/Melanoma-by-Arpita-3\n"
          ]
        }
      ]
    },
    {
      "cell_type": "code",
      "source": [
        "data_yaml_path = os.path.join(dataset.location, 'data.yaml')\n",
        "if os.path.exists(data_yaml_path):\n",
        "    model = YOLO(\"yolo11m-seg.pt\")\n",
        "    model.train(data=data_yaml_path, epochs=100, imgsz=256, batch=16)\n",
        "    print(f\"Model training completed. Best model saved at: {model.best.weights}\")\n",
        "else:\n",
        "    print(f\"Error: Dataset YAML file not found at {data_yaml_path}.\")\n"
      ],
      "metadata": {
        "colab": {
          "base_uri": "https://localhost:8080/",
          "height": 1000
        },
        "id": "YuMplDgz1Zc8",
        "outputId": "f1061326-66ed-4da1-f0cc-fe92abe13231"
      },
      "execution_count": 7,
      "outputs": [
        {
          "output_type": "stream",
          "name": "stdout",
          "text": [
            "Ultralytics 8.3.36 🚀 Python-3.10.12 torch-2.5.1+cu121 CUDA:0 (Tesla T4, 15102MiB)\n",
            "\u001b[34m\u001b[1mengine/trainer: \u001b[0mtask=segment, mode=train, model=yolo11m-seg.pt, data=/content/Melanoma-by-Arpita-3/data.yaml, epochs=100, time=None, patience=100, batch=16, imgsz=256, save=True, save_period=-1, cache=False, device=None, workers=8, project=None, name=train2, exist_ok=False, pretrained=True, optimizer=auto, verbose=True, seed=0, deterministic=True, single_cls=False, rect=False, cos_lr=False, close_mosaic=10, resume=False, amp=True, fraction=1.0, profile=False, freeze=None, multi_scale=False, overlap_mask=True, mask_ratio=4, dropout=0.0, val=True, split=val, save_json=False, save_hybrid=False, conf=None, iou=0.7, max_det=300, half=False, dnn=False, plots=True, source=None, vid_stride=1, stream_buffer=False, visualize=False, augment=False, agnostic_nms=False, classes=None, retina_masks=False, embed=None, show=False, save_frames=False, save_txt=False, save_conf=False, save_crop=False, show_labels=True, show_conf=True, show_boxes=True, line_width=None, format=torchscript, keras=False, optimize=False, int8=False, dynamic=False, simplify=True, opset=None, workspace=4, nms=False, lr0=0.01, lrf=0.01, momentum=0.937, weight_decay=0.0005, warmup_epochs=3.0, warmup_momentum=0.8, warmup_bias_lr=0.1, box=7.5, cls=0.5, dfl=1.5, pose=12.0, kobj=1.0, label_smoothing=0.0, nbs=64, hsv_h=0.015, hsv_s=0.7, hsv_v=0.4, degrees=0.0, translate=0.1, scale=0.5, shear=0.0, perspective=0.0, flipud=0.0, fliplr=0.5, bgr=0.0, mosaic=1.0, mixup=0.0, copy_paste=0.0, copy_paste_mode=flip, auto_augment=randaugment, erasing=0.4, crop_fraction=1.0, cfg=None, tracker=botsort.yaml, save_dir=runs/segment/train2\n",
            "Overriding model.yaml nc=80 with nc=1\n",
            "\n",
            "                   from  n    params  module                                       arguments                     \n",
            "  0                  -1  1      1856  ultralytics.nn.modules.conv.Conv             [3, 64, 3, 2]                 \n",
            "  1                  -1  1     73984  ultralytics.nn.modules.conv.Conv             [64, 128, 3, 2]               \n",
            "  2                  -1  1    111872  ultralytics.nn.modules.block.C3k2            [128, 256, 1, True, 0.25]     \n",
            "  3                  -1  1    590336  ultralytics.nn.modules.conv.Conv             [256, 256, 3, 2]              \n",
            "  4                  -1  1    444928  ultralytics.nn.modules.block.C3k2            [256, 512, 1, True, 0.25]     \n",
            "  5                  -1  1   2360320  ultralytics.nn.modules.conv.Conv             [512, 512, 3, 2]              \n",
            "  6                  -1  1   1380352  ultralytics.nn.modules.block.C3k2            [512, 512, 1, True]           \n",
            "  7                  -1  1   2360320  ultralytics.nn.modules.conv.Conv             [512, 512, 3, 2]              \n",
            "  8                  -1  1   1380352  ultralytics.nn.modules.block.C3k2            [512, 512, 1, True]           \n",
            "  9                  -1  1    656896  ultralytics.nn.modules.block.SPPF            [512, 512, 5]                 \n",
            " 10                  -1  1    990976  ultralytics.nn.modules.block.C2PSA           [512, 512, 1]                 \n",
            " 11                  -1  1         0  torch.nn.modules.upsampling.Upsample         [None, 2, 'nearest']          \n",
            " 12             [-1, 6]  1         0  ultralytics.nn.modules.conv.Concat           [1]                           \n",
            " 13                  -1  1   1642496  ultralytics.nn.modules.block.C3k2            [1024, 512, 1, True]          \n",
            " 14                  -1  1         0  torch.nn.modules.upsampling.Upsample         [None, 2, 'nearest']          \n",
            " 15             [-1, 4]  1         0  ultralytics.nn.modules.conv.Concat           [1]                           \n",
            " 16                  -1  1    542720  ultralytics.nn.modules.block.C3k2            [1024, 256, 1, True]          \n",
            " 17                  -1  1    590336  ultralytics.nn.modules.conv.Conv             [256, 256, 3, 2]              \n",
            " 18            [-1, 13]  1         0  ultralytics.nn.modules.conv.Concat           [1]                           \n",
            " 19                  -1  1   1511424  ultralytics.nn.modules.block.C3k2            [768, 512, 1, True]           \n",
            " 20                  -1  1   2360320  ultralytics.nn.modules.conv.Conv             [512, 512, 3, 2]              \n",
            " 21            [-1, 10]  1         0  ultralytics.nn.modules.conv.Concat           [1]                           \n",
            " 22                  -1  1   1642496  ultralytics.nn.modules.block.C3k2            [1024, 512, 1, True]          \n",
            " 23        [16, 19, 22]  1   3718003  ultralytics.nn.modules.head.Segment          [1, 32, 256, [256, 512, 512]] \n",
            "YOLO11m-seg summary: 445 layers, 22,359,987 parameters, 22,359,971 gradients, 123.6 GFLOPs\n",
            "\n",
            "Transferred 705/711 items from pretrained weights\n",
            "\u001b[34m\u001b[1mTensorBoard: \u001b[0mStart with 'tensorboard --logdir runs/segment/train2', view at http://localhost:6006/\n",
            "Freezing layer 'model.23.dfl.conv.weight'\n",
            "\u001b[34m\u001b[1mAMP: \u001b[0mrunning Automatic Mixed Precision (AMP) checks...\n",
            "\u001b[34m\u001b[1mAMP: \u001b[0mchecks passed ✅\n"
          ]
        },
        {
          "output_type": "stream",
          "name": "stderr",
          "text": [
            "\u001b[34m\u001b[1mtrain: \u001b[0mScanning /content/Melanoma-by-Arpita-3/train/labels.cache... 126 images, 0 backgrounds, 0 corrupt: 100%|██████████| 126/126 [00:00<?, ?it/s]\n"
          ]
        },
        {
          "output_type": "stream",
          "name": "stdout",
          "text": [
            "\u001b[34m\u001b[1malbumentations: \u001b[0mBlur(p=0.01, blur_limit=(3, 7)), MedianBlur(p=0.01, blur_limit=(3, 7)), ToGray(p=0.01, num_output_channels=3, method='weighted_average'), CLAHE(p=0.01, clip_limit=(1.0, 4.0), tile_grid_size=(8, 8))\n"
          ]
        },
        {
          "output_type": "stream",
          "name": "stderr",
          "text": [
            "A new version of Albumentations is available: 1.4.21 (you have 1.4.20). Upgrade using: pip install -U albumentations. To disable automatic update checks, set the environment variable NO_ALBUMENTATIONS_UPDATE to 1.\n",
            "\u001b[34m\u001b[1mval: \u001b[0mScanning /content/Melanoma-by-Arpita-3/valid/labels.cache... 12 images, 0 backgrounds, 0 corrupt: 100%|██████████| 12/12 [00:00<?, ?it/s]\n"
          ]
        },
        {
          "output_type": "stream",
          "name": "stdout",
          "text": [
            "Plotting labels to runs/segment/train2/labels.jpg... \n",
            "\u001b[34m\u001b[1moptimizer:\u001b[0m 'optimizer=auto' found, ignoring 'lr0=0.01' and 'momentum=0.937' and determining best 'optimizer', 'lr0' and 'momentum' automatically... \n",
            "\u001b[34m\u001b[1moptimizer:\u001b[0m AdamW(lr=0.002, momentum=0.9) with parameter groups 115 weight(decay=0.0), 126 weight(decay=0.0005), 125 bias(decay=0.0)\n",
            "\u001b[34m\u001b[1mTensorBoard: \u001b[0mmodel graph visualization added ✅\n",
            "Image sizes 256 train, 256 val\n",
            "Using 2 dataloader workers\n",
            "Logging results to \u001b[1mruns/segment/train2\u001b[0m\n",
            "Starting training for 100 epochs...\n",
            "\n",
            "      Epoch    GPU_mem   box_loss   seg_loss   cls_loss   dfl_loss  Instances       Size\n"
          ]
        },
        {
          "output_type": "stream",
          "name": "stderr",
          "text": [
            "      1/100      2.23G      3.809      4.765       3.98      1.599        771        256: 100%|██████████| 8/8 [00:11<00:00,  1.42s/it]\n",
            "                 Class     Images  Instances      Box(P          R      mAP50  mAP50-95)     Mask(P          R      mAP50  mAP50-95): 100%|██████████| 1/1 [00:01<00:00,  1.57s/it]"
          ]
        },
        {
          "output_type": "stream",
          "name": "stdout",
          "text": [
            "                   all         12        669      0.116      0.535      0.148     0.0695      0.113       0.52      0.143     0.0531\n"
          ]
        },
        {
          "output_type": "stream",
          "name": "stderr",
          "text": [
            "\n"
          ]
        },
        {
          "output_type": "stream",
          "name": "stdout",
          "text": [
            "\n",
            "      Epoch    GPU_mem   box_loss   seg_loss   cls_loss   dfl_loss  Instances       Size\n"
          ]
        },
        {
          "output_type": "stream",
          "name": "stderr",
          "text": [
            "      2/100      2.15G      2.466      3.316      1.623      1.076        829        256: 100%|██████████| 8/8 [00:05<00:00,  1.43it/s]\n",
            "                 Class     Images  Instances      Box(P          R      mAP50  mAP50-95)     Mask(P          R      mAP50  mAP50-95): 100%|██████████| 1/1 [00:00<00:00,  1.74it/s]"
          ]
        },
        {
          "output_type": "stream",
          "name": "stdout",
          "text": [
            "                   all         12        669      0.501      0.807      0.655      0.327       0.44      0.709      0.529      0.189\n"
          ]
        },
        {
          "output_type": "stream",
          "name": "stderr",
          "text": [
            "\n"
          ]
        },
        {
          "output_type": "stream",
          "name": "stdout",
          "text": [
            "\n",
            "      Epoch    GPU_mem   box_loss   seg_loss   cls_loss   dfl_loss  Instances       Size\n"
          ]
        },
        {
          "output_type": "stream",
          "name": "stderr",
          "text": [
            "      3/100      2.31G      2.408      3.245      1.036      1.046       1090        256: 100%|██████████| 8/8 [00:08<00:00,  1.08s/it]\n",
            "                 Class     Images  Instances      Box(P          R      mAP50  mAP50-95)     Mask(P          R      mAP50  mAP50-95): 100%|██████████| 1/1 [00:00<00:00,  1.21it/s]"
          ]
        },
        {
          "output_type": "stream",
          "name": "stdout",
          "text": [
            "                   all         12        669      0.365      0.592       0.28      0.133       0.26      0.429      0.173     0.0553\n"
          ]
        },
        {
          "output_type": "stream",
          "name": "stderr",
          "text": [
            "\n"
          ]
        },
        {
          "output_type": "stream",
          "name": "stdout",
          "text": [
            "\n",
            "      Epoch    GPU_mem   box_loss   seg_loss   cls_loss   dfl_loss  Instances       Size\n"
          ]
        },
        {
          "output_type": "stream",
          "name": "stderr",
          "text": [
            "      4/100      2.26G      2.233      2.989      1.024      1.005        997        256: 100%|██████████| 8/8 [00:05<00:00,  1.55it/s]\n",
            "                 Class     Images  Instances      Box(P          R      mAP50  mAP50-95)     Mask(P          R      mAP50  mAP50-95): 100%|██████████| 1/1 [00:00<00:00,  1.68it/s]"
          ]
        },
        {
          "output_type": "stream",
          "name": "stdout",
          "text": [
            "                   all         12        669      0.558      0.697       0.48       0.23      0.474      0.589      0.377      0.119\n"
          ]
        },
        {
          "output_type": "stream",
          "name": "stderr",
          "text": [
            "\n"
          ]
        },
        {
          "output_type": "stream",
          "name": "stdout",
          "text": [
            "\n",
            "      Epoch    GPU_mem   box_loss   seg_loss   cls_loss   dfl_loss  Instances       Size\n"
          ]
        },
        {
          "output_type": "stream",
          "name": "stderr",
          "text": [
            "      5/100      2.33G      2.256      3.059      1.052      1.009        922        256: 100%|██████████| 8/8 [00:07<00:00,  1.06it/s]\n",
            "                 Class     Images  Instances      Box(P          R      mAP50  mAP50-95)     Mask(P          R      mAP50  mAP50-95): 100%|██████████| 1/1 [00:00<00:00,  1.63it/s]"
          ]
        },
        {
          "output_type": "stream",
          "name": "stdout",
          "text": [
            "                   all         12        669      0.368      0.457      0.237      0.111      0.348      0.428      0.213     0.0784\n"
          ]
        },
        {
          "output_type": "stream",
          "name": "stderr",
          "text": [
            "\n"
          ]
        },
        {
          "output_type": "stream",
          "name": "stdout",
          "text": [
            "\n",
            "      Epoch    GPU_mem   box_loss   seg_loss   cls_loss   dfl_loss  Instances       Size\n"
          ]
        },
        {
          "output_type": "stream",
          "name": "stderr",
          "text": [
            "      6/100      2.34G      2.268      3.018      1.028      1.017        853        256: 100%|██████████| 8/8 [00:04<00:00,  1.60it/s]\n",
            "                 Class     Images  Instances      Box(P          R      mAP50  mAP50-95)     Mask(P          R      mAP50  mAP50-95): 100%|██████████| 1/1 [00:00<00:00,  1.35it/s]"
          ]
        },
        {
          "output_type": "stream",
          "name": "stdout",
          "text": [
            "                   all         12        669     0.0296     0.0389      0.011    0.00507     0.0211     0.0299    0.00978     0.0032\n"
          ]
        },
        {
          "output_type": "stream",
          "name": "stderr",
          "text": [
            "\n"
          ]
        },
        {
          "output_type": "stream",
          "name": "stdout",
          "text": [
            "\n",
            "      Epoch    GPU_mem   box_loss   seg_loss   cls_loss   dfl_loss  Instances       Size\n"
          ]
        },
        {
          "output_type": "stream",
          "name": "stderr",
          "text": [
            "      7/100      2.26G      2.232      2.979      1.043     0.9867        865        256: 100%|██████████| 8/8 [00:06<00:00,  1.29it/s]\n",
            "                 Class     Images  Instances      Box(P          R      mAP50  mAP50-95)     Mask(P          R      mAP50  mAP50-95): 100%|██████████| 1/1 [00:00<00:00,  2.04it/s]"
          ]
        },
        {
          "output_type": "stream",
          "name": "stdout",
          "text": [
            "                   all         12        669   0.000846    0.00448   0.000428     0.0001          0          0          0          0\n"
          ]
        },
        {
          "output_type": "stream",
          "name": "stderr",
          "text": [
            "\n"
          ]
        },
        {
          "output_type": "stream",
          "name": "stdout",
          "text": [
            "\n",
            "      Epoch    GPU_mem   box_loss   seg_loss   cls_loss   dfl_loss  Instances       Size\n"
          ]
        },
        {
          "output_type": "stream",
          "name": "stderr",
          "text": [
            "      8/100      2.35G      2.234      2.932      1.035      1.004        867        256: 100%|██████████| 8/8 [00:05<00:00,  1.39it/s]\n",
            "                 Class     Images  Instances      Box(P          R      mAP50  mAP50-95)     Mask(P          R      mAP50  mAP50-95): 100%|██████████| 1/1 [00:00<00:00,  1.29it/s]"
          ]
        },
        {
          "output_type": "stream",
          "name": "stdout",
          "text": [
            "                   all         12        669      0.125      0.305     0.0683     0.0312      0.102      0.248     0.0536     0.0213\n"
          ]
        },
        {
          "output_type": "stream",
          "name": "stderr",
          "text": [
            "\n"
          ]
        },
        {
          "output_type": "stream",
          "name": "stdout",
          "text": [
            "\n",
            "      Epoch    GPU_mem   box_loss   seg_loss   cls_loss   dfl_loss  Instances       Size\n"
          ]
        },
        {
          "output_type": "stream",
          "name": "stderr",
          "text": [
            "      9/100      2.25G       2.28      2.968      1.044      1.001       1070        256: 100%|██████████| 8/8 [00:05<00:00,  1.50it/s]\n",
            "                 Class     Images  Instances      Box(P          R      mAP50  mAP50-95)     Mask(P          R      mAP50  mAP50-95): 100%|██████████| 1/1 [00:00<00:00,  1.83it/s]"
          ]
        },
        {
          "output_type": "stream",
          "name": "stdout",
          "text": [
            "                   all         12        669      0.683      0.555      0.538      0.275      0.622      0.482      0.448      0.156\n"
          ]
        },
        {
          "output_type": "stream",
          "name": "stderr",
          "text": [
            "\n"
          ]
        },
        {
          "output_type": "stream",
          "name": "stdout",
          "text": [
            "\n",
            "      Epoch    GPU_mem   box_loss   seg_loss   cls_loss   dfl_loss  Instances       Size\n"
          ]
        },
        {
          "output_type": "stream",
          "name": "stderr",
          "text": [
            "     10/100      2.17G      2.237      2.885      1.025     0.9836        914        256: 100%|██████████| 8/8 [00:06<00:00,  1.19it/s]\n",
            "                 Class     Images  Instances      Box(P          R      mAP50  mAP50-95)     Mask(P          R      mAP50  mAP50-95): 100%|██████████| 1/1 [00:00<00:00,  1.13it/s]"
          ]
        },
        {
          "output_type": "stream",
          "name": "stdout",
          "text": [
            "                   all         12        669      0.593      0.647       0.55      0.218      0.477       0.52      0.374      0.112\n"
          ]
        },
        {
          "output_type": "stream",
          "name": "stderr",
          "text": [
            "\n"
          ]
        },
        {
          "output_type": "stream",
          "name": "stdout",
          "text": [
            "\n",
            "      Epoch    GPU_mem   box_loss   seg_loss   cls_loss   dfl_loss  Instances       Size\n"
          ]
        },
        {
          "output_type": "stream",
          "name": "stderr",
          "text": [
            "     11/100      2.32G      2.318      2.972      1.138     0.9916        770        256: 100%|██████████| 8/8 [00:05<00:00,  1.51it/s]\n",
            "                 Class     Images  Instances      Box(P          R      mAP50  mAP50-95)     Mask(P          R      mAP50  mAP50-95): 100%|██████████| 1/1 [00:00<00:00,  1.82it/s]"
          ]
        },
        {
          "output_type": "stream",
          "name": "stdout",
          "text": [
            "                   all         12        669      0.592      0.717       0.56      0.251       0.51      0.643      0.462      0.157\n"
          ]
        },
        {
          "output_type": "stream",
          "name": "stderr",
          "text": [
            "\n"
          ]
        },
        {
          "output_type": "stream",
          "name": "stdout",
          "text": [
            "\n",
            "      Epoch    GPU_mem   box_loss   seg_loss   cls_loss   dfl_loss  Instances       Size\n"
          ]
        },
        {
          "output_type": "stream",
          "name": "stderr",
          "text": [
            "     12/100      2.21G      2.314      2.908      1.063      1.008       1116        256: 100%|██████████| 8/8 [00:07<00:00,  1.13it/s]\n",
            "                 Class     Images  Instances      Box(P          R      mAP50  mAP50-95)     Mask(P          R      mAP50  mAP50-95): 100%|██████████| 1/1 [00:00<00:00,  1.08it/s]"
          ]
        },
        {
          "output_type": "stream",
          "name": "stdout",
          "text": [
            "                   all         12        669      0.529      0.707      0.474      0.223      0.498      0.665      0.448      0.173\n"
          ]
        },
        {
          "output_type": "stream",
          "name": "stderr",
          "text": [
            "\n"
          ]
        },
        {
          "output_type": "stream",
          "name": "stdout",
          "text": [
            "\n",
            "      Epoch    GPU_mem   box_loss   seg_loss   cls_loss   dfl_loss  Instances       Size\n"
          ]
        },
        {
          "output_type": "stream",
          "name": "stderr",
          "text": [
            "     13/100      2.22G       2.28       2.94      1.067     0.9872        775        256: 100%|██████████| 8/8 [00:04<00:00,  1.67it/s]\n",
            "                 Class     Images  Instances      Box(P          R      mAP50  mAP50-95)     Mask(P          R      mAP50  mAP50-95): 100%|██████████| 1/1 [00:00<00:00,  1.76it/s]"
          ]
        },
        {
          "output_type": "stream",
          "name": "stdout",
          "text": [
            "                   all         12        669      0.443      0.692      0.399       0.13      0.323      0.493      0.249     0.0666\n"
          ]
        },
        {
          "output_type": "stream",
          "name": "stderr",
          "text": [
            "\n"
          ]
        },
        {
          "output_type": "stream",
          "name": "stdout",
          "text": [
            "\n",
            "      Epoch    GPU_mem   box_loss   seg_loss   cls_loss   dfl_loss  Instances       Size\n"
          ]
        },
        {
          "output_type": "stream",
          "name": "stderr",
          "text": [
            "     14/100      2.37G      2.355      3.045      1.117      1.008        989        256: 100%|██████████| 8/8 [00:08<00:00,  1.00s/it]\n",
            "                 Class     Images  Instances      Box(P          R      mAP50  mAP50-95)     Mask(P          R      mAP50  mAP50-95): 100%|██████████| 1/1 [00:00<00:00,  1.21it/s]"
          ]
        },
        {
          "output_type": "stream",
          "name": "stdout",
          "text": [
            "                   all         12        669      0.499      0.769      0.471      0.221      0.485      0.726       0.45      0.192\n"
          ]
        },
        {
          "output_type": "stream",
          "name": "stderr",
          "text": [
            "\n"
          ]
        },
        {
          "output_type": "stream",
          "name": "stdout",
          "text": [
            "\n",
            "      Epoch    GPU_mem   box_loss   seg_loss   cls_loss   dfl_loss  Instances       Size\n"
          ]
        },
        {
          "output_type": "stream",
          "name": "stderr",
          "text": [
            "     15/100      2.26G      2.228      2.863      1.095     0.9923       1059        256: 100%|██████████| 8/8 [00:04<00:00,  1.68it/s]\n",
            "                 Class     Images  Instances      Box(P          R      mAP50  mAP50-95)     Mask(P          R      mAP50  mAP50-95): 100%|██████████| 1/1 [00:00<00:00,  1.83it/s]"
          ]
        },
        {
          "output_type": "stream",
          "name": "stdout",
          "text": [
            "                   all         12        669      0.621      0.692      0.576      0.237      0.514      0.586      0.442      0.135\n"
          ]
        },
        {
          "output_type": "stream",
          "name": "stderr",
          "text": [
            "\n"
          ]
        },
        {
          "output_type": "stream",
          "name": "stdout",
          "text": [
            "\n",
            "      Epoch    GPU_mem   box_loss   seg_loss   cls_loss   dfl_loss  Instances       Size\n"
          ]
        },
        {
          "output_type": "stream",
          "name": "stderr",
          "text": [
            "     16/100      2.14G      2.211      2.894      1.036     0.9819       1071        256: 100%|██████████| 8/8 [00:07<00:00,  1.05it/s]\n",
            "                 Class     Images  Instances      Box(P          R      mAP50  mAP50-95)     Mask(P          R      mAP50  mAP50-95): 100%|██████████| 1/1 [00:00<00:00,  1.66it/s]"
          ]
        },
        {
          "output_type": "stream",
          "name": "stdout",
          "text": [
            "                   all         12        669      0.701      0.735      0.698      0.349      0.646      0.689      0.619      0.245\n"
          ]
        },
        {
          "output_type": "stream",
          "name": "stderr",
          "text": [
            "\n"
          ]
        },
        {
          "output_type": "stream",
          "name": "stdout",
          "text": [
            "\n",
            "      Epoch    GPU_mem   box_loss   seg_loss   cls_loss   dfl_loss  Instances       Size\n"
          ]
        },
        {
          "output_type": "stream",
          "name": "stderr",
          "text": [
            "     17/100      2.38G      2.228      2.895      1.043     0.9812        855        256: 100%|██████████| 8/8 [00:05<00:00,  1.47it/s]\n",
            "                 Class     Images  Instances      Box(P          R      mAP50  mAP50-95)     Mask(P          R      mAP50  mAP50-95): 100%|██████████| 1/1 [00:00<00:00,  1.08it/s]"
          ]
        },
        {
          "output_type": "stream",
          "name": "stdout",
          "text": [
            "                   all         12        669      0.715      0.738      0.732      0.357      0.655      0.674      0.645      0.231\n"
          ]
        },
        {
          "output_type": "stream",
          "name": "stderr",
          "text": [
            "\n"
          ]
        },
        {
          "output_type": "stream",
          "name": "stdout",
          "text": [
            "\n",
            "      Epoch    GPU_mem   box_loss   seg_loss   cls_loss   dfl_loss  Instances       Size\n"
          ]
        },
        {
          "output_type": "stream",
          "name": "stderr",
          "text": [
            "     18/100      2.19G      2.198      2.869       1.03     0.9779        605        256: 100%|██████████| 8/8 [00:06<00:00,  1.18it/s]\n",
            "                 Class     Images  Instances      Box(P          R      mAP50  mAP50-95)     Mask(P          R      mAP50  mAP50-95): 100%|██████████| 1/1 [00:00<00:00,  1.61it/s]"
          ]
        },
        {
          "output_type": "stream",
          "name": "stdout",
          "text": [
            "                   all         12        669      0.739      0.717      0.748      0.343      0.612      0.608      0.575      0.181\n"
          ]
        },
        {
          "output_type": "stream",
          "name": "stderr",
          "text": [
            "\n"
          ]
        },
        {
          "output_type": "stream",
          "name": "stdout",
          "text": [
            "\n",
            "      Epoch    GPU_mem   box_loss   seg_loss   cls_loss   dfl_loss  Instances       Size\n"
          ]
        },
        {
          "output_type": "stream",
          "name": "stderr",
          "text": [
            "     19/100      2.22G      2.258      2.869      1.046     0.9797        922        256: 100%|██████████| 8/8 [00:05<00:00,  1.46it/s]\n",
            "                 Class     Images  Instances      Box(P          R      mAP50  mAP50-95)     Mask(P          R      mAP50  mAP50-95): 100%|██████████| 1/1 [00:00<00:00,  1.48it/s]"
          ]
        },
        {
          "output_type": "stream",
          "name": "stdout",
          "text": [
            "                   all         12        669      0.791      0.741      0.775      0.385       0.75      0.722      0.742      0.311\n"
          ]
        },
        {
          "output_type": "stream",
          "name": "stderr",
          "text": [
            "\n"
          ]
        },
        {
          "output_type": "stream",
          "name": "stdout",
          "text": [
            "\n",
            "      Epoch    GPU_mem   box_loss   seg_loss   cls_loss   dfl_loss  Instances       Size\n"
          ]
        },
        {
          "output_type": "stream",
          "name": "stderr",
          "text": [
            "     20/100      2.22G      2.088      2.704     0.9977     0.9748        707        256: 100%|██████████| 8/8 [00:05<00:00,  1.41it/s]\n",
            "                 Class     Images  Instances      Box(P          R      mAP50  mAP50-95)     Mask(P          R      mAP50  mAP50-95): 100%|██████████| 1/1 [00:00<00:00,  2.12it/s]"
          ]
        },
        {
          "output_type": "stream",
          "name": "stdout",
          "text": [
            "                   all         12        669      0.787      0.777      0.803      0.413       0.74      0.725      0.732       0.28\n"
          ]
        },
        {
          "output_type": "stream",
          "name": "stderr",
          "text": [
            "\n"
          ]
        },
        {
          "output_type": "stream",
          "name": "stdout",
          "text": [
            "\n",
            "      Epoch    GPU_mem   box_loss   seg_loss   cls_loss   dfl_loss  Instances       Size\n"
          ]
        },
        {
          "output_type": "stream",
          "name": "stderr",
          "text": [
            "     21/100       2.2G      2.168      2.757      1.005     0.9821        814        256: 100%|██████████| 8/8 [00:06<00:00,  1.25it/s]\n",
            "                 Class     Images  Instances      Box(P          R      mAP50  mAP50-95)     Mask(P          R      mAP50  mAP50-95): 100%|██████████| 1/1 [00:00<00:00,  1.13it/s]"
          ]
        },
        {
          "output_type": "stream",
          "name": "stdout",
          "text": [
            "                   all         12        669       0.75      0.768      0.763      0.336      0.602       0.64      0.564      0.173\n"
          ]
        },
        {
          "output_type": "stream",
          "name": "stderr",
          "text": [
            "\n"
          ]
        },
        {
          "output_type": "stream",
          "name": "stdout",
          "text": [
            "\n",
            "      Epoch    GPU_mem   box_loss   seg_loss   cls_loss   dfl_loss  Instances       Size\n"
          ]
        },
        {
          "output_type": "stream",
          "name": "stderr",
          "text": [
            "     22/100      2.21G      2.164      2.825     0.9933     0.9588       1406        256: 100%|██████████| 8/8 [00:05<00:00,  1.52it/s]\n",
            "                 Class     Images  Instances      Box(P          R      mAP50  mAP50-95)     Mask(P          R      mAP50  mAP50-95): 100%|██████████| 1/1 [00:00<00:00,  2.14it/s]"
          ]
        },
        {
          "output_type": "stream",
          "name": "stdout",
          "text": [
            "                   all         12        669      0.753      0.747      0.779      0.409      0.656      0.663       0.62      0.239\n"
          ]
        },
        {
          "output_type": "stream",
          "name": "stderr",
          "text": [
            "\n"
          ]
        },
        {
          "output_type": "stream",
          "name": "stdout",
          "text": [
            "\n",
            "      Epoch    GPU_mem   box_loss   seg_loss   cls_loss   dfl_loss  Instances       Size\n"
          ]
        },
        {
          "output_type": "stream",
          "name": "stderr",
          "text": [
            "     23/100      2.27G      2.169      2.807      1.012     0.9672        868        256: 100%|██████████| 8/8 [00:08<00:00,  1.02s/it]\n",
            "                 Class     Images  Instances      Box(P          R      mAP50  mAP50-95)     Mask(P          R      mAP50  mAP50-95): 100%|██████████| 1/1 [00:00<00:00,  1.03it/s]"
          ]
        },
        {
          "output_type": "stream",
          "name": "stdout",
          "text": [
            "                   all         12        669      0.788      0.774      0.804      0.424      0.721      0.728      0.713      0.277\n"
          ]
        },
        {
          "output_type": "stream",
          "name": "stderr",
          "text": [
            "\n"
          ]
        },
        {
          "output_type": "stream",
          "name": "stdout",
          "text": [
            "\n",
            "      Epoch    GPU_mem   box_loss   seg_loss   cls_loss   dfl_loss  Instances       Size\n"
          ]
        },
        {
          "output_type": "stream",
          "name": "stderr",
          "text": [
            "     24/100      2.16G      2.121      2.736     0.9971      0.965        915        256: 100%|██████████| 8/8 [00:05<00:00,  1.55it/s]\n",
            "                 Class     Images  Instances      Box(P          R      mAP50  mAP50-95)     Mask(P          R      mAP50  mAP50-95): 100%|██████████| 1/1 [00:00<00:00,  1.46it/s]"
          ]
        },
        {
          "output_type": "stream",
          "name": "stdout",
          "text": [
            "                   all         12        669      0.827      0.753      0.818        0.4      0.724      0.659      0.682      0.237\n"
          ]
        },
        {
          "output_type": "stream",
          "name": "stderr",
          "text": [
            "\n"
          ]
        },
        {
          "output_type": "stream",
          "name": "stdout",
          "text": [
            "\n",
            "      Epoch    GPU_mem   box_loss   seg_loss   cls_loss   dfl_loss  Instances       Size\n"
          ]
        },
        {
          "output_type": "stream",
          "name": "stderr",
          "text": [
            "     25/100       2.2G      2.216       2.84      1.013     0.9665        688        256: 100%|██████████| 8/8 [00:08<00:00,  1.06s/it]\n",
            "                 Class     Images  Instances      Box(P          R      mAP50  mAP50-95)     Mask(P          R      mAP50  mAP50-95): 100%|██████████| 1/1 [00:00<00:00,  1.74it/s]"
          ]
        },
        {
          "output_type": "stream",
          "name": "stdout",
          "text": [
            "                   all         12        669      0.828      0.756      0.831      0.448      0.734      0.676      0.684      0.251\n"
          ]
        },
        {
          "output_type": "stream",
          "name": "stderr",
          "text": [
            "\n"
          ]
        },
        {
          "output_type": "stream",
          "name": "stdout",
          "text": [
            "\n",
            "      Epoch    GPU_mem   box_loss   seg_loss   cls_loss   dfl_loss  Instances       Size\n"
          ]
        },
        {
          "output_type": "stream",
          "name": "stderr",
          "text": [
            "     26/100      2.24G      2.163      2.735      1.024     0.9806        789        256: 100%|██████████| 8/8 [00:04<00:00,  1.71it/s]\n",
            "                 Class     Images  Instances      Box(P          R      mAP50  mAP50-95)     Mask(P          R      mAP50  mAP50-95): 100%|██████████| 1/1 [00:00<00:00,  1.79it/s]"
          ]
        },
        {
          "output_type": "stream",
          "name": "stdout",
          "text": [
            "                   all         12        669      0.804      0.759      0.805      0.418       0.69      0.646      0.648       0.24\n"
          ]
        },
        {
          "output_type": "stream",
          "name": "stderr",
          "text": [
            "\n"
          ]
        },
        {
          "output_type": "stream",
          "name": "stdout",
          "text": [
            "\n",
            "      Epoch    GPU_mem   box_loss   seg_loss   cls_loss   dfl_loss  Instances       Size\n"
          ]
        },
        {
          "output_type": "stream",
          "name": "stderr",
          "text": [
            "     27/100       2.2G      2.185      2.834      1.026     0.9653       1011        256: 100%|██████████| 8/8 [00:07<00:00,  1.09it/s]\n",
            "                 Class     Images  Instances      Box(P          R      mAP50  mAP50-95)     Mask(P          R      mAP50  mAP50-95): 100%|██████████| 1/1 [00:00<00:00,  1.56it/s]"
          ]
        },
        {
          "output_type": "stream",
          "name": "stdout",
          "text": [
            "                   all         12        669      0.775      0.777      0.823      0.455      0.688      0.625       0.65      0.241\n"
          ]
        },
        {
          "output_type": "stream",
          "name": "stderr",
          "text": [
            "\n"
          ]
        },
        {
          "output_type": "stream",
          "name": "stdout",
          "text": [
            "\n",
            "      Epoch    GPU_mem   box_loss   seg_loss   cls_loss   dfl_loss  Instances       Size\n"
          ]
        },
        {
          "output_type": "stream",
          "name": "stderr",
          "text": [
            "     28/100      2.21G       2.07      2.674      1.023      0.958        964        256: 100%|██████████| 8/8 [00:05<00:00,  1.37it/s]\n",
            "                 Class     Images  Instances      Box(P          R      mAP50  mAP50-95)     Mask(P          R      mAP50  mAP50-95): 100%|██████████| 1/1 [00:00<00:00,  1.13it/s]"
          ]
        },
        {
          "output_type": "stream",
          "name": "stdout",
          "text": [
            "                   all         12        669      0.815      0.797      0.819       0.39      0.699      0.686      0.656      0.234\n"
          ]
        },
        {
          "output_type": "stream",
          "name": "stderr",
          "text": [
            "\n"
          ]
        },
        {
          "output_type": "stream",
          "name": "stdout",
          "text": [
            "\n",
            "      Epoch    GPU_mem   box_loss   seg_loss   cls_loss   dfl_loss  Instances       Size\n"
          ]
        },
        {
          "output_type": "stream",
          "name": "stderr",
          "text": [
            "     29/100      2.22G       2.05      2.552     0.9628     0.9633        779        256: 100%|██████████| 8/8 [00:05<00:00,  1.43it/s]\n",
            "                 Class     Images  Instances      Box(P          R      mAP50  mAP50-95)     Mask(P          R      mAP50  mAP50-95): 100%|██████████| 1/1 [00:00<00:00,  1.88it/s]"
          ]
        },
        {
          "output_type": "stream",
          "name": "stdout",
          "text": [
            "                   all         12        669      0.842      0.746      0.795      0.448      0.734      0.656      0.667      0.244\n"
          ]
        },
        {
          "output_type": "stream",
          "name": "stderr",
          "text": [
            "\n"
          ]
        },
        {
          "output_type": "stream",
          "name": "stdout",
          "text": [
            "\n",
            "      Epoch    GPU_mem   box_loss   seg_loss   cls_loss   dfl_loss  Instances       Size\n"
          ]
        },
        {
          "output_type": "stream",
          "name": "stderr",
          "text": [
            "     30/100      2.41G      2.167      2.698     0.9908      0.964       1180        256: 100%|██████████| 8/8 [00:07<00:00,  1.09it/s]\n",
            "                 Class     Images  Instances      Box(P          R      mAP50  mAP50-95)     Mask(P          R      mAP50  mAP50-95): 100%|██████████| 1/1 [00:00<00:00,  1.19it/s]"
          ]
        },
        {
          "output_type": "stream",
          "name": "stdout",
          "text": [
            "                   all         12        669      0.869      0.758       0.83      0.476      0.719      0.753      0.722      0.284\n"
          ]
        },
        {
          "output_type": "stream",
          "name": "stderr",
          "text": [
            "\n"
          ]
        },
        {
          "output_type": "stream",
          "name": "stdout",
          "text": [
            "\n",
            "      Epoch    GPU_mem   box_loss   seg_loss   cls_loss   dfl_loss  Instances       Size\n"
          ]
        },
        {
          "output_type": "stream",
          "name": "stderr",
          "text": [
            "     31/100      2.31G      2.106      2.665      0.983     0.9599        825        256: 100%|██████████| 8/8 [00:04<00:00,  1.61it/s]\n",
            "                 Class     Images  Instances      Box(P          R      mAP50  mAP50-95)     Mask(P          R      mAP50  mAP50-95): 100%|██████████| 1/1 [00:00<00:00,  2.00it/s]"
          ]
        },
        {
          "output_type": "stream",
          "name": "stdout",
          "text": [
            "                   all         12        669      0.816      0.776      0.827      0.415      0.704      0.634      0.622      0.207\n"
          ]
        },
        {
          "output_type": "stream",
          "name": "stderr",
          "text": [
            "\n"
          ]
        },
        {
          "output_type": "stream",
          "name": "stdout",
          "text": [
            "\n",
            "      Epoch    GPU_mem   box_loss   seg_loss   cls_loss   dfl_loss  Instances       Size\n"
          ]
        },
        {
          "output_type": "stream",
          "name": "stderr",
          "text": [
            "     32/100      2.27G      2.097      2.768     0.9964      0.957        567        256: 100%|██████████| 8/8 [00:08<00:00,  1.10s/it]\n",
            "                 Class     Images  Instances      Box(P          R      mAP50  mAP50-95)     Mask(P          R      mAP50  mAP50-95): 100%|██████████| 1/1 [00:00<00:00,  1.10it/s]"
          ]
        },
        {
          "output_type": "stream",
          "name": "stdout",
          "text": [
            "                   all         12        669      0.841      0.755      0.818      0.476      0.749      0.673      0.698      0.295\n"
          ]
        },
        {
          "output_type": "stream",
          "name": "stderr",
          "text": [
            "\n"
          ]
        },
        {
          "output_type": "stream",
          "name": "stdout",
          "text": [
            "\n",
            "      Epoch    GPU_mem   box_loss   seg_loss   cls_loss   dfl_loss  Instances       Size\n"
          ]
        },
        {
          "output_type": "stream",
          "name": "stderr",
          "text": [
            "     33/100      2.19G      2.073      2.687      1.004     0.9687        912        256: 100%|██████████| 8/8 [00:05<00:00,  1.59it/s]\n",
            "                 Class     Images  Instances      Box(P          R      mAP50  mAP50-95)     Mask(P          R      mAP50  mAP50-95): 100%|██████████| 1/1 [00:00<00:00,  1.84it/s]"
          ]
        },
        {
          "output_type": "stream",
          "name": "stdout",
          "text": [
            "                   all         12        669      0.827      0.779       0.84       0.48      0.736      0.704      0.711      0.275\n"
          ]
        },
        {
          "output_type": "stream",
          "name": "stderr",
          "text": [
            "\n"
          ]
        },
        {
          "output_type": "stream",
          "name": "stdout",
          "text": [
            "\n",
            "      Epoch    GPU_mem   box_loss   seg_loss   cls_loss   dfl_loss  Instances       Size\n"
          ]
        },
        {
          "output_type": "stream",
          "name": "stderr",
          "text": [
            "     34/100      2.26G      2.034      2.598     0.9729     0.9554        833        256: 100%|██████████| 8/8 [00:08<00:00,  1.01s/it]\n",
            "                 Class     Images  Instances      Box(P          R      mAP50  mAP50-95)     Mask(P          R      mAP50  mAP50-95): 100%|██████████| 1/1 [00:00<00:00,  1.82it/s]"
          ]
        },
        {
          "output_type": "stream",
          "name": "stdout",
          "text": [
            "                   all         12        669      0.806      0.787      0.834      0.476      0.687      0.668      0.649      0.223\n"
          ]
        },
        {
          "output_type": "stream",
          "name": "stderr",
          "text": [
            "\n"
          ]
        },
        {
          "output_type": "stream",
          "name": "stdout",
          "text": [
            "\n",
            "      Epoch    GPU_mem   box_loss   seg_loss   cls_loss   dfl_loss  Instances       Size\n"
          ]
        },
        {
          "output_type": "stream",
          "name": "stderr",
          "text": [
            "     35/100      2.31G      2.115      2.754     0.9994     0.9488        883        256: 100%|██████████| 8/8 [00:05<00:00,  1.48it/s]\n",
            "                 Class     Images  Instances      Box(P          R      mAP50  mAP50-95)     Mask(P          R      mAP50  mAP50-95): 100%|██████████| 1/1 [00:00<00:00,  1.31it/s]"
          ]
        },
        {
          "output_type": "stream",
          "name": "stdout",
          "text": [
            "                   all         12        669      0.806      0.764      0.824      0.482      0.713      0.676      0.694       0.27\n"
          ]
        },
        {
          "output_type": "stream",
          "name": "stderr",
          "text": [
            "\n"
          ]
        },
        {
          "output_type": "stream",
          "name": "stdout",
          "text": [
            "\n",
            "      Epoch    GPU_mem   box_loss   seg_loss   cls_loss   dfl_loss  Instances       Size\n"
          ]
        },
        {
          "output_type": "stream",
          "name": "stderr",
          "text": [
            "     36/100      2.21G      2.032      2.628     0.9714     0.9484        824        256: 100%|██████████| 8/8 [00:06<00:00,  1.25it/s]\n",
            "                 Class     Images  Instances      Box(P          R      mAP50  mAP50-95)     Mask(P          R      mAP50  mAP50-95): 100%|██████████| 1/1 [00:00<00:00,  1.82it/s]"
          ]
        },
        {
          "output_type": "stream",
          "name": "stdout",
          "text": [
            "                   all         12        669      0.841      0.786      0.838      0.449      0.792      0.709      0.733      0.296\n"
          ]
        },
        {
          "output_type": "stream",
          "name": "stderr",
          "text": [
            "\n"
          ]
        },
        {
          "output_type": "stream",
          "name": "stdout",
          "text": [
            "\n",
            "      Epoch    GPU_mem   box_loss   seg_loss   cls_loss   dfl_loss  Instances       Size\n"
          ]
        },
        {
          "output_type": "stream",
          "name": "stderr",
          "text": [
            "     37/100      2.27G      2.131      2.733     0.9877     0.9579        728        256: 100%|██████████| 8/8 [00:05<00:00,  1.55it/s]\n",
            "                 Class     Images  Instances      Box(P          R      mAP50  mAP50-95)     Mask(P          R      mAP50  mAP50-95): 100%|██████████| 1/1 [00:00<00:00,  1.16it/s]"
          ]
        },
        {
          "output_type": "stream",
          "name": "stdout",
          "text": [
            "                   all         12        669      0.853       0.78      0.844      0.478      0.721       0.66      0.655      0.233\n"
          ]
        },
        {
          "output_type": "stream",
          "name": "stderr",
          "text": [
            "\n"
          ]
        },
        {
          "output_type": "stream",
          "name": "stdout",
          "text": [
            "\n",
            "      Epoch    GPU_mem   box_loss   seg_loss   cls_loss   dfl_loss  Instances       Size\n"
          ]
        },
        {
          "output_type": "stream",
          "name": "stderr",
          "text": [
            "     38/100      2.38G      2.078      2.655     0.9951     0.9593        918        256: 100%|██████████| 8/8 [00:06<00:00,  1.33it/s]\n",
            "                 Class     Images  Instances      Box(P          R      mAP50  mAP50-95)     Mask(P          R      mAP50  mAP50-95): 100%|██████████| 1/1 [00:00<00:00,  1.96it/s]"
          ]
        },
        {
          "output_type": "stream",
          "name": "stdout",
          "text": [
            "                   all         12        669       0.83      0.782      0.836      0.471      0.755      0.703       0.73      0.283\n"
          ]
        },
        {
          "output_type": "stream",
          "name": "stderr",
          "text": [
            "\n"
          ]
        },
        {
          "output_type": "stream",
          "name": "stdout",
          "text": [
            "\n",
            "      Epoch    GPU_mem   box_loss   seg_loss   cls_loss   dfl_loss  Instances       Size\n"
          ]
        },
        {
          "output_type": "stream",
          "name": "stderr",
          "text": [
            "     39/100      2.37G      2.019      2.568     0.9625     0.9404       1041        256: 100%|██████████| 8/8 [00:06<00:00,  1.22it/s]\n",
            "                 Class     Images  Instances      Box(P          R      mAP50  mAP50-95)     Mask(P          R      mAP50  mAP50-95): 100%|██████████| 1/1 [00:00<00:00,  1.06it/s]"
          ]
        },
        {
          "output_type": "stream",
          "name": "stdout",
          "text": [
            "                   all         12        669      0.844      0.795      0.854      0.502      0.735      0.685      0.704      0.259\n"
          ]
        },
        {
          "output_type": "stream",
          "name": "stderr",
          "text": [
            "\n"
          ]
        },
        {
          "output_type": "stream",
          "name": "stdout",
          "text": [
            "\n",
            "      Epoch    GPU_mem   box_loss   seg_loss   cls_loss   dfl_loss  Instances       Size\n"
          ]
        },
        {
          "output_type": "stream",
          "name": "stderr",
          "text": [
            "     40/100      2.19G      2.022      2.594     0.9659     0.9445        631        256: 100%|██████████| 8/8 [00:04<00:00,  1.61it/s]\n",
            "                 Class     Images  Instances      Box(P          R      mAP50  mAP50-95)     Mask(P          R      mAP50  mAP50-95): 100%|██████████| 1/1 [00:00<00:00,  2.69it/s]"
          ]
        },
        {
          "output_type": "stream",
          "name": "stdout",
          "text": [
            "                   all         12        669      0.815      0.775      0.833      0.469      0.707      0.653      0.678      0.254\n"
          ]
        },
        {
          "output_type": "stream",
          "name": "stderr",
          "text": [
            "\n"
          ]
        },
        {
          "output_type": "stream",
          "name": "stdout",
          "text": [
            "\n",
            "      Epoch    GPU_mem   box_loss   seg_loss   cls_loss   dfl_loss  Instances       Size\n"
          ]
        },
        {
          "output_type": "stream",
          "name": "stderr",
          "text": [
            "     41/100      2.37G      1.993      2.529     0.9298       0.94        971        256: 100%|██████████| 8/8 [00:07<00:00,  1.10it/s]\n",
            "                 Class     Images  Instances      Box(P          R      mAP50  mAP50-95)     Mask(P          R      mAP50  mAP50-95): 100%|██████████| 1/1 [00:00<00:00,  1.12it/s]"
          ]
        },
        {
          "output_type": "stream",
          "name": "stdout",
          "text": [
            "                   all         12        669      0.793      0.798      0.835      0.451      0.682      0.655      0.639      0.218\n"
          ]
        },
        {
          "output_type": "stream",
          "name": "stderr",
          "text": [
            "\n"
          ]
        },
        {
          "output_type": "stream",
          "name": "stdout",
          "text": [
            "\n",
            "      Epoch    GPU_mem   box_loss   seg_loss   cls_loss   dfl_loss  Instances       Size\n"
          ]
        },
        {
          "output_type": "stream",
          "name": "stderr",
          "text": [
            "     42/100      2.21G      1.957      2.591     0.9508     0.9463       1001        256: 100%|██████████| 8/8 [00:04<00:00,  1.63it/s]\n",
            "                 Class     Images  Instances      Box(P          R      mAP50  mAP50-95)     Mask(P          R      mAP50  mAP50-95): 100%|██████████| 1/1 [00:00<00:00,  1.73it/s]"
          ]
        },
        {
          "output_type": "stream",
          "name": "stdout",
          "text": [
            "                   all         12        669      0.821       0.81      0.857      0.498      0.726      0.719      0.706      0.278\n"
          ]
        },
        {
          "output_type": "stream",
          "name": "stderr",
          "text": [
            "\n"
          ]
        },
        {
          "output_type": "stream",
          "name": "stdout",
          "text": [
            "\n",
            "      Epoch    GPU_mem   box_loss   seg_loss   cls_loss   dfl_loss  Instances       Size\n"
          ]
        },
        {
          "output_type": "stream",
          "name": "stderr",
          "text": [
            "     43/100       2.2G      2.074      2.604     0.9602     0.9464        772        256: 100%|██████████| 8/8 [00:08<00:00,  1.04s/it]\n",
            "                 Class     Images  Instances      Box(P          R      mAP50  mAP50-95)     Mask(P          R      mAP50  mAP50-95): 100%|██████████| 1/1 [00:00<00:00,  1.61it/s]"
          ]
        },
        {
          "output_type": "stream",
          "name": "stdout",
          "text": [
            "                   all         12        669      0.825      0.821       0.86      0.474      0.687      0.688      0.669      0.247\n"
          ]
        },
        {
          "output_type": "stream",
          "name": "stderr",
          "text": [
            "\n"
          ]
        },
        {
          "output_type": "stream",
          "name": "stdout",
          "text": [
            "\n",
            "      Epoch    GPU_mem   box_loss   seg_loss   cls_loss   dfl_loss  Instances       Size\n"
          ]
        },
        {
          "output_type": "stream",
          "name": "stderr",
          "text": [
            "     44/100      2.36G      1.958      2.532      0.952     0.9449        743        256: 100%|██████████| 8/8 [00:05<00:00,  1.52it/s]\n",
            "                 Class     Images  Instances      Box(P          R      mAP50  mAP50-95)     Mask(P          R      mAP50  mAP50-95): 100%|██████████| 1/1 [00:00<00:00,  1.84it/s]"
          ]
        },
        {
          "output_type": "stream",
          "name": "stdout",
          "text": [
            "                   all         12        669       0.86      0.789      0.853       0.46       0.71      0.652      0.661      0.227\n"
          ]
        },
        {
          "output_type": "stream",
          "name": "stderr",
          "text": [
            "\n"
          ]
        },
        {
          "output_type": "stream",
          "name": "stdout",
          "text": [
            "\n",
            "      Epoch    GPU_mem   box_loss   seg_loss   cls_loss   dfl_loss  Instances       Size\n"
          ]
        },
        {
          "output_type": "stream",
          "name": "stderr",
          "text": [
            "     45/100      2.41G      1.974      2.528     0.9401     0.9387        501        256: 100%|██████████| 8/8 [00:07<00:00,  1.05it/s]\n",
            "                 Class     Images  Instances      Box(P          R      mAP50  mAP50-95)     Mask(P          R      mAP50  mAP50-95): 100%|██████████| 1/1 [00:00<00:00,  1.56it/s]"
          ]
        },
        {
          "output_type": "stream",
          "name": "stdout",
          "text": [
            "                   all         12        669      0.857      0.785      0.856      0.517      0.791      0.698      0.763      0.319\n"
          ]
        },
        {
          "output_type": "stream",
          "name": "stderr",
          "text": [
            "\n"
          ]
        },
        {
          "output_type": "stream",
          "name": "stdout",
          "text": [
            "\n",
            "      Epoch    GPU_mem   box_loss   seg_loss   cls_loss   dfl_loss  Instances       Size\n"
          ]
        },
        {
          "output_type": "stream",
          "name": "stderr",
          "text": [
            "     46/100      2.19G      2.033      2.611     0.9467      0.951        761        256: 100%|██████████| 8/8 [00:05<00:00,  1.39it/s]\n",
            "                 Class     Images  Instances      Box(P          R      mAP50  mAP50-95)     Mask(P          R      mAP50  mAP50-95): 100%|██████████| 1/1 [00:00<00:00,  1.25it/s]"
          ]
        },
        {
          "output_type": "stream",
          "name": "stdout",
          "text": [
            "                   all         12        669      0.839      0.795      0.847      0.464       0.73      0.671      0.683      0.227\n"
          ]
        },
        {
          "output_type": "stream",
          "name": "stderr",
          "text": [
            "\n"
          ]
        },
        {
          "output_type": "stream",
          "name": "stdout",
          "text": [
            "\n",
            "      Epoch    GPU_mem   box_loss   seg_loss   cls_loss   dfl_loss  Instances       Size\n"
          ]
        },
        {
          "output_type": "stream",
          "name": "stderr",
          "text": [
            "     47/100      2.21G      1.902      2.406     0.9118     0.9315        762        256: 100%|██████████| 8/8 [00:06<00:00,  1.32it/s]\n",
            "                 Class     Images  Instances      Box(P          R      mAP50  mAP50-95)     Mask(P          R      mAP50  mAP50-95): 100%|██████████| 1/1 [00:00<00:00,  1.57it/s]"
          ]
        },
        {
          "output_type": "stream",
          "name": "stdout",
          "text": [
            "                   all         12        669      0.823      0.818      0.843      0.474      0.684       0.68      0.667      0.245\n"
          ]
        },
        {
          "output_type": "stream",
          "name": "stderr",
          "text": [
            "\n"
          ]
        },
        {
          "output_type": "stream",
          "name": "stdout",
          "text": [
            "\n",
            "      Epoch    GPU_mem   box_loss   seg_loss   cls_loss   dfl_loss  Instances       Size\n"
          ]
        },
        {
          "output_type": "stream",
          "name": "stderr",
          "text": [
            "     48/100      2.26G      1.922      2.445     0.9152     0.9268       1149        256: 100%|██████████| 8/8 [00:05<00:00,  1.36it/s]\n",
            "                 Class     Images  Instances      Box(P          R      mAP50  mAP50-95)     Mask(P          R      mAP50  mAP50-95): 100%|██████████| 1/1 [00:00<00:00,  1.23it/s]"
          ]
        },
        {
          "output_type": "stream",
          "name": "stdout",
          "text": [
            "                   all         12        669       0.84      0.789      0.846      0.481      0.715      0.651      0.663      0.243\n"
          ]
        },
        {
          "output_type": "stream",
          "name": "stderr",
          "text": [
            "\n"
          ]
        },
        {
          "output_type": "stream",
          "name": "stdout",
          "text": [
            "\n",
            "      Epoch    GPU_mem   box_loss   seg_loss   cls_loss   dfl_loss  Instances       Size\n"
          ]
        },
        {
          "output_type": "stream",
          "name": "stderr",
          "text": [
            "     49/100      2.19G      2.061      2.633     0.9969      0.946       1109        256: 100%|██████████| 8/8 [00:05<00:00,  1.51it/s]\n",
            "                 Class     Images  Instances      Box(P          R      mAP50  mAP50-95)     Mask(P          R      mAP50  mAP50-95): 100%|██████████| 1/1 [00:00<00:00,  1.99it/s]"
          ]
        },
        {
          "output_type": "stream",
          "name": "stdout",
          "text": [
            "                   all         12        669      0.859      0.795      0.861      0.467      0.709      0.648      0.652      0.216\n"
          ]
        },
        {
          "output_type": "stream",
          "name": "stderr",
          "text": [
            "\n"
          ]
        },
        {
          "output_type": "stream",
          "name": "stdout",
          "text": [
            "\n",
            "      Epoch    GPU_mem   box_loss   seg_loss   cls_loss   dfl_loss  Instances       Size\n"
          ]
        },
        {
          "output_type": "stream",
          "name": "stderr",
          "text": [
            "     50/100       2.2G      1.946      2.432     0.9661     0.9294        780        256: 100%|██████████| 8/8 [00:06<00:00,  1.20it/s]\n",
            "                 Class     Images  Instances      Box(P          R      mAP50  mAP50-95)     Mask(P          R      mAP50  mAP50-95): 100%|██████████| 1/1 [00:00<00:00,  1.10it/s]"
          ]
        },
        {
          "output_type": "stream",
          "name": "stdout",
          "text": [
            "                   all         12        669      0.857      0.791      0.855      0.468      0.751      0.698      0.735      0.289\n"
          ]
        },
        {
          "output_type": "stream",
          "name": "stderr",
          "text": [
            "\n"
          ]
        },
        {
          "output_type": "stream",
          "name": "stdout",
          "text": [
            "\n",
            "      Epoch    GPU_mem   box_loss   seg_loss   cls_loss   dfl_loss  Instances       Size\n"
          ]
        },
        {
          "output_type": "stream",
          "name": "stderr",
          "text": [
            "     51/100      2.16G      2.037      2.602     0.9663     0.9519        879        256: 100%|██████████| 8/8 [00:05<00:00,  1.54it/s]\n",
            "                 Class     Images  Instances      Box(P          R      mAP50  mAP50-95)     Mask(P          R      mAP50  mAP50-95): 100%|██████████| 1/1 [00:00<00:00,  1.86it/s]"
          ]
        },
        {
          "output_type": "stream",
          "name": "stdout",
          "text": [
            "                   all         12        669      0.854      0.786      0.851      0.508      0.729      0.701      0.725      0.308\n"
          ]
        },
        {
          "output_type": "stream",
          "name": "stderr",
          "text": [
            "\n"
          ]
        },
        {
          "output_type": "stream",
          "name": "stdout",
          "text": [
            "\n",
            "      Epoch    GPU_mem   box_loss   seg_loss   cls_loss   dfl_loss  Instances       Size\n"
          ]
        },
        {
          "output_type": "stream",
          "name": "stderr",
          "text": [
            "     52/100      2.13G      2.002      2.556     0.9557     0.9395        986        256: 100%|██████████| 8/8 [00:08<00:00,  1.06s/it]\n",
            "                 Class     Images  Instances      Box(P          R      mAP50  mAP50-95)     Mask(P          R      mAP50  mAP50-95): 100%|██████████| 1/1 [00:00<00:00,  1.08it/s]"
          ]
        },
        {
          "output_type": "stream",
          "name": "stdout",
          "text": [
            "                   all         12        669      0.827      0.822      0.857      0.451      0.665      0.612      0.601      0.194\n"
          ]
        },
        {
          "output_type": "stream",
          "name": "stderr",
          "text": [
            "\n"
          ]
        },
        {
          "output_type": "stream",
          "name": "stdout",
          "text": [
            "\n",
            "      Epoch    GPU_mem   box_loss   seg_loss   cls_loss   dfl_loss  Instances       Size\n"
          ]
        },
        {
          "output_type": "stream",
          "name": "stderr",
          "text": [
            "     53/100      2.21G      1.936      2.389     0.9375     0.9291        570        256: 100%|██████████| 8/8 [00:05<00:00,  1.57it/s]\n",
            "                 Class     Images  Instances      Box(P          R      mAP50  mAP50-95)     Mask(P          R      mAP50  mAP50-95): 100%|██████████| 1/1 [00:00<00:00,  1.66it/s]"
          ]
        },
        {
          "output_type": "stream",
          "name": "stdout",
          "text": [
            "                   all         12        669      0.831      0.818      0.854      0.431      0.681      0.656      0.621      0.216\n"
          ]
        },
        {
          "output_type": "stream",
          "name": "stderr",
          "text": [
            "\n"
          ]
        },
        {
          "output_type": "stream",
          "name": "stdout",
          "text": [
            "\n",
            "      Epoch    GPU_mem   box_loss   seg_loss   cls_loss   dfl_loss  Instances       Size\n"
          ]
        },
        {
          "output_type": "stream",
          "name": "stderr",
          "text": [
            "     54/100      2.27G       1.98      2.525     0.9673     0.9427        698        256: 100%|██████████| 8/8 [00:08<00:00,  1.03s/it]\n",
            "                 Class     Images  Instances      Box(P          R      mAP50  mAP50-95)     Mask(P          R      mAP50  mAP50-95): 100%|██████████| 1/1 [00:00<00:00,  1.81it/s]"
          ]
        },
        {
          "output_type": "stream",
          "name": "stdout",
          "text": [
            "                   all         12        669      0.864      0.791      0.856      0.497      0.727      0.745      0.755      0.303\n"
          ]
        },
        {
          "output_type": "stream",
          "name": "stderr",
          "text": [
            "\n"
          ]
        },
        {
          "output_type": "stream",
          "name": "stdout",
          "text": [
            "\n",
            "      Epoch    GPU_mem   box_loss   seg_loss   cls_loss   dfl_loss  Instances       Size\n"
          ]
        },
        {
          "output_type": "stream",
          "name": "stderr",
          "text": [
            "     55/100      2.28G      1.916      2.437     0.9209     0.9275       1135        256: 100%|██████████| 8/8 [00:05<00:00,  1.54it/s]\n",
            "                 Class     Images  Instances      Box(P          R      mAP50  mAP50-95)     Mask(P          R      mAP50  mAP50-95): 100%|██████████| 1/1 [00:00<00:00,  1.90it/s]"
          ]
        },
        {
          "output_type": "stream",
          "name": "stdout",
          "text": [
            "                   all         12        669      0.851      0.803      0.858      0.518      0.741      0.692      0.721       0.28\n"
          ]
        },
        {
          "output_type": "stream",
          "name": "stderr",
          "text": [
            "\n"
          ]
        },
        {
          "output_type": "stream",
          "name": "stdout",
          "text": [
            "\n",
            "      Epoch    GPU_mem   box_loss   seg_loss   cls_loss   dfl_loss  Instances       Size\n"
          ]
        },
        {
          "output_type": "stream",
          "name": "stderr",
          "text": [
            "     56/100      2.22G      1.942      2.426     0.9417     0.9232        920        256: 100%|██████████| 8/8 [00:06<00:00,  1.17it/s]\n",
            "                 Class     Images  Instances      Box(P          R      mAP50  mAP50-95)     Mask(P          R      mAP50  mAP50-95): 100%|██████████| 1/1 [00:00<00:00,  1.83it/s]"
          ]
        },
        {
          "output_type": "stream",
          "name": "stdout",
          "text": [
            "                   all         12        669      0.864       0.81       0.87      0.507      0.737      0.687      0.723      0.271\n"
          ]
        },
        {
          "output_type": "stream",
          "name": "stderr",
          "text": [
            "\n"
          ]
        },
        {
          "output_type": "stream",
          "name": "stdout",
          "text": [
            "\n",
            "      Epoch    GPU_mem   box_loss   seg_loss   cls_loss   dfl_loss  Instances       Size\n"
          ]
        },
        {
          "output_type": "stream",
          "name": "stderr",
          "text": [
            "     57/100       2.3G      1.888      2.453     0.8996     0.9255       1023        256: 100%|██████████| 8/8 [00:05<00:00,  1.43it/s]\n",
            "                 Class     Images  Instances      Box(P          R      mAP50  mAP50-95)     Mask(P          R      mAP50  mAP50-95): 100%|██████████| 1/1 [00:01<00:00,  1.21s/it]"
          ]
        },
        {
          "output_type": "stream",
          "name": "stdout",
          "text": [
            "                   all         12        669      0.848      0.827       0.87      0.503      0.755      0.735      0.757      0.295\n"
          ]
        },
        {
          "output_type": "stream",
          "name": "stderr",
          "text": [
            "\n"
          ]
        },
        {
          "output_type": "stream",
          "name": "stdout",
          "text": [
            "\n",
            "      Epoch    GPU_mem   box_loss   seg_loss   cls_loss   dfl_loss  Instances       Size\n"
          ]
        },
        {
          "output_type": "stream",
          "name": "stderr",
          "text": [
            "     58/100      2.19G      1.929      2.477     0.9146     0.9293        952        256: 100%|██████████| 8/8 [00:05<00:00,  1.41it/s]\n",
            "                 Class     Images  Instances      Box(P          R      mAP50  mAP50-95)     Mask(P          R      mAP50  mAP50-95): 100%|██████████| 1/1 [00:00<00:00,  1.57it/s]"
          ]
        },
        {
          "output_type": "stream",
          "name": "stdout",
          "text": [
            "                   all         12        669      0.829      0.823      0.864      0.536      0.718      0.694      0.727       0.29\n"
          ]
        },
        {
          "output_type": "stream",
          "name": "stderr",
          "text": [
            "\n"
          ]
        },
        {
          "output_type": "stream",
          "name": "stdout",
          "text": [
            "\n",
            "      Epoch    GPU_mem   box_loss   seg_loss   cls_loss   dfl_loss  Instances       Size\n"
          ]
        },
        {
          "output_type": "stream",
          "name": "stderr",
          "text": [
            "     59/100      2.12G      1.834      2.363     0.9102     0.9219        564        256: 100%|██████████| 8/8 [00:06<00:00,  1.20it/s]\n",
            "                 Class     Images  Instances      Box(P          R      mAP50  mAP50-95)     Mask(P          R      mAP50  mAP50-95): 100%|██████████| 1/1 [00:00<00:00,  1.05it/s]"
          ]
        },
        {
          "output_type": "stream",
          "name": "stdout",
          "text": [
            "                   all         12        669      0.847      0.803      0.857      0.498      0.708      0.683      0.697      0.257\n"
          ]
        },
        {
          "output_type": "stream",
          "name": "stderr",
          "text": [
            "\n"
          ]
        },
        {
          "output_type": "stream",
          "name": "stdout",
          "text": [
            "\n",
            "      Epoch    GPU_mem   box_loss   seg_loss   cls_loss   dfl_loss  Instances       Size\n"
          ]
        },
        {
          "output_type": "stream",
          "name": "stderr",
          "text": [
            "     60/100       2.3G      1.906      2.439     0.9068     0.9264        768        256: 100%|██████████| 8/8 [00:04<00:00,  1.65it/s]\n",
            "                 Class     Images  Instances      Box(P          R      mAP50  mAP50-95)     Mask(P          R      mAP50  mAP50-95): 100%|██████████| 1/1 [00:00<00:00,  1.53it/s]"
          ]
        },
        {
          "output_type": "stream",
          "name": "stdout",
          "text": [
            "                   all         12        669      0.826      0.807      0.853      0.495       0.67      0.671      0.671      0.242\n"
          ]
        },
        {
          "output_type": "stream",
          "name": "stderr",
          "text": [
            "\n"
          ]
        },
        {
          "output_type": "stream",
          "name": "stdout",
          "text": [
            "\n",
            "      Epoch    GPU_mem   box_loss   seg_loss   cls_loss   dfl_loss  Instances       Size\n"
          ]
        },
        {
          "output_type": "stream",
          "name": "stderr",
          "text": [
            "     61/100      2.31G      1.973      2.548     0.9259     0.9248        858        256: 100%|██████████| 8/8 [00:07<00:00,  1.13it/s]\n",
            "                 Class     Images  Instances      Box(P          R      mAP50  mAP50-95)     Mask(P          R      mAP50  mAP50-95): 100%|██████████| 1/1 [00:00<00:00,  1.06it/s]"
          ]
        },
        {
          "output_type": "stream",
          "name": "stdout",
          "text": [
            "                   all         12        669      0.833        0.8      0.859      0.524      0.743       0.72      0.747      0.306\n"
          ]
        },
        {
          "output_type": "stream",
          "name": "stderr",
          "text": [
            "\n"
          ]
        },
        {
          "output_type": "stream",
          "name": "stdout",
          "text": [
            "\n",
            "      Epoch    GPU_mem   box_loss   seg_loss   cls_loss   dfl_loss  Instances       Size\n"
          ]
        },
        {
          "output_type": "stream",
          "name": "stderr",
          "text": [
            "     62/100      2.21G      1.891       2.43     0.9279      0.942        656        256: 100%|██████████| 8/8 [00:04<00:00,  1.63it/s]\n",
            "                 Class     Images  Instances      Box(P          R      mAP50  mAP50-95)     Mask(P          R      mAP50  mAP50-95): 100%|██████████| 1/1 [00:00<00:00,  1.76it/s]"
          ]
        },
        {
          "output_type": "stream",
          "name": "stdout",
          "text": [
            "                   all         12        669      0.819      0.798      0.846      0.482      0.723      0.711      0.712      0.264\n"
          ]
        },
        {
          "output_type": "stream",
          "name": "stderr",
          "text": [
            "\n"
          ]
        },
        {
          "output_type": "stream",
          "name": "stdout",
          "text": [
            "\n",
            "      Epoch    GPU_mem   box_loss   seg_loss   cls_loss   dfl_loss  Instances       Size\n"
          ]
        },
        {
          "output_type": "stream",
          "name": "stderr",
          "text": [
            "     63/100      2.29G      1.875      2.432     0.9109     0.9209        991        256: 100%|██████████| 8/8 [00:08<00:00,  1.03s/it]\n",
            "                 Class     Images  Instances      Box(P          R      mAP50  mAP50-95)     Mask(P          R      mAP50  mAP50-95): 100%|██████████| 1/1 [00:00<00:00,  1.20it/s]"
          ]
        },
        {
          "output_type": "stream",
          "name": "stdout",
          "text": [
            "                   all         12        669      0.819      0.806      0.849      0.503      0.715      0.713      0.726      0.283\n"
          ]
        },
        {
          "output_type": "stream",
          "name": "stderr",
          "text": [
            "\n"
          ]
        },
        {
          "output_type": "stream",
          "name": "stdout",
          "text": [
            "\n",
            "      Epoch    GPU_mem   box_loss   seg_loss   cls_loss   dfl_loss  Instances       Size\n"
          ]
        },
        {
          "output_type": "stream",
          "name": "stderr",
          "text": [
            "     64/100      2.21G      1.893      2.427     0.9122     0.9258        628        256: 100%|██████████| 8/8 [00:05<00:00,  1.51it/s]\n",
            "                 Class     Images  Instances      Box(P          R      mAP50  mAP50-95)     Mask(P          R      mAP50  mAP50-95): 100%|██████████| 1/1 [00:00<00:00,  1.64it/s]"
          ]
        },
        {
          "output_type": "stream",
          "name": "stdout",
          "text": [
            "                   all         12        669      0.845      0.791      0.845      0.467       0.73      0.683      0.701       0.25\n"
          ]
        },
        {
          "output_type": "stream",
          "name": "stderr",
          "text": [
            "\n"
          ]
        },
        {
          "output_type": "stream",
          "name": "stdout",
          "text": [
            "\n",
            "      Epoch    GPU_mem   box_loss   seg_loss   cls_loss   dfl_loss  Instances       Size\n"
          ]
        },
        {
          "output_type": "stream",
          "name": "stderr",
          "text": [
            "     65/100       2.2G      1.951      2.437     0.9184     0.9228       1264        256: 100%|██████████| 8/8 [00:07<00:00,  1.02it/s]\n",
            "                 Class     Images  Instances      Box(P          R      mAP50  mAP50-95)     Mask(P          R      mAP50  mAP50-95): 100%|██████████| 1/1 [00:00<00:00,  1.75it/s]"
          ]
        },
        {
          "output_type": "stream",
          "name": "stdout",
          "text": [
            "                   all         12        669      0.851      0.803      0.854      0.506      0.745      0.702       0.72      0.267\n"
          ]
        },
        {
          "output_type": "stream",
          "name": "stderr",
          "text": [
            "\n"
          ]
        },
        {
          "output_type": "stream",
          "name": "stdout",
          "text": [
            "\n",
            "      Epoch    GPU_mem   box_loss   seg_loss   cls_loss   dfl_loss  Instances       Size\n"
          ]
        },
        {
          "output_type": "stream",
          "name": "stderr",
          "text": [
            "     66/100      2.12G      1.813      2.326     0.8695     0.9186        651        256: 100%|██████████| 8/8 [00:05<00:00,  1.59it/s]\n",
            "                 Class     Images  Instances      Box(P          R      mAP50  mAP50-95)     Mask(P          R      mAP50  mAP50-95): 100%|██████████| 1/1 [00:00<00:00,  1.81it/s]"
          ]
        },
        {
          "output_type": "stream",
          "name": "stdout",
          "text": [
            "                   all         12        669      0.845      0.806      0.863      0.535      0.764      0.717      0.758      0.294\n"
          ]
        },
        {
          "output_type": "stream",
          "name": "stderr",
          "text": [
            "\n"
          ]
        },
        {
          "output_type": "stream",
          "name": "stdout",
          "text": [
            "\n",
            "      Epoch    GPU_mem   box_loss   seg_loss   cls_loss   dfl_loss  Instances       Size\n"
          ]
        },
        {
          "output_type": "stream",
          "name": "stderr",
          "text": [
            "     67/100      2.28G      1.813      2.324     0.8781     0.9164        832        256: 100%|██████████| 8/8 [00:06<00:00,  1.16it/s]\n",
            "                 Class     Images  Instances      Box(P          R      mAP50  mAP50-95)     Mask(P          R      mAP50  mAP50-95): 100%|██████████| 1/1 [00:00<00:00,  1.98it/s]"
          ]
        },
        {
          "output_type": "stream",
          "name": "stdout",
          "text": [
            "                   all         12        669      0.847      0.819      0.866        0.5      0.727      0.694      0.698      0.249\n"
          ]
        },
        {
          "output_type": "stream",
          "name": "stderr",
          "text": [
            "\n"
          ]
        },
        {
          "output_type": "stream",
          "name": "stdout",
          "text": [
            "\n",
            "      Epoch    GPU_mem   box_loss   seg_loss   cls_loss   dfl_loss  Instances       Size\n"
          ]
        },
        {
          "output_type": "stream",
          "name": "stderr",
          "text": [
            "     68/100       2.3G      1.787      2.265      0.858     0.9033        803        256: 100%|██████████| 8/8 [00:05<00:00,  1.37it/s]\n",
            "                 Class     Images  Instances      Box(P          R      mAP50  mAP50-95)     Mask(P          R      mAP50  mAP50-95): 100%|██████████| 1/1 [00:00<00:00,  1.09it/s]"
          ]
        },
        {
          "output_type": "stream",
          "name": "stdout",
          "text": [
            "                   all         12        669      0.847      0.824       0.87      0.498      0.731      0.712      0.702      0.255\n"
          ]
        },
        {
          "output_type": "stream",
          "name": "stderr",
          "text": [
            "\n"
          ]
        },
        {
          "output_type": "stream",
          "name": "stdout",
          "text": [
            "\n",
            "      Epoch    GPU_mem   box_loss   seg_loss   cls_loss   dfl_loss  Instances       Size\n"
          ]
        },
        {
          "output_type": "stream",
          "name": "stderr",
          "text": [
            "     69/100       2.2G      1.882      2.467     0.9035      0.929        848        256: 100%|██████████| 8/8 [00:05<00:00,  1.40it/s]\n",
            "                 Class     Images  Instances      Box(P          R      mAP50  mAP50-95)     Mask(P          R      mAP50  mAP50-95): 100%|██████████| 1/1 [00:00<00:00,  1.61it/s]"
          ]
        },
        {
          "output_type": "stream",
          "name": "stdout",
          "text": [
            "                   all         12        669      0.842      0.828      0.871      0.503      0.725      0.686      0.699       0.27\n"
          ]
        },
        {
          "output_type": "stream",
          "name": "stderr",
          "text": [
            "\n"
          ]
        },
        {
          "output_type": "stream",
          "name": "stdout",
          "text": [
            "\n",
            "      Epoch    GPU_mem   box_loss   seg_loss   cls_loss   dfl_loss  Instances       Size\n"
          ]
        },
        {
          "output_type": "stream",
          "name": "stderr",
          "text": [
            "     70/100      2.29G      1.779      2.258      0.847     0.9067        857        256: 100%|██████████| 8/8 [00:06<00:00,  1.24it/s]\n",
            "                 Class     Images  Instances      Box(P          R      mAP50  mAP50-95)     Mask(P          R      mAP50  mAP50-95): 100%|██████████| 1/1 [00:00<00:00,  1.19it/s]"
          ]
        },
        {
          "output_type": "stream",
          "name": "stdout",
          "text": [
            "                   all         12        669      0.849      0.813      0.868       0.52      0.716      0.687      0.712      0.267\n"
          ]
        },
        {
          "output_type": "stream",
          "name": "stderr",
          "text": [
            "\n"
          ]
        },
        {
          "output_type": "stream",
          "name": "stdout",
          "text": [
            "\n",
            "      Epoch    GPU_mem   box_loss   seg_loss   cls_loss   dfl_loss  Instances       Size\n"
          ]
        },
        {
          "output_type": "stream",
          "name": "stderr",
          "text": [
            "     71/100       2.3G      1.792      2.306     0.8714     0.9242        564        256: 100%|██████████| 8/8 [00:04<00:00,  1.68it/s]\n",
            "                 Class     Images  Instances      Box(P          R      mAP50  mAP50-95)     Mask(P          R      mAP50  mAP50-95): 100%|██████████| 1/1 [00:00<00:00,  1.98it/s]"
          ]
        },
        {
          "output_type": "stream",
          "name": "stdout",
          "text": [
            "                   all         12        669      0.849       0.83      0.877      0.539      0.754       0.71      0.751      0.285\n"
          ]
        },
        {
          "output_type": "stream",
          "name": "stderr",
          "text": [
            "\n"
          ]
        },
        {
          "output_type": "stream",
          "name": "stdout",
          "text": [
            "\n",
            "      Epoch    GPU_mem   box_loss   seg_loss   cls_loss   dfl_loss  Instances       Size\n"
          ]
        },
        {
          "output_type": "stream",
          "name": "stderr",
          "text": [
            "     72/100      2.29G      1.939      2.408     0.9057     0.9332       1094        256: 100%|██████████| 8/8 [00:07<00:00,  1.14it/s]\n",
            "                 Class     Images  Instances      Box(P          R      mAP50  mAP50-95)     Mask(P          R      mAP50  mAP50-95): 100%|██████████| 1/1 [00:00<00:00,  1.02it/s]"
          ]
        },
        {
          "output_type": "stream",
          "name": "stdout",
          "text": [
            "                   all         12        669      0.856       0.82      0.871      0.525       0.74      0.714      0.739      0.282\n"
          ]
        },
        {
          "output_type": "stream",
          "name": "stderr",
          "text": [
            "\n"
          ]
        },
        {
          "output_type": "stream",
          "name": "stdout",
          "text": [
            "\n",
            "      Epoch    GPU_mem   box_loss   seg_loss   cls_loss   dfl_loss  Instances       Size\n"
          ]
        },
        {
          "output_type": "stream",
          "name": "stderr",
          "text": [
            "     73/100      2.26G      1.819      2.293     0.8906     0.9081        937        256: 100%|██████████| 8/8 [00:04<00:00,  1.60it/s]\n",
            "                 Class     Images  Instances      Box(P          R      mAP50  mAP50-95)     Mask(P          R      mAP50  mAP50-95): 100%|██████████| 1/1 [00:00<00:00,  2.24it/s]"
          ]
        },
        {
          "output_type": "stream",
          "name": "stdout",
          "text": [
            "                   all         12        669       0.84      0.806      0.863      0.478      0.683      0.656      0.654      0.227\n"
          ]
        },
        {
          "output_type": "stream",
          "name": "stderr",
          "text": [
            "\n"
          ]
        },
        {
          "output_type": "stream",
          "name": "stdout",
          "text": [
            "\n",
            "      Epoch    GPU_mem   box_loss   seg_loss   cls_loss   dfl_loss  Instances       Size\n"
          ]
        },
        {
          "output_type": "stream",
          "name": "stderr",
          "text": [
            "     74/100      2.27G      1.866       2.41     0.8982     0.9145        847        256: 100%|██████████| 8/8 [00:08<00:00,  1.01s/it]\n",
            "                 Class     Images  Instances      Box(P          R      mAP50  mAP50-95)     Mask(P          R      mAP50  mAP50-95): 100%|██████████| 1/1 [00:00<00:00,  1.13it/s]"
          ]
        },
        {
          "output_type": "stream",
          "name": "stdout",
          "text": [
            "                   all         12        669      0.811      0.837      0.861      0.493      0.661      0.664      0.624      0.222\n"
          ]
        },
        {
          "output_type": "stream",
          "name": "stderr",
          "text": [
            "\n"
          ]
        },
        {
          "output_type": "stream",
          "name": "stdout",
          "text": [
            "\n",
            "      Epoch    GPU_mem   box_loss   seg_loss   cls_loss   dfl_loss  Instances       Size\n"
          ]
        },
        {
          "output_type": "stream",
          "name": "stderr",
          "text": [
            "     75/100      2.17G       1.79      2.297     0.8833     0.9265       1020        256: 100%|██████████| 8/8 [00:05<00:00,  1.57it/s]\n",
            "                 Class     Images  Instances      Box(P          R      mAP50  mAP50-95)     Mask(P          R      mAP50  mAP50-95): 100%|██████████| 1/1 [00:00<00:00,  1.70it/s]"
          ]
        },
        {
          "output_type": "stream",
          "name": "stdout",
          "text": [
            "                   all         12        669      0.831      0.839       0.87      0.535      0.721      0.712      0.729      0.302\n"
          ]
        },
        {
          "output_type": "stream",
          "name": "stderr",
          "text": [
            "\n"
          ]
        },
        {
          "output_type": "stream",
          "name": "stdout",
          "text": [
            "\n",
            "      Epoch    GPU_mem   box_loss   seg_loss   cls_loss   dfl_loss  Instances       Size\n"
          ]
        },
        {
          "output_type": "stream",
          "name": "stderr",
          "text": [
            "     76/100      2.28G       1.86      2.325     0.8782     0.9115        745        256: 100%|██████████| 8/8 [00:07<00:00,  1.04it/s]\n",
            "                 Class     Images  Instances      Box(P          R      mAP50  mAP50-95)     Mask(P          R      mAP50  mAP50-95): 100%|██████████| 1/1 [00:00<00:00,  1.56it/s]"
          ]
        },
        {
          "output_type": "stream",
          "name": "stdout",
          "text": [
            "                   all         12        669      0.862        0.8      0.868      0.515      0.756      0.701      0.738      0.283\n"
          ]
        },
        {
          "output_type": "stream",
          "name": "stderr",
          "text": [
            "\n"
          ]
        },
        {
          "output_type": "stream",
          "name": "stdout",
          "text": [
            "\n",
            "      Epoch    GPU_mem   box_loss   seg_loss   cls_loss   dfl_loss  Instances       Size\n"
          ]
        },
        {
          "output_type": "stream",
          "name": "stderr",
          "text": [
            "     77/100       2.2G      1.797      2.323     0.8544     0.9159        554        256: 100%|██████████| 8/8 [00:05<00:00,  1.57it/s]\n",
            "                 Class     Images  Instances      Box(P          R      mAP50  mAP50-95)     Mask(P          R      mAP50  mAP50-95): 100%|██████████| 1/1 [00:00<00:00,  1.40it/s]"
          ]
        },
        {
          "output_type": "stream",
          "name": "stdout",
          "text": [
            "                   all         12        669      0.841      0.835      0.876      0.515      0.725       0.72      0.708      0.252\n"
          ]
        },
        {
          "output_type": "stream",
          "name": "stderr",
          "text": [
            "\n"
          ]
        },
        {
          "output_type": "stream",
          "name": "stdout",
          "text": [
            "\n",
            "      Epoch    GPU_mem   box_loss   seg_loss   cls_loss   dfl_loss  Instances       Size\n"
          ]
        },
        {
          "output_type": "stream",
          "name": "stderr",
          "text": [
            "     78/100      2.26G       1.79      2.289     0.8506     0.9062        894        256: 100%|██████████| 8/8 [00:07<00:00,  1.10it/s]\n",
            "                 Class     Images  Instances      Box(P          R      mAP50  mAP50-95)     Mask(P          R      mAP50  mAP50-95): 100%|██████████| 1/1 [00:00<00:00,  1.76it/s]"
          ]
        },
        {
          "output_type": "stream",
          "name": "stdout",
          "text": [
            "                   all         12        669      0.835      0.846      0.882       0.51      0.722      0.731      0.712      0.262\n"
          ]
        },
        {
          "output_type": "stream",
          "name": "stderr",
          "text": [
            "\n"
          ]
        },
        {
          "output_type": "stream",
          "name": "stdout",
          "text": [
            "\n",
            "      Epoch    GPU_mem   box_loss   seg_loss   cls_loss   dfl_loss  Instances       Size\n"
          ]
        },
        {
          "output_type": "stream",
          "name": "stderr",
          "text": [
            "     79/100      2.21G      1.783      2.278     0.8465     0.9059        928        256: 100%|██████████| 8/8 [00:05<00:00,  1.41it/s]\n",
            "                 Class     Images  Instances      Box(P          R      mAP50  mAP50-95)     Mask(P          R      mAP50  mAP50-95): 100%|██████████| 1/1 [00:00<00:00,  1.19it/s]"
          ]
        },
        {
          "output_type": "stream",
          "name": "stdout",
          "text": [
            "                   all         12        669      0.837       0.83      0.868      0.504      0.724      0.744      0.718      0.266\n"
          ]
        },
        {
          "output_type": "stream",
          "name": "stderr",
          "text": [
            "\n"
          ]
        },
        {
          "output_type": "stream",
          "name": "stdout",
          "text": [
            "\n",
            "      Epoch    GPU_mem   box_loss   seg_loss   cls_loss   dfl_loss  Instances       Size\n"
          ]
        },
        {
          "output_type": "stream",
          "name": "stderr",
          "text": [
            "     80/100      2.27G      1.794      2.271     0.8561     0.9124        868        256: 100%|██████████| 8/8 [00:06<00:00,  1.27it/s]\n",
            "                 Class     Images  Instances      Box(P          R      mAP50  mAP50-95)     Mask(P          R      mAP50  mAP50-95): 100%|██████████| 1/1 [00:00<00:00,  2.07it/s]"
          ]
        },
        {
          "output_type": "stream",
          "name": "stdout",
          "text": [
            "                   all         12        669      0.824      0.841       0.87      0.517      0.698      0.709      0.694      0.263\n"
          ]
        },
        {
          "output_type": "stream",
          "name": "stderr",
          "text": [
            "\n"
          ]
        },
        {
          "output_type": "stream",
          "name": "stdout",
          "text": [
            "\n",
            "      Epoch    GPU_mem   box_loss   seg_loss   cls_loss   dfl_loss  Instances       Size\n"
          ]
        },
        {
          "output_type": "stream",
          "name": "stderr",
          "text": [
            "     81/100      2.37G      1.782      2.319      0.845     0.9106        868        256: 100%|██████████| 8/8 [00:06<00:00,  1.18it/s]\n",
            "                 Class     Images  Instances      Box(P          R      mAP50  mAP50-95)     Mask(P          R      mAP50  mAP50-95): 100%|██████████| 1/1 [00:00<00:00,  1.09it/s]"
          ]
        },
        {
          "output_type": "stream",
          "name": "stdout",
          "text": [
            "                   all         12        669      0.838      0.833      0.869      0.513      0.703        0.7      0.682       0.25\n"
          ]
        },
        {
          "output_type": "stream",
          "name": "stderr",
          "text": [
            "\n"
          ]
        },
        {
          "output_type": "stream",
          "name": "stdout",
          "text": [
            "\n",
            "      Epoch    GPU_mem   box_loss   seg_loss   cls_loss   dfl_loss  Instances       Size\n"
          ]
        },
        {
          "output_type": "stream",
          "name": "stderr",
          "text": [
            "     82/100      2.12G      1.752      2.221     0.8469     0.9081        718        256: 100%|██████████| 8/8 [00:04<00:00,  1.66it/s]\n",
            "                 Class     Images  Instances      Box(P          R      mAP50  mAP50-95)     Mask(P          R      mAP50  mAP50-95): 100%|██████████| 1/1 [00:00<00:00,  1.82it/s]"
          ]
        },
        {
          "output_type": "stream",
          "name": "stdout",
          "text": [
            "                   all         12        669      0.824      0.834      0.863      0.511      0.704      0.714        0.7       0.26\n"
          ]
        },
        {
          "output_type": "stream",
          "name": "stderr",
          "text": [
            "\n"
          ]
        },
        {
          "output_type": "stream",
          "name": "stdout",
          "text": [
            "\n",
            "      Epoch    GPU_mem   box_loss   seg_loss   cls_loss   dfl_loss  Instances       Size\n"
          ]
        },
        {
          "output_type": "stream",
          "name": "stderr",
          "text": [
            "     83/100       2.2G      1.766      2.241     0.8274     0.9043       1072        256: 100%|██████████| 8/8 [00:07<00:00,  1.11it/s]\n",
            "                 Class     Images  Instances      Box(P          R      mAP50  mAP50-95)     Mask(P          R      mAP50  mAP50-95): 100%|██████████| 1/1 [00:00<00:00,  1.13it/s]"
          ]
        },
        {
          "output_type": "stream",
          "name": "stdout",
          "text": [
            "                   all         12        669       0.84      0.839      0.864      0.533      0.727      0.738      0.741       0.29\n"
          ]
        },
        {
          "output_type": "stream",
          "name": "stderr",
          "text": [
            "\n"
          ]
        },
        {
          "output_type": "stream",
          "name": "stdout",
          "text": [
            "\n",
            "      Epoch    GPU_mem   box_loss   seg_loss   cls_loss   dfl_loss  Instances       Size\n"
          ]
        },
        {
          "output_type": "stream",
          "name": "stderr",
          "text": [
            "     84/100       2.3G      1.817      2.318     0.8485     0.9139        786        256: 100%|██████████| 8/8 [00:05<00:00,  1.59it/s]\n",
            "                 Class     Images  Instances      Box(P          R      mAP50  mAP50-95)     Mask(P          R      mAP50  mAP50-95): 100%|██████████| 1/1 [00:00<00:00,  1.62it/s]"
          ]
        },
        {
          "output_type": "stream",
          "name": "stdout",
          "text": [
            "                   all         12        669      0.849      0.833      0.872      0.554      0.767      0.761      0.777      0.311\n"
          ]
        },
        {
          "output_type": "stream",
          "name": "stderr",
          "text": [
            "\n"
          ]
        },
        {
          "output_type": "stream",
          "name": "stdout",
          "text": [
            "\n",
            "      Epoch    GPU_mem   box_loss   seg_loss   cls_loss   dfl_loss  Instances       Size\n"
          ]
        },
        {
          "output_type": "stream",
          "name": "stderr",
          "text": [
            "     85/100      2.26G      1.792      2.277     0.8468     0.9114        817        256: 100%|██████████| 8/8 [00:08<00:00,  1.06s/it]\n",
            "                 Class     Images  Instances      Box(P          R      mAP50  mAP50-95)     Mask(P          R      mAP50  mAP50-95): 100%|██████████| 1/1 [00:00<00:00,  1.84it/s]"
          ]
        },
        {
          "output_type": "stream",
          "name": "stdout",
          "text": [
            "                   all         12        669       0.86      0.836      0.881      0.538      0.749      0.732      0.734      0.266\n"
          ]
        },
        {
          "output_type": "stream",
          "name": "stderr",
          "text": [
            "\n"
          ]
        },
        {
          "output_type": "stream",
          "name": "stdout",
          "text": [
            "\n",
            "      Epoch    GPU_mem   box_loss   seg_loss   cls_loss   dfl_loss  Instances       Size\n"
          ]
        },
        {
          "output_type": "stream",
          "name": "stderr",
          "text": [
            "     86/100       2.3G      1.839      2.371     0.8774     0.9139       1055        256: 100%|██████████| 8/8 [00:05<00:00,  1.45it/s]\n",
            "                 Class     Images  Instances      Box(P          R      mAP50  mAP50-95)     Mask(P          R      mAP50  mAP50-95): 100%|██████████| 1/1 [00:00<00:00,  2.03it/s]"
          ]
        },
        {
          "output_type": "stream",
          "name": "stdout",
          "text": [
            "                   all         12        669      0.836      0.851      0.884      0.521      0.717      0.743      0.729       0.25\n"
          ]
        },
        {
          "output_type": "stream",
          "name": "stderr",
          "text": [
            "\n"
          ]
        },
        {
          "output_type": "stream",
          "name": "stdout",
          "text": [
            "\n",
            "      Epoch    GPU_mem   box_loss   seg_loss   cls_loss   dfl_loss  Instances       Size\n"
          ]
        },
        {
          "output_type": "stream",
          "name": "stderr",
          "text": [
            "     87/100      2.31G      1.781      2.255     0.8405     0.9001        777        256: 100%|██████████| 8/8 [00:07<00:00,  1.10it/s]\n",
            "                 Class     Images  Instances      Box(P          R      mAP50  mAP50-95)     Mask(P          R      mAP50  mAP50-95): 100%|██████████| 1/1 [00:00<00:00,  2.45it/s]"
          ]
        },
        {
          "output_type": "stream",
          "name": "stdout",
          "text": [
            "                   all         12        669      0.829      0.851       0.88      0.521      0.713      0.735      0.728      0.267\n"
          ]
        },
        {
          "output_type": "stream",
          "name": "stderr",
          "text": [
            "\n"
          ]
        },
        {
          "output_type": "stream",
          "name": "stdout",
          "text": [
            "\n",
            "      Epoch    GPU_mem   box_loss   seg_loss   cls_loss   dfl_loss  Instances       Size\n"
          ]
        },
        {
          "output_type": "stream",
          "name": "stderr",
          "text": [
            "     88/100      2.28G      1.841      2.328     0.8694     0.9159        888        256: 100%|██████████| 8/8 [00:05<00:00,  1.46it/s]\n",
            "                 Class     Images  Instances      Box(P          R      mAP50  mAP50-95)     Mask(P          R      mAP50  mAP50-95): 100%|██████████| 1/1 [00:00<00:00,  1.46it/s]"
          ]
        },
        {
          "output_type": "stream",
          "name": "stdout",
          "text": [
            "                   all         12        669      0.853      0.832      0.879      0.542      0.734      0.737      0.748       0.29\n"
          ]
        },
        {
          "output_type": "stream",
          "name": "stderr",
          "text": [
            "\n"
          ]
        },
        {
          "output_type": "stream",
          "name": "stdout",
          "text": [
            "\n",
            "      Epoch    GPU_mem   box_loss   seg_loss   cls_loss   dfl_loss  Instances       Size\n"
          ]
        },
        {
          "output_type": "stream",
          "name": "stderr",
          "text": [
            "     89/100      2.17G      1.788       2.23      0.856     0.9055        577        256: 100%|██████████| 8/8 [00:06<00:00,  1.30it/s]\n",
            "                 Class     Images  Instances      Box(P          R      mAP50  mAP50-95)     Mask(P          R      mAP50  mAP50-95): 100%|██████████| 1/1 [00:00<00:00,  1.69it/s]"
          ]
        },
        {
          "output_type": "stream",
          "name": "stdout",
          "text": [
            "                   all         12        669      0.845      0.842       0.88      0.555      0.748       0.74      0.762      0.294\n"
          ]
        },
        {
          "output_type": "stream",
          "name": "stderr",
          "text": [
            "\n"
          ]
        },
        {
          "output_type": "stream",
          "name": "stdout",
          "text": [
            "\n",
            "      Epoch    GPU_mem   box_loss   seg_loss   cls_loss   dfl_loss  Instances       Size\n"
          ]
        },
        {
          "output_type": "stream",
          "name": "stderr",
          "text": [
            "     90/100      2.25G      1.721      2.175     0.8187     0.8884        823        256: 100%|██████████| 8/8 [00:05<00:00,  1.39it/s]\n",
            "                 Class     Images  Instances      Box(P          R      mAP50  mAP50-95)     Mask(P          R      mAP50  mAP50-95): 100%|██████████| 1/1 [00:00<00:00,  1.15it/s]"
          ]
        },
        {
          "output_type": "stream",
          "name": "stdout",
          "text": [
            "                   all         12        669      0.866      0.818       0.88      0.546      0.738       0.74      0.746      0.282\n"
          ]
        },
        {
          "output_type": "stream",
          "name": "stderr",
          "text": [
            "\n"
          ]
        },
        {
          "output_type": "stream",
          "name": "stdout",
          "text": [
            "Closing dataloader mosaic\n",
            "\u001b[34m\u001b[1malbumentations: \u001b[0mBlur(p=0.01, blur_limit=(3, 7)), MedianBlur(p=0.01, blur_limit=(3, 7)), ToGray(p=0.01, num_output_channels=3, method='weighted_average'), CLAHE(p=0.01, clip_limit=(1.0, 4.0), tile_grid_size=(8, 8))\n",
            "\n",
            "      Epoch    GPU_mem   box_loss   seg_loss   cls_loss   dfl_loss  Instances       Size\n"
          ]
        },
        {
          "output_type": "stream",
          "name": "stderr",
          "text": [
            "     91/100      2.16G      1.727      2.252     0.8627     0.9114        591        256: 100%|██████████| 8/8 [00:06<00:00,  1.15it/s]\n",
            "                 Class     Images  Instances      Box(P          R      mAP50  mAP50-95)     Mask(P          R      mAP50  mAP50-95): 100%|██████████| 1/1 [00:00<00:00,  3.79it/s]"
          ]
        },
        {
          "output_type": "stream",
          "name": "stdout",
          "text": [
            "                   all         12        669      0.865      0.814      0.878      0.547       0.75      0.723      0.737      0.271\n"
          ]
        },
        {
          "output_type": "stream",
          "name": "stderr",
          "text": [
            "\n"
          ]
        },
        {
          "output_type": "stream",
          "name": "stdout",
          "text": [
            "\n",
            "      Epoch    GPU_mem   box_loss   seg_loss   cls_loss   dfl_loss  Instances       Size\n"
          ]
        },
        {
          "output_type": "stream",
          "name": "stderr",
          "text": [
            "     92/100       2.1G      1.695       2.16     0.8398     0.9173        771        256: 100%|██████████| 8/8 [00:04<00:00,  1.78it/s]\n",
            "                 Class     Images  Instances      Box(P          R      mAP50  mAP50-95)     Mask(P          R      mAP50  mAP50-95): 100%|██████████| 1/1 [00:00<00:00,  3.07it/s]"
          ]
        },
        {
          "output_type": "stream",
          "name": "stdout",
          "text": [
            "                   all         12        669      0.863      0.813      0.878      0.545      0.756      0.719      0.743      0.288\n"
          ]
        },
        {
          "output_type": "stream",
          "name": "stderr",
          "text": [
            "\n"
          ]
        },
        {
          "output_type": "stream",
          "name": "stdout",
          "text": [
            "\n",
            "      Epoch    GPU_mem   box_loss   seg_loss   cls_loss   dfl_loss  Instances       Size\n"
          ]
        },
        {
          "output_type": "stream",
          "name": "stderr",
          "text": [
            "     93/100      2.17G      1.718      2.208     0.8402     0.9194        687        256: 100%|██████████| 8/8 [00:06<00:00,  1.29it/s]\n",
            "                 Class     Images  Instances      Box(P          R      mAP50  mAP50-95)     Mask(P          R      mAP50  mAP50-95): 100%|██████████| 1/1 [00:00<00:00,  2.73it/s]"
          ]
        },
        {
          "output_type": "stream",
          "name": "stdout",
          "text": [
            "                   all         12        669      0.867      0.803      0.872      0.541      0.757      0.703      0.732      0.286\n"
          ]
        },
        {
          "output_type": "stream",
          "name": "stderr",
          "text": [
            "\n"
          ]
        },
        {
          "output_type": "stream",
          "name": "stdout",
          "text": [
            "\n",
            "      Epoch    GPU_mem   box_loss   seg_loss   cls_loss   dfl_loss  Instances       Size\n"
          ]
        },
        {
          "output_type": "stream",
          "name": "stderr",
          "text": [
            "     94/100      2.15G      1.715      2.182     0.8462     0.9031        485        256: 100%|██████████| 8/8 [00:03<00:00,  2.10it/s]\n",
            "                 Class     Images  Instances      Box(P          R      mAP50  mAP50-95)     Mask(P          R      mAP50  mAP50-95): 100%|██████████| 1/1 [00:00<00:00,  4.43it/s]"
          ]
        },
        {
          "output_type": "stream",
          "name": "stdout",
          "text": [
            "                   all         12        669      0.847      0.811      0.873      0.538      0.716      0.729      0.715      0.266\n"
          ]
        },
        {
          "output_type": "stream",
          "name": "stderr",
          "text": [
            "\n"
          ]
        },
        {
          "output_type": "stream",
          "name": "stdout",
          "text": [
            "\n",
            "      Epoch    GPU_mem   box_loss   seg_loss   cls_loss   dfl_loss  Instances       Size\n"
          ]
        },
        {
          "output_type": "stream",
          "name": "stderr",
          "text": [
            "     95/100       2.2G       1.68      2.208     0.8339     0.9052        521        256: 100%|██████████| 8/8 [00:04<00:00,  1.77it/s]\n",
            "                 Class     Images  Instances      Box(P          R      mAP50  mAP50-95)     Mask(P          R      mAP50  mAP50-95): 100%|██████████| 1/1 [00:00<00:00,  2.48it/s]"
          ]
        },
        {
          "output_type": "stream",
          "name": "stdout",
          "text": [
            "                   all         12        669       0.84      0.825       0.88      0.532      0.722      0.707      0.705      0.251\n"
          ]
        },
        {
          "output_type": "stream",
          "name": "stderr",
          "text": [
            "\n"
          ]
        },
        {
          "output_type": "stream",
          "name": "stdout",
          "text": [
            "\n",
            "      Epoch    GPU_mem   box_loss   seg_loss   cls_loss   dfl_loss  Instances       Size\n"
          ]
        },
        {
          "output_type": "stream",
          "name": "stderr",
          "text": [
            "     96/100      2.12G      1.658      2.131     0.8283     0.9035        634        256: 100%|██████████| 8/8 [00:06<00:00,  1.33it/s]\n",
            "                 Class     Images  Instances      Box(P          R      mAP50  mAP50-95)     Mask(P          R      mAP50  mAP50-95): 100%|██████████| 1/1 [00:00<00:00,  3.47it/s]"
          ]
        },
        {
          "output_type": "stream",
          "name": "stdout",
          "text": [
            "                   all         12        669      0.845      0.831      0.881      0.532       0.73      0.706      0.705      0.251\n"
          ]
        },
        {
          "output_type": "stream",
          "name": "stderr",
          "text": [
            "\n"
          ]
        },
        {
          "output_type": "stream",
          "name": "stdout",
          "text": [
            "\n",
            "      Epoch    GPU_mem   box_loss   seg_loss   cls_loss   dfl_loss  Instances       Size\n"
          ]
        },
        {
          "output_type": "stream",
          "name": "stderr",
          "text": [
            "     97/100       2.2G      1.692      2.139     0.8387     0.9118        792        256: 100%|██████████| 8/8 [00:03<00:00,  2.20it/s]\n",
            "                 Class     Images  Instances      Box(P          R      mAP50  mAP50-95)     Mask(P          R      mAP50  mAP50-95): 100%|██████████| 1/1 [00:00<00:00,  4.56it/s]"
          ]
        },
        {
          "output_type": "stream",
          "name": "stdout",
          "text": [
            "                   all         12        669      0.856      0.828      0.881      0.528      0.735      0.709      0.718      0.261\n"
          ]
        },
        {
          "output_type": "stream",
          "name": "stderr",
          "text": [
            "\n"
          ]
        },
        {
          "output_type": "stream",
          "name": "stdout",
          "text": [
            "\n",
            "      Epoch    GPU_mem   box_loss   seg_loss   cls_loss   dfl_loss  Instances       Size\n"
          ]
        },
        {
          "output_type": "stream",
          "name": "stderr",
          "text": [
            "     98/100      2.22G      1.704      2.163     0.8269     0.9104        564        256: 100%|██████████| 8/8 [00:04<00:00,  1.86it/s]\n",
            "                 Class     Images  Instances      Box(P          R      mAP50  mAP50-95)     Mask(P          R      mAP50  mAP50-95): 100%|██████████| 1/1 [00:00<00:00,  2.59it/s]"
          ]
        },
        {
          "output_type": "stream",
          "name": "stdout",
          "text": [
            "                   all         12        669      0.859       0.83      0.881      0.536      0.743      0.717       0.73      0.274\n"
          ]
        },
        {
          "output_type": "stream",
          "name": "stderr",
          "text": [
            "\n"
          ]
        },
        {
          "output_type": "stream",
          "name": "stdout",
          "text": [
            "\n",
            "      Epoch    GPU_mem   box_loss   seg_loss   cls_loss   dfl_loss  Instances       Size\n"
          ]
        },
        {
          "output_type": "stream",
          "name": "stderr",
          "text": [
            "     99/100      2.15G      1.731      2.228     0.8295     0.9013        682        256: 100%|██████████| 8/8 [00:06<00:00,  1.31it/s]\n",
            "                 Class     Images  Instances      Box(P          R      mAP50  mAP50-95)     Mask(P          R      mAP50  mAP50-95): 100%|██████████| 1/1 [00:00<00:00,  4.99it/s]"
          ]
        },
        {
          "output_type": "stream",
          "name": "stdout",
          "text": [
            "                   all         12        669      0.866      0.827      0.881      0.537      0.744      0.713      0.733      0.284\n"
          ]
        },
        {
          "output_type": "stream",
          "name": "stderr",
          "text": [
            "\n"
          ]
        },
        {
          "output_type": "stream",
          "name": "stdout",
          "text": [
            "\n",
            "      Epoch    GPU_mem   box_loss   seg_loss   cls_loss   dfl_loss  Instances       Size\n"
          ]
        },
        {
          "output_type": "stream",
          "name": "stderr",
          "text": [
            "    100/100      2.12G      1.648      2.078     0.8095     0.9032        544        256: 100%|██████████| 8/8 [00:03<00:00,  2.01it/s]\n",
            "                 Class     Images  Instances      Box(P          R      mAP50  mAP50-95)     Mask(P          R      mAP50  mAP50-95): 100%|██████████| 1/1 [00:00<00:00,  5.04it/s]"
          ]
        },
        {
          "output_type": "stream",
          "name": "stdout",
          "text": [
            "                   all         12        669       0.87      0.825      0.879      0.538      0.749      0.712       0.73      0.281\n"
          ]
        },
        {
          "output_type": "stream",
          "name": "stderr",
          "text": [
            "\n"
          ]
        },
        {
          "output_type": "stream",
          "name": "stdout",
          "text": [
            "\n",
            "100 epochs completed in 0.291 hours.\n",
            "Optimizer stripped from runs/segment/train2/weights/last.pt, 45.1MB\n",
            "Optimizer stripped from runs/segment/train2/weights/best.pt, 45.1MB\n",
            "\n",
            "Validating runs/segment/train2/weights/best.pt...\n",
            "Ultralytics 8.3.36 🚀 Python-3.10.12 torch-2.5.1+cu121 CUDA:0 (Tesla T4, 15102MiB)\n",
            "YOLO11m-seg summary (fused): 330 layers, 22,336,083 parameters, 0 gradients, 123.0 GFLOPs\n"
          ]
        },
        {
          "output_type": "stream",
          "name": "stderr",
          "text": [
            "                 Class     Images  Instances      Box(P          R      mAP50  mAP50-95)     Mask(P          R      mAP50  mAP50-95): 100%|██████████| 1/1 [00:00<00:00,  3.58it/s]\n"
          ]
        },
        {
          "output_type": "stream",
          "name": "stdout",
          "text": [
            "                   all         12        669      0.849      0.833      0.872      0.553      0.767      0.761      0.778       0.31\n",
            "Speed: 0.2ms preprocess, 4.1ms inference, 0.0ms loss, 1.2ms postprocess per image\n",
            "Results saved to \u001b[1mruns/segment/train2\u001b[0m\n"
          ]
        },
        {
          "output_type": "error",
          "ename": "AttributeError",
          "evalue": "'YOLO' object has no attribute 'best'",
          "traceback": [
            "\u001b[0;31m---------------------------------------------------------------------------\u001b[0m",
            "\u001b[0;31mAttributeError\u001b[0m                            Traceback (most recent call last)",
            "\u001b[0;32m<ipython-input-7-aa863853f0e4>\u001b[0m in \u001b[0;36m<cell line: 2>\u001b[0;34m()\u001b[0m\n\u001b[1;32m      3\u001b[0m     \u001b[0mmodel\u001b[0m \u001b[0;34m=\u001b[0m \u001b[0mYOLO\u001b[0m\u001b[0;34m(\u001b[0m\u001b[0;34m\"yolo11m-seg.pt\"\u001b[0m\u001b[0;34m)\u001b[0m\u001b[0;34m\u001b[0m\u001b[0;34m\u001b[0m\u001b[0m\n\u001b[1;32m      4\u001b[0m     \u001b[0mmodel\u001b[0m\u001b[0;34m.\u001b[0m\u001b[0mtrain\u001b[0m\u001b[0;34m(\u001b[0m\u001b[0mdata\u001b[0m\u001b[0;34m=\u001b[0m\u001b[0mdata_yaml_path\u001b[0m\u001b[0;34m,\u001b[0m \u001b[0mepochs\u001b[0m\u001b[0;34m=\u001b[0m\u001b[0;36m100\u001b[0m\u001b[0;34m,\u001b[0m \u001b[0mimgsz\u001b[0m\u001b[0;34m=\u001b[0m\u001b[0;36m256\u001b[0m\u001b[0;34m,\u001b[0m \u001b[0mbatch\u001b[0m\u001b[0;34m=\u001b[0m\u001b[0;36m16\u001b[0m\u001b[0;34m)\u001b[0m\u001b[0;34m\u001b[0m\u001b[0;34m\u001b[0m\u001b[0m\n\u001b[0;32m----> 5\u001b[0;31m     \u001b[0mprint\u001b[0m\u001b[0;34m(\u001b[0m\u001b[0;34mf\"Model training completed. Best model saved at: {model.best.weights}\"\u001b[0m\u001b[0;34m)\u001b[0m\u001b[0;34m\u001b[0m\u001b[0;34m\u001b[0m\u001b[0m\n\u001b[0m\u001b[1;32m      6\u001b[0m \u001b[0;32melse\u001b[0m\u001b[0;34m:\u001b[0m\u001b[0;34m\u001b[0m\u001b[0;34m\u001b[0m\u001b[0m\n\u001b[1;32m      7\u001b[0m     \u001b[0mprint\u001b[0m\u001b[0;34m(\u001b[0m\u001b[0;34mf\"Error: Dataset YAML file not found at {data_yaml_path}.\"\u001b[0m\u001b[0;34m)\u001b[0m\u001b[0;34m\u001b[0m\u001b[0;34m\u001b[0m\u001b[0m\n",
            "\u001b[0;32m/usr/local/lib/python3.10/dist-packages/torch/nn/modules/module.py\u001b[0m in \u001b[0;36m__getattr__\u001b[0;34m(self, name)\u001b[0m\n\u001b[1;32m   1929\u001b[0m             \u001b[0;32mif\u001b[0m \u001b[0mname\u001b[0m \u001b[0;32min\u001b[0m \u001b[0mmodules\u001b[0m\u001b[0;34m:\u001b[0m\u001b[0;34m\u001b[0m\u001b[0;34m\u001b[0m\u001b[0m\n\u001b[1;32m   1930\u001b[0m                 \u001b[0;32mreturn\u001b[0m \u001b[0mmodules\u001b[0m\u001b[0;34m[\u001b[0m\u001b[0mname\u001b[0m\u001b[0;34m]\u001b[0m\u001b[0;34m\u001b[0m\u001b[0;34m\u001b[0m\u001b[0m\n\u001b[0;32m-> 1931\u001b[0;31m         raise AttributeError(\n\u001b[0m\u001b[1;32m   1932\u001b[0m             \u001b[0;34mf\"'{type(self).__name__}' object has no attribute '{name}'\"\u001b[0m\u001b[0;34m\u001b[0m\u001b[0;34m\u001b[0m\u001b[0m\n\u001b[1;32m   1933\u001b[0m         )\n",
            "\u001b[0;31mAttributeError\u001b[0m: 'YOLO' object has no attribute 'best'"
          ]
        }
      ]
    },
    {
      "cell_type": "code",
      "source": [
        "def plot_combined_green_mask(image, results):\n",
        "    combined_green_mask = np.zeros_like(image, dtype=np.uint8)\n",
        "\n",
        "    for mask in results[0].masks.data:  # Access masks from the results\n",
        "        mask_array = mask.cpu().numpy().astype(np.uint8)\n",
        "        combined_green_mask[mask_array == 1] = [0, 255, 0]\n",
        "\n",
        "    output_image = cv2.addWeighted(image, 1, combined_green_mask, 0.5, 0)\n",
        "    plt.imshow(cv2.cvtColor(output_image, cv2.COLOR_BGR2RGB))\n",
        "    plt.axis('off')\n",
        "    plt.title(f\"Number of cells: {len(results[0].boxes)}\")\n",
        "    plt.show()\n"
      ],
      "metadata": {
        "id": "SX6x1RJN1zHX"
      },
      "execution_count": 8,
      "outputs": []
    },
    {
      "cell_type": "code",
      "source": [
        "# Load YOLOv11 model after training\n",
        "model = YOLO('/content/runs/segment/train/weights/best.pt')\n",
        "\n",
        "# Define the dataset path correctly\n",
        "dataset_path = '/content/final_tiles'  # Adjust to your actual dataset path\n",
        "image_path = f\"/content/final_tiles/tile_10240_11008.png\"  # Update to an actual image file\n",
        "\n",
        "# Check if the image file exists\n",
        "if os.path.exists(image_path):\n",
        "    # Load and preprocess the sample image\n",
        "    image = cv2.imread(image_path)\n",
        "\n",
        "    if image is not None:\n",
        "        resized_image = cv2.resize(image, (256, 256))\n",
        "\n",
        "        # Perform YOLOv11 inference and measure time\n",
        "        start_time = time.time()\n",
        "        results = model(resized_image, imgsz=(256, 256))\n",
        "        inference_time_yolo = time.time() - start_time\n",
        "\n",
        "        # Create a mask image with the same size as the original image\n",
        "        mask_image = np.zeros_like(resized_image)\n",
        "\n",
        "        # Iterate through detected masks and color them green\n",
        "        for mask in results[0].masks.data:  # Access mask data\n",
        "            mask_cpu = mask.cpu().numpy().astype(np.uint8)  # Ensure mask is on CPU and in the right format\n",
        "            mask_image[mask_cpu == 1] = [0, 255, 0]  # Set mask region to green\n",
        "\n",
        "        # Combine the mask with the original image using bitwise OR\n",
        "        output_image = cv2.addWeighted(resized_image, 0.5, mask_image, 0.5, 0)\n",
        "\n",
        "        # Display only the masked image\n",
        "        plt.imshow(cv2.cvtColor(output_image, cv2.COLOR_BGR2RGB))  # Convert BGR to RGB for display\n",
        "        plt.title(f\"YOLOv11 Inference Time: {inference_time_yolo:.3f}s, Cells Count: {len(results[0].boxes)}\")\n",
        "        plt.axis('off')\n",
        "        plt.show()\n",
        "\n",
        "    else:\n",
        "        print(f\"Error: Could not read image at {image_path}\")\n",
        "else:\n",
        "    print(f\"Error: Image file does not exist at {image_path}\")\n"
      ],
      "metadata": {
        "colab": {
          "base_uri": "https://localhost:8080/",
          "height": 480
        },
        "id": "c8ZuRA6MznyZ",
        "outputId": "33944081-e212-447d-af97-a2f5b319f917"
      },
      "execution_count": 9,
      "outputs": [
        {
          "output_type": "stream",
          "name": "stdout",
          "text": [
            "\n",
            "0: 256x256 300 Cell-M3yVs, 18.8ms\n",
            "Speed: 0.8ms preprocess, 18.8ms inference, 20.3ms postprocess per image at shape (1, 3, 256, 256)\n"
          ]
        },
        {
          "output_type": "display_data",
          "data": {
            "text/plain": [
              "<Figure size 640x480 with 1 Axes>"
            ],
            "image/png": "[encoded data removed]"
          },
          "metadata": {}
        }
      ]
    },
    {
      "cell_type": "code",
      "source": [
        "# Ensure dataset_path exists and contains image files\n",
        "dataset_path = '/content/final_tiles'\n",
        "image_files = [os.path.join(dataset_path, f) for f in os.listdir(dataset_path) if f.endswith(('.png', '.jpg'))]\n",
        "\n",
        "if not image_files:\n",
        "    raise ValueError(\"No image files found in the specified path.\")\n",
        "\n",
        "# Metrics initialization\n",
        "total_inference_time = 0\n",
        "total_cell_count = 0\n",
        "\n",
        "# Perform inference\n",
        "for image_path in image_files:\n",
        "    image = cv2.imread(image_path)\n",
        "    if image is None:\n",
        "        print(f\"Skipping invalid image: {image_path}\")\n",
        "        continue\n",
        "\n",
        "    resized_image = cv2.resize(image, (256, 256))\n",
        "    start_time = time.time()\n",
        "    results = model(resized_image, imgsz=(256, 256))\n",
        "    inference_time = time.time() - start_time\n",
        "\n",
        "    total_inference_time += inference_time\n",
        "    total_cell_count += len(results[0].boxes)\n",
        "\n",
        "\n",
        "\n",
        "# Final metrics\n",
        "num_images = len(image_files)\n",
        "average_inference_time = total_inference_time / num_images if num_images else 0\n",
        "\n",
        "print(f\"Total Images Processed: {num_images}\")\n",
        "print(f\"Total Cells Counted: {total_cell_count}\")\n",
        "print(f\"Total Inference Time: {total_inference_time:.3f} seconds\")\n",
        "print(f\"Average Inference Time per Image: {average_inference_time:.3f} seconds\")\n"
      ],
      "metadata": {
        "colab": {
          "base_uri": "https://localhost:8080/"
        },
        "id": "dU3aObyZ2AG1",
        "outputId": "7880b4e5-1f32-4f25-b82f-c889d33c0b76"
      },
      "execution_count": 11,
      "outputs": [
        {
          "output_type": "stream",
          "name": "stdout",
          "text": [
            "\u001b[1;30;43mStreaming output truncated to the last 5000 lines.\u001b[0m\n",
            "Speed: 0.6ms preprocess, 23.7ms inference, 14.8ms postprocess per image at shape (1, 3, 256, 256)\n",
            "\n",
            "0: 256x256 130 Cell-M3yVs, 19.6ms\n",
            "Speed: 0.7ms preprocess, 19.6ms inference, 8.3ms postprocess per image at shape (1, 3, 256, 256)\n",
            "\n",
            "0: 256x256 (no detections), 19.9ms\n",
            "Speed: 0.9ms preprocess, 19.9ms inference, 0.6ms postprocess per image at shape (1, 3, 256, 256)\n",
            "\n",
            "0: 256x256 46 Cell-M3yVs, 20.2ms\n",
            "Speed: 0.6ms preprocess, 20.2ms inference, 5.1ms postprocess per image at shape (1, 3, 256, 256)\n",
            "\n",
            "0: 256x256 268 Cell-M3yVs, 19.9ms\n",
            "Speed: 0.6ms preprocess, 19.9ms inference, 13.6ms postprocess per image at shape (1, 3, 256, 256)\n",
            "\n",
            "0: 256x256 25 Cell-M3yVs, 20.0ms\n",
            "Speed: 0.6ms preprocess, 20.0ms inference, 4.5ms postprocess per image at shape (1, 3, 256, 256)\n",
            "\n",
            "0: 256x256 37 Cell-M3yVs, 19.8ms\n",
            "Speed: 0.7ms preprocess, 19.8ms inference, 4.7ms postprocess per image at shape (1, 3, 256, 256)\n",
            "\n",
            "0: 256x256 300 Cell-M3yVs, 25.5ms\n",
            "Speed: 0.6ms preprocess, 25.5ms inference, 14.8ms postprocess per image at shape (1, 3, 256, 256)\n",
            "\n",
            "0: 256x256 300 Cell-M3yVs, 20.6ms\n",
            "Speed: 0.7ms preprocess, 20.6ms inference, 14.7ms postprocess per image at shape (1, 3, 256, 256)\n",
            "\n",
            "0: 256x256 300 Cell-M3yVs, 30.2ms\n",
            "Speed: 0.7ms preprocess, 30.2ms inference, 18.3ms postprocess per image at shape (1, 3, 256, 256)\n",
            "\n",
            "0: 256x256 249 Cell-M3yVs, 22.2ms\n",
            "Speed: 0.7ms preprocess, 22.2ms inference, 16.4ms postprocess per image at shape (1, 3, 256, 256)\n",
            "\n",
            "0: 256x256 251 Cell-M3yVs, 25.8ms\n",
            "Speed: 0.7ms preprocess, 25.8ms inference, 13.1ms postprocess per image at shape (1, 3, 256, 256)\n",
            "\n",
            "0: 256x256 300 Cell-M3yVs, 21.2ms\n",
            "Speed: 0.6ms preprocess, 21.2ms inference, 14.8ms postprocess per image at shape (1, 3, 256, 256)\n",
            "\n",
            "0: 256x256 147 Cell-M3yVs, 35.2ms\n",
            "Speed: 0.7ms preprocess, 35.2ms inference, 8.7ms postprocess per image at shape (1, 3, 256, 256)\n",
            "\n",
            "0: 256x256 300 Cell-M3yVs, 33.0ms\n",
            "Speed: 0.7ms preprocess, 33.0ms inference, 16.2ms postprocess per image at shape (1, 3, 256, 256)\n",
            "\n",
            "0: 256x256 300 Cell-M3yVs, 34.7ms\n",
            "Speed: 0.9ms preprocess, 34.7ms inference, 17.1ms postprocess per image at shape (1, 3, 256, 256)\n",
            "\n",
            "0: 256x256 300 Cell-M3yVs, 29.0ms\n",
            "Speed: 0.6ms preprocess, 29.0ms inference, 15.6ms postprocess per image at shape (1, 3, 256, 256)\n",
            "\n",
            "0: 256x256 300 Cell-M3yVs, 28.5ms\n",
            "Speed: 1.6ms preprocess, 28.5ms inference, 16.0ms postprocess per image at shape (1, 3, 256, 256)\n",
            "\n",
            "0: 256x256 300 Cell-M3yVs, 21.9ms\n",
            "Speed: 0.7ms preprocess, 21.9ms inference, 14.8ms postprocess per image at shape (1, 3, 256, 256)\n",
            "\n",
            "0: 256x256 60 Cell-M3yVs, 23.1ms\n",
            "Speed: 0.6ms preprocess, 23.1ms inference, 5.7ms postprocess per image at shape (1, 3, 256, 256)\n",
            "\n",
            "0: 256x256 290 Cell-M3yVs, 22.7ms\n",
            "Speed: 0.8ms preprocess, 22.7ms inference, 14.6ms postprocess per image at shape (1, 3, 256, 256)\n",
            "\n",
            "0: 256x256 59 Cell-M3yVs, 21.8ms\n",
            "Speed: 0.7ms preprocess, 21.8ms inference, 5.4ms postprocess per image at shape (1, 3, 256, 256)\n",
            "\n",
            "0: 256x256 300 Cell-M3yVs, 23.3ms\n",
            "Speed: 0.6ms preprocess, 23.3ms inference, 14.7ms postprocess per image at shape (1, 3, 256, 256)\n",
            "\n",
            "0: 256x256 184 Cell-M3yVs, 28.4ms\n",
            "Speed: 0.6ms preprocess, 28.4ms inference, 16.8ms postprocess per image at shape (1, 3, 256, 256)\n",
            "\n",
            "0: 256x256 300 Cell-M3yVs, 27.5ms\n",
            "Speed: 0.6ms preprocess, 27.5ms inference, 15.2ms postprocess per image at shape (1, 3, 256, 256)\n",
            "\n",
            "0: 256x256 300 Cell-M3yVs, 20.5ms\n",
            "Speed: 0.6ms preprocess, 20.5ms inference, 15.0ms postprocess per image at shape (1, 3, 256, 256)\n",
            "\n",
            "0: 256x256 300 Cell-M3yVs, 19.8ms\n",
            "Speed: 0.6ms preprocess, 19.8ms inference, 14.9ms postprocess per image at shape (1, 3, 256, 256)\n",
            "\n",
            "0: 256x256 300 Cell-M3yVs, 21.2ms\n",
            "Speed: 0.6ms preprocess, 21.2ms inference, 14.8ms postprocess per image at shape (1, 3, 256, 256)\n",
            "\n",
            "0: 256x256 226 Cell-M3yVs, 18.8ms\n",
            "Speed: 0.7ms preprocess, 18.8ms inference, 12.2ms postprocess per image at shape (1, 3, 256, 256)\n",
            "\n",
            "0: 256x256 90 Cell-M3yVs, 19.5ms\n",
            "Speed: 0.6ms preprocess, 19.5ms inference, 6.6ms postprocess per image at shape (1, 3, 256, 256)\n",
            "\n",
            "0: 256x256 72 Cell-M3yVs, 19.3ms\n",
            "Speed: 0.6ms preprocess, 19.3ms inference, 6.0ms postprocess per image at shape (1, 3, 256, 256)\n",
            "\n",
            "0: 256x256 300 Cell-M3yVs, 19.9ms\n",
            "Speed: 0.6ms preprocess, 19.9ms inference, 14.4ms postprocess per image at shape (1, 3, 256, 256)\n",
            "\n",
            "0: 256x256 273 Cell-M3yVs, 25.6ms\n",
            "Speed: 0.7ms preprocess, 25.6ms inference, 14.3ms postprocess per image at shape (1, 3, 256, 256)\n",
            "\n",
            "0: 256x256 300 Cell-M3yVs, 29.2ms\n",
            "Speed: 0.7ms preprocess, 29.2ms inference, 14.5ms postprocess per image at shape (1, 3, 256, 256)\n",
            "\n",
            "0: 256x256 300 Cell-M3yVs, 27.3ms\n",
            "Speed: 0.8ms preprocess, 27.3ms inference, 15.9ms postprocess per image at shape (1, 3, 256, 256)\n",
            "\n",
            "0: 256x256 287 Cell-M3yVs, 29.9ms\n",
            "Speed: 0.8ms preprocess, 29.9ms inference, 17.2ms postprocess per image at shape (1, 3, 256, 256)\n",
            "\n",
            "0: 256x256 300 Cell-M3yVs, 31.3ms\n",
            "Speed: 0.8ms preprocess, 31.3ms inference, 15.2ms postprocess per image at shape (1, 3, 256, 256)\n",
            "\n",
            "0: 256x256 300 Cell-M3yVs, 26.3ms\n",
            "Speed: 0.7ms preprocess, 26.3ms inference, 15.2ms postprocess per image at shape (1, 3, 256, 256)\n",
            "\n",
            "0: 256x256 300 Cell-M3yVs, 30.4ms\n",
            "Speed: 0.7ms preprocess, 30.4ms inference, 17.4ms postprocess per image at shape (1, 3, 256, 256)\n",
            "\n",
            "0: 256x256 300 Cell-M3yVs, 23.1ms\n",
            "Speed: 0.7ms preprocess, 23.1ms inference, 14.9ms postprocess per image at shape (1, 3, 256, 256)\n",
            "\n",
            "0: 256x256 71 Cell-M3yVs, 20.6ms\n",
            "Speed: 0.6ms preprocess, 20.6ms inference, 5.8ms postprocess per image at shape (1, 3, 256, 256)\n",
            "\n",
            "0: 256x256 300 Cell-M3yVs, 23.2ms\n",
            "Speed: 0.6ms preprocess, 23.2ms inference, 14.7ms postprocess per image at shape (1, 3, 256, 256)\n",
            "\n",
            "0: 256x256 129 Cell-M3yVs, 22.9ms\n",
            "Speed: 0.6ms preprocess, 22.9ms inference, 8.5ms postprocess per image at shape (1, 3, 256, 256)\n",
            "\n",
            "0: 256x256 300 Cell-M3yVs, 23.9ms\n",
            "Speed: 1.4ms preprocess, 23.9ms inference, 15.0ms postprocess per image at shape (1, 3, 256, 256)\n",
            "\n",
            "0: 256x256 300 Cell-M3yVs, 23.8ms\n",
            "Speed: 0.6ms preprocess, 23.8ms inference, 19.7ms postprocess per image at shape (1, 3, 256, 256)\n",
            "\n",
            "0: 256x256 33 Cell-M3yVs, 31.1ms\n",
            "Speed: 0.6ms preprocess, 31.1ms inference, 5.3ms postprocess per image at shape (1, 3, 256, 256)\n",
            "\n",
            "0: 256x256 300 Cell-M3yVs, 21.6ms\n",
            "Speed: 0.6ms preprocess, 21.6ms inference, 14.9ms postprocess per image at shape (1, 3, 256, 256)\n",
            "\n",
            "0: 256x256 300 Cell-M3yVs, 21.7ms\n",
            "Speed: 0.6ms preprocess, 21.7ms inference, 17.4ms postprocess per image at shape (1, 3, 256, 256)\n",
            "\n",
            "0: 256x256 131 Cell-M3yVs, 24.7ms\n",
            "Speed: 0.6ms preprocess, 24.7ms inference, 8.5ms postprocess per image at shape (1, 3, 256, 256)\n",
            "\n",
            "0: 256x256 189 Cell-M3yVs, 23.3ms\n",
            "Speed: 0.6ms preprocess, 23.3ms inference, 11.1ms postprocess per image at shape (1, 3, 256, 256)\n",
            "\n",
            "0: 256x256 49 Cell-M3yVs, 23.6ms\n",
            "Speed: 0.6ms preprocess, 23.6ms inference, 6.2ms postprocess per image at shape (1, 3, 256, 256)\n",
            "\n",
            "0: 256x256 300 Cell-M3yVs, 44.0ms\n",
            "Speed: 0.6ms preprocess, 44.0ms inference, 16.7ms postprocess per image at shape (1, 3, 256, 256)\n",
            "\n",
            "0: 256x256 300 Cell-M3yVs, 29.8ms\n",
            "Speed: 0.8ms preprocess, 29.8ms inference, 15.4ms postprocess per image at shape (1, 3, 256, 256)\n",
            "\n",
            "0: 256x256 300 Cell-M3yVs, 26.0ms\n",
            "Speed: 0.9ms preprocess, 26.0ms inference, 14.8ms postprocess per image at shape (1, 3, 256, 256)\n",
            "\n",
            "0: 256x256 300 Cell-M3yVs, 42.8ms\n",
            "Speed: 1.3ms preprocess, 42.8ms inference, 22.6ms postprocess per image at shape (1, 3, 256, 256)\n",
            "\n",
            "0: 256x256 129 Cell-M3yVs, 36.8ms\n",
            "Speed: 0.8ms preprocess, 36.8ms inference, 11.9ms postprocess per image at shape (1, 3, 256, 256)\n",
            "\n",
            "0: 256x256 43 Cell-M3yVs, 23.1ms\n",
            "Speed: 0.7ms preprocess, 23.1ms inference, 5.4ms postprocess per image at shape (1, 3, 256, 256)\n",
            "\n",
            "0: 256x256 300 Cell-M3yVs, 24.7ms\n",
            "Speed: 0.7ms preprocess, 24.7ms inference, 14.8ms postprocess per image at shape (1, 3, 256, 256)\n",
            "\n",
            "0: 256x256 300 Cell-M3yVs, 21.5ms\n",
            "Speed: 0.8ms preprocess, 21.5ms inference, 15.8ms postprocess per image at shape (1, 3, 256, 256)\n",
            "\n",
            "0: 256x256 300 Cell-M3yVs, 27.0ms\n",
            "Speed: 0.6ms preprocess, 27.0ms inference, 15.5ms postprocess per image at shape (1, 3, 256, 256)\n",
            "\n",
            "0: 256x256 257 Cell-M3yVs, 24.0ms\n",
            "Speed: 0.8ms preprocess, 24.0ms inference, 13.1ms postprocess per image at shape (1, 3, 256, 256)\n",
            "\n",
            "0: 256x256 300 Cell-M3yVs, 27.9ms\n",
            "Speed: 0.8ms preprocess, 27.9ms inference, 16.1ms postprocess per image at shape (1, 3, 256, 256)\n",
            "\n",
            "0: 256x256 300 Cell-M3yVs, 28.6ms\n",
            "Speed: 0.6ms preprocess, 28.6ms inference, 16.0ms postprocess per image at shape (1, 3, 256, 256)\n",
            "\n",
            "0: 256x256 300 Cell-M3yVs, 27.3ms\n",
            "Speed: 0.6ms preprocess, 27.3ms inference, 16.9ms postprocess per image at shape (1, 3, 256, 256)\n",
            "\n",
            "0: 256x256 300 Cell-M3yVs, 27.5ms\n",
            "Speed: 0.8ms preprocess, 27.5ms inference, 15.7ms postprocess per image at shape (1, 3, 256, 256)\n",
            "\n",
            "0: 256x256 300 Cell-M3yVs, 37.0ms\n",
            "Speed: 0.8ms preprocess, 37.0ms inference, 15.9ms postprocess per image at shape (1, 3, 256, 256)\n",
            "\n",
            "0: 256x256 300 Cell-M3yVs, 28.1ms\n",
            "Speed: 0.7ms preprocess, 28.1ms inference, 16.0ms postprocess per image at shape (1, 3, 256, 256)\n",
            "\n",
            "0: 256x256 300 Cell-M3yVs, 26.7ms\n",
            "Speed: 1.9ms preprocess, 26.7ms inference, 15.7ms postprocess per image at shape (1, 3, 256, 256)\n",
            "\n",
            "0: 256x256 260 Cell-M3yVs, 46.5ms\n",
            "Speed: 0.7ms preprocess, 46.5ms inference, 15.8ms postprocess per image at shape (1, 3, 256, 256)\n",
            "\n",
            "0: 256x256 175 Cell-M3yVs, 27.6ms\n",
            "Speed: 1.2ms preprocess, 27.6ms inference, 10.7ms postprocess per image at shape (1, 3, 256, 256)\n",
            "\n",
            "0: 256x256 300 Cell-M3yVs, 18.5ms\n",
            "Speed: 0.7ms preprocess, 18.5ms inference, 14.4ms postprocess per image at shape (1, 3, 256, 256)\n",
            "\n",
            "0: 256x256 300 Cell-M3yVs, 17.1ms\n",
            "Speed: 0.8ms preprocess, 17.1ms inference, 14.2ms postprocess per image at shape (1, 3, 256, 256)\n",
            "\n",
            "0: 256x256 300 Cell-M3yVs, 20.0ms\n",
            "Speed: 0.6ms preprocess, 20.0ms inference, 14.3ms postprocess per image at shape (1, 3, 256, 256)\n",
            "\n",
            "0: 256x256 170 Cell-M3yVs, 15.5ms\n",
            "Speed: 0.7ms preprocess, 15.5ms inference, 8.9ms postprocess per image at shape (1, 3, 256, 256)\n",
            "\n",
            "0: 256x256 300 Cell-M3yVs, 15.5ms\n",
            "Speed: 0.6ms preprocess, 15.5ms inference, 14.2ms postprocess per image at shape (1, 3, 256, 256)\n",
            "\n",
            "0: 256x256 2 Cell-M3yVs, 17.9ms\n",
            "Speed: 0.7ms preprocess, 17.9ms inference, 4.2ms postprocess per image at shape (1, 3, 256, 256)\n",
            "\n",
            "0: 256x256 300 Cell-M3yVs, 14.1ms\n",
            "Speed: 0.7ms preprocess, 14.1ms inference, 14.2ms postprocess per image at shape (1, 3, 256, 256)\n",
            "\n",
            "0: 256x256 300 Cell-M3yVs, 16.3ms\n",
            "Speed: 0.7ms preprocess, 16.3ms inference, 14.0ms postprocess per image at shape (1, 3, 256, 256)\n",
            "\n",
            "0: 256x256 300 Cell-M3yVs, 14.3ms\n",
            "Speed: 0.7ms preprocess, 14.3ms inference, 13.8ms postprocess per image at shape (1, 3, 256, 256)\n",
            "\n",
            "0: 256x256 300 Cell-M3yVs, 16.0ms\n",
            "Speed: 0.7ms preprocess, 16.0ms inference, 13.8ms postprocess per image at shape (1, 3, 256, 256)\n",
            "\n",
            "0: 256x256 300 Cell-M3yVs, 15.5ms\n",
            "Speed: 0.7ms preprocess, 15.5ms inference, 13.6ms postprocess per image at shape (1, 3, 256, 256)\n",
            "\n",
            "0: 256x256 300 Cell-M3yVs, 15.7ms\n",
            "Speed: 0.7ms preprocess, 15.7ms inference, 14.6ms postprocess per image at shape (1, 3, 256, 256)\n",
            "\n",
            "0: 256x256 300 Cell-M3yVs, 16.6ms\n",
            "Speed: 0.6ms preprocess, 16.6ms inference, 13.8ms postprocess per image at shape (1, 3, 256, 256)\n",
            "\n",
            "0: 256x256 134 Cell-M3yVs, 18.8ms\n",
            "Speed: 1.0ms preprocess, 18.8ms inference, 7.6ms postprocess per image at shape (1, 3, 256, 256)\n",
            "\n",
            "0: 256x256 9 Cell-M3yVs, 14.3ms\n",
            "Speed: 1.2ms preprocess, 14.3ms inference, 2.7ms postprocess per image at shape (1, 3, 256, 256)\n",
            "\n",
            "0: 256x256 300 Cell-M3yVs, 14.8ms\n",
            "Speed: 0.7ms preprocess, 14.8ms inference, 13.5ms postprocess per image at shape (1, 3, 256, 256)\n",
            "\n",
            "0: 256x256 300 Cell-M3yVs, 15.9ms\n",
            "Speed: 0.6ms preprocess, 15.9ms inference, 13.5ms postprocess per image at shape (1, 3, 256, 256)\n",
            "\n",
            "0: 256x256 300 Cell-M3yVs, 15.3ms\n",
            "Speed: 0.7ms preprocess, 15.3ms inference, 13.6ms postprocess per image at shape (1, 3, 256, 256)\n",
            "\n",
            "0: 256x256 300 Cell-M3yVs, 14.7ms\n",
            "Speed: 0.7ms preprocess, 14.7ms inference, 13.7ms postprocess per image at shape (1, 3, 256, 256)\n",
            "\n",
            "0: 256x256 300 Cell-M3yVs, 24.2ms\n",
            "Speed: 0.7ms preprocess, 24.2ms inference, 14.3ms postprocess per image at shape (1, 3, 256, 256)\n",
            "\n",
            "0: 256x256 23 Cell-M3yVs, 24.0ms\n",
            "Speed: 0.6ms preprocess, 24.0ms inference, 4.1ms postprocess per image at shape (1, 3, 256, 256)\n",
            "\n",
            "0: 256x256 57 Cell-M3yVs, 24.4ms\n",
            "Speed: 0.7ms preprocess, 24.4ms inference, 5.5ms postprocess per image at shape (1, 3, 256, 256)\n",
            "\n",
            "0: 256x256 300 Cell-M3yVs, 24.3ms\n",
            "Speed: 0.8ms preprocess, 24.3ms inference, 14.1ms postprocess per image at shape (1, 3, 256, 256)\n",
            "\n",
            "0: 256x256 300 Cell-M3yVs, 22.8ms\n",
            "Speed: 0.7ms preprocess, 22.8ms inference, 14.4ms postprocess per image at shape (1, 3, 256, 256)\n",
            "\n",
            "0: 256x256 300 Cell-M3yVs, 22.9ms\n",
            "Speed: 0.8ms preprocess, 22.9ms inference, 14.4ms postprocess per image at shape (1, 3, 256, 256)\n",
            "\n",
            "0: 256x256 300 Cell-M3yVs, 23.3ms\n",
            "Speed: 0.6ms preprocess, 23.3ms inference, 15.2ms postprocess per image at shape (1, 3, 256, 256)\n",
            "\n",
            "0: 256x256 94 Cell-M3yVs, 16.0ms\n",
            "Speed: 1.0ms preprocess, 16.0ms inference, 5.7ms postprocess per image at shape (1, 3, 256, 256)\n",
            "\n",
            "0: 256x256 300 Cell-M3yVs, 15.2ms\n",
            "Speed: 0.7ms preprocess, 15.2ms inference, 14.7ms postprocess per image at shape (1, 3, 256, 256)\n",
            "\n",
            "0: 256x256 300 Cell-M3yVs, 18.7ms\n",
            "Speed: 0.6ms preprocess, 18.7ms inference, 13.3ms postprocess per image at shape (1, 3, 256, 256)\n",
            "\n",
            "0: 256x256 300 Cell-M3yVs, 15.3ms\n",
            "Speed: 0.6ms preprocess, 15.3ms inference, 13.4ms postprocess per image at shape (1, 3, 256, 256)\n",
            "\n",
            "0: 256x256 300 Cell-M3yVs, 15.6ms\n",
            "Speed: 0.7ms preprocess, 15.6ms inference, 13.4ms postprocess per image at shape (1, 3, 256, 256)\n",
            "\n",
            "0: 256x256 300 Cell-M3yVs, 14.5ms\n",
            "Speed: 0.6ms preprocess, 14.5ms inference, 13.3ms postprocess per image at shape (1, 3, 256, 256)\n",
            "\n",
            "0: 256x256 300 Cell-M3yVs, 18.1ms\n",
            "Speed: 0.7ms preprocess, 18.1ms inference, 13.5ms postprocess per image at shape (1, 3, 256, 256)\n",
            "\n",
            "0: 256x256 70 Cell-M3yVs, 13.8ms\n",
            "Speed: 0.9ms preprocess, 13.8ms inference, 4.9ms postprocess per image at shape (1, 3, 256, 256)\n",
            "\n",
            "0: 256x256 300 Cell-M3yVs, 14.5ms\n",
            "Speed: 0.6ms preprocess, 14.5ms inference, 13.2ms postprocess per image at shape (1, 3, 256, 256)\n",
            "\n",
            "0: 256x256 2 Cell-M3yVs, 16.6ms\n",
            "Speed: 0.6ms preprocess, 16.6ms inference, 3.1ms postprocess per image at shape (1, 3, 256, 256)\n",
            "\n",
            "0: 256x256 300 Cell-M3yVs, 14.9ms\n",
            "Speed: 0.6ms preprocess, 14.9ms inference, 13.4ms postprocess per image at shape (1, 3, 256, 256)\n",
            "\n",
            "0: 256x256 2 Cell-M3yVs, 17.9ms\n",
            "Speed: 0.6ms preprocess, 17.9ms inference, 2.8ms postprocess per image at shape (1, 3, 256, 256)\n",
            "\n",
            "0: 256x256 174 Cell-M3yVs, 16.6ms\n",
            "Speed: 0.6ms preprocess, 16.6ms inference, 8.8ms postprocess per image at shape (1, 3, 256, 256)\n",
            "\n",
            "0: 256x256 300 Cell-M3yVs, 17.2ms\n",
            "Speed: 0.9ms preprocess, 17.2ms inference, 13.3ms postprocess per image at shape (1, 3, 256, 256)\n",
            "\n",
            "0: 256x256 1 Cell-M3yV, 16.0ms\n",
            "Speed: 0.7ms preprocess, 16.0ms inference, 2.7ms postprocess per image at shape (1, 3, 256, 256)\n",
            "\n",
            "0: 256x256 300 Cell-M3yVs, 15.0ms\n",
            "Speed: 0.5ms preprocess, 15.0ms inference, 13.2ms postprocess per image at shape (1, 3, 256, 256)\n",
            "\n",
            "0: 256x256 25 Cell-M3yVs, 21.2ms\n",
            "Speed: 0.6ms preprocess, 21.2ms inference, 3.9ms postprocess per image at shape (1, 3, 256, 256)\n",
            "\n",
            "0: 256x256 300 Cell-M3yVs, 29.0ms\n",
            "Speed: 1.3ms preprocess, 29.0ms inference, 14.5ms postprocess per image at shape (1, 3, 256, 256)\n",
            "\n",
            "0: 256x256 300 Cell-M3yVs, 22.0ms\n",
            "Speed: 0.7ms preprocess, 22.0ms inference, 14.4ms postprocess per image at shape (1, 3, 256, 256)\n",
            "\n",
            "0: 256x256 300 Cell-M3yVs, 27.5ms\n",
            "Speed: 0.7ms preprocess, 27.5ms inference, 14.4ms postprocess per image at shape (1, 3, 256, 256)\n",
            "\n",
            "0: 256x256 300 Cell-M3yVs, 26.0ms\n",
            "Speed: 0.7ms preprocess, 26.0ms inference, 14.6ms postprocess per image at shape (1, 3, 256, 256)\n",
            "\n",
            "0: 256x256 253 Cell-M3yVs, 21.8ms\n",
            "Speed: 0.7ms preprocess, 21.8ms inference, 12.4ms postprocess per image at shape (1, 3, 256, 256)\n",
            "\n",
            "0: 256x256 300 Cell-M3yVs, 16.3ms\n",
            "Speed: 0.9ms preprocess, 16.3ms inference, 13.3ms postprocess per image at shape (1, 3, 256, 256)\n",
            "\n",
            "0: 256x256 300 Cell-M3yVs, 26.9ms\n",
            "Speed: 0.7ms preprocess, 26.9ms inference, 16.2ms postprocess per image at shape (1, 3, 256, 256)\n",
            "\n",
            "0: 256x256 128 Cell-M3yVs, 19.1ms\n",
            "Speed: 0.9ms preprocess, 19.1ms inference, 7.3ms postprocess per image at shape (1, 3, 256, 256)\n",
            "\n",
            "0: 256x256 300 Cell-M3yVs, 15.2ms\n",
            "Speed: 1.5ms preprocess, 15.2ms inference, 13.4ms postprocess per image at shape (1, 3, 256, 256)\n",
            "\n",
            "0: 256x256 300 Cell-M3yVs, 15.1ms\n",
            "Speed: 0.6ms preprocess, 15.1ms inference, 13.3ms postprocess per image at shape (1, 3, 256, 256)\n",
            "\n",
            "0: 256x256 300 Cell-M3yVs, 15.9ms\n",
            "Speed: 0.9ms preprocess, 15.9ms inference, 13.7ms postprocess per image at shape (1, 3, 256, 256)\n",
            "\n",
            "0: 256x256 1 Cell-M3yV, 17.9ms\n",
            "Speed: 0.7ms preprocess, 17.9ms inference, 2.9ms postprocess per image at shape (1, 3, 256, 256)\n",
            "\n",
            "0: 256x256 300 Cell-M3yVs, 14.3ms\n",
            "Speed: 1.0ms preprocess, 14.3ms inference, 13.4ms postprocess per image at shape (1, 3, 256, 256)\n",
            "\n",
            "0: 256x256 300 Cell-M3yVs, 16.4ms\n",
            "Speed: 0.6ms preprocess, 16.4ms inference, 13.3ms postprocess per image at shape (1, 3, 256, 256)\n",
            "\n",
            "0: 256x256 300 Cell-M3yVs, 15.9ms\n",
            "Speed: 0.8ms preprocess, 15.9ms inference, 13.2ms postprocess per image at shape (1, 3, 256, 256)\n",
            "\n",
            "0: 256x256 33 Cell-M3yVs, 17.5ms\n",
            "Speed: 0.6ms preprocess, 17.5ms inference, 4.1ms postprocess per image at shape (1, 3, 256, 256)\n",
            "\n",
            "0: 256x256 300 Cell-M3yVs, 15.4ms\n",
            "Speed: 0.6ms preprocess, 15.4ms inference, 13.3ms postprocess per image at shape (1, 3, 256, 256)\n",
            "\n",
            "0: 256x256 300 Cell-M3yVs, 14.9ms\n",
            "Speed: 0.9ms preprocess, 14.9ms inference, 13.3ms postprocess per image at shape (1, 3, 256, 256)\n",
            "\n",
            "0: 256x256 300 Cell-M3yVs, 13.7ms\n",
            "Speed: 1.5ms preprocess, 13.7ms inference, 13.1ms postprocess per image at shape (1, 3, 256, 256)\n",
            "\n",
            "0: 256x256 300 Cell-M3yVs, 14.2ms\n",
            "Speed: 0.9ms preprocess, 14.2ms inference, 13.3ms postprocess per image at shape (1, 3, 256, 256)\n",
            "\n",
            "0: 256x256 300 Cell-M3yVs, 15.3ms\n",
            "Speed: 0.6ms preprocess, 15.3ms inference, 13.3ms postprocess per image at shape (1, 3, 256, 256)\n",
            "\n",
            "0: 256x256 43 Cell-M3yVs, 19.8ms\n",
            "Speed: 0.6ms preprocess, 19.8ms inference, 4.9ms postprocess per image at shape (1, 3, 256, 256)\n",
            "\n",
            "0: 256x256 300 Cell-M3yVs, 21.7ms\n",
            "Speed: 1.4ms preprocess, 21.7ms inference, 14.4ms postprocess per image at shape (1, 3, 256, 256)\n",
            "\n",
            "0: 256x256 300 Cell-M3yVs, 25.3ms\n",
            "Speed: 0.7ms preprocess, 25.3ms inference, 14.8ms postprocess per image at shape (1, 3, 256, 256)\n",
            "\n",
            "0: 256x256 300 Cell-M3yVs, 26.3ms\n",
            "Speed: 0.6ms preprocess, 26.3ms inference, 14.7ms postprocess per image at shape (1, 3, 256, 256)\n",
            "\n",
            "0: 256x256 300 Cell-M3yVs, 24.7ms\n",
            "Speed: 1.6ms preprocess, 24.7ms inference, 14.4ms postprocess per image at shape (1, 3, 256, 256)\n",
            "\n",
            "0: 256x256 300 Cell-M3yVs, 25.3ms\n",
            "Speed: 0.8ms preprocess, 25.3ms inference, 13.7ms postprocess per image at shape (1, 3, 256, 256)\n",
            "\n",
            "0: 256x256 300 Cell-M3yVs, 17.8ms\n",
            "Speed: 0.7ms preprocess, 17.8ms inference, 13.4ms postprocess per image at shape (1, 3, 256, 256)\n",
            "\n",
            "0: 256x256 300 Cell-M3yVs, 19.3ms\n",
            "Speed: 0.6ms preprocess, 19.3ms inference, 13.2ms postprocess per image at shape (1, 3, 256, 256)\n",
            "\n",
            "0: 256x256 300 Cell-M3yVs, 20.3ms\n",
            "Speed: 0.7ms preprocess, 20.3ms inference, 14.4ms postprocess per image at shape (1, 3, 256, 256)\n",
            "\n",
            "0: 256x256 300 Cell-M3yVs, 19.1ms\n",
            "Speed: 0.7ms preprocess, 19.1ms inference, 13.3ms postprocess per image at shape (1, 3, 256, 256)\n",
            "\n",
            "0: 256x256 300 Cell-M3yVs, 17.9ms\n",
            "Speed: 0.6ms preprocess, 17.9ms inference, 13.4ms postprocess per image at shape (1, 3, 256, 256)\n",
            "\n",
            "0: 256x256 300 Cell-M3yVs, 16.3ms\n",
            "Speed: 0.9ms preprocess, 16.3ms inference, 13.3ms postprocess per image at shape (1, 3, 256, 256)\n",
            "\n",
            "0: 256x256 300 Cell-M3yVs, 16.5ms\n",
            "Speed: 0.9ms preprocess, 16.5ms inference, 13.3ms postprocess per image at shape (1, 3, 256, 256)\n",
            "\n",
            "0: 256x256 300 Cell-M3yVs, 15.8ms\n",
            "Speed: 0.7ms preprocess, 15.8ms inference, 13.3ms postprocess per image at shape (1, 3, 256, 256)\n",
            "\n",
            "0: 256x256 300 Cell-M3yVs, 17.0ms\n",
            "Speed: 0.7ms preprocess, 17.0ms inference, 13.5ms postprocess per image at shape (1, 3, 256, 256)\n",
            "\n",
            "0: 256x256 300 Cell-M3yVs, 15.1ms\n",
            "Speed: 0.6ms preprocess, 15.1ms inference, 13.4ms postprocess per image at shape (1, 3, 256, 256)\n",
            "\n",
            "0: 256x256 15 Cell-M3yVs, 16.2ms\n",
            "Speed: 0.9ms preprocess, 16.2ms inference, 3.9ms postprocess per image at shape (1, 3, 256, 256)\n",
            "\n",
            "0: 256x256 218 Cell-M3yVs, 17.3ms\n",
            "Speed: 0.6ms preprocess, 17.3ms inference, 10.5ms postprocess per image at shape (1, 3, 256, 256)\n",
            "\n",
            "0: 256x256 300 Cell-M3yVs, 15.6ms\n",
            "Speed: 0.7ms preprocess, 15.6ms inference, 13.3ms postprocess per image at shape (1, 3, 256, 256)\n",
            "\n",
            "0: 256x256 300 Cell-M3yVs, 16.5ms\n",
            "Speed: 0.7ms preprocess, 16.5ms inference, 13.3ms postprocess per image at shape (1, 3, 256, 256)\n",
            "\n",
            "0: 256x256 300 Cell-M3yVs, 15.2ms\n",
            "Speed: 0.9ms preprocess, 15.2ms inference, 13.3ms postprocess per image at shape (1, 3, 256, 256)\n",
            "\n",
            "0: 256x256 300 Cell-M3yVs, 14.6ms\n",
            "Speed: 0.6ms preprocess, 14.6ms inference, 13.4ms postprocess per image at shape (1, 3, 256, 256)\n",
            "\n",
            "0: 256x256 23 Cell-M3yVs, 17.9ms\n",
            "Speed: 0.8ms preprocess, 17.9ms inference, 4.4ms postprocess per image at shape (1, 3, 256, 256)\n",
            "\n",
            "0: 256x256 79 Cell-M3yVs, 23.1ms\n",
            "Speed: 0.7ms preprocess, 23.1ms inference, 6.3ms postprocess per image at shape (1, 3, 256, 256)\n",
            "\n",
            "0: 256x256 8 Cell-M3yVs, 24.6ms\n",
            "Speed: 0.9ms preprocess, 24.6ms inference, 4.2ms postprocess per image at shape (1, 3, 256, 256)\n",
            "\n",
            "0: 256x256 300 Cell-M3yVs, 25.8ms\n",
            "Speed: 0.7ms preprocess, 25.8ms inference, 14.2ms postprocess per image at shape (1, 3, 256, 256)\n",
            "\n",
            "0: 256x256 250 Cell-M3yVs, 25.8ms\n",
            "Speed: 0.8ms preprocess, 25.8ms inference, 12.7ms postprocess per image at shape (1, 3, 256, 256)\n",
            "\n",
            "0: 256x256 300 Cell-M3yVs, 26.0ms\n",
            "Speed: 1.0ms preprocess, 26.0ms inference, 14.4ms postprocess per image at shape (1, 3, 256, 256)\n",
            "\n",
            "0: 256x256 300 Cell-M3yVs, 18.1ms\n",
            "Speed: 1.0ms preprocess, 18.1ms inference, 13.4ms postprocess per image at shape (1, 3, 256, 256)\n",
            "\n",
            "0: 256x256 36 Cell-M3yVs, 17.5ms\n",
            "Speed: 0.8ms preprocess, 17.5ms inference, 3.6ms postprocess per image at shape (1, 3, 256, 256)\n",
            "\n",
            "0: 256x256 300 Cell-M3yVs, 20.7ms\n",
            "Speed: 0.7ms preprocess, 20.7ms inference, 13.3ms postprocess per image at shape (1, 3, 256, 256)\n",
            "\n",
            "0: 256x256 10 Cell-M3yVs, 17.0ms\n",
            "Speed: 0.6ms preprocess, 17.0ms inference, 3.0ms postprocess per image at shape (1, 3, 256, 256)\n",
            "\n",
            "0: 256x256 53 Cell-M3yVs, 23.2ms\n",
            "Speed: 0.6ms preprocess, 23.2ms inference, 6.4ms postprocess per image at shape (1, 3, 256, 256)\n",
            "\n",
            "0: 256x256 21 Cell-M3yVs, 16.4ms\n",
            "Speed: 0.7ms preprocess, 16.4ms inference, 3.3ms postprocess per image at shape (1, 3, 256, 256)\n",
            "\n",
            "0: 256x256 64 Cell-M3yVs, 17.0ms\n",
            "Speed: 0.9ms preprocess, 17.0ms inference, 4.8ms postprocess per image at shape (1, 3, 256, 256)\n",
            "\n",
            "0: 256x256 300 Cell-M3yVs, 13.9ms\n",
            "Speed: 0.7ms preprocess, 13.9ms inference, 13.2ms postprocess per image at shape (1, 3, 256, 256)\n",
            "\n",
            "0: 256x256 48 Cell-M3yVs, 17.5ms\n",
            "Speed: 0.6ms preprocess, 17.5ms inference, 4.1ms postprocess per image at shape (1, 3, 256, 256)\n",
            "\n",
            "0: 256x256 300 Cell-M3yVs, 19.7ms\n",
            "Speed: 0.7ms preprocess, 19.7ms inference, 13.3ms postprocess per image at shape (1, 3, 256, 256)\n",
            "\n",
            "0: 256x256 296 Cell-M3yVs, 17.9ms\n",
            "Speed: 0.7ms preprocess, 17.9ms inference, 13.2ms postprocess per image at shape (1, 3, 256, 256)\n",
            "\n",
            "0: 256x256 300 Cell-M3yVs, 16.9ms\n",
            "Speed: 0.7ms preprocess, 16.9ms inference, 13.3ms postprocess per image at shape (1, 3, 256, 256)\n",
            "\n",
            "0: 256x256 (no detections), 20.1ms\n",
            "Speed: 0.9ms preprocess, 20.1ms inference, 0.5ms postprocess per image at shape (1, 3, 256, 256)\n",
            "\n",
            "0: 256x256 300 Cell-M3yVs, 16.4ms\n",
            "Speed: 0.7ms preprocess, 16.4ms inference, 13.5ms postprocess per image at shape (1, 3, 256, 256)\n",
            "\n",
            "0: 256x256 300 Cell-M3yVs, 16.5ms\n",
            "Speed: 0.7ms preprocess, 16.5ms inference, 13.3ms postprocess per image at shape (1, 3, 256, 256)\n",
            "\n",
            "0: 256x256 300 Cell-M3yVs, 15.3ms\n",
            "Speed: 0.6ms preprocess, 15.3ms inference, 13.3ms postprocess per image at shape (1, 3, 256, 256)\n",
            "\n",
            "0: 256x256 300 Cell-M3yVs, 15.9ms\n",
            "Speed: 0.7ms preprocess, 15.9ms inference, 13.5ms postprocess per image at shape (1, 3, 256, 256)\n",
            "\n",
            "0: 256x256 300 Cell-M3yVs, 16.4ms\n",
            "Speed: 0.7ms preprocess, 16.4ms inference, 13.8ms postprocess per image at shape (1, 3, 256, 256)\n",
            "\n",
            "0: 256x256 300 Cell-M3yVs, 23.0ms\n",
            "Speed: 1.5ms preprocess, 23.0ms inference, 14.6ms postprocess per image at shape (1, 3, 256, 256)\n",
            "\n",
            "0: 256x256 49 Cell-M3yVs, 25.0ms\n",
            "Speed: 2.0ms preprocess, 25.0ms inference, 5.1ms postprocess per image at shape (1, 3, 256, 256)\n",
            "\n",
            "0: 256x256 95 Cell-M3yVs, 23.8ms\n",
            "Speed: 0.6ms preprocess, 23.8ms inference, 6.7ms postprocess per image at shape (1, 3, 256, 256)\n",
            "\n",
            "0: 256x256 300 Cell-M3yVs, 20.6ms\n",
            "Speed: 1.3ms preprocess, 20.6ms inference, 14.2ms postprocess per image at shape (1, 3, 256, 256)\n",
            "\n",
            "0: 256x256 300 Cell-M3yVs, 26.1ms\n",
            "Speed: 0.7ms preprocess, 26.1ms inference, 14.4ms postprocess per image at shape (1, 3, 256, 256)\n",
            "\n",
            "0: 256x256 25 Cell-M3yVs, 24.7ms\n",
            "Speed: 0.9ms preprocess, 24.7ms inference, 4.0ms postprocess per image at shape (1, 3, 256, 256)\n",
            "\n",
            "0: 256x256 300 Cell-M3yVs, 23.5ms\n",
            "Speed: 0.7ms preprocess, 23.5ms inference, 14.5ms postprocess per image at shape (1, 3, 256, 256)\n",
            "\n",
            "0: 256x256 300 Cell-M3yVs, 15.7ms\n",
            "Speed: 0.6ms preprocess, 15.7ms inference, 13.3ms postprocess per image at shape (1, 3, 256, 256)\n",
            "\n",
            "0: 256x256 300 Cell-M3yVs, 17.6ms\n",
            "Speed: 0.7ms preprocess, 17.6ms inference, 13.5ms postprocess per image at shape (1, 3, 256, 256)\n",
            "\n",
            "0: 256x256 300 Cell-M3yVs, 20.8ms\n",
            "Speed: 0.7ms preprocess, 20.8ms inference, 13.5ms postprocess per image at shape (1, 3, 256, 256)\n",
            "\n",
            "0: 256x256 300 Cell-M3yVs, 22.8ms\n",
            "Speed: 0.7ms preprocess, 22.8ms inference, 14.4ms postprocess per image at shape (1, 3, 256, 256)\n",
            "\n",
            "0: 256x256 300 Cell-M3yVs, 16.0ms\n",
            "Speed: 1.5ms preprocess, 16.0ms inference, 13.2ms postprocess per image at shape (1, 3, 256, 256)\n",
            "\n",
            "0: 256x256 70 Cell-M3yVs, 15.8ms\n",
            "Speed: 0.6ms preprocess, 15.8ms inference, 4.8ms postprocess per image at shape (1, 3, 256, 256)\n",
            "\n",
            "0: 256x256 278 Cell-M3yVs, 17.5ms\n",
            "Speed: 0.8ms preprocess, 17.5ms inference, 13.0ms postprocess per image at shape (1, 3, 256, 256)\n",
            "\n",
            "0: 256x256 4 Cell-M3yVs, 16.0ms\n",
            "Speed: 0.8ms preprocess, 16.0ms inference, 3.0ms postprocess per image at shape (1, 3, 256, 256)\n",
            "\n",
            "0: 256x256 5 Cell-M3yVs, 20.0ms\n",
            "Speed: 0.7ms preprocess, 20.0ms inference, 3.1ms postprocess per image at shape (1, 3, 256, 256)\n",
            "\n",
            "0: 256x256 300 Cell-M3yVs, 16.9ms\n",
            "Speed: 0.7ms preprocess, 16.9ms inference, 13.6ms postprocess per image at shape (1, 3, 256, 256)\n",
            "\n",
            "0: 256x256 300 Cell-M3yVs, 13.9ms\n",
            "Speed: 0.7ms preprocess, 13.9ms inference, 13.3ms postprocess per image at shape (1, 3, 256, 256)\n",
            "\n",
            "0: 256x256 300 Cell-M3yVs, 19.0ms\n",
            "Speed: 0.7ms preprocess, 19.0ms inference, 13.3ms postprocess per image at shape (1, 3, 256, 256)\n",
            "\n",
            "0: 256x256 300 Cell-M3yVs, 15.4ms\n",
            "Speed: 0.6ms preprocess, 15.4ms inference, 13.3ms postprocess per image at shape (1, 3, 256, 256)\n",
            "\n",
            "0: 256x256 300 Cell-M3yVs, 16.5ms\n",
            "Speed: 0.8ms preprocess, 16.5ms inference, 13.3ms postprocess per image at shape (1, 3, 256, 256)\n",
            "\n",
            "0: 256x256 300 Cell-M3yVs, 17.9ms\n",
            "Speed: 0.9ms preprocess, 17.9ms inference, 13.7ms postprocess per image at shape (1, 3, 256, 256)\n",
            "\n",
            "0: 256x256 300 Cell-M3yVs, 21.3ms\n",
            "Speed: 0.7ms preprocess, 21.3ms inference, 14.4ms postprocess per image at shape (1, 3, 256, 256)\n",
            "\n",
            "0: 256x256 300 Cell-M3yVs, 23.9ms\n",
            "Speed: 1.5ms preprocess, 23.9ms inference, 14.2ms postprocess per image at shape (1, 3, 256, 256)\n",
            "\n",
            "0: 256x256 300 Cell-M3yVs, 22.4ms\n",
            "Speed: 0.7ms preprocess, 22.4ms inference, 14.6ms postprocess per image at shape (1, 3, 256, 256)\n",
            "\n",
            "0: 256x256 155 Cell-M3yVs, 24.5ms\n",
            "Speed: 0.8ms preprocess, 24.5ms inference, 9.1ms postprocess per image at shape (1, 3, 256, 256)\n",
            "\n",
            "0: 256x256 300 Cell-M3yVs, 23.4ms\n",
            "Speed: 0.7ms preprocess, 23.4ms inference, 13.7ms postprocess per image at shape (1, 3, 256, 256)\n",
            "\n",
            "0: 256x256 34 Cell-M3yVs, 17.1ms\n",
            "Speed: 0.7ms preprocess, 17.1ms inference, 3.6ms postprocess per image at shape (1, 3, 256, 256)\n",
            "\n",
            "0: 256x256 300 Cell-M3yVs, 17.0ms\n",
            "Speed: 0.9ms preprocess, 17.0ms inference, 13.2ms postprocess per image at shape (1, 3, 256, 256)\n",
            "\n",
            "0: 256x256 59 Cell-M3yVs, 19.7ms\n",
            "Speed: 1.0ms preprocess, 19.7ms inference, 4.8ms postprocess per image at shape (1, 3, 256, 256)\n",
            "\n",
            "0: 256x256 300 Cell-M3yVs, 14.9ms\n",
            "Speed: 0.7ms preprocess, 14.9ms inference, 13.4ms postprocess per image at shape (1, 3, 256, 256)\n",
            "\n",
            "0: 256x256 20 Cell-M3yVs, 18.5ms\n",
            "Speed: 1.0ms preprocess, 18.5ms inference, 3.0ms postprocess per image at shape (1, 3, 256, 256)\n",
            "\n",
            "0: 256x256 300 Cell-M3yVs, 16.6ms\n",
            "Speed: 0.6ms preprocess, 16.6ms inference, 14.2ms postprocess per image at shape (1, 3, 256, 256)\n",
            "\n",
            "0: 256x256 255 Cell-M3yVs, 22.7ms\n",
            "Speed: 0.6ms preprocess, 22.7ms inference, 12.7ms postprocess per image at shape (1, 3, 256, 256)\n",
            "\n",
            "0: 256x256 300 Cell-M3yVs, 15.3ms\n",
            "Speed: 0.6ms preprocess, 15.3ms inference, 13.6ms postprocess per image at shape (1, 3, 256, 256)\n",
            "\n",
            "0: 256x256 300 Cell-M3yVs, 18.3ms\n",
            "Speed: 0.9ms preprocess, 18.3ms inference, 13.5ms postprocess per image at shape (1, 3, 256, 256)\n",
            "\n",
            "0: 256x256 220 Cell-M3yVs, 18.7ms\n",
            "Speed: 0.8ms preprocess, 18.7ms inference, 10.6ms postprocess per image at shape (1, 3, 256, 256)\n",
            "\n",
            "0: 256x256 292 Cell-M3yVs, 14.6ms\n",
            "Speed: 0.8ms preprocess, 14.6ms inference, 13.2ms postprocess per image at shape (1, 3, 256, 256)\n",
            "\n",
            "0: 256x256 300 Cell-M3yVs, 22.8ms\n",
            "Speed: 1.3ms preprocess, 22.8ms inference, 14.0ms postprocess per image at shape (1, 3, 256, 256)\n",
            "\n",
            "0: 256x256 300 Cell-M3yVs, 17.8ms\n",
            "Speed: 0.7ms preprocess, 17.8ms inference, 13.4ms postprocess per image at shape (1, 3, 256, 256)\n",
            "\n",
            "0: 256x256 300 Cell-M3yVs, 15.9ms\n",
            "Speed: 0.7ms preprocess, 15.9ms inference, 13.3ms postprocess per image at shape (1, 3, 256, 256)\n",
            "\n",
            "0: 256x256 189 Cell-M3yVs, 16.4ms\n",
            "Speed: 0.7ms preprocess, 16.4ms inference, 9.4ms postprocess per image at shape (1, 3, 256, 256)\n",
            "\n",
            "0: 256x256 300 Cell-M3yVs, 19.1ms\n",
            "Speed: 0.6ms preprocess, 19.1ms inference, 13.3ms postprocess per image at shape (1, 3, 256, 256)\n",
            "\n",
            "0: 256x256 61 Cell-M3yVs, 18.7ms\n",
            "Speed: 0.6ms preprocess, 18.7ms inference, 5.0ms postprocess per image at shape (1, 3, 256, 256)\n",
            "\n",
            "0: 256x256 300 Cell-M3yVs, 19.4ms\n",
            "Speed: 0.6ms preprocess, 19.4ms inference, 14.1ms postprocess per image at shape (1, 3, 256, 256)\n",
            "\n",
            "0: 256x256 300 Cell-M3yVs, 25.7ms\n",
            "Speed: 0.8ms preprocess, 25.7ms inference, 14.1ms postprocess per image at shape (1, 3, 256, 256)\n",
            "\n",
            "0: 256x256 300 Cell-M3yVs, 22.1ms\n",
            "Speed: 0.6ms preprocess, 22.1ms inference, 14.4ms postprocess per image at shape (1, 3, 256, 256)\n",
            "\n",
            "0: 256x256 300 Cell-M3yVs, 24.7ms\n",
            "Speed: 1.1ms preprocess, 24.7ms inference, 15.1ms postprocess per image at shape (1, 3, 256, 256)\n",
            "\n",
            "0: 256x256 208 Cell-M3yVs, 26.1ms\n",
            "Speed: 1.0ms preprocess, 26.1ms inference, 11.4ms postprocess per image at shape (1, 3, 256, 256)\n",
            "\n",
            "0: 256x256 47 Cell-M3yVs, 17.8ms\n",
            "Speed: 0.7ms preprocess, 17.8ms inference, 4.1ms postprocess per image at shape (1, 3, 256, 256)\n",
            "\n",
            "0: 256x256 94 Cell-M3yVs, 15.5ms\n",
            "Speed: 0.6ms preprocess, 15.5ms inference, 5.9ms postprocess per image at shape (1, 3, 256, 256)\n",
            "\n",
            "0: 256x256 300 Cell-M3yVs, 16.2ms\n",
            "Speed: 0.8ms preprocess, 16.2ms inference, 15.7ms postprocess per image at shape (1, 3, 256, 256)\n",
            "\n",
            "0: 256x256 300 Cell-M3yVs, 22.2ms\n",
            "Speed: 0.7ms preprocess, 22.2ms inference, 14.5ms postprocess per image at shape (1, 3, 256, 256)\n",
            "\n",
            "0: 256x256 300 Cell-M3yVs, 20.7ms\n",
            "Speed: 0.7ms preprocess, 20.7ms inference, 13.3ms postprocess per image at shape (1, 3, 256, 256)\n",
            "\n",
            "0: 256x256 300 Cell-M3yVs, 18.2ms\n",
            "Speed: 0.6ms preprocess, 18.2ms inference, 13.4ms postprocess per image at shape (1, 3, 256, 256)\n",
            "\n",
            "0: 256x256 300 Cell-M3yVs, 18.1ms\n",
            "Speed: 0.8ms preprocess, 18.1ms inference, 13.8ms postprocess per image at shape (1, 3, 256, 256)\n",
            "\n",
            "0: 256x256 156 Cell-M3yVs, 19.6ms\n",
            "Speed: 0.6ms preprocess, 19.6ms inference, 8.2ms postprocess per image at shape (1, 3, 256, 256)\n",
            "\n",
            "0: 256x256 300 Cell-M3yVs, 17.7ms\n",
            "Speed: 0.5ms preprocess, 17.7ms inference, 13.4ms postprocess per image at shape (1, 3, 256, 256)\n",
            "\n",
            "0: 256x256 300 Cell-M3yVs, 16.5ms\n",
            "Speed: 0.7ms preprocess, 16.5ms inference, 13.6ms postprocess per image at shape (1, 3, 256, 256)\n",
            "\n",
            "0: 256x256 39 Cell-M3yVs, 16.4ms\n",
            "Speed: 0.6ms preprocess, 16.4ms inference, 3.6ms postprocess per image at shape (1, 3, 256, 256)\n",
            "\n",
            "0: 256x256 300 Cell-M3yVs, 17.2ms\n",
            "Speed: 0.7ms preprocess, 17.2ms inference, 13.2ms postprocess per image at shape (1, 3, 256, 256)\n",
            "\n",
            "0: 256x256 300 Cell-M3yVs, 14.8ms\n",
            "Speed: 0.6ms preprocess, 14.8ms inference, 13.2ms postprocess per image at shape (1, 3, 256, 256)\n",
            "\n",
            "0: 256x256 300 Cell-M3yVs, 14.6ms\n",
            "Speed: 1.1ms preprocess, 14.6ms inference, 13.2ms postprocess per image at shape (1, 3, 256, 256)\n",
            "\n",
            "0: 256x256 46 Cell-M3yVs, 16.2ms\n",
            "Speed: 0.6ms preprocess, 16.2ms inference, 4.2ms postprocess per image at shape (1, 3, 256, 256)\n",
            "\n",
            "0: 256x256 300 Cell-M3yVs, 16.0ms\n",
            "Speed: 0.6ms preprocess, 16.0ms inference, 13.2ms postprocess per image at shape (1, 3, 256, 256)\n",
            "\n",
            "0: 256x256 258 Cell-M3yVs, 17.2ms\n",
            "Speed: 0.6ms preprocess, 17.2ms inference, 11.8ms postprocess per image at shape (1, 3, 256, 256)\n",
            "\n",
            "0: 256x256 174 Cell-M3yVs, 15.4ms\n",
            "Speed: 0.6ms preprocess, 15.4ms inference, 8.8ms postprocess per image at shape (1, 3, 256, 256)\n",
            "\n",
            "0: 256x256 300 Cell-M3yVs, 20.6ms\n",
            "Speed: 0.6ms preprocess, 20.6ms inference, 15.0ms postprocess per image at shape (1, 3, 256, 256)\n",
            "\n",
            "0: 256x256 300 Cell-M3yVs, 24.9ms\n",
            "Speed: 0.8ms preprocess, 24.9ms inference, 14.2ms postprocess per image at shape (1, 3, 256, 256)\n",
            "\n",
            "0: 256x256 (no detections), 23.7ms\n",
            "Speed: 0.6ms preprocess, 23.7ms inference, 0.5ms postprocess per image at shape (1, 3, 256, 256)\n",
            "\n",
            "0: 256x256 300 Cell-M3yVs, 25.2ms\n",
            "Speed: 0.6ms preprocess, 25.2ms inference, 14.1ms postprocess per image at shape (1, 3, 256, 256)\n",
            "\n",
            "0: 256x256 300 Cell-M3yVs, 27.2ms\n",
            "Speed: 0.7ms preprocess, 27.2ms inference, 14.7ms postprocess per image at shape (1, 3, 256, 256)\n",
            "\n",
            "0: 256x256 300 Cell-M3yVs, 26.3ms\n",
            "Speed: 0.8ms preprocess, 26.3ms inference, 14.4ms postprocess per image at shape (1, 3, 256, 256)\n",
            "\n",
            "0: 256x256 300 Cell-M3yVs, 19.1ms\n",
            "Speed: 0.7ms preprocess, 19.1ms inference, 13.9ms postprocess per image at shape (1, 3, 256, 256)\n",
            "\n",
            "0: 256x256 300 Cell-M3yVs, 18.1ms\n",
            "Speed: 0.7ms preprocess, 18.1ms inference, 13.3ms postprocess per image at shape (1, 3, 256, 256)\n",
            "\n",
            "0: 256x256 84 Cell-M3yVs, 17.0ms\n",
            "Speed: 1.0ms preprocess, 17.0ms inference, 5.3ms postprocess per image at shape (1, 3, 256, 256)\n",
            "\n",
            "0: 256x256 300 Cell-M3yVs, 15.2ms\n",
            "Speed: 0.6ms preprocess, 15.2ms inference, 13.2ms postprocess per image at shape (1, 3, 256, 256)\n",
            "\n",
            "0: 256x256 19 Cell-M3yVs, 20.1ms\n",
            "Speed: 0.6ms preprocess, 20.1ms inference, 3.2ms postprocess per image at shape (1, 3, 256, 256)\n",
            "\n",
            "0: 256x256 300 Cell-M3yVs, 14.1ms\n",
            "Speed: 0.7ms preprocess, 14.1ms inference, 13.2ms postprocess per image at shape (1, 3, 256, 256)\n",
            "\n",
            "0: 256x256 49 Cell-M3yVs, 24.2ms\n",
            "Speed: 1.2ms preprocess, 24.2ms inference, 5.2ms postprocess per image at shape (1, 3, 256, 256)\n",
            "\n",
            "0: 256x256 50 Cell-M3yVs, 18.6ms\n",
            "Speed: 0.6ms preprocess, 18.6ms inference, 4.0ms postprocess per image at shape (1, 3, 256, 256)\n",
            "\n",
            "0: 256x256 120 Cell-M3yVs, 14.1ms\n",
            "Speed: 0.7ms preprocess, 14.1ms inference, 6.7ms postprocess per image at shape (1, 3, 256, 256)\n",
            "\n",
            "0: 256x256 300 Cell-M3yVs, 26.6ms\n",
            "Speed: 0.7ms preprocess, 26.6ms inference, 14.5ms postprocess per image at shape (1, 3, 256, 256)\n",
            "\n",
            "0: 256x256 300 Cell-M3yVs, 19.7ms\n",
            "Speed: 1.4ms preprocess, 19.7ms inference, 14.2ms postprocess per image at shape (1, 3, 256, 256)\n",
            "\n",
            "0: 256x256 300 Cell-M3yVs, 23.0ms\n",
            "Speed: 0.8ms preprocess, 23.0ms inference, 13.4ms postprocess per image at shape (1, 3, 256, 256)\n",
            "\n",
            "0: 256x256 300 Cell-M3yVs, 18.4ms\n",
            "Speed: 0.8ms preprocess, 18.4ms inference, 13.6ms postprocess per image at shape (1, 3, 256, 256)\n",
            "\n",
            "0: 256x256 300 Cell-M3yVs, 21.9ms\n",
            "Speed: 0.7ms preprocess, 21.9ms inference, 15.6ms postprocess per image at shape (1, 3, 256, 256)\n",
            "\n",
            "0: 256x256 300 Cell-M3yVs, 18.7ms\n",
            "Speed: 0.7ms preprocess, 18.7ms inference, 13.6ms postprocess per image at shape (1, 3, 256, 256)\n",
            "\n",
            "0: 256x256 300 Cell-M3yVs, 25.9ms\n",
            "Speed: 0.7ms preprocess, 25.9ms inference, 14.4ms postprocess per image at shape (1, 3, 256, 256)\n",
            "\n",
            "0: 256x256 300 Cell-M3yVs, 21.3ms\n",
            "Speed: 0.7ms preprocess, 21.3ms inference, 14.4ms postprocess per image at shape (1, 3, 256, 256)\n",
            "\n",
            "0: 256x256 98 Cell-M3yVs, 31.5ms\n",
            "Speed: 0.7ms preprocess, 31.5ms inference, 7.9ms postprocess per image at shape (1, 3, 256, 256)\n",
            "\n",
            "0: 256x256 300 Cell-M3yVs, 25.9ms\n",
            "Speed: 1.1ms preprocess, 25.9ms inference, 14.4ms postprocess per image at shape (1, 3, 256, 256)\n",
            "\n",
            "0: 256x256 300 Cell-M3yVs, 24.2ms\n",
            "Speed: 1.1ms preprocess, 24.2ms inference, 14.9ms postprocess per image at shape (1, 3, 256, 256)\n",
            "\n",
            "0: 256x256 53 Cell-M3yVs, 27.2ms\n",
            "Speed: 0.9ms preprocess, 27.2ms inference, 5.5ms postprocess per image at shape (1, 3, 256, 256)\n",
            "\n",
            "0: 256x256 300 Cell-M3yVs, 23.7ms\n",
            "Speed: 0.8ms preprocess, 23.7ms inference, 13.9ms postprocess per image at shape (1, 3, 256, 256)\n",
            "\n",
            "0: 256x256 300 Cell-M3yVs, 18.6ms\n",
            "Speed: 0.7ms preprocess, 18.6ms inference, 13.6ms postprocess per image at shape (1, 3, 256, 256)\n",
            "\n",
            "0: 256x256 5 Cell-M3yVs, 20.7ms\n",
            "Speed: 1.0ms preprocess, 20.7ms inference, 3.8ms postprocess per image at shape (1, 3, 256, 256)\n",
            "\n",
            "0: 256x256 300 Cell-M3yVs, 16.8ms\n",
            "Speed: 1.1ms preprocess, 16.8ms inference, 13.4ms postprocess per image at shape (1, 3, 256, 256)\n",
            "\n",
            "0: 256x256 300 Cell-M3yVs, 15.6ms\n",
            "Speed: 0.7ms preprocess, 15.6ms inference, 14.6ms postprocess per image at shape (1, 3, 256, 256)\n",
            "\n",
            "0: 256x256 300 Cell-M3yVs, 18.4ms\n",
            "Speed: 0.6ms preprocess, 18.4ms inference, 13.3ms postprocess per image at shape (1, 3, 256, 256)\n",
            "\n",
            "0: 256x256 50 Cell-M3yVs, 15.9ms\n",
            "Speed: 1.2ms preprocess, 15.9ms inference, 4.2ms postprocess per image at shape (1, 3, 256, 256)\n",
            "\n",
            "0: 256x256 300 Cell-M3yVs, 31.2ms\n",
            "Speed: 0.9ms preprocess, 31.2ms inference, 13.9ms postprocess per image at shape (1, 3, 256, 256)\n",
            "\n",
            "0: 256x256 300 Cell-M3yVs, 18.3ms\n",
            "Speed: 0.8ms preprocess, 18.3ms inference, 13.7ms postprocess per image at shape (1, 3, 256, 256)\n",
            "\n",
            "0: 256x256 31 Cell-M3yVs, 16.8ms\n",
            "Speed: 0.6ms preprocess, 16.8ms inference, 3.5ms postprocess per image at shape (1, 3, 256, 256)\n",
            "\n",
            "0: 256x256 300 Cell-M3yVs, 19.4ms\n",
            "Speed: 0.6ms preprocess, 19.4ms inference, 13.4ms postprocess per image at shape (1, 3, 256, 256)\n",
            "\n",
            "0: 256x256 300 Cell-M3yVs, 15.0ms\n",
            "Speed: 0.6ms preprocess, 15.0ms inference, 13.3ms postprocess per image at shape (1, 3, 256, 256)\n",
            "\n",
            "0: 256x256 300 Cell-M3yVs, 14.8ms\n",
            "Speed: 0.7ms preprocess, 14.8ms inference, 13.3ms postprocess per image at shape (1, 3, 256, 256)\n",
            "\n",
            "0: 256x256 300 Cell-M3yVs, 16.6ms\n",
            "Speed: 0.6ms preprocess, 16.6ms inference, 13.5ms postprocess per image at shape (1, 3, 256, 256)\n",
            "\n",
            "0: 256x256 300 Cell-M3yVs, 18.0ms\n",
            "Speed: 0.6ms preprocess, 18.0ms inference, 13.6ms postprocess per image at shape (1, 3, 256, 256)\n",
            "\n",
            "0: 256x256 300 Cell-M3yVs, 18.2ms\n",
            "Speed: 0.7ms preprocess, 18.2ms inference, 14.4ms postprocess per image at shape (1, 3, 256, 256)\n",
            "\n",
            "0: 256x256 247 Cell-M3yVs, 23.3ms\n",
            "Speed: 0.6ms preprocess, 23.3ms inference, 12.7ms postprocess per image at shape (1, 3, 256, 256)\n",
            "\n",
            "0: 256x256 300 Cell-M3yVs, 24.3ms\n",
            "Speed: 0.7ms preprocess, 24.3ms inference, 14.3ms postprocess per image at shape (1, 3, 256, 256)\n",
            "\n",
            "0: 256x256 300 Cell-M3yVs, 26.0ms\n",
            "Speed: 0.8ms preprocess, 26.0ms inference, 14.3ms postprocess per image at shape (1, 3, 256, 256)\n",
            "\n",
            "0: 256x256 300 Cell-M3yVs, 33.7ms\n",
            "Speed: 0.7ms preprocess, 33.7ms inference, 14.8ms postprocess per image at shape (1, 3, 256, 256)\n",
            "\n",
            "0: 256x256 300 Cell-M3yVs, 25.2ms\n",
            "Speed: 0.7ms preprocess, 25.2ms inference, 14.1ms postprocess per image at shape (1, 3, 256, 256)\n",
            "\n",
            "0: 256x256 300 Cell-M3yVs, 27.6ms\n",
            "Speed: 0.7ms preprocess, 27.6ms inference, 14.6ms postprocess per image at shape (1, 3, 256, 256)\n",
            "\n",
            "0: 256x256 126 Cell-M3yVs, 28.7ms\n",
            "Speed: 0.6ms preprocess, 28.7ms inference, 8.4ms postprocess per image at shape (1, 3, 256, 256)\n",
            "\n",
            "0: 256x256 300 Cell-M3yVs, 23.4ms\n",
            "Speed: 0.8ms preprocess, 23.4ms inference, 15.0ms postprocess per image at shape (1, 3, 256, 256)\n",
            "\n",
            "0: 256x256 232 Cell-M3yVs, 33.7ms\n",
            "Speed: 0.7ms preprocess, 33.7ms inference, 13.9ms postprocess per image at shape (1, 3, 256, 256)\n",
            "\n",
            "0: 256x256 300 Cell-M3yVs, 20.0ms\n",
            "Speed: 1.0ms preprocess, 20.0ms inference, 14.5ms postprocess per image at shape (1, 3, 256, 256)\n",
            "\n",
            "0: 256x256 300 Cell-M3yVs, 19.6ms\n",
            "Speed: 0.9ms preprocess, 19.6ms inference, 14.0ms postprocess per image at shape (1, 3, 256, 256)\n",
            "\n",
            "0: 256x256 9 Cell-M3yVs, 29.0ms\n",
            "Speed: 0.9ms preprocess, 29.0ms inference, 4.3ms postprocess per image at shape (1, 3, 256, 256)\n",
            "\n",
            "0: 256x256 300 Cell-M3yVs, 20.8ms\n",
            "Speed: 0.6ms preprocess, 20.8ms inference, 14.2ms postprocess per image at shape (1, 3, 256, 256)\n",
            "\n",
            "0: 256x256 300 Cell-M3yVs, 20.0ms\n",
            "Speed: 0.6ms preprocess, 20.0ms inference, 15.7ms postprocess per image at shape (1, 3, 256, 256)\n",
            "\n",
            "0: 256x256 300 Cell-M3yVs, 18.4ms\n",
            "Speed: 0.8ms preprocess, 18.4ms inference, 13.9ms postprocess per image at shape (1, 3, 256, 256)\n",
            "\n",
            "0: 256x256 110 Cell-M3yVs, 18.1ms\n",
            "Speed: 0.7ms preprocess, 18.1ms inference, 7.1ms postprocess per image at shape (1, 3, 256, 256)\n",
            "\n",
            "0: 256x256 15 Cell-M3yVs, 21.4ms\n",
            "Speed: 0.6ms preprocess, 21.4ms inference, 3.8ms postprocess per image at shape (1, 3, 256, 256)\n",
            "\n",
            "0: 256x256 88 Cell-M3yVs, 19.3ms\n",
            "Speed: 0.6ms preprocess, 19.3ms inference, 6.1ms postprocess per image at shape (1, 3, 256, 256)\n",
            "\n",
            "0: 256x256 (no detections), 19.4ms\n",
            "Speed: 0.7ms preprocess, 19.4ms inference, 0.5ms postprocess per image at shape (1, 3, 256, 256)\n",
            "\n",
            "0: 256x256 300 Cell-M3yVs, 23.7ms\n",
            "Speed: 0.7ms preprocess, 23.7ms inference, 14.6ms postprocess per image at shape (1, 3, 256, 256)\n",
            "\n",
            "0: 256x256 300 Cell-M3yVs, 35.9ms\n",
            "Speed: 0.6ms preprocess, 35.9ms inference, 15.0ms postprocess per image at shape (1, 3, 256, 256)\n",
            "\n",
            "0: 256x256 300 Cell-M3yVs, 33.4ms\n",
            "Speed: 0.7ms preprocess, 33.4ms inference, 19.1ms postprocess per image at shape (1, 3, 256, 256)\n",
            "\n",
            "0: 256x256 39 Cell-M3yVs, 34.2ms\n",
            "Speed: 0.7ms preprocess, 34.2ms inference, 4.6ms postprocess per image at shape (1, 3, 256, 256)\n",
            "\n",
            "0: 256x256 300 Cell-M3yVs, 32.1ms\n",
            "Speed: 0.7ms preprocess, 32.1ms inference, 14.8ms postprocess per image at shape (1, 3, 256, 256)\n",
            "\n",
            "0: 256x256 300 Cell-M3yVs, 22.1ms\n",
            "Speed: 0.7ms preprocess, 22.1ms inference, 14.3ms postprocess per image at shape (1, 3, 256, 256)\n",
            "\n",
            "0: 256x256 232 Cell-M3yVs, 21.1ms\n",
            "Speed: 2.1ms preprocess, 21.1ms inference, 11.8ms postprocess per image at shape (1, 3, 256, 256)\n",
            "\n",
            "0: 256x256 (no detections), 20.3ms\n",
            "Speed: 0.6ms preprocess, 20.3ms inference, 0.5ms postprocess per image at shape (1, 3, 256, 256)\n",
            "\n",
            "0: 256x256 300 Cell-M3yVs, 19.0ms\n",
            "Speed: 0.6ms preprocess, 19.0ms inference, 14.0ms postprocess per image at shape (1, 3, 256, 256)\n",
            "\n",
            "0: 256x256 3 Cell-M3yVs, 17.6ms\n",
            "Speed: 0.6ms preprocess, 17.6ms inference, 4.1ms postprocess per image at shape (1, 3, 256, 256)\n",
            "\n",
            "0: 256x256 63 Cell-M3yVs, 21.2ms\n",
            "Speed: 0.6ms preprocess, 21.2ms inference, 5.2ms postprocess per image at shape (1, 3, 256, 256)\n",
            "\n",
            "0: 256x256 10 Cell-M3yVs, 17.6ms\n",
            "Speed: 0.6ms preprocess, 17.6ms inference, 3.8ms postprocess per image at shape (1, 3, 256, 256)\n",
            "\n",
            "0: 256x256 101 Cell-M3yVs, 19.4ms\n",
            "Speed: 0.6ms preprocess, 19.4ms inference, 6.4ms postprocess per image at shape (1, 3, 256, 256)\n",
            "\n",
            "0: 256x256 300 Cell-M3yVs, 21.9ms\n",
            "Speed: 0.7ms preprocess, 21.9ms inference, 14.1ms postprocess per image at shape (1, 3, 256, 256)\n",
            "\n",
            "0: 256x256 4 Cell-M3yVs, 18.4ms\n",
            "Speed: 0.6ms preprocess, 18.4ms inference, 4.0ms postprocess per image at shape (1, 3, 256, 256)\n",
            "\n",
            "0: 256x256 44 Cell-M3yVs, 27.5ms\n",
            "Speed: 0.6ms preprocess, 27.5ms inference, 5.5ms postprocess per image at shape (1, 3, 256, 256)\n",
            "\n",
            "0: 256x256 300 Cell-M3yVs, 19.0ms\n",
            "Speed: 0.6ms preprocess, 19.0ms inference, 14.3ms postprocess per image at shape (1, 3, 256, 256)\n",
            "\n",
            "0: 256x256 300 Cell-M3yVs, 16.0ms\n",
            "Speed: 0.7ms preprocess, 16.0ms inference, 14.0ms postprocess per image at shape (1, 3, 256, 256)\n",
            "\n",
            "0: 256x256 300 Cell-M3yVs, 17.4ms\n",
            "Speed: 0.7ms preprocess, 17.4ms inference, 14.5ms postprocess per image at shape (1, 3, 256, 256)\n",
            "\n",
            "0: 256x256 44 Cell-M3yVs, 23.1ms\n",
            "Speed: 0.7ms preprocess, 23.1ms inference, 5.1ms postprocess per image at shape (1, 3, 256, 256)\n",
            "\n",
            "0: 256x256 65 Cell-M3yVs, 25.1ms\n",
            "Speed: 0.9ms preprocess, 25.1ms inference, 6.0ms postprocess per image at shape (1, 3, 256, 256)\n",
            "\n",
            "0: 256x256 35 Cell-M3yVs, 33.8ms\n",
            "Speed: 0.6ms preprocess, 33.8ms inference, 5.9ms postprocess per image at shape (1, 3, 256, 256)\n",
            "\n",
            "0: 256x256 18 Cell-M3yVs, 41.9ms\n",
            "Speed: 1.4ms preprocess, 41.9ms inference, 6.9ms postprocess per image at shape (1, 3, 256, 256)\n",
            "\n",
            "0: 256x256 300 Cell-M3yVs, 44.6ms\n",
            "Speed: 0.7ms preprocess, 44.6ms inference, 15.9ms postprocess per image at shape (1, 3, 256, 256)\n",
            "\n",
            "0: 256x256 300 Cell-M3yVs, 29.9ms\n",
            "Speed: 0.7ms preprocess, 29.9ms inference, 14.7ms postprocess per image at shape (1, 3, 256, 256)\n",
            "\n",
            "0: 256x256 66 Cell-M3yVs, 33.2ms\n",
            "Speed: 1.4ms preprocess, 33.2ms inference, 10.3ms postprocess per image at shape (1, 3, 256, 256)\n",
            "\n",
            "0: 256x256 263 Cell-M3yVs, 32.2ms\n",
            "Speed: 0.8ms preprocess, 32.2ms inference, 13.4ms postprocess per image at shape (1, 3, 256, 256)\n",
            "\n",
            "0: 256x256 25 Cell-M3yVs, 28.4ms\n",
            "Speed: 0.7ms preprocess, 28.4ms inference, 4.2ms postprocess per image at shape (1, 3, 256, 256)\n",
            "\n",
            "0: 256x256 300 Cell-M3yVs, 20.8ms\n",
            "Speed: 0.7ms preprocess, 20.8ms inference, 14.5ms postprocess per image at shape (1, 3, 256, 256)\n",
            "\n",
            "0: 256x256 300 Cell-M3yVs, 20.2ms\n",
            "Speed: 0.6ms preprocess, 20.2ms inference, 15.0ms postprocess per image at shape (1, 3, 256, 256)\n",
            "\n",
            "0: 256x256 300 Cell-M3yVs, 20.9ms\n",
            "Speed: 0.7ms preprocess, 20.9ms inference, 14.9ms postprocess per image at shape (1, 3, 256, 256)\n",
            "\n",
            "0: 256x256 300 Cell-M3yVs, 29.1ms\n",
            "Speed: 0.7ms preprocess, 29.1ms inference, 16.3ms postprocess per image at shape (1, 3, 256, 256)\n",
            "\n",
            "0: 256x256 300 Cell-M3yVs, 25.8ms\n",
            "Speed: 0.7ms preprocess, 25.8ms inference, 14.4ms postprocess per image at shape (1, 3, 256, 256)\n",
            "\n",
            "0: 256x256 300 Cell-M3yVs, 21.8ms\n",
            "Speed: 0.7ms preprocess, 21.8ms inference, 14.8ms postprocess per image at shape (1, 3, 256, 256)\n",
            "\n",
            "0: 256x256 300 Cell-M3yVs, 24.7ms\n",
            "Speed: 0.8ms preprocess, 24.7ms inference, 14.4ms postprocess per image at shape (1, 3, 256, 256)\n",
            "\n",
            "0: 256x256 300 Cell-M3yVs, 23.4ms\n",
            "Speed: 0.7ms preprocess, 23.4ms inference, 23.3ms postprocess per image at shape (1, 3, 256, 256)\n",
            "\n",
            "0: 256x256 181 Cell-M3yVs, 28.5ms\n",
            "Speed: 0.6ms preprocess, 28.5ms inference, 10.7ms postprocess per image at shape (1, 3, 256, 256)\n",
            "\n",
            "0: 256x256 300 Cell-M3yVs, 19.0ms\n",
            "Speed: 0.7ms preprocess, 19.0ms inference, 14.3ms postprocess per image at shape (1, 3, 256, 256)\n",
            "\n",
            "0: 256x256 300 Cell-M3yVs, 26.5ms\n",
            "Speed: 1.2ms preprocess, 26.5ms inference, 14.3ms postprocess per image at shape (1, 3, 256, 256)\n",
            "\n",
            "0: 256x256 300 Cell-M3yVs, 30.0ms\n",
            "Speed: 1.1ms preprocess, 30.0ms inference, 15.0ms postprocess per image at shape (1, 3, 256, 256)\n",
            "\n",
            "0: 256x256 300 Cell-M3yVs, 29.3ms\n",
            "Speed: 0.6ms preprocess, 29.3ms inference, 17.3ms postprocess per image at shape (1, 3, 256, 256)\n",
            "\n",
            "0: 256x256 300 Cell-M3yVs, 24.5ms\n",
            "Speed: 0.8ms preprocess, 24.5ms inference, 19.3ms postprocess per image at shape (1, 3, 256, 256)\n",
            "\n",
            "0: 256x256 300 Cell-M3yVs, 26.3ms\n",
            "Speed: 0.6ms preprocess, 26.3ms inference, 14.5ms postprocess per image at shape (1, 3, 256, 256)\n",
            "\n",
            "0: 256x256 49 Cell-M3yVs, 19.2ms\n",
            "Speed: 0.6ms preprocess, 19.2ms inference, 6.1ms postprocess per image at shape (1, 3, 256, 256)\n",
            "\n",
            "0: 256x256 300 Cell-M3yVs, 20.4ms\n",
            "Speed: 0.6ms preprocess, 20.4ms inference, 14.7ms postprocess per image at shape (1, 3, 256, 256)\n",
            "\n",
            "0: 256x256 300 Cell-M3yVs, 22.0ms\n",
            "Speed: 0.6ms preprocess, 22.0ms inference, 15.2ms postprocess per image at shape (1, 3, 256, 256)\n",
            "\n",
            "0: 256x256 300 Cell-M3yVs, 19.3ms\n",
            "Speed: 0.6ms preprocess, 19.3ms inference, 14.4ms postprocess per image at shape (1, 3, 256, 256)\n",
            "\n",
            "0: 256x256 300 Cell-M3yVs, 20.3ms\n",
            "Speed: 0.6ms preprocess, 20.3ms inference, 15.0ms postprocess per image at shape (1, 3, 256, 256)\n",
            "\n",
            "0: 256x256 300 Cell-M3yVs, 18.0ms\n",
            "Speed: 0.7ms preprocess, 18.0ms inference, 14.8ms postprocess per image at shape (1, 3, 256, 256)\n",
            "\n",
            "0: 256x256 109 Cell-M3yVs, 20.0ms\n",
            "Speed: 0.7ms preprocess, 20.0ms inference, 7.4ms postprocess per image at shape (1, 3, 256, 256)\n",
            "\n",
            "0: 256x256 109 Cell-M3yVs, 18.5ms\n",
            "Speed: 0.6ms preprocess, 18.5ms inference, 7.1ms postprocess per image at shape (1, 3, 256, 256)\n",
            "\n",
            "0: 256x256 273 Cell-M3yVs, 19.8ms\n",
            "Speed: 0.6ms preprocess, 19.8ms inference, 13.3ms postprocess per image at shape (1, 3, 256, 256)\n",
            "\n",
            "0: 256x256 7 Cell-M3yVs, 17.4ms\n",
            "Speed: 0.7ms preprocess, 17.4ms inference, 4.1ms postprocess per image at shape (1, 3, 256, 256)\n",
            "\n",
            "0: 256x256 300 Cell-M3yVs, 18.3ms\n",
            "Speed: 0.7ms preprocess, 18.3ms inference, 14.6ms postprocess per image at shape (1, 3, 256, 256)\n",
            "\n",
            "0: 256x256 43 Cell-M3yVs, 19.4ms\n",
            "Speed: 3.4ms preprocess, 19.4ms inference, 7.1ms postprocess per image at shape (1, 3, 256, 256)\n",
            "\n",
            "0: 256x256 25 Cell-M3yVs, 24.0ms\n",
            "Speed: 1.3ms preprocess, 24.0ms inference, 4.8ms postprocess per image at shape (1, 3, 256, 256)\n",
            "\n",
            "0: 256x256 300 Cell-M3yVs, 27.4ms\n",
            "Speed: 0.7ms preprocess, 27.4ms inference, 14.6ms postprocess per image at shape (1, 3, 256, 256)\n",
            "\n",
            "0: 256x256 300 Cell-M3yVs, 19.1ms\n",
            "Speed: 0.8ms preprocess, 19.1ms inference, 14.7ms postprocess per image at shape (1, 3, 256, 256)\n",
            "\n",
            "0: 256x256 300 Cell-M3yVs, 17.7ms\n",
            "Speed: 0.6ms preprocess, 17.7ms inference, 14.3ms postprocess per image at shape (1, 3, 256, 256)\n",
            "\n",
            "0: 256x256 99 Cell-M3yVs, 19.8ms\n",
            "Speed: 1.3ms preprocess, 19.8ms inference, 7.8ms postprocess per image at shape (1, 3, 256, 256)\n",
            "\n",
            "0: 256x256 300 Cell-M3yVs, 19.8ms\n",
            "Speed: 1.5ms preprocess, 19.8ms inference, 15.5ms postprocess per image at shape (1, 3, 256, 256)\n",
            "\n",
            "0: 256x256 300 Cell-M3yVs, 17.9ms\n",
            "Speed: 0.6ms preprocess, 17.9ms inference, 14.7ms postprocess per image at shape (1, 3, 256, 256)\n",
            "\n",
            "0: 256x256 300 Cell-M3yVs, 31.1ms\n",
            "Speed: 0.8ms preprocess, 31.1ms inference, 15.5ms postprocess per image at shape (1, 3, 256, 256)\n",
            "\n",
            "0: 256x256 300 Cell-M3yVs, 33.4ms\n",
            "Speed: 1.0ms preprocess, 33.4ms inference, 17.0ms postprocess per image at shape (1, 3, 256, 256)\n",
            "\n",
            "0: 256x256 237 Cell-M3yVs, 37.4ms\n",
            "Speed: 0.7ms preprocess, 37.4ms inference, 14.0ms postprocess per image at shape (1, 3, 256, 256)\n",
            "\n",
            "0: 256x256 14 Cell-M3yVs, 26.1ms\n",
            "Speed: 0.7ms preprocess, 26.1ms inference, 6.9ms postprocess per image at shape (1, 3, 256, 256)\n",
            "\n",
            "0: 256x256 300 Cell-M3yVs, 22.1ms\n",
            "Speed: 0.8ms preprocess, 22.1ms inference, 17.8ms postprocess per image at shape (1, 3, 256, 256)\n",
            "\n",
            "0: 256x256 300 Cell-M3yVs, 20.9ms\n",
            "Speed: 0.7ms preprocess, 20.9ms inference, 16.4ms postprocess per image at shape (1, 3, 256, 256)\n",
            "\n",
            "0: 256x256 300 Cell-M3yVs, 26.6ms\n",
            "Speed: 0.7ms preprocess, 26.6ms inference, 18.8ms postprocess per image at shape (1, 3, 256, 256)\n",
            "\n",
            "0: 256x256 300 Cell-M3yVs, 30.0ms\n",
            "Speed: 1.0ms preprocess, 30.0ms inference, 16.8ms postprocess per image at shape (1, 3, 256, 256)\n",
            "\n",
            "0: 256x256 289 Cell-M3yVs, 24.1ms\n",
            "Speed: 0.7ms preprocess, 24.1ms inference, 15.7ms postprocess per image at shape (1, 3, 256, 256)\n",
            "\n",
            "0: 256x256 230 Cell-M3yVs, 23.8ms\n",
            "Speed: 0.6ms preprocess, 23.8ms inference, 11.9ms postprocess per image at shape (1, 3, 256, 256)\n",
            "\n",
            "0: 256x256 300 Cell-M3yVs, 22.8ms\n",
            "Speed: 0.6ms preprocess, 22.8ms inference, 14.6ms postprocess per image at shape (1, 3, 256, 256)\n",
            "\n",
            "0: 256x256 300 Cell-M3yVs, 18.1ms\n",
            "Speed: 0.6ms preprocess, 18.1ms inference, 14.3ms postprocess per image at shape (1, 3, 256, 256)\n",
            "\n",
            "0: 256x256 154 Cell-M3yVs, 22.9ms\n",
            "Speed: 0.6ms preprocess, 22.9ms inference, 11.3ms postprocess per image at shape (1, 3, 256, 256)\n",
            "\n",
            "0: 256x256 300 Cell-M3yVs, 22.2ms\n",
            "Speed: 0.7ms preprocess, 22.2ms inference, 16.1ms postprocess per image at shape (1, 3, 256, 256)\n",
            "\n",
            "0: 256x256 300 Cell-M3yVs, 23.8ms\n",
            "Speed: 0.6ms preprocess, 23.8ms inference, 15.2ms postprocess per image at shape (1, 3, 256, 256)\n",
            "\n",
            "0: 256x256 300 Cell-M3yVs, 30.9ms\n",
            "Speed: 0.8ms preprocess, 30.9ms inference, 19.8ms postprocess per image at shape (1, 3, 256, 256)\n",
            "\n",
            "0: 256x256 300 Cell-M3yVs, 29.1ms\n",
            "Speed: 4.0ms preprocess, 29.1ms inference, 15.6ms postprocess per image at shape (1, 3, 256, 256)\n",
            "\n",
            "0: 256x256 236 Cell-M3yVs, 29.3ms\n",
            "Speed: 0.8ms preprocess, 29.3ms inference, 15.6ms postprocess per image at shape (1, 3, 256, 256)\n",
            "\n",
            "0: 256x256 300 Cell-M3yVs, 26.0ms\n",
            "Speed: 0.7ms preprocess, 26.0ms inference, 15.3ms postprocess per image at shape (1, 3, 256, 256)\n",
            "\n",
            "0: 256x256 300 Cell-M3yVs, 25.8ms\n",
            "Speed: 0.7ms preprocess, 25.8ms inference, 15.9ms postprocess per image at shape (1, 3, 256, 256)\n",
            "\n",
            "0: 256x256 300 Cell-M3yVs, 24.7ms\n",
            "Speed: 0.7ms preprocess, 24.7ms inference, 15.3ms postprocess per image at shape (1, 3, 256, 256)\n",
            "\n",
            "0: 256x256 300 Cell-M3yVs, 27.0ms\n",
            "Speed: 0.7ms preprocess, 27.0ms inference, 14.7ms postprocess per image at shape (1, 3, 256, 256)\n",
            "\n",
            "0: 256x256 300 Cell-M3yVs, 29.3ms\n",
            "Speed: 1.2ms preprocess, 29.3ms inference, 15.1ms postprocess per image at shape (1, 3, 256, 256)\n",
            "\n",
            "0: 256x256 100 Cell-M3yVs, 27.8ms\n",
            "Speed: 1.5ms preprocess, 27.8ms inference, 12.4ms postprocess per image at shape (1, 3, 256, 256)\n",
            "\n",
            "0: 256x256 300 Cell-M3yVs, 30.4ms\n",
            "Speed: 0.7ms preprocess, 30.4ms inference, 15.2ms postprocess per image at shape (1, 3, 256, 256)\n",
            "\n",
            "0: 256x256 300 Cell-M3yVs, 26.9ms\n",
            "Speed: 0.6ms preprocess, 26.9ms inference, 14.9ms postprocess per image at shape (1, 3, 256, 256)\n",
            "\n",
            "0: 256x256 300 Cell-M3yVs, 22.9ms\n",
            "Speed: 0.7ms preprocess, 22.9ms inference, 15.2ms postprocess per image at shape (1, 3, 256, 256)\n",
            "\n",
            "0: 256x256 199 Cell-M3yVs, 24.2ms\n",
            "Speed: 0.7ms preprocess, 24.2ms inference, 11.7ms postprocess per image at shape (1, 3, 256, 256)\n",
            "\n",
            "0: 256x256 13 Cell-M3yVs, 19.7ms\n",
            "Speed: 0.6ms preprocess, 19.7ms inference, 4.3ms postprocess per image at shape (1, 3, 256, 256)\n",
            "\n",
            "0: 256x256 33 Cell-M3yVs, 19.5ms\n",
            "Speed: 1.2ms preprocess, 19.5ms inference, 4.3ms postprocess per image at shape (1, 3, 256, 256)\n",
            "\n",
            "0: 256x256 300 Cell-M3yVs, 22.2ms\n",
            "Speed: 0.7ms preprocess, 22.2ms inference, 14.8ms postprocess per image at shape (1, 3, 256, 256)\n",
            "\n",
            "0: 256x256 300 Cell-M3yVs, 19.1ms\n",
            "Speed: 1.4ms preprocess, 19.1ms inference, 14.6ms postprocess per image at shape (1, 3, 256, 256)\n",
            "\n",
            "0: 256x256 300 Cell-M3yVs, 19.6ms\n",
            "Speed: 1.5ms preprocess, 19.6ms inference, 14.8ms postprocess per image at shape (1, 3, 256, 256)\n",
            "\n",
            "0: 256x256 300 Cell-M3yVs, 28.5ms\n",
            "Speed: 0.7ms preprocess, 28.5ms inference, 15.5ms postprocess per image at shape (1, 3, 256, 256)\n",
            "\n",
            "0: 256x256 300 Cell-M3yVs, 34.8ms\n",
            "Speed: 1.7ms preprocess, 34.8ms inference, 17.0ms postprocess per image at shape (1, 3, 256, 256)\n",
            "\n",
            "0: 256x256 300 Cell-M3yVs, 37.7ms\n",
            "Speed: 0.8ms preprocess, 37.7ms inference, 15.3ms postprocess per image at shape (1, 3, 256, 256)\n",
            "\n",
            "0: 256x256 300 Cell-M3yVs, 28.6ms\n",
            "Speed: 0.8ms preprocess, 28.6ms inference, 15.3ms postprocess per image at shape (1, 3, 256, 256)\n",
            "\n",
            "0: 256x256 (no detections), 27.6ms\n",
            "Speed: 0.8ms preprocess, 27.6ms inference, 0.6ms postprocess per image at shape (1, 3, 256, 256)\n",
            "\n",
            "0: 256x256 188 Cell-M3yVs, 19.3ms\n",
            "Speed: 0.6ms preprocess, 19.3ms inference, 10.5ms postprocess per image at shape (1, 3, 256, 256)\n",
            "\n",
            "0: 256x256 11 Cell-M3yVs, 20.7ms\n",
            "Speed: 0.6ms preprocess, 20.7ms inference, 6.7ms postprocess per image at shape (1, 3, 256, 256)\n",
            "\n",
            "0: 256x256 272 Cell-M3yVs, 23.8ms\n",
            "Speed: 0.6ms preprocess, 23.8ms inference, 17.4ms postprocess per image at shape (1, 3, 256, 256)\n",
            "\n",
            "0: 256x256 300 Cell-M3yVs, 19.7ms\n",
            "Speed: 0.7ms preprocess, 19.7ms inference, 14.4ms postprocess per image at shape (1, 3, 256, 256)\n",
            "\n",
            "0: 256x256 300 Cell-M3yVs, 22.6ms\n",
            "Speed: 0.7ms preprocess, 22.6ms inference, 15.2ms postprocess per image at shape (1, 3, 256, 256)\n",
            "\n",
            "0: 256x256 300 Cell-M3yVs, 21.2ms\n",
            "Speed: 0.7ms preprocess, 21.2ms inference, 15.2ms postprocess per image at shape (1, 3, 256, 256)\n",
            "\n",
            "0: 256x256 4 Cell-M3yVs, 25.6ms\n",
            "Speed: 0.7ms preprocess, 25.6ms inference, 4.2ms postprocess per image at shape (1, 3, 256, 256)\n",
            "\n",
            "0: 256x256 148 Cell-M3yVs, 20.7ms\n",
            "Speed: 0.7ms preprocess, 20.7ms inference, 9.2ms postprocess per image at shape (1, 3, 256, 256)\n",
            "\n",
            "0: 256x256 74 Cell-M3yVs, 21.2ms\n",
            "Speed: 0.6ms preprocess, 21.2ms inference, 6.3ms postprocess per image at shape (1, 3, 256, 256)\n",
            "\n",
            "0: 256x256 300 Cell-M3yVs, 21.5ms\n",
            "Speed: 0.6ms preprocess, 21.5ms inference, 14.6ms postprocess per image at shape (1, 3, 256, 256)\n",
            "\n",
            "0: 256x256 300 Cell-M3yVs, 26.5ms\n",
            "Speed: 0.6ms preprocess, 26.5ms inference, 14.8ms postprocess per image at shape (1, 3, 256, 256)\n",
            "\n",
            "0: 256x256 300 Cell-M3yVs, 23.9ms\n",
            "Speed: 0.7ms preprocess, 23.9ms inference, 14.7ms postprocess per image at shape (1, 3, 256, 256)\n",
            "\n",
            "0: 256x256 300 Cell-M3yVs, 23.9ms\n",
            "Speed: 0.6ms preprocess, 23.9ms inference, 15.0ms postprocess per image at shape (1, 3, 256, 256)\n",
            "\n",
            "0: 256x256 300 Cell-M3yVs, 28.9ms\n",
            "Speed: 0.6ms preprocess, 28.9ms inference, 14.9ms postprocess per image at shape (1, 3, 256, 256)\n",
            "\n",
            "0: 256x256 300 Cell-M3yVs, 32.9ms\n",
            "Speed: 1.3ms preprocess, 32.9ms inference, 15.8ms postprocess per image at shape (1, 3, 256, 256)\n",
            "\n",
            "0: 256x256 300 Cell-M3yVs, 38.0ms\n",
            "Speed: 1.4ms preprocess, 38.0ms inference, 17.2ms postprocess per image at shape (1, 3, 256, 256)\n",
            "\n",
            "0: 256x256 11 Cell-M3yVs, 29.6ms\n",
            "Speed: 0.8ms preprocess, 29.6ms inference, 6.4ms postprocess per image at shape (1, 3, 256, 256)\n",
            "\n",
            "0: 256x256 300 Cell-M3yVs, 35.6ms\n",
            "Speed: 1.1ms preprocess, 35.6ms inference, 15.2ms postprocess per image at shape (1, 3, 256, 256)\n",
            "\n",
            "0: 256x256 37 Cell-M3yVs, 29.0ms\n",
            "Speed: 0.7ms preprocess, 29.0ms inference, 5.2ms postprocess per image at shape (1, 3, 256, 256)\n",
            "\n",
            "0: 256x256 300 Cell-M3yVs, 22.2ms\n",
            "Speed: 0.7ms preprocess, 22.2ms inference, 15.2ms postprocess per image at shape (1, 3, 256, 256)\n",
            "\n",
            "0: 256x256 300 Cell-M3yVs, 20.1ms\n",
            "Speed: 0.6ms preprocess, 20.1ms inference, 18.2ms postprocess per image at shape (1, 3, 256, 256)\n",
            "\n",
            "0: 256x256 17 Cell-M3yVs, 20.0ms\n",
            "Speed: 0.7ms preprocess, 20.0ms inference, 4.1ms postprocess per image at shape (1, 3, 256, 256)\n",
            "\n",
            "0: 256x256 13 Cell-M3yVs, 27.4ms\n",
            "Speed: 0.6ms preprocess, 27.4ms inference, 8.1ms postprocess per image at shape (1, 3, 256, 256)\n",
            "\n",
            "0: 256x256 300 Cell-M3yVs, 19.3ms\n",
            "Speed: 0.6ms preprocess, 19.3ms inference, 14.8ms postprocess per image at shape (1, 3, 256, 256)\n",
            "\n",
            "0: 256x256 300 Cell-M3yVs, 22.5ms\n",
            "Speed: 0.7ms preprocess, 22.5ms inference, 18.1ms postprocess per image at shape (1, 3, 256, 256)\n",
            "\n",
            "0: 256x256 108 Cell-M3yVs, 22.9ms\n",
            "Speed: 0.7ms preprocess, 22.9ms inference, 7.6ms postprocess per image at shape (1, 3, 256, 256)\n",
            "\n",
            "0: 256x256 300 Cell-M3yVs, 19.1ms\n",
            "Speed: 0.6ms preprocess, 19.1ms inference, 15.9ms postprocess per image at shape (1, 3, 256, 256)\n",
            "\n",
            "0: 256x256 300 Cell-M3yVs, 21.0ms\n",
            "Speed: 0.7ms preprocess, 21.0ms inference, 15.5ms postprocess per image at shape (1, 3, 256, 256)\n",
            "\n",
            "0: 256x256 151 Cell-M3yVs, 20.5ms\n",
            "Speed: 0.6ms preprocess, 20.5ms inference, 9.1ms postprocess per image at shape (1, 3, 256, 256)\n",
            "\n",
            "0: 256x256 300 Cell-M3yVs, 20.1ms\n",
            "Speed: 0.6ms preprocess, 20.1ms inference, 15.0ms postprocess per image at shape (1, 3, 256, 256)\n",
            "\n",
            "0: 256x256 161 Cell-M3yVs, 19.6ms\n",
            "Speed: 0.7ms preprocess, 19.6ms inference, 11.2ms postprocess per image at shape (1, 3, 256, 256)\n",
            "\n",
            "0: 256x256 58 Cell-M3yVs, 19.8ms\n",
            "Speed: 0.6ms preprocess, 19.8ms inference, 5.5ms postprocess per image at shape (1, 3, 256, 256)\n",
            "\n",
            "0: 256x256 300 Cell-M3yVs, 21.3ms\n",
            "Speed: 0.6ms preprocess, 21.3ms inference, 14.6ms postprocess per image at shape (1, 3, 256, 256)\n",
            "\n",
            "0: 256x256 300 Cell-M3yVs, 23.6ms\n",
            "Speed: 0.7ms preprocess, 23.6ms inference, 19.2ms postprocess per image at shape (1, 3, 256, 256)\n",
            "\n",
            "0: 256x256 3 Cell-M3yVs, 22.9ms\n",
            "Speed: 0.7ms preprocess, 22.9ms inference, 5.5ms postprocess per image at shape (1, 3, 256, 256)\n",
            "\n",
            "0: 256x256 300 Cell-M3yVs, 22.3ms\n",
            "Speed: 0.7ms preprocess, 22.3ms inference, 14.6ms postprocess per image at shape (1, 3, 256, 256)\n",
            "\n",
            "0: 256x256 300 Cell-M3yVs, 24.7ms\n",
            "Speed: 0.7ms preprocess, 24.7ms inference, 14.8ms postprocess per image at shape (1, 3, 256, 256)\n",
            "\n",
            "0: 256x256 300 Cell-M3yVs, 33.4ms\n",
            "Speed: 0.6ms preprocess, 33.4ms inference, 16.9ms postprocess per image at shape (1, 3, 256, 256)\n",
            "\n",
            "0: 256x256 300 Cell-M3yVs, 40.6ms\n",
            "Speed: 0.7ms preprocess, 40.6ms inference, 17.4ms postprocess per image at shape (1, 3, 256, 256)\n",
            "\n",
            "0: 256x256 82 Cell-M3yVs, 34.8ms\n",
            "Speed: 0.7ms preprocess, 34.8ms inference, 8.6ms postprocess per image at shape (1, 3, 256, 256)\n",
            "\n",
            "0: 256x256 300 Cell-M3yVs, 27.1ms\n",
            "Speed: 0.7ms preprocess, 27.1ms inference, 15.6ms postprocess per image at shape (1, 3, 256, 256)\n",
            "\n",
            "0: 256x256 300 Cell-M3yVs, 28.5ms\n",
            "Speed: 0.6ms preprocess, 28.5ms inference, 15.3ms postprocess per image at shape (1, 3, 256, 256)\n",
            "\n",
            "0: 256x256 300 Cell-M3yVs, 26.0ms\n",
            "Speed: 0.6ms preprocess, 26.0ms inference, 14.8ms postprocess per image at shape (1, 3, 256, 256)\n",
            "\n",
            "0: 256x256 300 Cell-M3yVs, 28.4ms\n",
            "Speed: 0.7ms preprocess, 28.4ms inference, 15.1ms postprocess per image at shape (1, 3, 256, 256)\n",
            "\n",
            "0: 256x256 278 Cell-M3yVs, 31.9ms\n",
            "Speed: 0.8ms preprocess, 31.9ms inference, 14.7ms postprocess per image at shape (1, 3, 256, 256)\n",
            "\n",
            "0: 256x256 133 Cell-M3yVs, 27.5ms\n",
            "Speed: 0.7ms preprocess, 27.5ms inference, 8.6ms postprocess per image at shape (1, 3, 256, 256)\n",
            "\n",
            "0: 256x256 300 Cell-M3yVs, 23.2ms\n",
            "Speed: 0.6ms preprocess, 23.2ms inference, 15.2ms postprocess per image at shape (1, 3, 256, 256)\n",
            "\n",
            "0: 256x256 300 Cell-M3yVs, 21.9ms\n",
            "Speed: 1.0ms preprocess, 21.9ms inference, 14.7ms postprocess per image at shape (1, 3, 256, 256)\n",
            "\n",
            "0: 256x256 300 Cell-M3yVs, 19.7ms\n",
            "Speed: 0.6ms preprocess, 19.7ms inference, 14.7ms postprocess per image at shape (1, 3, 256, 256)\n",
            "\n",
            "0: 256x256 37 Cell-M3yVs, 23.8ms\n",
            "Speed: 1.4ms preprocess, 23.8ms inference, 4.8ms postprocess per image at shape (1, 3, 256, 256)\n",
            "\n",
            "0: 256x256 300 Cell-M3yVs, 28.7ms\n",
            "Speed: 1.1ms preprocess, 28.7ms inference, 14.8ms postprocess per image at shape (1, 3, 256, 256)\n",
            "\n",
            "0: 256x256 300 Cell-M3yVs, 27.2ms\n",
            "Speed: 0.7ms preprocess, 27.2ms inference, 17.2ms postprocess per image at shape (1, 3, 256, 256)\n",
            "\n",
            "0: 256x256 119 Cell-M3yVs, 30.4ms\n",
            "Speed: 0.7ms preprocess, 30.4ms inference, 12.7ms postprocess per image at shape (1, 3, 256, 256)\n",
            "\n",
            "0: 256x256 300 Cell-M3yVs, 35.3ms\n",
            "Speed: 1.2ms preprocess, 35.3ms inference, 17.4ms postprocess per image at shape (1, 3, 256, 256)\n",
            "\n",
            "0: 256x256 43 Cell-M3yVs, 34.2ms\n",
            "Speed: 1.3ms preprocess, 34.2ms inference, 5.2ms postprocess per image at shape (1, 3, 256, 256)\n",
            "\n",
            "0: 256x256 193 Cell-M3yVs, 32.8ms\n",
            "Speed: 0.7ms preprocess, 32.8ms inference, 10.7ms postprocess per image at shape (1, 3, 256, 256)\n",
            "\n",
            "0: 256x256 300 Cell-M3yVs, 25.4ms\n",
            "Speed: 0.6ms preprocess, 25.4ms inference, 19.2ms postprocess per image at shape (1, 3, 256, 256)\n",
            "\n",
            "0: 256x256 300 Cell-M3yVs, 28.6ms\n",
            "Speed: 0.6ms preprocess, 28.6ms inference, 15.2ms postprocess per image at shape (1, 3, 256, 256)\n",
            "\n",
            "0: 256x256 300 Cell-M3yVs, 25.2ms\n",
            "Speed: 0.6ms preprocess, 25.2ms inference, 14.9ms postprocess per image at shape (1, 3, 256, 256)\n",
            "\n",
            "0: 256x256 5 Cell-M3yVs, 26.1ms\n",
            "Speed: 0.6ms preprocess, 26.1ms inference, 3.7ms postprocess per image at shape (1, 3, 256, 256)\n",
            "\n",
            "0: 256x256 300 Cell-M3yVs, 20.0ms\n",
            "Speed: 0.6ms preprocess, 20.0ms inference, 14.7ms postprocess per image at shape (1, 3, 256, 256)\n",
            "\n",
            "0: 256x256 300 Cell-M3yVs, 19.2ms\n",
            "Speed: 0.6ms preprocess, 19.2ms inference, 14.9ms postprocess per image at shape (1, 3, 256, 256)\n",
            "\n",
            "0: 256x256 300 Cell-M3yVs, 28.4ms\n",
            "Speed: 1.2ms preprocess, 28.4ms inference, 14.9ms postprocess per image at shape (1, 3, 256, 256)\n",
            "\n",
            "0: 256x256 300 Cell-M3yVs, 24.2ms\n",
            "Speed: 0.6ms preprocess, 24.2ms inference, 16.0ms postprocess per image at shape (1, 3, 256, 256)\n",
            "\n",
            "0: 256x256 300 Cell-M3yVs, 21.8ms\n",
            "Speed: 0.6ms preprocess, 21.8ms inference, 17.2ms postprocess per image at shape (1, 3, 256, 256)\n",
            "\n",
            "0: 256x256 300 Cell-M3yVs, 22.0ms\n",
            "Speed: 0.7ms preprocess, 22.0ms inference, 15.8ms postprocess per image at shape (1, 3, 256, 256)\n",
            "\n",
            "0: 256x256 (no detections), 18.6ms\n",
            "Speed: 0.6ms preprocess, 18.6ms inference, 0.4ms postprocess per image at shape (1, 3, 256, 256)\n",
            "\n",
            "0: 256x256 300 Cell-M3yVs, 20.3ms\n",
            "Speed: 0.6ms preprocess, 20.3ms inference, 15.0ms postprocess per image at shape (1, 3, 256, 256)\n",
            "\n",
            "0: 256x256 3 Cell-M3yVs, 19.9ms\n",
            "Speed: 0.6ms preprocess, 19.9ms inference, 4.0ms postprocess per image at shape (1, 3, 256, 256)\n",
            "\n",
            "0: 256x256 10 Cell-M3yVs, 21.8ms\n",
            "Speed: 0.6ms preprocess, 21.8ms inference, 5.1ms postprocess per image at shape (1, 3, 256, 256)\n",
            "\n",
            "0: 256x256 300 Cell-M3yVs, 21.4ms\n",
            "Speed: 0.7ms preprocess, 21.4ms inference, 16.7ms postprocess per image at shape (1, 3, 256, 256)\n",
            "\n",
            "0: 256x256 180 Cell-M3yVs, 33.5ms\n",
            "Speed: 0.6ms preprocess, 33.5ms inference, 12.0ms postprocess per image at shape (1, 3, 256, 256)\n",
            "\n",
            "0: 256x256 300 Cell-M3yVs, 26.5ms\n",
            "Speed: 0.8ms preprocess, 26.5ms inference, 15.4ms postprocess per image at shape (1, 3, 256, 256)\n",
            "\n",
            "0: 256x256 300 Cell-M3yVs, 23.8ms\n",
            "Speed: 0.8ms preprocess, 23.8ms inference, 17.5ms postprocess per image at shape (1, 3, 256, 256)\n",
            "\n",
            "0: 256x256 300 Cell-M3yVs, 35.8ms\n",
            "Speed: 0.7ms preprocess, 35.8ms inference, 17.1ms postprocess per image at shape (1, 3, 256, 256)\n",
            "\n",
            "0: 256x256 281 Cell-M3yVs, 28.3ms\n",
            "Speed: 0.7ms preprocess, 28.3ms inference, 15.1ms postprocess per image at shape (1, 3, 256, 256)\n",
            "\n",
            "0: 256x256 300 Cell-M3yVs, 33.4ms\n",
            "Speed: 0.7ms preprocess, 33.4ms inference, 16.4ms postprocess per image at shape (1, 3, 256, 256)\n",
            "\n",
            "0: 256x256 300 Cell-M3yVs, 34.4ms\n",
            "Speed: 1.8ms preprocess, 34.4ms inference, 16.4ms postprocess per image at shape (1, 3, 256, 256)\n",
            "\n",
            "0: 256x256 300 Cell-M3yVs, 28.8ms\n",
            "Speed: 0.7ms preprocess, 28.8ms inference, 16.0ms postprocess per image at shape (1, 3, 256, 256)\n",
            "\n",
            "0: 256x256 295 Cell-M3yVs, 25.0ms\n",
            "Speed: 0.6ms preprocess, 25.0ms inference, 15.1ms postprocess per image at shape (1, 3, 256, 256)\n",
            "\n",
            "0: 256x256 300 Cell-M3yVs, 28.0ms\n",
            "Speed: 1.8ms preprocess, 28.0ms inference, 18.0ms postprocess per image at shape (1, 3, 256, 256)\n",
            "\n",
            "0: 256x256 300 Cell-M3yVs, 32.4ms\n",
            "Speed: 0.8ms preprocess, 32.4ms inference, 15.9ms postprocess per image at shape (1, 3, 256, 256)\n",
            "\n",
            "0: 256x256 300 Cell-M3yVs, 26.1ms\n",
            "Speed: 0.6ms preprocess, 26.1ms inference, 15.3ms postprocess per image at shape (1, 3, 256, 256)\n",
            "\n",
            "0: 256x256 300 Cell-M3yVs, 26.8ms\n",
            "Speed: 0.9ms preprocess, 26.8ms inference, 16.2ms postprocess per image at shape (1, 3, 256, 256)\n",
            "\n",
            "0: 256x256 300 Cell-M3yVs, 27.5ms\n",
            "Speed: 0.7ms preprocess, 27.5ms inference, 16.8ms postprocess per image at shape (1, 3, 256, 256)\n",
            "\n",
            "0: 256x256 300 Cell-M3yVs, 28.1ms\n",
            "Speed: 0.7ms preprocess, 28.1ms inference, 16.0ms postprocess per image at shape (1, 3, 256, 256)\n",
            "\n",
            "0: 256x256 300 Cell-M3yVs, 34.1ms\n",
            "Speed: 0.7ms preprocess, 34.1ms inference, 16.5ms postprocess per image at shape (1, 3, 256, 256)\n",
            "\n",
            "0: 256x256 300 Cell-M3yVs, 39.5ms\n",
            "Speed: 0.7ms preprocess, 39.5ms inference, 20.2ms postprocess per image at shape (1, 3, 256, 256)\n",
            "\n",
            "0: 256x256 21 Cell-M3yVs, 41.9ms\n",
            "Speed: 1.0ms preprocess, 41.9ms inference, 4.6ms postprocess per image at shape (1, 3, 256, 256)\n",
            "\n",
            "0: 256x256 300 Cell-M3yVs, 34.6ms\n",
            "Speed: 1.3ms preprocess, 34.6ms inference, 15.8ms postprocess per image at shape (1, 3, 256, 256)\n",
            "\n",
            "0: 256x256 12 Cell-M3yVs, 32.0ms\n",
            "Speed: 0.7ms preprocess, 32.0ms inference, 5.6ms postprocess per image at shape (1, 3, 256, 256)\n",
            "\n",
            "0: 256x256 264 Cell-M3yVs, 30.2ms\n",
            "Speed: 0.7ms preprocess, 30.2ms inference, 14.1ms postprocess per image at shape (1, 3, 256, 256)\n",
            "\n",
            "0: 256x256 300 Cell-M3yVs, 24.6ms\n",
            "Speed: 0.7ms preprocess, 24.6ms inference, 16.4ms postprocess per image at shape (1, 3, 256, 256)\n",
            "\n",
            "0: 256x256 300 Cell-M3yVs, 22.6ms\n",
            "Speed: 0.7ms preprocess, 22.6ms inference, 15.2ms postprocess per image at shape (1, 3, 256, 256)\n",
            "\n",
            "0: 256x256 300 Cell-M3yVs, 32.9ms\n",
            "Speed: 0.6ms preprocess, 32.9ms inference, 16.1ms postprocess per image at shape (1, 3, 256, 256)\n",
            "\n",
            "0: 256x256 300 Cell-M3yVs, 41.0ms\n",
            "Speed: 0.8ms preprocess, 41.0ms inference, 17.9ms postprocess per image at shape (1, 3, 256, 256)\n",
            "\n",
            "0: 256x256 300 Cell-M3yVs, 36.8ms\n",
            "Speed: 0.9ms preprocess, 36.8ms inference, 16.5ms postprocess per image at shape (1, 3, 256, 256)\n",
            "\n",
            "0: 256x256 300 Cell-M3yVs, 25.6ms\n",
            "Speed: 0.7ms preprocess, 25.6ms inference, 16.4ms postprocess per image at shape (1, 3, 256, 256)\n",
            "\n",
            "0: 256x256 300 Cell-M3yVs, 23.6ms\n",
            "Speed: 0.6ms preprocess, 23.6ms inference, 16.1ms postprocess per image at shape (1, 3, 256, 256)\n",
            "\n",
            "0: 256x256 300 Cell-M3yVs, 18.0ms\n",
            "Speed: 1.8ms preprocess, 18.0ms inference, 14.4ms postprocess per image at shape (1, 3, 256, 256)\n",
            "\n",
            "0: 256x256 81 Cell-M3yVs, 18.6ms\n",
            "Speed: 0.6ms preprocess, 18.6ms inference, 5.6ms postprocess per image at shape (1, 3, 256, 256)\n",
            "\n",
            "0: 256x256 300 Cell-M3yVs, 17.1ms\n",
            "Speed: 0.7ms preprocess, 17.1ms inference, 14.2ms postprocess per image at shape (1, 3, 256, 256)\n",
            "\n",
            "0: 256x256 226 Cell-M3yVs, 18.3ms\n",
            "Speed: 0.7ms preprocess, 18.3ms inference, 12.3ms postprocess per image at shape (1, 3, 256, 256)\n",
            "\n",
            "0: 256x256 300 Cell-M3yVs, 23.6ms\n",
            "Speed: 0.7ms preprocess, 23.6ms inference, 15.4ms postprocess per image at shape (1, 3, 256, 256)\n",
            "\n",
            "0: 256x256 26 Cell-M3yVs, 26.7ms\n",
            "Speed: 2.0ms preprocess, 26.7ms inference, 4.8ms postprocess per image at shape (1, 3, 256, 256)\n",
            "\n",
            "0: 256x256 300 Cell-M3yVs, 24.3ms\n",
            "Speed: 0.7ms preprocess, 24.3ms inference, 15.2ms postprocess per image at shape (1, 3, 256, 256)\n",
            "\n",
            "0: 256x256 194 Cell-M3yVs, 20.6ms\n",
            "Speed: 0.7ms preprocess, 20.6ms inference, 10.7ms postprocess per image at shape (1, 3, 256, 256)\n",
            "\n",
            "0: 256x256 111 Cell-M3yVs, 17.3ms\n",
            "Speed: 0.8ms preprocess, 17.3ms inference, 7.2ms postprocess per image at shape (1, 3, 256, 256)\n",
            "\n",
            "0: 256x256 226 Cell-M3yVs, 17.4ms\n",
            "Speed: 0.6ms preprocess, 17.4ms inference, 11.1ms postprocess per image at shape (1, 3, 256, 256)\n",
            "\n",
            "0: 256x256 300 Cell-M3yVs, 15.2ms\n",
            "Speed: 1.0ms preprocess, 15.2ms inference, 14.0ms postprocess per image at shape (1, 3, 256, 256)\n",
            "\n",
            "0: 256x256 300 Cell-M3yVs, 17.1ms\n",
            "Speed: 0.6ms preprocess, 17.1ms inference, 14.0ms postprocess per image at shape (1, 3, 256, 256)\n",
            "\n",
            "0: 256x256 86 Cell-M3yVs, 19.5ms\n",
            "Speed: 0.9ms preprocess, 19.5ms inference, 5.7ms postprocess per image at shape (1, 3, 256, 256)\n",
            "\n",
            "0: 256x256 300 Cell-M3yVs, 20.6ms\n",
            "Speed: 0.6ms preprocess, 20.6ms inference, 14.6ms postprocess per image at shape (1, 3, 256, 256)\n",
            "\n",
            "0: 256x256 300 Cell-M3yVs, 17.3ms\n",
            "Speed: 0.6ms preprocess, 17.3ms inference, 14.1ms postprocess per image at shape (1, 3, 256, 256)\n",
            "\n",
            "0: 256x256 176 Cell-M3yVs, 17.9ms\n",
            "Speed: 0.6ms preprocess, 17.9ms inference, 9.3ms postprocess per image at shape (1, 3, 256, 256)\n",
            "\n",
            "0: 256x256 258 Cell-M3yVs, 26.7ms\n",
            "Speed: 0.6ms preprocess, 26.7ms inference, 13.6ms postprocess per image at shape (1, 3, 256, 256)\n",
            "\n",
            "0: 256x256 59 Cell-M3yVs, 17.8ms\n",
            "Speed: 0.9ms preprocess, 17.8ms inference, 4.6ms postprocess per image at shape (1, 3, 256, 256)\n",
            "\n",
            "0: 256x256 300 Cell-M3yVs, 17.0ms\n",
            "Speed: 0.9ms preprocess, 17.0ms inference, 13.8ms postprocess per image at shape (1, 3, 256, 256)\n",
            "\n",
            "0: 256x256 300 Cell-M3yVs, 18.0ms\n",
            "Speed: 0.9ms preprocess, 18.0ms inference, 13.5ms postprocess per image at shape (1, 3, 256, 256)\n",
            "\n",
            "0: 256x256 300 Cell-M3yVs, 18.0ms\n",
            "Speed: 1.2ms preprocess, 18.0ms inference, 14.0ms postprocess per image at shape (1, 3, 256, 256)\n",
            "\n",
            "0: 256x256 300 Cell-M3yVs, 17.3ms\n",
            "Speed: 0.9ms preprocess, 17.3ms inference, 13.7ms postprocess per image at shape (1, 3, 256, 256)\n",
            "\n",
            "0: 256x256 46 Cell-M3yVs, 18.4ms\n",
            "Speed: 0.6ms preprocess, 18.4ms inference, 4.2ms postprocess per image at shape (1, 3, 256, 256)\n",
            "\n",
            "0: 256x256 300 Cell-M3yVs, 14.4ms\n",
            "Speed: 0.7ms preprocess, 14.4ms inference, 13.8ms postprocess per image at shape (1, 3, 256, 256)\n",
            "\n",
            "0: 256x256 65 Cell-M3yVs, 17.1ms\n",
            "Speed: 0.9ms preprocess, 17.1ms inference, 4.8ms postprocess per image at shape (1, 3, 256, 256)\n",
            "\n",
            "0: 256x256 300 Cell-M3yVs, 18.7ms\n",
            "Speed: 0.6ms preprocess, 18.7ms inference, 13.4ms postprocess per image at shape (1, 3, 256, 256)\n",
            "\n",
            "0: 256x256 300 Cell-M3yVs, 24.3ms\n",
            "Speed: 1.0ms preprocess, 24.3ms inference, 14.5ms postprocess per image at shape (1, 3, 256, 256)\n",
            "\n",
            "0: 256x256 244 Cell-M3yVs, 22.7ms\n",
            "Speed: 0.7ms preprocess, 22.7ms inference, 12.3ms postprocess per image at shape (1, 3, 256, 256)\n",
            "\n",
            "0: 256x256 23 Cell-M3yVs, 25.7ms\n",
            "Speed: 0.6ms preprocess, 25.7ms inference, 4.6ms postprocess per image at shape (1, 3, 256, 256)\n",
            "\n",
            "0: 256x256 300 Cell-M3yVs, 23.1ms\n",
            "Speed: 0.7ms preprocess, 23.1ms inference, 14.4ms postprocess per image at shape (1, 3, 256, 256)\n",
            "\n",
            "0: 256x256 300 Cell-M3yVs, 26.2ms\n",
            "Speed: 0.6ms preprocess, 26.2ms inference, 14.7ms postprocess per image at shape (1, 3, 256, 256)\n",
            "\n",
            "0: 256x256 300 Cell-M3yVs, 20.4ms\n",
            "Speed: 0.7ms preprocess, 20.4ms inference, 13.6ms postprocess per image at shape (1, 3, 256, 256)\n",
            "\n",
            "0: 256x256 300 Cell-M3yVs, 16.8ms\n",
            "Speed: 0.7ms preprocess, 16.8ms inference, 13.9ms postprocess per image at shape (1, 3, 256, 256)\n",
            "\n",
            "0: 256x256 300 Cell-M3yVs, 21.8ms\n",
            "Speed: 0.7ms preprocess, 21.8ms inference, 13.5ms postprocess per image at shape (1, 3, 256, 256)\n",
            "\n",
            "0: 256x256 155 Cell-M3yVs, 17.5ms\n",
            "Speed: 0.7ms preprocess, 17.5ms inference, 8.0ms postprocess per image at shape (1, 3, 256, 256)\n",
            "\n",
            "0: 256x256 40 Cell-M3yVs, 17.3ms\n",
            "Speed: 0.7ms preprocess, 17.3ms inference, 4.0ms postprocess per image at shape (1, 3, 256, 256)\n",
            "\n",
            "0: 256x256 265 Cell-M3yVs, 18.2ms\n",
            "Speed: 0.6ms preprocess, 18.2ms inference, 12.0ms postprocess per image at shape (1, 3, 256, 256)\n",
            "\n",
            "0: 256x256 300 Cell-M3yVs, 14.8ms\n",
            "Speed: 1.4ms preprocess, 14.8ms inference, 13.4ms postprocess per image at shape (1, 3, 256, 256)\n",
            "\n",
            "0: 256x256 104 Cell-M3yVs, 16.4ms\n",
            "Speed: 1.0ms preprocess, 16.4ms inference, 6.0ms postprocess per image at shape (1, 3, 256, 256)\n",
            "\n",
            "0: 256x256 156 Cell-M3yVs, 21.0ms\n",
            "Speed: 0.7ms preprocess, 21.0ms inference, 10.7ms postprocess per image at shape (1, 3, 256, 256)\n",
            "\n",
            "0: 256x256 9 Cell-M3yVs, 17.5ms\n",
            "Speed: 0.7ms preprocess, 17.5ms inference, 3.6ms postprocess per image at shape (1, 3, 256, 256)\n",
            "\n",
            "0: 256x256 290 Cell-M3yVs, 16.4ms\n",
            "Speed: 0.6ms preprocess, 16.4ms inference, 13.1ms postprocess per image at shape (1, 3, 256, 256)\n",
            "\n",
            "0: 256x256 300 Cell-M3yVs, 16.8ms\n",
            "Speed: 0.6ms preprocess, 16.8ms inference, 13.5ms postprocess per image at shape (1, 3, 256, 256)\n",
            "\n",
            "0: 256x256 224 Cell-M3yVs, 16.1ms\n",
            "Speed: 0.6ms preprocess, 16.1ms inference, 10.7ms postprocess per image at shape (1, 3, 256, 256)\n",
            "\n",
            "0: 256x256 300 Cell-M3yVs, 17.4ms\n",
            "Speed: 0.6ms preprocess, 17.4ms inference, 13.7ms postprocess per image at shape (1, 3, 256, 256)\n",
            "\n",
            "0: 256x256 15 Cell-M3yVs, 18.4ms\n",
            "Speed: 0.6ms preprocess, 18.4ms inference, 2.8ms postprocess per image at shape (1, 3, 256, 256)\n",
            "\n",
            "0: 256x256 300 Cell-M3yVs, 14.7ms\n",
            "Speed: 0.6ms preprocess, 14.7ms inference, 13.3ms postprocess per image at shape (1, 3, 256, 256)\n",
            "\n",
            "0: 256x256 300 Cell-M3yVs, 16.9ms\n",
            "Speed: 1.2ms preprocess, 16.9ms inference, 13.2ms postprocess per image at shape (1, 3, 256, 256)\n",
            "\n",
            "0: 256x256 300 Cell-M3yVs, 17.0ms\n",
            "Speed: 0.6ms preprocess, 17.0ms inference, 13.9ms postprocess per image at shape (1, 3, 256, 256)\n",
            "\n",
            "0: 256x256 21 Cell-M3yVs, 23.2ms\n",
            "Speed: 0.8ms preprocess, 23.2ms inference, 4.8ms postprocess per image at shape (1, 3, 256, 256)\n",
            "\n",
            "0: 256x256 300 Cell-M3yVs, 33.5ms\n",
            "Speed: 1.5ms preprocess, 33.5ms inference, 14.1ms postprocess per image at shape (1, 3, 256, 256)\n",
            "\n",
            "0: 256x256 270 Cell-M3yVs, 22.9ms\n",
            "Speed: 1.7ms preprocess, 22.9ms inference, 13.6ms postprocess per image at shape (1, 3, 256, 256)\n",
            "\n",
            "0: 256x256 300 Cell-M3yVs, 26.7ms\n",
            "Speed: 0.7ms preprocess, 26.7ms inference, 14.7ms postprocess per image at shape (1, 3, 256, 256)\n",
            "\n",
            "0: 256x256 300 Cell-M3yVs, 25.7ms\n",
            "Speed: 0.8ms preprocess, 25.7ms inference, 14.5ms postprocess per image at shape (1, 3, 256, 256)\n",
            "\n",
            "0: 256x256 133 Cell-M3yVs, 24.1ms\n",
            "Speed: 0.7ms preprocess, 24.1ms inference, 8.1ms postprocess per image at shape (1, 3, 256, 256)\n",
            "\n",
            "0: 256x256 129 Cell-M3yVs, 19.0ms\n",
            "Speed: 0.7ms preprocess, 19.0ms inference, 8.3ms postprocess per image at shape (1, 3, 256, 256)\n",
            "\n",
            "0: 256x256 300 Cell-M3yVs, 17.4ms\n",
            "Speed: 0.6ms preprocess, 17.4ms inference, 13.7ms postprocess per image at shape (1, 3, 256, 256)\n",
            "\n",
            "0: 256x256 300 Cell-M3yVs, 21.0ms\n",
            "Speed: 1.2ms preprocess, 21.0ms inference, 13.4ms postprocess per image at shape (1, 3, 256, 256)\n",
            "\n",
            "0: 256x256 300 Cell-M3yVs, 16.6ms\n",
            "Speed: 0.7ms preprocess, 16.6ms inference, 13.7ms postprocess per image at shape (1, 3, 256, 256)\n",
            "\n",
            "0: 256x256 300 Cell-M3yVs, 17.4ms\n",
            "Speed: 0.6ms preprocess, 17.4ms inference, 13.5ms postprocess per image at shape (1, 3, 256, 256)\n",
            "\n",
            "0: 256x256 300 Cell-M3yVs, 19.4ms\n",
            "Speed: 0.6ms preprocess, 19.4ms inference, 13.5ms postprocess per image at shape (1, 3, 256, 256)\n",
            "\n",
            "0: 256x256 300 Cell-M3yVs, 16.1ms\n",
            "Speed: 0.6ms preprocess, 16.1ms inference, 13.6ms postprocess per image at shape (1, 3, 256, 256)\n",
            "\n",
            "0: 256x256 55 Cell-M3yVs, 28.6ms\n",
            "Speed: 0.6ms preprocess, 28.6ms inference, 5.5ms postprocess per image at shape (1, 3, 256, 256)\n",
            "\n",
            "0: 256x256 300 Cell-M3yVs, 16.8ms\n",
            "Speed: 0.6ms preprocess, 16.8ms inference, 13.6ms postprocess per image at shape (1, 3, 256, 256)\n",
            "\n",
            "0: 256x256 300 Cell-M3yVs, 18.9ms\n",
            "Speed: 0.6ms preprocess, 18.9ms inference, 13.4ms postprocess per image at shape (1, 3, 256, 256)\n",
            "\n",
            "0: 256x256 127 Cell-M3yVs, 17.2ms\n",
            "Speed: 1.0ms preprocess, 17.2ms inference, 7.4ms postprocess per image at shape (1, 3, 256, 256)\n",
            "\n",
            "0: 256x256 300 Cell-M3yVs, 18.8ms\n",
            "Speed: 0.7ms preprocess, 18.8ms inference, 13.5ms postprocess per image at shape (1, 3, 256, 256)\n",
            "\n",
            "0: 256x256 300 Cell-M3yVs, 17.6ms\n",
            "Speed: 0.9ms preprocess, 17.6ms inference, 13.6ms postprocess per image at shape (1, 3, 256, 256)\n",
            "\n",
            "0: 256x256 216 Cell-M3yVs, 17.5ms\n",
            "Speed: 1.3ms preprocess, 17.5ms inference, 10.6ms postprocess per image at shape (1, 3, 256, 256)\n",
            "\n",
            "0: 256x256 300 Cell-M3yVs, 16.6ms\n",
            "Speed: 0.7ms preprocess, 16.6ms inference, 13.8ms postprocess per image at shape (1, 3, 256, 256)\n",
            "\n",
            "0: 256x256 300 Cell-M3yVs, 23.3ms\n",
            "Speed: 0.7ms preprocess, 23.3ms inference, 14.4ms postprocess per image at shape (1, 3, 256, 256)\n",
            "\n",
            "0: 256x256 300 Cell-M3yVs, 22.6ms\n",
            "Speed: 0.6ms preprocess, 22.6ms inference, 14.2ms postprocess per image at shape (1, 3, 256, 256)\n",
            "\n",
            "0: 256x256 300 Cell-M3yVs, 26.3ms\n",
            "Speed: 0.8ms preprocess, 26.3ms inference, 14.3ms postprocess per image at shape (1, 3, 256, 256)\n",
            "\n",
            "0: 256x256 7 Cell-M3yVs, 23.6ms\n",
            "Speed: 0.7ms preprocess, 23.6ms inference, 4.1ms postprocess per image at shape (1, 3, 256, 256)\n",
            "\n",
            "0: 256x256 300 Cell-M3yVs, 22.8ms\n",
            "Speed: 0.6ms preprocess, 22.8ms inference, 14.8ms postprocess per image at shape (1, 3, 256, 256)\n",
            "\n",
            "0: 256x256 300 Cell-M3yVs, 21.0ms\n",
            "Speed: 1.0ms preprocess, 21.0ms inference, 14.2ms postprocess per image at shape (1, 3, 256, 256)\n",
            "\n",
            "0: 256x256 300 Cell-M3yVs, 17.7ms\n",
            "Speed: 1.4ms preprocess, 17.7ms inference, 13.5ms postprocess per image at shape (1, 3, 256, 256)\n",
            "\n",
            "0: 256x256 300 Cell-M3yVs, 17.5ms\n",
            "Speed: 1.0ms preprocess, 17.5ms inference, 13.4ms postprocess per image at shape (1, 3, 256, 256)\n",
            "\n",
            "0: 256x256 300 Cell-M3yVs, 18.1ms\n",
            "Speed: 0.7ms preprocess, 18.1ms inference, 13.5ms postprocess per image at shape (1, 3, 256, 256)\n",
            "\n",
            "0: 256x256 287 Cell-M3yVs, 17.2ms\n",
            "Speed: 0.7ms preprocess, 17.2ms inference, 13.1ms postprocess per image at shape (1, 3, 256, 256)\n",
            "\n",
            "0: 256x256 300 Cell-M3yVs, 17.3ms\n",
            "Speed: 0.7ms preprocess, 17.3ms inference, 13.5ms postprocess per image at shape (1, 3, 256, 256)\n",
            "\n",
            "0: 256x256 300 Cell-M3yVs, 15.4ms\n",
            "Speed: 0.7ms preprocess, 15.4ms inference, 13.5ms postprocess per image at shape (1, 3, 256, 256)\n",
            "\n",
            "0: 256x256 300 Cell-M3yVs, 16.9ms\n",
            "Speed: 0.6ms preprocess, 16.9ms inference, 13.3ms postprocess per image at shape (1, 3, 256, 256)\n",
            "\n",
            "0: 256x256 300 Cell-M3yVs, 17.7ms\n",
            "Speed: 1.2ms preprocess, 17.7ms inference, 13.4ms postprocess per image at shape (1, 3, 256, 256)\n",
            "\n",
            "0: 256x256 300 Cell-M3yVs, 27.2ms\n",
            "Speed: 0.6ms preprocess, 27.2ms inference, 15.2ms postprocess per image at shape (1, 3, 256, 256)\n",
            "\n",
            "0: 256x256 300 Cell-M3yVs, 18.5ms\n",
            "Speed: 1.1ms preprocess, 18.5ms inference, 13.5ms postprocess per image at shape (1, 3, 256, 256)\n",
            "\n",
            "0: 256x256 300 Cell-M3yVs, 18.4ms\n",
            "Speed: 1.0ms preprocess, 18.4ms inference, 13.5ms postprocess per image at shape (1, 3, 256, 256)\n",
            "\n",
            "0: 256x256 300 Cell-M3yVs, 16.6ms\n",
            "Speed: 1.0ms preprocess, 16.6ms inference, 13.4ms postprocess per image at shape (1, 3, 256, 256)\n",
            "\n",
            "0: 256x256 266 Cell-M3yVs, 16.5ms\n",
            "Speed: 0.6ms preprocess, 16.5ms inference, 12.0ms postprocess per image at shape (1, 3, 256, 256)\n",
            "\n",
            "0: 256x256 41 Cell-M3yVs, 17.9ms\n",
            "Speed: 0.7ms preprocess, 17.9ms inference, 4.1ms postprocess per image at shape (1, 3, 256, 256)\n",
            "\n",
            "0: 256x256 300 Cell-M3yVs, 17.2ms\n",
            "Speed: 1.2ms preprocess, 17.2ms inference, 13.8ms postprocess per image at shape (1, 3, 256, 256)\n",
            "\n",
            "0: 256x256 300 Cell-M3yVs, 23.3ms\n",
            "Speed: 0.6ms preprocess, 23.3ms inference, 14.5ms postprocess per image at shape (1, 3, 256, 256)\n",
            "\n",
            "0: 256x256 300 Cell-M3yVs, 25.3ms\n",
            "Speed: 0.7ms preprocess, 25.3ms inference, 14.1ms postprocess per image at shape (1, 3, 256, 256)\n",
            "\n",
            "0: 256x256 216 Cell-M3yVs, 26.7ms\n",
            "Speed: 1.3ms preprocess, 26.7ms inference, 11.5ms postprocess per image at shape (1, 3, 256, 256)\n",
            "\n",
            "0: 256x256 300 Cell-M3yVs, 23.9ms\n",
            "Speed: 1.2ms preprocess, 23.9ms inference, 14.5ms postprocess per image at shape (1, 3, 256, 256)\n",
            "\n",
            "0: 256x256 300 Cell-M3yVs, 18.4ms\n",
            "Speed: 1.1ms preprocess, 18.4ms inference, 13.5ms postprocess per image at shape (1, 3, 256, 256)\n",
            "\n",
            "0: 256x256 300 Cell-M3yVs, 16.6ms\n",
            "Speed: 0.7ms preprocess, 16.6ms inference, 13.5ms postprocess per image at shape (1, 3, 256, 256)\n",
            "\n",
            "0: 256x256 300 Cell-M3yVs, 17.6ms\n",
            "Speed: 0.9ms preprocess, 17.6ms inference, 13.3ms postprocess per image at shape (1, 3, 256, 256)\n",
            "\n",
            "0: 256x256 283 Cell-M3yVs, 18.0ms\n",
            "Speed: 1.0ms preprocess, 18.0ms inference, 12.7ms postprocess per image at shape (1, 3, 256, 256)\n",
            "\n",
            "0: 256x256 300 Cell-M3yVs, 18.2ms\n",
            "Speed: 1.0ms preprocess, 18.2ms inference, 13.8ms postprocess per image at shape (1, 3, 256, 256)\n",
            "\n",
            "0: 256x256 112 Cell-M3yVs, 18.2ms\n",
            "Speed: 0.7ms preprocess, 18.2ms inference, 6.7ms postprocess per image at shape (1, 3, 256, 256)\n",
            "\n",
            "0: 256x256 300 Cell-M3yVs, 17.4ms\n",
            "Speed: 0.7ms preprocess, 17.4ms inference, 13.3ms postprocess per image at shape (1, 3, 256, 256)\n",
            "\n",
            "0: 256x256 57 Cell-M3yVs, 17.8ms\n",
            "Speed: 1.0ms preprocess, 17.8ms inference, 4.4ms postprocess per image at shape (1, 3, 256, 256)\n",
            "\n",
            "0: 256x256 300 Cell-M3yVs, 19.0ms\n",
            "Speed: 1.0ms preprocess, 19.0ms inference, 14.1ms postprocess per image at shape (1, 3, 256, 256)\n",
            "\n",
            "0: 256x256 300 Cell-M3yVs, 19.5ms\n",
            "Speed: 0.7ms preprocess, 19.5ms inference, 13.2ms postprocess per image at shape (1, 3, 256, 256)\n",
            "\n",
            "0: 256x256 160 Cell-M3yVs, 17.5ms\n",
            "Speed: 0.7ms preprocess, 17.5ms inference, 8.5ms postprocess per image at shape (1, 3, 256, 256)\n",
            "\n",
            "0: 256x256 300 Cell-M3yVs, 19.7ms\n",
            "Speed: 0.8ms preprocess, 19.7ms inference, 14.5ms postprocess per image at shape (1, 3, 256, 256)\n",
            "\n",
            "0: 256x256 300 Cell-M3yVs, 22.2ms\n",
            "Speed: 0.6ms preprocess, 22.2ms inference, 14.1ms postprocess per image at shape (1, 3, 256, 256)\n",
            "\n",
            "0: 256x256 300 Cell-M3yVs, 19.6ms\n",
            "Speed: 0.7ms preprocess, 19.6ms inference, 13.5ms postprocess per image at shape (1, 3, 256, 256)\n",
            "\n",
            "0: 256x256 300 Cell-M3yVs, 17.3ms\n",
            "Speed: 0.6ms preprocess, 17.3ms inference, 13.4ms postprocess per image at shape (1, 3, 256, 256)\n",
            "\n",
            "0: 256x256 300 Cell-M3yVs, 19.6ms\n",
            "Speed: 0.6ms preprocess, 19.6ms inference, 13.3ms postprocess per image at shape (1, 3, 256, 256)\n",
            "\n",
            "0: 256x256 300 Cell-M3yVs, 18.9ms\n",
            "Speed: 0.8ms preprocess, 18.9ms inference, 13.5ms postprocess per image at shape (1, 3, 256, 256)\n",
            "\n",
            "0: 256x256 300 Cell-M3yVs, 21.2ms\n",
            "Speed: 0.7ms preprocess, 21.2ms inference, 14.0ms postprocess per image at shape (1, 3, 256, 256)\n",
            "\n",
            "0: 256x256 141 Cell-M3yVs, 27.3ms\n",
            "Speed: 0.7ms preprocess, 27.3ms inference, 8.7ms postprocess per image at shape (1, 3, 256, 256)\n",
            "\n",
            "0: 256x256 300 Cell-M3yVs, 24.7ms\n",
            "Speed: 0.7ms preprocess, 24.7ms inference, 14.6ms postprocess per image at shape (1, 3, 256, 256)\n",
            "\n",
            "0: 256x256 300 Cell-M3yVs, 25.3ms\n",
            "Speed: 0.8ms preprocess, 25.3ms inference, 14.8ms postprocess per image at shape (1, 3, 256, 256)\n",
            "\n",
            "0: 256x256 300 Cell-M3yVs, 24.2ms\n",
            "Speed: 0.7ms preprocess, 24.2ms inference, 14.7ms postprocess per image at shape (1, 3, 256, 256)\n",
            "\n",
            "0: 256x256 182 Cell-M3yVs, 17.0ms\n",
            "Speed: 0.8ms preprocess, 17.0ms inference, 9.4ms postprocess per image at shape (1, 3, 256, 256)\n",
            "\n",
            "0: 256x256 300 Cell-M3yVs, 17.3ms\n",
            "Speed: 0.6ms preprocess, 17.3ms inference, 13.4ms postprocess per image at shape (1, 3, 256, 256)\n",
            "\n",
            "0: 256x256 300 Cell-M3yVs, 16.6ms\n",
            "Speed: 0.6ms preprocess, 16.6ms inference, 13.3ms postprocess per image at shape (1, 3, 256, 256)\n",
            "\n",
            "0: 256x256 71 Cell-M3yVs, 19.8ms\n",
            "Speed: 0.6ms preprocess, 19.8ms inference, 5.0ms postprocess per image at shape (1, 3, 256, 256)\n",
            "\n",
            "0: 256x256 300 Cell-M3yVs, 17.9ms\n",
            "Speed: 0.7ms preprocess, 17.9ms inference, 13.4ms postprocess per image at shape (1, 3, 256, 256)\n",
            "\n",
            "0: 256x256 4 Cell-M3yVs, 15.8ms\n",
            "Speed: 0.7ms preprocess, 15.8ms inference, 2.9ms postprocess per image at shape (1, 3, 256, 256)\n",
            "\n",
            "0: 256x256 300 Cell-M3yVs, 18.0ms\n",
            "Speed: 0.5ms preprocess, 18.0ms inference, 13.3ms postprocess per image at shape (1, 3, 256, 256)\n",
            "\n",
            "0: 256x256 14 Cell-M3yVs, 18.3ms\n",
            "Speed: 0.6ms preprocess, 18.3ms inference, 3.5ms postprocess per image at shape (1, 3, 256, 256)\n",
            "\n",
            "0: 256x256 300 Cell-M3yVs, 17.2ms\n",
            "Speed: 0.7ms preprocess, 17.2ms inference, 13.3ms postprocess per image at shape (1, 3, 256, 256)\n",
            "\n",
            "0: 256x256 295 Cell-M3yVs, 17.5ms\n",
            "Speed: 1.4ms preprocess, 17.5ms inference, 13.2ms postprocess per image at shape (1, 3, 256, 256)\n",
            "\n",
            "0: 256x256 300 Cell-M3yVs, 17.9ms\n",
            "Speed: 0.9ms preprocess, 17.9ms inference, 13.6ms postprocess per image at shape (1, 3, 256, 256)\n",
            "\n",
            "0: 256x256 300 Cell-M3yVs, 22.6ms\n",
            "Speed: 1.0ms preprocess, 22.6ms inference, 14.5ms postprocess per image at shape (1, 3, 256, 256)\n",
            "\n",
            "0: 256x256 300 Cell-M3yVs, 25.5ms\n",
            "Speed: 0.6ms preprocess, 25.5ms inference, 14.4ms postprocess per image at shape (1, 3, 256, 256)\n",
            "\n",
            "0: 256x256 117 Cell-M3yVs, 21.1ms\n",
            "Speed: 1.6ms preprocess, 21.1ms inference, 6.9ms postprocess per image at shape (1, 3, 256, 256)\n",
            "\n",
            "0: 256x256 300 Cell-M3yVs, 18.7ms\n",
            "Speed: 0.6ms preprocess, 18.7ms inference, 13.8ms postprocess per image at shape (1, 3, 256, 256)\n",
            "\n",
            "0: 256x256 300 Cell-M3yVs, 19.0ms\n",
            "Speed: 0.6ms preprocess, 19.0ms inference, 13.2ms postprocess per image at shape (1, 3, 256, 256)\n",
            "\n",
            "0: 256x256 300 Cell-M3yVs, 20.9ms\n",
            "Speed: 1.5ms preprocess, 20.9ms inference, 13.9ms postprocess per image at shape (1, 3, 256, 256)\n",
            "\n",
            "0: 256x256 300 Cell-M3yVs, 21.7ms\n",
            "Speed: 1.3ms preprocess, 21.7ms inference, 16.4ms postprocess per image at shape (1, 3, 256, 256)\n",
            "\n",
            "0: 256x256 300 Cell-M3yVs, 25.3ms\n",
            "Speed: 0.7ms preprocess, 25.3ms inference, 14.4ms postprocess per image at shape (1, 3, 256, 256)\n",
            "\n",
            "0: 256x256 300 Cell-M3yVs, 24.7ms\n",
            "Speed: 0.7ms preprocess, 24.7ms inference, 14.6ms postprocess per image at shape (1, 3, 256, 256)\n",
            "\n",
            "0: 256x256 300 Cell-M3yVs, 20.2ms\n",
            "Speed: 2.4ms preprocess, 20.2ms inference, 14.6ms postprocess per image at shape (1, 3, 256, 256)\n",
            "\n",
            "0: 256x256 77 Cell-M3yVs, 21.7ms\n",
            "Speed: 0.7ms preprocess, 21.7ms inference, 6.1ms postprocess per image at shape (1, 3, 256, 256)\n",
            "\n",
            "0: 256x256 300 Cell-M3yVs, 19.5ms\n",
            "Speed: 1.4ms preprocess, 19.5ms inference, 13.3ms postprocess per image at shape (1, 3, 256, 256)\n",
            "\n",
            "0: 256x256 300 Cell-M3yVs, 15.9ms\n",
            "Speed: 1.0ms preprocess, 15.9ms inference, 13.6ms postprocess per image at shape (1, 3, 256, 256)\n",
            "\n",
            "0: 256x256 300 Cell-M3yVs, 16.2ms\n",
            "Speed: 1.3ms preprocess, 16.2ms inference, 13.4ms postprocess per image at shape (1, 3, 256, 256)\n",
            "\n",
            "0: 256x256 300 Cell-M3yVs, 20.8ms\n",
            "Speed: 1.5ms preprocess, 20.8ms inference, 13.5ms postprocess per image at shape (1, 3, 256, 256)\n",
            "\n",
            "0: 256x256 300 Cell-M3yVs, 15.1ms\n",
            "Speed: 0.6ms preprocess, 15.1ms inference, 13.6ms postprocess per image at shape (1, 3, 256, 256)\n",
            "\n",
            "0: 256x256 300 Cell-M3yVs, 18.5ms\n",
            "Speed: 0.9ms preprocess, 18.5ms inference, 13.2ms postprocess per image at shape (1, 3, 256, 256)\n",
            "\n",
            "0: 256x256 300 Cell-M3yVs, 17.1ms\n",
            "Speed: 0.6ms preprocess, 17.1ms inference, 13.3ms postprocess per image at shape (1, 3, 256, 256)\n",
            "\n",
            "0: 256x256 246 Cell-M3yVs, 18.4ms\n",
            "Speed: 0.8ms preprocess, 18.4ms inference, 12.3ms postprocess per image at shape (1, 3, 256, 256)\n",
            "\n",
            "0: 256x256 300 Cell-M3yVs, 16.8ms\n",
            "Speed: 0.7ms preprocess, 16.8ms inference, 13.4ms postprocess per image at shape (1, 3, 256, 256)\n",
            "\n",
            "0: 256x256 11 Cell-M3yVs, 16.8ms\n",
            "Speed: 1.1ms preprocess, 16.8ms inference, 2.9ms postprocess per image at shape (1, 3, 256, 256)\n",
            "\n",
            "0: 256x256 300 Cell-M3yVs, 17.8ms\n",
            "Speed: 1.3ms preprocess, 17.8ms inference, 13.8ms postprocess per image at shape (1, 3, 256, 256)\n",
            "\n",
            "0: 256x256 134 Cell-M3yVs, 15.5ms\n",
            "Speed: 0.9ms preprocess, 15.5ms inference, 7.2ms postprocess per image at shape (1, 3, 256, 256)\n",
            "\n",
            "0: 256x256 300 Cell-M3yVs, 23.7ms\n",
            "Speed: 0.9ms preprocess, 23.7ms inference, 14.5ms postprocess per image at shape (1, 3, 256, 256)\n",
            "\n",
            "0: 256x256 300 Cell-M3yVs, 18.3ms\n",
            "Speed: 0.7ms preprocess, 18.3ms inference, 13.9ms postprocess per image at shape (1, 3, 256, 256)\n",
            "\n",
            "0: 256x256 300 Cell-M3yVs, 17.1ms\n",
            "Speed: 0.7ms preprocess, 17.1ms inference, 13.5ms postprocess per image at shape (1, 3, 256, 256)\n",
            "\n",
            "0: 256x256 300 Cell-M3yVs, 18.8ms\n",
            "Speed: 0.6ms preprocess, 18.8ms inference, 13.5ms postprocess per image at shape (1, 3, 256, 256)\n",
            "\n",
            "0: 256x256 33 Cell-M3yVs, 27.2ms\n",
            "Speed: 1.5ms preprocess, 27.2ms inference, 4.8ms postprocess per image at shape (1, 3, 256, 256)\n",
            "\n",
            "0: 256x256 51 Cell-M3yVs, 22.5ms\n",
            "Speed: 0.6ms preprocess, 22.5ms inference, 6.0ms postprocess per image at shape (1, 3, 256, 256)\n",
            "\n",
            "0: 256x256 300 Cell-M3yVs, 22.9ms\n",
            "Speed: 1.2ms preprocess, 22.9ms inference, 14.4ms postprocess per image at shape (1, 3, 256, 256)\n",
            "\n",
            "0: 256x256 300 Cell-M3yVs, 22.1ms\n",
            "Speed: 0.7ms preprocess, 22.1ms inference, 14.6ms postprocess per image at shape (1, 3, 256, 256)\n",
            "\n",
            "0: 256x256 300 Cell-M3yVs, 43.1ms\n",
            "Speed: 0.6ms preprocess, 43.1ms inference, 14.9ms postprocess per image at shape (1, 3, 256, 256)\n",
            "\n",
            "0: 256x256 300 Cell-M3yVs, 20.2ms\n",
            "Speed: 0.7ms preprocess, 20.2ms inference, 13.5ms postprocess per image at shape (1, 3, 256, 256)\n",
            "\n",
            "0: 256x256 192 Cell-M3yVs, 26.6ms\n",
            "Speed: 0.7ms preprocess, 26.6ms inference, 9.7ms postprocess per image at shape (1, 3, 256, 256)\n",
            "\n",
            "0: 256x256 93 Cell-M3yVs, 18.3ms\n",
            "Speed: 0.7ms preprocess, 18.3ms inference, 6.1ms postprocess per image at shape (1, 3, 256, 256)\n",
            "\n",
            "0: 256x256 66 Cell-M3yVs, 24.6ms\n",
            "Speed: 0.7ms preprocess, 24.6ms inference, 5.0ms postprocess per image at shape (1, 3, 256, 256)\n",
            "\n",
            "0: 256x256 300 Cell-M3yVs, 18.3ms\n",
            "Speed: 0.7ms preprocess, 18.3ms inference, 14.3ms postprocess per image at shape (1, 3, 256, 256)\n",
            "\n",
            "0: 256x256 300 Cell-M3yVs, 16.7ms\n",
            "Speed: 0.6ms preprocess, 16.7ms inference, 13.4ms postprocess per image at shape (1, 3, 256, 256)\n",
            "\n",
            "0: 256x256 300 Cell-M3yVs, 17.7ms\n",
            "Speed: 0.7ms preprocess, 17.7ms inference, 13.4ms postprocess per image at shape (1, 3, 256, 256)\n",
            "\n",
            "0: 256x256 111 Cell-M3yVs, 16.5ms\n",
            "Speed: 0.8ms preprocess, 16.5ms inference, 6.3ms postprocess per image at shape (1, 3, 256, 256)\n",
            "\n",
            "0: 256x256 300 Cell-M3yVs, 21.1ms\n",
            "Speed: 0.6ms preprocess, 21.1ms inference, 13.6ms postprocess per image at shape (1, 3, 256, 256)\n",
            "\n",
            "0: 256x256 237 Cell-M3yVs, 18.7ms\n",
            "Speed: 0.7ms preprocess, 18.7ms inference, 11.1ms postprocess per image at shape (1, 3, 256, 256)\n",
            "\n",
            "0: 256x256 300 Cell-M3yVs, 17.8ms\n",
            "Speed: 0.8ms preprocess, 17.8ms inference, 14.2ms postprocess per image at shape (1, 3, 256, 256)\n",
            "\n",
            "0: 256x256 222 Cell-M3yVs, 17.0ms\n",
            "Speed: 0.7ms preprocess, 17.0ms inference, 10.5ms postprocess per image at shape (1, 3, 256, 256)\n",
            "\n",
            "0: 256x256 300 Cell-M3yVs, 17.3ms\n",
            "Speed: 0.8ms preprocess, 17.3ms inference, 13.4ms postprocess per image at shape (1, 3, 256, 256)\n",
            "\n",
            "0: 256x256 300 Cell-M3yVs, 22.7ms\n",
            "Speed: 0.6ms preprocess, 22.7ms inference, 16.7ms postprocess per image at shape (1, 3, 256, 256)\n",
            "\n",
            "0: 256x256 300 Cell-M3yVs, 16.9ms\n",
            "Speed: 0.7ms preprocess, 16.9ms inference, 14.1ms postprocess per image at shape (1, 3, 256, 256)\n",
            "\n",
            "0: 256x256 300 Cell-M3yVs, 17.5ms\n",
            "Speed: 0.9ms preprocess, 17.5ms inference, 13.5ms postprocess per image at shape (1, 3, 256, 256)\n",
            "\n",
            "0: 256x256 63 Cell-M3yVs, 23.4ms\n",
            "Speed: 1.0ms preprocess, 23.4ms inference, 5.4ms postprocess per image at shape (1, 3, 256, 256)\n",
            "\n",
            "0: 256x256 300 Cell-M3yVs, 24.2ms\n",
            "Speed: 0.7ms preprocess, 24.2ms inference, 14.6ms postprocess per image at shape (1, 3, 256, 256)\n",
            "\n",
            "0: 256x256 76 Cell-M3yVs, 28.8ms\n",
            "Speed: 0.7ms preprocess, 28.8ms inference, 5.9ms postprocess per image at shape (1, 3, 256, 256)\n",
            "\n",
            "0: 256x256 6 Cell-M3yVs, 24.6ms\n",
            "Speed: 0.7ms preprocess, 24.6ms inference, 4.1ms postprocess per image at shape (1, 3, 256, 256)\n",
            "\n",
            "0: 256x256 300 Cell-M3yVs, 28.1ms\n",
            "Speed: 0.6ms preprocess, 28.1ms inference, 14.2ms postprocess per image at shape (1, 3, 256, 256)\n",
            "\n",
            "0: 256x256 10 Cell-M3yVs, 26.1ms\n",
            "Speed: 1.4ms preprocess, 26.1ms inference, 5.4ms postprocess per image at shape (1, 3, 256, 256)\n",
            "\n",
            "0: 256x256 300 Cell-M3yVs, 26.1ms\n",
            "Speed: 1.0ms preprocess, 26.1ms inference, 14.7ms postprocess per image at shape (1, 3, 256, 256)\n",
            "\n",
            "0: 256x256 300 Cell-M3yVs, 18.0ms\n",
            "Speed: 1.0ms preprocess, 18.0ms inference, 13.6ms postprocess per image at shape (1, 3, 256, 256)\n",
            "\n",
            "0: 256x256 113 Cell-M3yVs, 17.0ms\n",
            "Speed: 0.9ms preprocess, 17.0ms inference, 6.6ms postprocess per image at shape (1, 3, 256, 256)\n",
            "\n",
            "0: 256x256 300 Cell-M3yVs, 18.4ms\n",
            "Speed: 0.6ms preprocess, 18.4ms inference, 13.5ms postprocess per image at shape (1, 3, 256, 256)\n",
            "\n",
            "0: 256x256 300 Cell-M3yVs, 19.2ms\n",
            "Speed: 0.7ms preprocess, 19.2ms inference, 14.0ms postprocess per image at shape (1, 3, 256, 256)\n",
            "\n",
            "0: 256x256 300 Cell-M3yVs, 18.4ms\n",
            "Speed: 0.9ms preprocess, 18.4ms inference, 13.5ms postprocess per image at shape (1, 3, 256, 256)\n",
            "\n",
            "0: 256x256 300 Cell-M3yVs, 17.6ms\n",
            "Speed: 0.8ms preprocess, 17.6ms inference, 13.4ms postprocess per image at shape (1, 3, 256, 256)\n",
            "\n",
            "0: 256x256 300 Cell-M3yVs, 16.9ms\n",
            "Speed: 0.6ms preprocess, 16.9ms inference, 13.9ms postprocess per image at shape (1, 3, 256, 256)\n",
            "\n",
            "0: 256x256 300 Cell-M3yVs, 16.4ms\n",
            "Speed: 0.9ms preprocess, 16.4ms inference, 13.6ms postprocess per image at shape (1, 3, 256, 256)\n",
            "\n",
            "0: 256x256 300 Cell-M3yVs, 16.4ms\n",
            "Speed: 0.7ms preprocess, 16.4ms inference, 13.6ms postprocess per image at shape (1, 3, 256, 256)\n",
            "\n",
            "0: 256x256 300 Cell-M3yVs, 20.3ms\n",
            "Speed: 0.7ms preprocess, 20.3ms inference, 13.4ms postprocess per image at shape (1, 3, 256, 256)\n",
            "\n",
            "0: 256x256 300 Cell-M3yVs, 17.2ms\n",
            "Speed: 0.9ms preprocess, 17.2ms inference, 13.3ms postprocess per image at shape (1, 3, 256, 256)\n",
            "\n",
            "0: 256x256 300 Cell-M3yVs, 17.0ms\n",
            "Speed: 1.0ms preprocess, 17.0ms inference, 13.4ms postprocess per image at shape (1, 3, 256, 256)\n",
            "\n",
            "0: 256x256 46 Cell-M3yVs, 26.6ms\n",
            "Speed: 0.7ms preprocess, 26.6ms inference, 5.3ms postprocess per image at shape (1, 3, 256, 256)\n",
            "\n",
            "0: 256x256 16 Cell-M3yVs, 16.0ms\n",
            "Speed: 0.8ms preprocess, 16.0ms inference, 2.9ms postprocess per image at shape (1, 3, 256, 256)\n",
            "\n",
            "0: 256x256 (no detections), 17.5ms\n",
            "Speed: 0.8ms preprocess, 17.5ms inference, 0.4ms postprocess per image at shape (1, 3, 256, 256)\n",
            "\n",
            "0: 256x256 300 Cell-M3yVs, 21.1ms\n",
            "Speed: 1.9ms preprocess, 21.1ms inference, 14.2ms postprocess per image at shape (1, 3, 256, 256)\n",
            "\n",
            "0: 256x256 7 Cell-M3yVs, 24.7ms\n",
            "Speed: 1.1ms preprocess, 24.7ms inference, 4.4ms postprocess per image at shape (1, 3, 256, 256)\n",
            "\n",
            "0: 256x256 300 Cell-M3yVs, 24.5ms\n",
            "Speed: 0.8ms preprocess, 24.5ms inference, 14.2ms postprocess per image at shape (1, 3, 256, 256)\n",
            "\n",
            "0: 256x256 200 Cell-M3yVs, 27.2ms\n",
            "Speed: 0.6ms preprocess, 27.2ms inference, 10.9ms postprocess per image at shape (1, 3, 256, 256)\n",
            "\n",
            "0: 256x256 300 Cell-M3yVs, 24.9ms\n",
            "Speed: 0.8ms preprocess, 24.9ms inference, 14.8ms postprocess per image at shape (1, 3, 256, 256)\n",
            "\n",
            "0: 256x256 300 Cell-M3yVs, 18.4ms\n",
            "Speed: 0.7ms preprocess, 18.4ms inference, 13.4ms postprocess per image at shape (1, 3, 256, 256)\n",
            "\n",
            "0: 256x256 300 Cell-M3yVs, 16.6ms\n",
            "Speed: 0.7ms preprocess, 16.6ms inference, 13.3ms postprocess per image at shape (1, 3, 256, 256)\n",
            "\n",
            "0: 256x256 175 Cell-M3yVs, 19.1ms\n",
            "Speed: 0.6ms preprocess, 19.1ms inference, 8.7ms postprocess per image at shape (1, 3, 256, 256)\n",
            "\n",
            "0: 256x256 300 Cell-M3yVs, 16.0ms\n",
            "Speed: 0.6ms preprocess, 16.0ms inference, 13.4ms postprocess per image at shape (1, 3, 256, 256)\n",
            "\n",
            "0: 256x256 300 Cell-M3yVs, 22.5ms\n",
            "Speed: 0.6ms preprocess, 22.5ms inference, 13.7ms postprocess per image at shape (1, 3, 256, 256)\n",
            "\n",
            "0: 256x256 274 Cell-M3yVs, 19.9ms\n",
            "Speed: 0.7ms preprocess, 19.9ms inference, 12.6ms postprocess per image at shape (1, 3, 256, 256)\n",
            "\n",
            "0: 256x256 286 Cell-M3yVs, 15.7ms\n",
            "Speed: 0.6ms preprocess, 15.7ms inference, 12.9ms postprocess per image at shape (1, 3, 256, 256)\n",
            "\n",
            "0: 256x256 300 Cell-M3yVs, 17.8ms\n",
            "Speed: 0.6ms preprocess, 17.8ms inference, 13.3ms postprocess per image at shape (1, 3, 256, 256)\n",
            "\n",
            "0: 256x256 235 Cell-M3yVs, 16.5ms\n",
            "Speed: 0.6ms preprocess, 16.5ms inference, 10.9ms postprocess per image at shape (1, 3, 256, 256)\n",
            "\n",
            "0: 256x256 300 Cell-M3yVs, 18.7ms\n",
            "Speed: 0.7ms preprocess, 18.7ms inference, 13.7ms postprocess per image at shape (1, 3, 256, 256)\n",
            "\n",
            "0: 256x256 148 Cell-M3yVs, 18.9ms\n",
            "Speed: 0.9ms preprocess, 18.9ms inference, 7.9ms postprocess per image at shape (1, 3, 256, 256)\n",
            "\n",
            "0: 256x256 300 Cell-M3yVs, 19.5ms\n",
            "Speed: 0.9ms preprocess, 19.5ms inference, 14.1ms postprocess per image at shape (1, 3, 256, 256)\n",
            "\n",
            "0: 256x256 300 Cell-M3yVs, 17.5ms\n",
            "Speed: 0.7ms preprocess, 17.5ms inference, 13.4ms postprocess per image at shape (1, 3, 256, 256)\n",
            "\n",
            "0: 256x256 300 Cell-M3yVs, 17.7ms\n",
            "Speed: 1.0ms preprocess, 17.7ms inference, 16.2ms postprocess per image at shape (1, 3, 256, 256)\n",
            "\n",
            "0: 256x256 300 Cell-M3yVs, 28.2ms\n",
            "Speed: 1.3ms preprocess, 28.2ms inference, 13.9ms postprocess per image at shape (1, 3, 256, 256)\n",
            "\n",
            "0: 256x256 300 Cell-M3yVs, 29.6ms\n",
            "Speed: 0.6ms preprocess, 29.6ms inference, 16.6ms postprocess per image at shape (1, 3, 256, 256)\n",
            "\n",
            "0: 256x256 300 Cell-M3yVs, 37.3ms\n",
            "Speed: 0.6ms preprocess, 37.3ms inference, 15.5ms postprocess per image at shape (1, 3, 256, 256)\n",
            "\n",
            "0: 256x256 300 Cell-M3yVs, 31.0ms\n",
            "Speed: 3.2ms preprocess, 31.0ms inference, 14.3ms postprocess per image at shape (1, 3, 256, 256)\n",
            "\n",
            "0: 256x256 20 Cell-M3yVs, 25.9ms\n",
            "Speed: 0.8ms preprocess, 25.9ms inference, 8.4ms postprocess per image at shape (1, 3, 256, 256)\n",
            "\n",
            "0: 256x256 161 Cell-M3yVs, 37.2ms\n",
            "Speed: 0.7ms preprocess, 37.2ms inference, 9.5ms postprocess per image at shape (1, 3, 256, 256)\n",
            "\n",
            "0: 256x256 139 Cell-M3yVs, 31.7ms\n",
            "Speed: 1.2ms preprocess, 31.7ms inference, 13.0ms postprocess per image at shape (1, 3, 256, 256)\n",
            "\n",
            "0: 256x256 300 Cell-M3yVs, 27.2ms\n",
            "Speed: 1.3ms preprocess, 27.2ms inference, 15.5ms postprocess per image at shape (1, 3, 256, 256)\n",
            "\n",
            "0: 256x256 300 Cell-M3yVs, 21.4ms\n",
            "Speed: 0.8ms preprocess, 21.4ms inference, 14.5ms postprocess per image at shape (1, 3, 256, 256)\n",
            "\n",
            "0: 256x256 300 Cell-M3yVs, 19.3ms\n",
            "Speed: 0.6ms preprocess, 19.3ms inference, 14.6ms postprocess per image at shape (1, 3, 256, 256)\n",
            "\n",
            "0: 256x256 300 Cell-M3yVs, 21.2ms\n",
            "Speed: 0.7ms preprocess, 21.2ms inference, 14.1ms postprocess per image at shape (1, 3, 256, 256)\n",
            "\n",
            "0: 256x256 300 Cell-M3yVs, 18.1ms\n",
            "Speed: 0.6ms preprocess, 18.1ms inference, 14.4ms postprocess per image at shape (1, 3, 256, 256)\n",
            "\n",
            "0: 256x256 2 Cell-M3yVs, 18.6ms\n",
            "Speed: 0.6ms preprocess, 18.6ms inference, 4.3ms postprocess per image at shape (1, 3, 256, 256)\n",
            "\n",
            "0: 256x256 56 Cell-M3yVs, 23.1ms\n",
            "Speed: 0.7ms preprocess, 23.1ms inference, 5.2ms postprocess per image at shape (1, 3, 256, 256)\n",
            "\n",
            "0: 256x256 299 Cell-M3yVs, 29.8ms\n",
            "Speed: 0.9ms preprocess, 29.8ms inference, 13.9ms postprocess per image at shape (1, 3, 256, 256)\n",
            "\n",
            "0: 256x256 300 Cell-M3yVs, 21.3ms\n",
            "Speed: 0.6ms preprocess, 21.3ms inference, 14.3ms postprocess per image at shape (1, 3, 256, 256)\n",
            "\n",
            "0: 256x256 300 Cell-M3yVs, 20.5ms\n",
            "Speed: 0.6ms preprocess, 20.5ms inference, 14.0ms postprocess per image at shape (1, 3, 256, 256)\n",
            "\n",
            "0: 256x256 300 Cell-M3yVs, 17.8ms\n",
            "Speed: 0.6ms preprocess, 17.8ms inference, 13.9ms postprocess per image at shape (1, 3, 256, 256)\n",
            "\n",
            "0: 256x256 300 Cell-M3yVs, 21.6ms\n",
            "Speed: 0.7ms preprocess, 21.6ms inference, 14.3ms postprocess per image at shape (1, 3, 256, 256)\n",
            "\n",
            "0: 256x256 300 Cell-M3yVs, 18.2ms\n",
            "Speed: 0.6ms preprocess, 18.2ms inference, 14.4ms postprocess per image at shape (1, 3, 256, 256)\n",
            "\n",
            "0: 256x256 300 Cell-M3yVs, 23.2ms\n",
            "Speed: 0.7ms preprocess, 23.2ms inference, 14.0ms postprocess per image at shape (1, 3, 256, 256)\n",
            "\n",
            "0: 256x256 300 Cell-M3yVs, 26.1ms\n",
            "Speed: 0.6ms preprocess, 26.1ms inference, 16.8ms postprocess per image at shape (1, 3, 256, 256)\n",
            "\n",
            "0: 256x256 300 Cell-M3yVs, 25.1ms\n",
            "Speed: 3.0ms preprocess, 25.1ms inference, 15.2ms postprocess per image at shape (1, 3, 256, 256)\n",
            "\n",
            "0: 256x256 300 Cell-M3yVs, 35.3ms\n",
            "Speed: 0.7ms preprocess, 35.3ms inference, 15.2ms postprocess per image at shape (1, 3, 256, 256)\n",
            "\n",
            "0: 256x256 300 Cell-M3yVs, 27.9ms\n",
            "Speed: 0.7ms preprocess, 27.9ms inference, 14.1ms postprocess per image at shape (1, 3, 256, 256)\n",
            "\n",
            "0: 256x256 83 Cell-M3yVs, 21.8ms\n",
            "Speed: 0.6ms preprocess, 21.8ms inference, 6.1ms postprocess per image at shape (1, 3, 256, 256)\n",
            "\n",
            "0: 256x256 (no detections), 20.4ms\n",
            "Speed: 0.7ms preprocess, 20.4ms inference, 0.6ms postprocess per image at shape (1, 3, 256, 256)\n",
            "\n",
            "0: 256x256 300 Cell-M3yVs, 18.9ms\n",
            "Speed: 0.6ms preprocess, 18.9ms inference, 14.5ms postprocess per image at shape (1, 3, 256, 256)\n",
            "\n",
            "0: 256x256 300 Cell-M3yVs, 17.0ms\n",
            "Speed: 0.7ms preprocess, 17.0ms inference, 14.1ms postprocess per image at shape (1, 3, 256, 256)\n",
            "\n",
            "0: 256x256 300 Cell-M3yVs, 17.3ms\n",
            "Speed: 0.6ms preprocess, 17.3ms inference, 14.4ms postprocess per image at shape (1, 3, 256, 256)\n",
            "\n",
            "0: 256x256 300 Cell-M3yVs, 17.9ms\n",
            "Speed: 0.6ms preprocess, 17.9ms inference, 14.0ms postprocess per image at shape (1, 3, 256, 256)\n",
            "\n",
            "0: 256x256 300 Cell-M3yVs, 18.1ms\n",
            "Speed: 0.6ms preprocess, 18.1ms inference, 14.0ms postprocess per image at shape (1, 3, 256, 256)\n",
            "\n",
            "0: 256x256 300 Cell-M3yVs, 27.3ms\n",
            "Speed: 0.7ms preprocess, 27.3ms inference, 15.1ms postprocess per image at shape (1, 3, 256, 256)\n",
            "\n",
            "0: 256x256 300 Cell-M3yVs, 24.7ms\n",
            "Speed: 0.7ms preprocess, 24.7ms inference, 14.2ms postprocess per image at shape (1, 3, 256, 256)\n",
            "\n",
            "0: 256x256 300 Cell-M3yVs, 22.6ms\n",
            "Speed: 0.7ms preprocess, 22.6ms inference, 17.3ms postprocess per image at shape (1, 3, 256, 256)\n",
            "\n",
            "0: 256x256 134 Cell-M3yVs, 32.1ms\n",
            "Speed: 0.7ms preprocess, 32.1ms inference, 9.4ms postprocess per image at shape (1, 3, 256, 256)\n",
            "\n",
            "0: 256x256 31 Cell-M3yVs, 29.1ms\n",
            "Speed: 0.7ms preprocess, 29.1ms inference, 7.0ms postprocess per image at shape (1, 3, 256, 256)\n",
            "\n",
            "0: 256x256 300 Cell-M3yVs, 28.5ms\n",
            "Speed: 0.6ms preprocess, 28.5ms inference, 14.0ms postprocess per image at shape (1, 3, 256, 256)\n",
            "\n",
            "0: 256x256 300 Cell-M3yVs, 27.2ms\n",
            "Speed: 1.0ms preprocess, 27.2ms inference, 14.5ms postprocess per image at shape (1, 3, 256, 256)\n",
            "\n",
            "0: 256x256 300 Cell-M3yVs, 24.2ms\n",
            "Speed: 1.3ms preprocess, 24.2ms inference, 16.4ms postprocess per image at shape (1, 3, 256, 256)\n",
            "\n",
            "0: 256x256 300 Cell-M3yVs, 25.3ms\n",
            "Speed: 0.6ms preprocess, 25.3ms inference, 20.0ms postprocess per image at shape (1, 3, 256, 256)\n",
            "\n",
            "0: 256x256 300 Cell-M3yVs, 24.3ms\n",
            "Speed: 0.6ms preprocess, 24.3ms inference, 14.9ms postprocess per image at shape (1, 3, 256, 256)\n",
            "\n",
            "0: 256x256 174 Cell-M3yVs, 33.2ms\n",
            "Speed: 0.6ms preprocess, 33.2ms inference, 16.8ms postprocess per image at shape (1, 3, 256, 256)\n",
            "\n",
            "0: 256x256 139 Cell-M3yVs, 42.1ms\n",
            "Speed: 1.8ms preprocess, 42.1ms inference, 10.6ms postprocess per image at shape (1, 3, 256, 256)\n",
            "\n",
            "0: 256x256 300 Cell-M3yVs, 33.3ms\n",
            "Speed: 0.7ms preprocess, 33.3ms inference, 15.1ms postprocess per image at shape (1, 3, 256, 256)\n",
            "\n",
            "0: 256x256 300 Cell-M3yVs, 22.3ms\n",
            "Speed: 1.4ms preprocess, 22.3ms inference, 14.3ms postprocess per image at shape (1, 3, 256, 256)\n",
            "\n",
            "0: 256x256 8 Cell-M3yVs, 26.6ms\n",
            "Speed: 0.7ms preprocess, 26.6ms inference, 3.9ms postprocess per image at shape (1, 3, 256, 256)\n",
            "\n",
            "0: 256x256 300 Cell-M3yVs, 29.5ms\n",
            "Speed: 0.6ms preprocess, 29.5ms inference, 16.8ms postprocess per image at shape (1, 3, 256, 256)\n",
            "\n",
            "0: 256x256 300 Cell-M3yVs, 21.7ms\n",
            "Speed: 0.6ms preprocess, 21.7ms inference, 14.2ms postprocess per image at shape (1, 3, 256, 256)\n",
            "\n",
            "0: 256x256 300 Cell-M3yVs, 16.8ms\n",
            "Speed: 0.7ms preprocess, 16.8ms inference, 14.3ms postprocess per image at shape (1, 3, 256, 256)\n",
            "\n",
            "0: 256x256 21 Cell-M3yVs, 24.0ms\n",
            "Speed: 0.7ms preprocess, 24.0ms inference, 7.7ms postprocess per image at shape (1, 3, 256, 256)\n",
            "\n",
            "0: 256x256 300 Cell-M3yVs, 18.0ms\n",
            "Speed: 0.7ms preprocess, 18.0ms inference, 14.6ms postprocess per image at shape (1, 3, 256, 256)\n",
            "\n",
            "0: 256x256 75 Cell-M3yVs, 22.5ms\n",
            "Speed: 0.6ms preprocess, 22.5ms inference, 6.0ms postprocess per image at shape (1, 3, 256, 256)\n",
            "\n",
            "0: 256x256 300 Cell-M3yVs, 20.3ms\n",
            "Speed: 0.6ms preprocess, 20.3ms inference, 14.5ms postprocess per image at shape (1, 3, 256, 256)\n",
            "\n",
            "0: 256x256 115 Cell-M3yVs, 20.3ms\n",
            "Speed: 0.6ms preprocess, 20.3ms inference, 7.6ms postprocess per image at shape (1, 3, 256, 256)\n",
            "\n",
            "0: 256x256 300 Cell-M3yVs, 19.9ms\n",
            "Speed: 0.7ms preprocess, 19.9ms inference, 14.6ms postprocess per image at shape (1, 3, 256, 256)\n",
            "\n",
            "0: 256x256 217 Cell-M3yVs, 18.7ms\n",
            "Speed: 0.7ms preprocess, 18.7ms inference, 11.4ms postprocess per image at shape (1, 3, 256, 256)\n",
            "\n",
            "0: 256x256 56 Cell-M3yVs, 18.2ms\n",
            "Speed: 0.7ms preprocess, 18.2ms inference, 5.0ms postprocess per image at shape (1, 3, 256, 256)\n",
            "\n",
            "0: 256x256 59 Cell-M3yVs, 18.0ms\n",
            "Speed: 0.7ms preprocess, 18.0ms inference, 5.7ms postprocess per image at shape (1, 3, 256, 256)\n",
            "\n",
            "0: 256x256 49 Cell-M3yVs, 23.3ms\n",
            "Speed: 0.6ms preprocess, 23.3ms inference, 8.7ms postprocess per image at shape (1, 3, 256, 256)\n",
            "\n",
            "0: 256x256 300 Cell-M3yVs, 33.1ms\n",
            "Speed: 0.7ms preprocess, 33.1ms inference, 15.2ms postprocess per image at shape (1, 3, 256, 256)\n",
            "\n",
            "0: 256x256 300 Cell-M3yVs, 33.2ms\n",
            "Speed: 0.9ms preprocess, 33.2ms inference, 14.7ms postprocess per image at shape (1, 3, 256, 256)\n",
            "\n",
            "0: 256x256 106 Cell-M3yVs, 32.0ms\n",
            "Speed: 0.7ms preprocess, 32.0ms inference, 11.1ms postprocess per image at shape (1, 3, 256, 256)\n",
            "\n",
            "0: 256x256 300 Cell-M3yVs, 33.5ms\n",
            "Speed: 2.7ms preprocess, 33.5ms inference, 18.7ms postprocess per image at shape (1, 3, 256, 256)\n",
            "\n",
            "0: 256x256 268 Cell-M3yVs, 34.4ms\n",
            "Speed: 0.7ms preprocess, 34.4ms inference, 13.5ms postprocess per image at shape (1, 3, 256, 256)\n",
            "\n",
            "0: 256x256 300 Cell-M3yVs, 26.4ms\n",
            "Speed: 0.7ms preprocess, 26.4ms inference, 14.5ms postprocess per image at shape (1, 3, 256, 256)\n",
            "\n",
            "0: 256x256 300 Cell-M3yVs, 28.8ms\n",
            "Speed: 0.7ms preprocess, 28.8ms inference, 14.7ms postprocess per image at shape (1, 3, 256, 256)\n",
            "\n",
            "0: 256x256 153 Cell-M3yVs, 21.5ms\n",
            "Speed: 0.7ms preprocess, 21.5ms inference, 9.3ms postprocess per image at shape (1, 3, 256, 256)\n",
            "\n",
            "0: 256x256 300 Cell-M3yVs, 24.2ms\n",
            "Speed: 1.0ms preprocess, 24.2ms inference, 18.9ms postprocess per image at shape (1, 3, 256, 256)\n",
            "\n",
            "0: 256x256 300 Cell-M3yVs, 23.2ms\n",
            "Speed: 0.7ms preprocess, 23.2ms inference, 14.7ms postprocess per image at shape (1, 3, 256, 256)\n",
            "\n",
            "0: 256x256 212 Cell-M3yVs, 27.9ms\n",
            "Speed: 1.3ms preprocess, 27.9ms inference, 11.4ms postprocess per image at shape (1, 3, 256, 256)\n",
            "\n",
            "0: 256x256 300 Cell-M3yVs, 22.4ms\n",
            "Speed: 1.0ms preprocess, 22.4ms inference, 14.7ms postprocess per image at shape (1, 3, 256, 256)\n",
            "\n",
            "0: 256x256 23 Cell-M3yVs, 22.3ms\n",
            "Speed: 0.6ms preprocess, 22.3ms inference, 4.1ms postprocess per image at shape (1, 3, 256, 256)\n",
            "\n",
            "0: 256x256 291 Cell-M3yVs, 17.3ms\n",
            "Speed: 0.6ms preprocess, 17.3ms inference, 14.4ms postprocess per image at shape (1, 3, 256, 256)\n",
            "\n",
            "0: 256x256 300 Cell-M3yVs, 17.7ms\n",
            "Speed: 2.5ms preprocess, 17.7ms inference, 14.8ms postprocess per image at shape (1, 3, 256, 256)\n",
            "\n",
            "0: 256x256 300 Cell-M3yVs, 18.2ms\n",
            "Speed: 0.6ms preprocess, 18.2ms inference, 14.4ms postprocess per image at shape (1, 3, 256, 256)\n",
            "\n",
            "0: 256x256 300 Cell-M3yVs, 19.0ms\n",
            "Speed: 0.7ms preprocess, 19.0ms inference, 15.1ms postprocess per image at shape (1, 3, 256, 256)\n",
            "\n",
            "0: 256x256 300 Cell-M3yVs, 21.0ms\n",
            "Speed: 0.6ms preprocess, 21.0ms inference, 14.8ms postprocess per image at shape (1, 3, 256, 256)\n",
            "\n",
            "0: 256x256 300 Cell-M3yVs, 32.4ms\n",
            "Speed: 0.6ms preprocess, 32.4ms inference, 17.8ms postprocess per image at shape (1, 3, 256, 256)\n",
            "\n",
            "0: 256x256 300 Cell-M3yVs, 37.4ms\n",
            "Speed: 0.7ms preprocess, 37.4ms inference, 15.3ms postprocess per image at shape (1, 3, 256, 256)\n",
            "\n",
            "0: 256x256 300 Cell-M3yVs, 35.2ms\n",
            "Speed: 0.8ms preprocess, 35.2ms inference, 15.2ms postprocess per image at shape (1, 3, 256, 256)\n",
            "\n",
            "0: 256x256 300 Cell-M3yVs, 30.6ms\n",
            "Speed: 0.8ms preprocess, 30.6ms inference, 15.2ms postprocess per image at shape (1, 3, 256, 256)\n",
            "\n",
            "0: 256x256 300 Cell-M3yVs, 31.7ms\n",
            "Speed: 0.7ms preprocess, 31.7ms inference, 15.0ms postprocess per image at shape (1, 3, 256, 256)\n",
            "\n",
            "0: 256x256 300 Cell-M3yVs, 24.5ms\n",
            "Speed: 0.7ms preprocess, 24.5ms inference, 14.5ms postprocess per image at shape (1, 3, 256, 256)\n",
            "\n",
            "0: 256x256 20 Cell-M3yVs, 29.1ms\n",
            "Speed: 1.1ms preprocess, 29.1ms inference, 4.9ms postprocess per image at shape (1, 3, 256, 256)\n",
            "\n",
            "0: 256x256 300 Cell-M3yVs, 23.8ms\n",
            "Speed: 1.5ms preprocess, 23.8ms inference, 14.2ms postprocess per image at shape (1, 3, 256, 256)\n",
            "\n",
            "0: 256x256 300 Cell-M3yVs, 31.0ms\n",
            "Speed: 0.6ms preprocess, 31.0ms inference, 15.7ms postprocess per image at shape (1, 3, 256, 256)\n",
            "\n",
            "0: 256x256 300 Cell-M3yVs, 22.2ms\n",
            "Speed: 0.6ms preprocess, 22.2ms inference, 14.7ms postprocess per image at shape (1, 3, 256, 256)\n",
            "\n",
            "0: 256x256 (no detections), 19.2ms\n",
            "Speed: 0.6ms preprocess, 19.2ms inference, 0.5ms postprocess per image at shape (1, 3, 256, 256)\n",
            "\n",
            "0: 256x256 300 Cell-M3yVs, 26.0ms\n",
            "Speed: 0.7ms preprocess, 26.0ms inference, 16.8ms postprocess per image at shape (1, 3, 256, 256)\n",
            "\n",
            "0: 256x256 300 Cell-M3yVs, 21.8ms\n",
            "Speed: 0.6ms preprocess, 21.8ms inference, 14.5ms postprocess per image at shape (1, 3, 256, 256)\n",
            "\n",
            "0: 256x256 (no detections), 32.5ms\n",
            "Speed: 0.6ms preprocess, 32.5ms inference, 0.6ms postprocess per image at shape (1, 3, 256, 256)\n",
            "\n",
            "0: 256x256 300 Cell-M3yVs, 25.8ms\n",
            "Speed: 0.7ms preprocess, 25.8ms inference, 14.7ms postprocess per image at shape (1, 3, 256, 256)\n",
            "\n",
            "0: 256x256 236 Cell-M3yVs, 25.0ms\n",
            "Speed: 0.7ms preprocess, 25.0ms inference, 12.5ms postprocess per image at shape (1, 3, 256, 256)\n",
            "\n",
            "0: 256x256 300 Cell-M3yVs, 26.1ms\n",
            "Speed: 1.1ms preprocess, 26.1ms inference, 14.5ms postprocess per image at shape (1, 3, 256, 256)\n",
            "\n",
            "0: 256x256 119 Cell-M3yVs, 29.2ms\n",
            "Speed: 0.7ms preprocess, 29.2ms inference, 9.8ms postprocess per image at shape (1, 3, 256, 256)\n",
            "\n",
            "0: 256x256 300 Cell-M3yVs, 30.7ms\n",
            "Speed: 0.7ms preprocess, 30.7ms inference, 15.3ms postprocess per image at shape (1, 3, 256, 256)\n",
            "\n",
            "0: 256x256 300 Cell-M3yVs, 29.9ms\n",
            "Speed: 0.7ms preprocess, 29.9ms inference, 17.2ms postprocess per image at shape (1, 3, 256, 256)\n",
            "\n",
            "0: 256x256 300 Cell-M3yVs, 34.6ms\n",
            "Speed: 0.7ms preprocess, 34.6ms inference, 14.9ms postprocess per image at shape (1, 3, 256, 256)\n",
            "\n",
            "0: 256x256 55 Cell-M3yVs, 24.1ms\n",
            "Speed: 1.3ms preprocess, 24.1ms inference, 5.9ms postprocess per image at shape (1, 3, 256, 256)\n",
            "\n",
            "0: 256x256 16 Cell-M3yVs, 21.0ms\n",
            "Speed: 0.6ms preprocess, 21.0ms inference, 4.4ms postprocess per image at shape (1, 3, 256, 256)\n",
            "\n",
            "0: 256x256 300 Cell-M3yVs, 27.5ms\n",
            "Speed: 0.7ms preprocess, 27.5ms inference, 19.3ms postprocess per image at shape (1, 3, 256, 256)\n",
            "\n",
            "0: 256x256 300 Cell-M3yVs, 31.8ms\n",
            "Speed: 0.7ms preprocess, 31.8ms inference, 16.6ms postprocess per image at shape (1, 3, 256, 256)\n",
            "\n",
            "0: 256x256 300 Cell-M3yVs, 31.7ms\n",
            "Speed: 0.7ms preprocess, 31.7ms inference, 16.8ms postprocess per image at shape (1, 3, 256, 256)\n",
            "\n",
            "0: 256x256 76 Cell-M3yVs, 27.3ms\n",
            "Speed: 0.7ms preprocess, 27.3ms inference, 6.2ms postprocess per image at shape (1, 3, 256, 256)\n",
            "\n",
            "0: 256x256 300 Cell-M3yVs, 20.4ms\n",
            "Speed: 0.7ms preprocess, 20.4ms inference, 14.6ms postprocess per image at shape (1, 3, 256, 256)\n",
            "\n",
            "0: 256x256 35 Cell-M3yVs, 23.1ms\n",
            "Speed: 0.7ms preprocess, 23.1ms inference, 4.7ms postprocess per image at shape (1, 3, 256, 256)\n",
            "\n",
            "0: 256x256 300 Cell-M3yVs, 19.8ms\n",
            "Speed: 0.6ms preprocess, 19.8ms inference, 14.6ms postprocess per image at shape (1, 3, 256, 256)\n",
            "\n",
            "0: 256x256 300 Cell-M3yVs, 20.9ms\n",
            "Speed: 0.6ms preprocess, 20.9ms inference, 14.7ms postprocess per image at shape (1, 3, 256, 256)\n",
            "\n",
            "0: 256x256 101 Cell-M3yVs, 22.5ms\n",
            "Speed: 2.5ms preprocess, 22.5ms inference, 9.1ms postprocess per image at shape (1, 3, 256, 256)\n",
            "\n",
            "0: 256x256 300 Cell-M3yVs, 19.6ms\n",
            "Speed: 0.6ms preprocess, 19.6ms inference, 14.6ms postprocess per image at shape (1, 3, 256, 256)\n",
            "\n",
            "0: 256x256 300 Cell-M3yVs, 22.5ms\n",
            "Speed: 0.6ms preprocess, 22.5ms inference, 14.6ms postprocess per image at shape (1, 3, 256, 256)\n",
            "\n",
            "0: 256x256 300 Cell-M3yVs, 19.4ms\n",
            "Speed: 0.6ms preprocess, 19.4ms inference, 14.9ms postprocess per image at shape (1, 3, 256, 256)\n",
            "\n",
            "0: 256x256 300 Cell-M3yVs, 20.8ms\n",
            "Speed: 1.6ms preprocess, 20.8ms inference, 14.8ms postprocess per image at shape (1, 3, 256, 256)\n",
            "\n",
            "0: 256x256 57 Cell-M3yVs, 32.5ms\n",
            "Speed: 0.7ms preprocess, 32.5ms inference, 6.9ms postprocess per image at shape (1, 3, 256, 256)\n",
            "\n",
            "0: 256x256 300 Cell-M3yVs, 31.2ms\n",
            "Speed: 0.6ms preprocess, 31.2ms inference, 20.6ms postprocess per image at shape (1, 3, 256, 256)\n",
            "\n",
            "0: 256x256 89 Cell-M3yVs, 24.2ms\n",
            "Speed: 0.8ms preprocess, 24.2ms inference, 7.2ms postprocess per image at shape (1, 3, 256, 256)\n",
            "\n",
            "0: 256x256 26 Cell-M3yVs, 40.3ms\n",
            "Speed: 1.3ms preprocess, 40.3ms inference, 7.1ms postprocess per image at shape (1, 3, 256, 256)\n",
            "\n",
            "0: 256x256 86 Cell-M3yVs, 30.6ms\n",
            "Speed: 0.8ms preprocess, 30.6ms inference, 11.0ms postprocess per image at shape (1, 3, 256, 256)\n",
            "\n",
            "0: 256x256 101 Cell-M3yVs, 38.1ms\n",
            "Speed: 1.8ms preprocess, 38.1ms inference, 13.0ms postprocess per image at shape (1, 3, 256, 256)\n",
            "\n",
            "0: 256x256 300 Cell-M3yVs, 28.8ms\n",
            "Speed: 0.6ms preprocess, 28.8ms inference, 17.1ms postprocess per image at shape (1, 3, 256, 256)\n",
            "\n",
            "0: 256x256 300 Cell-M3yVs, 31.7ms\n",
            "Speed: 0.6ms preprocess, 31.7ms inference, 15.1ms postprocess per image at shape (1, 3, 256, 256)\n",
            "\n",
            "0: 256x256 300 Cell-M3yVs, 20.1ms\n",
            "Speed: 0.7ms preprocess, 20.1ms inference, 14.9ms postprocess per image at shape (1, 3, 256, 256)\n",
            "\n",
            "0: 256x256 300 Cell-M3yVs, 21.2ms\n",
            "Speed: 0.7ms preprocess, 21.2ms inference, 15.0ms postprocess per image at shape (1, 3, 256, 256)\n",
            "\n",
            "0: 256x256 300 Cell-M3yVs, 26.6ms\n",
            "Speed: 0.7ms preprocess, 26.6ms inference, 15.2ms postprocess per image at shape (1, 3, 256, 256)\n",
            "\n",
            "0: 256x256 300 Cell-M3yVs, 21.4ms\n",
            "Speed: 0.7ms preprocess, 21.4ms inference, 15.0ms postprocess per image at shape (1, 3, 256, 256)\n",
            "\n",
            "0: 256x256 300 Cell-M3yVs, 21.4ms\n",
            "Speed: 0.7ms preprocess, 21.4ms inference, 15.4ms postprocess per image at shape (1, 3, 256, 256)\n",
            "\n",
            "0: 256x256 3 Cell-M3yVs, 21.6ms\n",
            "Speed: 0.6ms preprocess, 21.6ms inference, 4.5ms postprocess per image at shape (1, 3, 256, 256)\n",
            "\n",
            "0: 256x256 300 Cell-M3yVs, 20.3ms\n",
            "Speed: 0.6ms preprocess, 20.3ms inference, 15.1ms postprocess per image at shape (1, 3, 256, 256)\n",
            "\n",
            "0: 256x256 300 Cell-M3yVs, 20.9ms\n",
            "Speed: 0.7ms preprocess, 20.9ms inference, 15.1ms postprocess per image at shape (1, 3, 256, 256)\n",
            "\n",
            "0: 256x256 300 Cell-M3yVs, 26.5ms\n",
            "Speed: 2.6ms preprocess, 26.5ms inference, 18.5ms postprocess per image at shape (1, 3, 256, 256)\n",
            "\n",
            "0: 256x256 300 Cell-M3yVs, 23.9ms\n",
            "Speed: 2.0ms preprocess, 23.9ms inference, 16.7ms postprocess per image at shape (1, 3, 256, 256)\n",
            "\n",
            "0: 256x256 31 Cell-M3yVs, 48.5ms\n",
            "Speed: 0.8ms preprocess, 48.5ms inference, 7.1ms postprocess per image at shape (1, 3, 256, 256)\n",
            "\n",
            "0: 256x256 300 Cell-M3yVs, 27.9ms\n",
            "Speed: 0.7ms preprocess, 27.9ms inference, 16.0ms postprocess per image at shape (1, 3, 256, 256)\n",
            "\n",
            "0: 256x256 300 Cell-M3yVs, 32.3ms\n",
            "Speed: 0.7ms preprocess, 32.3ms inference, 15.3ms postprocess per image at shape (1, 3, 256, 256)\n",
            "\n",
            "0: 256x256 283 Cell-M3yVs, 31.0ms\n",
            "Speed: 1.1ms preprocess, 31.0ms inference, 19.4ms postprocess per image at shape (1, 3, 256, 256)\n",
            "\n",
            "0: 256x256 2 Cell-M3yVs, 53.5ms\n",
            "Speed: 0.7ms preprocess, 53.5ms inference, 5.8ms postprocess per image at shape (1, 3, 256, 256)\n",
            "\n",
            "0: 256x256 300 Cell-M3yVs, 30.6ms\n",
            "Speed: 0.7ms preprocess, 30.6ms inference, 17.2ms postprocess per image at shape (1, 3, 256, 256)\n",
            "\n",
            "0: 256x256 300 Cell-M3yVs, 33.5ms\n",
            "Speed: 0.7ms preprocess, 33.5ms inference, 14.8ms postprocess per image at shape (1, 3, 256, 256)\n",
            "\n",
            "0: 256x256 300 Cell-M3yVs, 26.2ms\n",
            "Speed: 0.6ms preprocess, 26.2ms inference, 18.0ms postprocess per image at shape (1, 3, 256, 256)\n",
            "\n",
            "0: 256x256 300 Cell-M3yVs, 27.7ms\n",
            "Speed: 0.7ms preprocess, 27.7ms inference, 15.8ms postprocess per image at shape (1, 3, 256, 256)\n",
            "\n",
            "0: 256x256 300 Cell-M3yVs, 27.1ms\n",
            "Speed: 0.6ms preprocess, 27.1ms inference, 15.3ms postprocess per image at shape (1, 3, 256, 256)\n",
            "\n",
            "0: 256x256 16 Cell-M3yVs, 24.6ms\n",
            "Speed: 0.7ms preprocess, 24.6ms inference, 5.0ms postprocess per image at shape (1, 3, 256, 256)\n",
            "\n",
            "0: 256x256 300 Cell-M3yVs, 20.2ms\n",
            "Speed: 0.7ms preprocess, 20.2ms inference, 15.3ms postprocess per image at shape (1, 3, 256, 256)\n",
            "\n",
            "0: 256x256 300 Cell-M3yVs, 22.3ms\n",
            "Speed: 0.6ms preprocess, 22.3ms inference, 15.4ms postprocess per image at shape (1, 3, 256, 256)\n",
            "\n",
            "0: 256x256 300 Cell-M3yVs, 18.8ms\n",
            "Speed: 1.5ms preprocess, 18.8ms inference, 15.1ms postprocess per image at shape (1, 3, 256, 256)\n",
            "\n",
            "0: 256x256 300 Cell-M3yVs, 23.5ms\n",
            "Speed: 1.1ms preprocess, 23.5ms inference, 16.1ms postprocess per image at shape (1, 3, 256, 256)\n",
            "\n",
            "0: 256x256 300 Cell-M3yVs, 28.9ms\n",
            "Speed: 0.6ms preprocess, 28.9ms inference, 15.5ms postprocess per image at shape (1, 3, 256, 256)\n",
            "\n",
            "0: 256x256 137 Cell-M3yVs, 29.7ms\n",
            "Speed: 1.1ms preprocess, 29.7ms inference, 13.2ms postprocess per image at shape (1, 3, 256, 256)\n",
            "\n",
            "0: 256x256 300 Cell-M3yVs, 30.6ms\n",
            "Speed: 0.7ms preprocess, 30.6ms inference, 28.7ms postprocess per image at shape (1, 3, 256, 256)\n",
            "\n",
            "0: 256x256 285 Cell-M3yVs, 40.3ms\n",
            "Speed: 0.7ms preprocess, 40.3ms inference, 15.7ms postprocess per image at shape (1, 3, 256, 256)\n",
            "\n",
            "0: 256x256 300 Cell-M3yVs, 26.2ms\n",
            "Speed: 0.7ms preprocess, 26.2ms inference, 15.4ms postprocess per image at shape (1, 3, 256, 256)\n",
            "\n",
            "0: 256x256 300 Cell-M3yVs, 22.9ms\n",
            "Speed: 0.7ms preprocess, 22.9ms inference, 18.1ms postprocess per image at shape (1, 3, 256, 256)\n",
            "\n",
            "0: 256x256 300 Cell-M3yVs, 19.9ms\n",
            "Speed: 0.6ms preprocess, 19.9ms inference, 15.1ms postprocess per image at shape (1, 3, 256, 256)\n",
            "\n",
            "0: 256x256 229 Cell-M3yVs, 20.0ms\n",
            "Speed: 0.7ms preprocess, 20.0ms inference, 12.5ms postprocess per image at shape (1, 3, 256, 256)\n",
            "\n",
            "0: 256x256 300 Cell-M3yVs, 20.6ms\n",
            "Speed: 0.7ms preprocess, 20.6ms inference, 15.2ms postprocess per image at shape (1, 3, 256, 256)\n",
            "\n",
            "0: 256x256 300 Cell-M3yVs, 23.4ms\n",
            "Speed: 0.6ms preprocess, 23.4ms inference, 19.1ms postprocess per image at shape (1, 3, 256, 256)\n",
            "\n",
            "0: 256x256 300 Cell-M3yVs, 23.1ms\n",
            "Speed: 0.7ms preprocess, 23.1ms inference, 15.0ms postprocess per image at shape (1, 3, 256, 256)\n",
            "\n",
            "0: 256x256 300 Cell-M3yVs, 24.7ms\n",
            "Speed: 0.6ms preprocess, 24.7ms inference, 15.2ms postprocess per image at shape (1, 3, 256, 256)\n",
            "\n",
            "0: 256x256 300 Cell-M3yVs, 28.1ms\n",
            "Speed: 0.6ms preprocess, 28.1ms inference, 16.3ms postprocess per image at shape (1, 3, 256, 256)\n",
            "\n",
            "0: 256x256 300 Cell-M3yVs, 21.1ms\n",
            "Speed: 1.7ms preprocess, 21.1ms inference, 15.1ms postprocess per image at shape (1, 3, 256, 256)\n",
            "\n",
            "0: 256x256 95 Cell-M3yVs, 20.2ms\n",
            "Speed: 0.6ms preprocess, 20.2ms inference, 7.1ms postprocess per image at shape (1, 3, 256, 256)\n",
            "\n",
            "0: 256x256 300 Cell-M3yVs, 18.6ms\n",
            "Speed: 0.6ms preprocess, 18.6ms inference, 15.2ms postprocess per image at shape (1, 3, 256, 256)\n",
            "\n",
            "0: 256x256 300 Cell-M3yVs, 19.2ms\n",
            "Speed: 0.6ms preprocess, 19.2ms inference, 15.0ms postprocess per image at shape (1, 3, 256, 256)\n",
            "\n",
            "0: 256x256 300 Cell-M3yVs, 21.8ms\n",
            "Speed: 0.6ms preprocess, 21.8ms inference, 15.0ms postprocess per image at shape (1, 3, 256, 256)\n",
            "\n",
            "0: 256x256 300 Cell-M3yVs, 23.4ms\n",
            "Speed: 0.6ms preprocess, 23.4ms inference, 14.9ms postprocess per image at shape (1, 3, 256, 256)\n",
            "\n",
            "0: 256x256 300 Cell-M3yVs, 28.3ms\n",
            "Speed: 0.7ms preprocess, 28.3ms inference, 17.7ms postprocess per image at shape (1, 3, 256, 256)\n",
            "\n",
            "0: 256x256 300 Cell-M3yVs, 23.6ms\n",
            "Speed: 0.7ms preprocess, 23.6ms inference, 16.7ms postprocess per image at shape (1, 3, 256, 256)\n",
            "\n",
            "0: 256x256 294 Cell-M3yVs, 28.7ms\n",
            "Speed: 0.7ms preprocess, 28.7ms inference, 16.9ms postprocess per image at shape (1, 3, 256, 256)\n",
            "\n",
            "0: 256x256 300 Cell-M3yVs, 26.1ms\n",
            "Speed: 0.8ms preprocess, 26.1ms inference, 15.7ms postprocess per image at shape (1, 3, 256, 256)\n",
            "\n",
            "0: 256x256 284 Cell-M3yVs, 28.7ms\n",
            "Speed: 0.8ms preprocess, 28.7ms inference, 15.5ms postprocess per image at shape (1, 3, 256, 256)\n",
            "\n",
            "0: 256x256 300 Cell-M3yVs, 19.7ms\n",
            "Speed: 0.6ms preprocess, 19.7ms inference, 14.9ms postprocess per image at shape (1, 3, 256, 256)\n",
            "\n",
            "0: 256x256 300 Cell-M3yVs, 19.9ms\n",
            "Speed: 0.6ms preprocess, 19.9ms inference, 14.6ms postprocess per image at shape (1, 3, 256, 256)\n",
            "\n",
            "0: 256x256 300 Cell-M3yVs, 22.0ms\n",
            "Speed: 0.7ms preprocess, 22.0ms inference, 14.7ms postprocess per image at shape (1, 3, 256, 256)\n",
            "\n",
            "0: 256x256 300 Cell-M3yVs, 23.2ms\n",
            "Speed: 0.6ms preprocess, 23.2ms inference, 14.8ms postprocess per image at shape (1, 3, 256, 256)\n",
            "\n",
            "0: 256x256 300 Cell-M3yVs, 22.1ms\n",
            "Speed: 0.7ms preprocess, 22.1ms inference, 14.8ms postprocess per image at shape (1, 3, 256, 256)\n",
            "\n",
            "0: 256x256 164 Cell-M3yVs, 17.9ms\n",
            "Speed: 0.6ms preprocess, 17.9ms inference, 9.7ms postprocess per image at shape (1, 3, 256, 256)\n",
            "\n",
            "0: 256x256 300 Cell-M3yVs, 19.3ms\n",
            "Speed: 0.6ms preprocess, 19.3ms inference, 14.6ms postprocess per image at shape (1, 3, 256, 256)\n",
            "\n",
            "0: 256x256 300 Cell-M3yVs, 25.0ms\n",
            "Speed: 0.6ms preprocess, 25.0ms inference, 14.6ms postprocess per image at shape (1, 3, 256, 256)\n",
            "\n",
            "0: 256x256 235 Cell-M3yVs, 27.2ms\n",
            "Speed: 0.6ms preprocess, 27.2ms inference, 12.1ms postprocess per image at shape (1, 3, 256, 256)\n",
            "\n",
            "0: 256x256 149 Cell-M3yVs, 25.7ms\n",
            "Speed: 0.7ms preprocess, 25.7ms inference, 9.1ms postprocess per image at shape (1, 3, 256, 256)\n",
            "\n",
            "0: 256x256 94 Cell-M3yVs, 18.7ms\n",
            "Speed: 0.7ms preprocess, 18.7ms inference, 6.7ms postprocess per image at shape (1, 3, 256, 256)\n",
            "\n",
            "0: 256x256 300 Cell-M3yVs, 20.0ms\n",
            "Speed: 0.6ms preprocess, 20.0ms inference, 14.8ms postprocess per image at shape (1, 3, 256, 256)\n",
            "\n",
            "0: 256x256 102 Cell-M3yVs, 26.3ms\n",
            "Speed: 0.9ms preprocess, 26.3ms inference, 9.3ms postprocess per image at shape (1, 3, 256, 256)\n",
            "\n",
            "0: 256x256 58 Cell-M3yVs, 21.3ms\n",
            "Speed: 0.6ms preprocess, 21.3ms inference, 5.0ms postprocess per image at shape (1, 3, 256, 256)\n",
            "\n",
            "0: 256x256 144 Cell-M3yVs, 23.2ms\n",
            "Speed: 0.6ms preprocess, 23.2ms inference, 10.0ms postprocess per image at shape (1, 3, 256, 256)\n",
            "\n",
            "0: 256x256 300 Cell-M3yVs, 41.1ms\n",
            "Speed: 0.6ms preprocess, 41.1ms inference, 16.9ms postprocess per image at shape (1, 3, 256, 256)\n",
            "\n",
            "0: 256x256 300 Cell-M3yVs, 38.8ms\n",
            "Speed: 0.7ms preprocess, 38.8ms inference, 14.6ms postprocess per image at shape (1, 3, 256, 256)\n",
            "\n",
            "0: 256x256 280 Cell-M3yVs, 25.0ms\n",
            "Speed: 0.7ms preprocess, 25.0ms inference, 15.5ms postprocess per image at shape (1, 3, 256, 256)\n",
            "\n",
            "0: 256x256 300 Cell-M3yVs, 36.9ms\n",
            "Speed: 0.7ms preprocess, 36.9ms inference, 17.2ms postprocess per image at shape (1, 3, 256, 256)\n",
            "\n",
            "0: 256x256 151 Cell-M3yVs, 37.5ms\n",
            "Speed: 1.2ms preprocess, 37.5ms inference, 10.0ms postprocess per image at shape (1, 3, 256, 256)\n",
            "\n",
            "0: 256x256 300 Cell-M3yVs, 32.3ms\n",
            "Speed: 0.7ms preprocess, 32.3ms inference, 14.8ms postprocess per image at shape (1, 3, 256, 256)\n",
            "\n",
            "0: 256x256 (no detections), 21.9ms\n",
            "Speed: 0.6ms preprocess, 21.9ms inference, 0.6ms postprocess per image at shape (1, 3, 256, 256)\n",
            "\n",
            "0: 256x256 300 Cell-M3yVs, 21.1ms\n",
            "Speed: 1.4ms preprocess, 21.1ms inference, 16.2ms postprocess per image at shape (1, 3, 256, 256)\n",
            "\n",
            "0: 256x256 225 Cell-M3yVs, 25.7ms\n",
            "Speed: 1.4ms preprocess, 25.7ms inference, 15.4ms postprocess per image at shape (1, 3, 256, 256)\n",
            "\n",
            "0: 256x256 300 Cell-M3yVs, 23.8ms\n",
            "Speed: 0.6ms preprocess, 23.8ms inference, 16.6ms postprocess per image at shape (1, 3, 256, 256)\n",
            "\n",
            "0: 256x256 300 Cell-M3yVs, 27.8ms\n",
            "Speed: 0.6ms preprocess, 27.8ms inference, 19.8ms postprocess per image at shape (1, 3, 256, 256)\n",
            "\n",
            "0: 256x256 300 Cell-M3yVs, 24.6ms\n",
            "Speed: 0.6ms preprocess, 24.6ms inference, 15.6ms postprocess per image at shape (1, 3, 256, 256)\n",
            "\n",
            "0: 256x256 264 Cell-M3yVs, 28.0ms\n",
            "Speed: 0.7ms preprocess, 28.0ms inference, 17.0ms postprocess per image at shape (1, 3, 256, 256)\n",
            "\n",
            "0: 256x256 268 Cell-M3yVs, 28.9ms\n",
            "Speed: 0.7ms preprocess, 28.9ms inference, 13.7ms postprocess per image at shape (1, 3, 256, 256)\n",
            "\n",
            "0: 256x256 287 Cell-M3yVs, 28.6ms\n",
            "Speed: 0.7ms preprocess, 28.6ms inference, 14.1ms postprocess per image at shape (1, 3, 256, 256)\n",
            "\n",
            "0: 256x256 300 Cell-M3yVs, 30.5ms\n",
            "Speed: 0.7ms preprocess, 30.5ms inference, 16.3ms postprocess per image at shape (1, 3, 256, 256)\n",
            "\n",
            "0: 256x256 300 Cell-M3yVs, 25.1ms\n",
            "Speed: 0.7ms preprocess, 25.1ms inference, 18.7ms postprocess per image at shape (1, 3, 256, 256)\n",
            "\n",
            "0: 256x256 12 Cell-M3yVs, 43.8ms\n",
            "Speed: 1.1ms preprocess, 43.8ms inference, 9.8ms postprocess per image at shape (1, 3, 256, 256)\n",
            "\n",
            "0: 256x256 300 Cell-M3yVs, 40.1ms\n",
            "Speed: 1.4ms preprocess, 40.1ms inference, 19.1ms postprocess per image at shape (1, 3, 256, 256)\n",
            "\n",
            "0: 256x256 300 Cell-M3yVs, 42.1ms\n",
            "Speed: 0.7ms preprocess, 42.1ms inference, 19.2ms postprocess per image at shape (1, 3, 256, 256)\n",
            "\n",
            "0: 256x256 5 Cell-M3yVs, 37.2ms\n",
            "Speed: 0.8ms preprocess, 37.2ms inference, 7.3ms postprocess per image at shape (1, 3, 256, 256)\n",
            "\n",
            "0: 256x256 300 Cell-M3yVs, 23.6ms\n",
            "Speed: 0.7ms preprocess, 23.6ms inference, 18.2ms postprocess per image at shape (1, 3, 256, 256)\n",
            "\n",
            "0: 256x256 300 Cell-M3yVs, 27.4ms\n",
            "Speed: 0.7ms preprocess, 27.4ms inference, 19.4ms postprocess per image at shape (1, 3, 256, 256)\n",
            "\n",
            "0: 256x256 300 Cell-M3yVs, 23.8ms\n",
            "Speed: 0.7ms preprocess, 23.8ms inference, 18.3ms postprocess per image at shape (1, 3, 256, 256)\n",
            "\n",
            "0: 256x256 300 Cell-M3yVs, 32.0ms\n",
            "Speed: 1.3ms preprocess, 32.0ms inference, 15.8ms postprocess per image at shape (1, 3, 256, 256)\n",
            "\n",
            "0: 256x256 300 Cell-M3yVs, 23.9ms\n",
            "Speed: 0.8ms preprocess, 23.9ms inference, 15.2ms postprocess per image at shape (1, 3, 256, 256)\n",
            "\n",
            "0: 256x256 300 Cell-M3yVs, 31.1ms\n",
            "Speed: 0.7ms preprocess, 31.1ms inference, 15.8ms postprocess per image at shape (1, 3, 256, 256)\n",
            "\n",
            "0: 256x256 300 Cell-M3yVs, 21.7ms\n",
            "Speed: 1.6ms preprocess, 21.7ms inference, 19.5ms postprocess per image at shape (1, 3, 256, 256)\n",
            "\n",
            "0: 256x256 11 Cell-M3yVs, 23.3ms\n",
            "Speed: 0.7ms preprocess, 23.3ms inference, 4.9ms postprocess per image at shape (1, 3, 256, 256)\n",
            "\n",
            "0: 256x256 3 Cell-M3yVs, 25.9ms\n",
            "Speed: 0.6ms preprocess, 25.9ms inference, 8.4ms postprocess per image at shape (1, 3, 256, 256)\n",
            "\n",
            "0: 256x256 300 Cell-M3yVs, 27.6ms\n",
            "Speed: 0.7ms preprocess, 27.6ms inference, 15.2ms postprocess per image at shape (1, 3, 256, 256)\n",
            "\n",
            "0: 256x256 14 Cell-M3yVs, 26.8ms\n",
            "Speed: 0.8ms preprocess, 26.8ms inference, 4.8ms postprocess per image at shape (1, 3, 256, 256)\n",
            "\n",
            "0: 256x256 300 Cell-M3yVs, 23.7ms\n",
            "Speed: 0.6ms preprocess, 23.7ms inference, 15.8ms postprocess per image at shape (1, 3, 256, 256)\n",
            "\n",
            "0: 256x256 300 Cell-M3yVs, 28.2ms\n",
            "Speed: 0.8ms preprocess, 28.2ms inference, 16.4ms postprocess per image at shape (1, 3, 256, 256)\n",
            "\n",
            "0: 256x256 32 Cell-M3yVs, 39.4ms\n",
            "Speed: 1.2ms preprocess, 39.4ms inference, 8.3ms postprocess per image at shape (1, 3, 256, 256)\n",
            "\n",
            "0: 256x256 300 Cell-M3yVs, 32.2ms\n",
            "Speed: 1.1ms preprocess, 32.2ms inference, 17.3ms postprocess per image at shape (1, 3, 256, 256)\n",
            "\n",
            "0: 256x256 300 Cell-M3yVs, 39.9ms\n",
            "Speed: 0.8ms preprocess, 39.9ms inference, 16.6ms postprocess per image at shape (1, 3, 256, 256)\n",
            "\n",
            "0: 256x256 300 Cell-M3yVs, 24.8ms\n",
            "Speed: 0.8ms preprocess, 24.8ms inference, 15.8ms postprocess per image at shape (1, 3, 256, 256)\n",
            "\n",
            "0: 256x256 105 Cell-M3yVs, 20.7ms\n",
            "Speed: 0.7ms preprocess, 20.7ms inference, 7.6ms postprocess per image at shape (1, 3, 256, 256)\n",
            "\n",
            "0: 256x256 1 Cell-M3yV, 25.5ms\n",
            "Speed: 0.7ms preprocess, 25.5ms inference, 4.4ms postprocess per image at shape (1, 3, 256, 256)\n",
            "\n",
            "0: 256x256 300 Cell-M3yVs, 18.4ms\n",
            "Speed: 0.6ms preprocess, 18.4ms inference, 14.5ms postprocess per image at shape (1, 3, 256, 256)\n",
            "\n",
            "0: 256x256 300 Cell-M3yVs, 18.7ms\n",
            "Speed: 0.7ms preprocess, 18.7ms inference, 14.4ms postprocess per image at shape (1, 3, 256, 256)\n",
            "\n",
            "0: 256x256 300 Cell-M3yVs, 19.0ms\n",
            "Speed: 0.6ms preprocess, 19.0ms inference, 14.4ms postprocess per image at shape (1, 3, 256, 256)\n",
            "\n",
            "0: 256x256 300 Cell-M3yVs, 18.4ms\n",
            "Speed: 1.7ms preprocess, 18.4ms inference, 14.9ms postprocess per image at shape (1, 3, 256, 256)\n",
            "\n",
            "0: 256x256 300 Cell-M3yVs, 15.9ms\n",
            "Speed: 1.2ms preprocess, 15.9ms inference, 13.8ms postprocess per image at shape (1, 3, 256, 256)\n",
            "\n",
            "0: 256x256 300 Cell-M3yVs, 17.4ms\n",
            "Speed: 0.6ms preprocess, 17.4ms inference, 14.1ms postprocess per image at shape (1, 3, 256, 256)\n",
            "\n",
            "0: 256x256 300 Cell-M3yVs, 19.7ms\n",
            "Speed: 0.7ms preprocess, 19.7ms inference, 14.2ms postprocess per image at shape (1, 3, 256, 256)\n",
            "\n",
            "0: 256x256 300 Cell-M3yVs, 18.3ms\n",
            "Speed: 0.7ms preprocess, 18.3ms inference, 14.2ms postprocess per image at shape (1, 3, 256, 256)\n",
            "\n",
            "0: 256x256 15 Cell-M3yVs, 18.8ms\n",
            "Speed: 0.7ms preprocess, 18.8ms inference, 3.1ms postprocess per image at shape (1, 3, 256, 256)\n",
            "\n",
            "0: 256x256 63 Cell-M3yVs, 19.5ms\n",
            "Speed: 0.6ms preprocess, 19.5ms inference, 5.5ms postprocess per image at shape (1, 3, 256, 256)\n",
            "\n",
            "0: 256x256 300 Cell-M3yVs, 23.1ms\n",
            "Speed: 0.6ms preprocess, 23.1ms inference, 14.8ms postprocess per image at shape (1, 3, 256, 256)\n",
            "\n",
            "0: 256x256 276 Cell-M3yVs, 20.0ms\n",
            "Speed: 0.7ms preprocess, 20.0ms inference, 13.2ms postprocess per image at shape (1, 3, 256, 256)\n",
            "\n",
            "0: 256x256 151 Cell-M3yVs, 16.7ms\n",
            "Speed: 1.0ms preprocess, 16.7ms inference, 8.4ms postprocess per image at shape (1, 3, 256, 256)\n",
            "\n",
            "0: 256x256 274 Cell-M3yVs, 26.3ms\n",
            "Speed: 0.9ms preprocess, 26.3ms inference, 13.6ms postprocess per image at shape (1, 3, 256, 256)\n",
            "\n",
            "0: 256x256 253 Cell-M3yVs, 22.2ms\n",
            "Speed: 0.6ms preprocess, 22.2ms inference, 12.7ms postprocess per image at shape (1, 3, 256, 256)\n",
            "\n",
            "0: 256x256 300 Cell-M3yVs, 26.2ms\n",
            "Speed: 0.8ms preprocess, 26.2ms inference, 15.3ms postprocess per image at shape (1, 3, 256, 256)\n",
            "\n",
            "0: 256x256 (no detections), 23.8ms\n",
            "Speed: 2.0ms preprocess, 23.8ms inference, 0.5ms postprocess per image at shape (1, 3, 256, 256)\n",
            "\n",
            "0: 256x256 300 Cell-M3yVs, 25.0ms\n",
            "Speed: 1.0ms preprocess, 25.0ms inference, 14.7ms postprocess per image at shape (1, 3, 256, 256)\n",
            "\n",
            "0: 256x256 300 Cell-M3yVs, 18.2ms\n",
            "Speed: 1.0ms preprocess, 18.2ms inference, 13.9ms postprocess per image at shape (1, 3, 256, 256)\n",
            "\n",
            "0: 256x256 204 Cell-M3yVs, 17.2ms\n",
            "Speed: 0.7ms preprocess, 17.2ms inference, 10.2ms postprocess per image at shape (1, 3, 256, 256)\n",
            "\n",
            "0: 256x256 27 Cell-M3yVs, 18.8ms\n",
            "Speed: 0.7ms preprocess, 18.8ms inference, 3.3ms postprocess per image at shape (1, 3, 256, 256)\n",
            "\n",
            "0: 256x256 300 Cell-M3yVs, 16.8ms\n",
            "Speed: 1.2ms preprocess, 16.8ms inference, 13.8ms postprocess per image at shape (1, 3, 256, 256)\n",
            "\n",
            "0: 256x256 300 Cell-M3yVs, 15.7ms\n",
            "Speed: 0.7ms preprocess, 15.7ms inference, 13.7ms postprocess per image at shape (1, 3, 256, 256)\n",
            "\n",
            "0: 256x256 (no detections), 16.4ms\n",
            "Speed: 1.0ms preprocess, 16.4ms inference, 0.5ms postprocess per image at shape (1, 3, 256, 256)\n",
            "\n",
            "0: 256x256 31 Cell-M3yVs, 18.3ms\n",
            "Speed: 0.6ms preprocess, 18.3ms inference, 3.5ms postprocess per image at shape (1, 3, 256, 256)\n",
            "\n",
            "0: 256x256 300 Cell-M3yVs, 18.2ms\n",
            "Speed: 1.4ms preprocess, 18.2ms inference, 14.2ms postprocess per image at shape (1, 3, 256, 256)\n",
            "\n",
            "0: 256x256 34 Cell-M3yVs, 18.6ms\n",
            "Speed: 0.7ms preprocess, 18.6ms inference, 3.6ms postprocess per image at shape (1, 3, 256, 256)\n",
            "\n",
            "0: 256x256 300 Cell-M3yVs, 21.7ms\n",
            "Speed: 0.9ms preprocess, 21.7ms inference, 13.8ms postprocess per image at shape (1, 3, 256, 256)\n",
            "\n",
            "0: 256x256 300 Cell-M3yVs, 17.2ms\n",
            "Speed: 1.1ms preprocess, 17.2ms inference, 13.9ms postprocess per image at shape (1, 3, 256, 256)\n",
            "\n",
            "0: 256x256 300 Cell-M3yVs, 17.4ms\n",
            "Speed: 1.0ms preprocess, 17.4ms inference, 13.7ms postprocess per image at shape (1, 3, 256, 256)\n",
            "\n",
            "0: 256x256 300 Cell-M3yVs, 22.7ms\n",
            "Speed: 0.7ms preprocess, 22.7ms inference, 14.5ms postprocess per image at shape (1, 3, 256, 256)\n",
            "\n",
            "0: 256x256 300 Cell-M3yVs, 22.6ms\n",
            "Speed: 0.6ms preprocess, 22.6ms inference, 15.5ms postprocess per image at shape (1, 3, 256, 256)\n",
            "\n",
            "0: 256x256 204 Cell-M3yVs, 21.3ms\n",
            "Speed: 0.7ms preprocess, 21.3ms inference, 11.7ms postprocess per image at shape (1, 3, 256, 256)\n",
            "\n",
            "0: 256x256 300 Cell-M3yVs, 21.6ms\n",
            "Speed: 0.6ms preprocess, 21.6ms inference, 14.5ms postprocess per image at shape (1, 3, 256, 256)\n",
            "\n",
            "0: 256x256 300 Cell-M3yVs, 25.3ms\n",
            "Speed: 0.6ms preprocess, 25.3ms inference, 15.6ms postprocess per image at shape (1, 3, 256, 256)\n",
            "\n",
            "0: 256x256 300 Cell-M3yVs, 23.3ms\n",
            "Speed: 1.4ms preprocess, 23.3ms inference, 14.6ms postprocess per image at shape (1, 3, 256, 256)\n",
            "\n",
            "0: 256x256 300 Cell-M3yVs, 24.4ms\n",
            "Speed: 0.8ms preprocess, 24.4ms inference, 15.2ms postprocess per image at shape (1, 3, 256, 256)\n",
            "\n",
            "0: 256x256 18 Cell-M3yVs, 21.5ms\n",
            "Speed: 0.8ms preprocess, 21.5ms inference, 4.2ms postprocess per image at shape (1, 3, 256, 256)\n",
            "\n",
            "0: 256x256 300 Cell-M3yVs, 30.8ms\n",
            "Speed: 0.7ms preprocess, 30.8ms inference, 15.9ms postprocess per image at shape (1, 3, 256, 256)\n",
            "\n",
            "0: 256x256 173 Cell-M3yVs, 29.9ms\n",
            "Speed: 0.8ms preprocess, 29.9ms inference, 9.9ms postprocess per image at shape (1, 3, 256, 256)\n",
            "\n",
            "0: 256x256 300 Cell-M3yVs, 27.4ms\n",
            "Speed: 1.4ms preprocess, 27.4ms inference, 14.7ms postprocess per image at shape (1, 3, 256, 256)\n",
            "\n",
            "0: 256x256 300 Cell-M3yVs, 18.6ms\n",
            "Speed: 0.7ms preprocess, 18.6ms inference, 13.8ms postprocess per image at shape (1, 3, 256, 256)\n",
            "\n",
            "0: 256x256 300 Cell-M3yVs, 18.3ms\n",
            "Speed: 0.6ms preprocess, 18.3ms inference, 13.8ms postprocess per image at shape (1, 3, 256, 256)\n",
            "\n",
            "0: 256x256 300 Cell-M3yVs, 16.1ms\n",
            "Speed: 1.0ms preprocess, 16.1ms inference, 13.5ms postprocess per image at shape (1, 3, 256, 256)\n",
            "\n",
            "0: 256x256 300 Cell-M3yVs, 17.8ms\n",
            "Speed: 0.8ms preprocess, 17.8ms inference, 13.9ms postprocess per image at shape (1, 3, 256, 256)\n",
            "\n",
            "0: 256x256 300 Cell-M3yVs, 18.2ms\n",
            "Speed: 1.0ms preprocess, 18.2ms inference, 13.6ms postprocess per image at shape (1, 3, 256, 256)\n",
            "\n",
            "0: 256x256 300 Cell-M3yVs, 17.5ms\n",
            "Speed: 1.1ms preprocess, 17.5ms inference, 14.2ms postprocess per image at shape (1, 3, 256, 256)\n",
            "\n",
            "0: 256x256 300 Cell-M3yVs, 19.8ms\n",
            "Speed: 1.0ms preprocess, 19.8ms inference, 13.6ms postprocess per image at shape (1, 3, 256, 256)\n",
            "\n",
            "0: 256x256 257 Cell-M3yVs, 19.5ms\n",
            "Speed: 0.8ms preprocess, 19.5ms inference, 12.4ms postprocess per image at shape (1, 3, 256, 256)\n",
            "\n",
            "0: 256x256 28 Cell-M3yVs, 17.5ms\n",
            "Speed: 0.6ms preprocess, 17.5ms inference, 3.3ms postprocess per image at shape (1, 3, 256, 256)\n",
            "\n",
            "0: 256x256 300 Cell-M3yVs, 18.5ms\n",
            "Speed: 1.0ms preprocess, 18.5ms inference, 13.5ms postprocess per image at shape (1, 3, 256, 256)\n",
            "\n",
            "0: 256x256 300 Cell-M3yVs, 17.8ms\n",
            "Speed: 0.6ms preprocess, 17.8ms inference, 13.8ms postprocess per image at shape (1, 3, 256, 256)\n",
            "\n",
            "0: 256x256 300 Cell-M3yVs, 17.1ms\n",
            "Speed: 0.6ms preprocess, 17.1ms inference, 13.7ms postprocess per image at shape (1, 3, 256, 256)\n",
            "\n",
            "0: 256x256 213 Cell-M3yVs, 16.7ms\n",
            "Speed: 0.6ms preprocess, 16.7ms inference, 10.3ms postprocess per image at shape (1, 3, 256, 256)\n",
            "\n",
            "0: 256x256 100 Cell-M3yVs, 18.6ms\n",
            "Speed: 0.8ms preprocess, 18.6ms inference, 6.4ms postprocess per image at shape (1, 3, 256, 256)\n",
            "\n",
            "0: 256x256 294 Cell-M3yVs, 17.7ms\n",
            "Speed: 1.0ms preprocess, 17.7ms inference, 13.6ms postprocess per image at shape (1, 3, 256, 256)\n",
            "\n",
            "0: 256x256 300 Cell-M3yVs, 28.2ms\n",
            "Speed: 0.7ms preprocess, 28.2ms inference, 16.6ms postprocess per image at shape (1, 3, 256, 256)\n",
            "\n",
            "0: 256x256 224 Cell-M3yVs, 26.9ms\n",
            "Speed: 1.8ms preprocess, 26.9ms inference, 11.4ms postprocess per image at shape (1, 3, 256, 256)\n",
            "\n",
            "0: 256x256 168 Cell-M3yVs, 21.2ms\n",
            "Speed: 1.0ms preprocess, 21.2ms inference, 10.6ms postprocess per image at shape (1, 3, 256, 256)\n",
            "\n",
            "0: 256x256 300 Cell-M3yVs, 23.9ms\n",
            "Speed: 0.7ms preprocess, 23.9ms inference, 14.1ms postprocess per image at shape (1, 3, 256, 256)\n",
            "\n",
            "0: 256x256 300 Cell-M3yVs, 17.8ms\n",
            "Speed: 0.7ms preprocess, 17.8ms inference, 13.5ms postprocess per image at shape (1, 3, 256, 256)\n",
            "\n",
            "0: 256x256 300 Cell-M3yVs, 17.3ms\n",
            "Speed: 0.6ms preprocess, 17.3ms inference, 13.5ms postprocess per image at shape (1, 3, 256, 256)\n",
            "\n",
            "0: 256x256 300 Cell-M3yVs, 18.2ms\n",
            "Speed: 0.7ms preprocess, 18.2ms inference, 13.4ms postprocess per image at shape (1, 3, 256, 256)\n",
            "\n",
            "0: 256x256 300 Cell-M3yVs, 17.9ms\n",
            "Speed: 0.6ms preprocess, 17.9ms inference, 13.6ms postprocess per image at shape (1, 3, 256, 256)\n",
            "\n",
            "0: 256x256 300 Cell-M3yVs, 19.9ms\n",
            "Speed: 0.7ms preprocess, 19.9ms inference, 13.4ms postprocess per image at shape (1, 3, 256, 256)\n",
            "\n",
            "0: 256x256 300 Cell-M3yVs, 17.4ms\n",
            "Speed: 1.0ms preprocess, 17.4ms inference, 13.6ms postprocess per image at shape (1, 3, 256, 256)\n",
            "\n",
            "0: 256x256 275 Cell-M3yVs, 17.5ms\n",
            "Speed: 0.6ms preprocess, 17.5ms inference, 12.6ms postprocess per image at shape (1, 3, 256, 256)\n",
            "\n",
            "0: 256x256 300 Cell-M3yVs, 18.8ms\n",
            "Speed: 1.1ms preprocess, 18.8ms inference, 14.0ms postprocess per image at shape (1, 3, 256, 256)\n",
            "\n",
            "0: 256x256 19 Cell-M3yVs, 17.5ms\n",
            "Speed: 0.7ms preprocess, 17.5ms inference, 3.1ms postprocess per image at shape (1, 3, 256, 256)\n",
            "\n",
            "0: 256x256 8 Cell-M3yVs, 17.3ms\n",
            "Speed: 0.6ms preprocess, 17.3ms inference, 2.9ms postprocess per image at shape (1, 3, 256, 256)\n",
            "\n",
            "0: 256x256 300 Cell-M3yVs, 21.7ms\n",
            "Speed: 0.6ms preprocess, 21.7ms inference, 13.5ms postprocess per image at shape (1, 3, 256, 256)\n",
            "\n",
            "0: 256x256 300 Cell-M3yVs, 18.4ms\n",
            "Speed: 0.7ms preprocess, 18.4ms inference, 13.5ms postprocess per image at shape (1, 3, 256, 256)\n",
            "\n",
            "0: 256x256 120 Cell-M3yVs, 18.1ms\n",
            "Speed: 0.7ms preprocess, 18.1ms inference, 6.7ms postprocess per image at shape (1, 3, 256, 256)\n",
            "\n",
            "0: 256x256 107 Cell-M3yVs, 18.6ms\n",
            "Speed: 1.0ms preprocess, 18.6ms inference, 6.8ms postprocess per image at shape (1, 3, 256, 256)\n",
            "\n",
            "0: 256x256 51 Cell-M3yVs, 18.0ms\n",
            "Speed: 0.6ms preprocess, 18.0ms inference, 4.8ms postprocess per image at shape (1, 3, 256, 256)\n",
            "\n",
            "0: 256x256 300 Cell-M3yVs, 16.2ms\n",
            "Speed: 0.6ms preprocess, 16.2ms inference, 13.4ms postprocess per image at shape (1, 3, 256, 256)\n",
            "\n",
            "0: 256x256 300 Cell-M3yVs, 17.5ms\n",
            "Speed: 0.9ms preprocess, 17.5ms inference, 13.5ms postprocess per image at shape (1, 3, 256, 256)\n",
            "\n",
            "0: 256x256 71 Cell-M3yVs, 18.1ms\n",
            "Speed: 0.6ms preprocess, 18.1ms inference, 5.8ms postprocess per image at shape (1, 3, 256, 256)\n",
            "\n",
            "0: 256x256 300 Cell-M3yVs, 24.1ms\n",
            "Speed: 0.7ms preprocess, 24.1ms inference, 14.3ms postprocess per image at shape (1, 3, 256, 256)\n",
            "\n",
            "0: 256x256 185 Cell-M3yVs, 32.4ms\n",
            "Speed: 0.7ms preprocess, 32.4ms inference, 11.8ms postprocess per image at shape (1, 3, 256, 256)\n",
            "\n",
            "0: 256x256 300 Cell-M3yVs, 25.8ms\n",
            "Speed: 1.9ms preprocess, 25.8ms inference, 14.5ms postprocess per image at shape (1, 3, 256, 256)\n",
            "\n",
            "0: 256x256 300 Cell-M3yVs, 23.7ms\n",
            "Speed: 0.9ms preprocess, 23.7ms inference, 14.3ms postprocess per image at shape (1, 3, 256, 256)\n",
            "\n",
            "0: 256x256 300 Cell-M3yVs, 26.6ms\n",
            "Speed: 0.8ms preprocess, 26.6ms inference, 15.2ms postprocess per image at shape (1, 3, 256, 256)\n",
            "\n",
            "0: 256x256 198 Cell-M3yVs, 20.6ms\n",
            "Speed: 0.7ms preprocess, 20.6ms inference, 9.7ms postprocess per image at shape (1, 3, 256, 256)\n",
            "\n",
            "0: 256x256 300 Cell-M3yVs, 17.5ms\n",
            "Speed: 0.7ms preprocess, 17.5ms inference, 13.4ms postprocess per image at shape (1, 3, 256, 256)\n",
            "\n",
            "0: 256x256 300 Cell-M3yVs, 16.2ms\n",
            "Speed: 0.7ms preprocess, 16.2ms inference, 13.5ms postprocess per image at shape (1, 3, 256, 256)\n",
            "\n",
            "0: 256x256 300 Cell-M3yVs, 17.0ms\n",
            "Speed: 0.6ms preprocess, 17.0ms inference, 13.3ms postprocess per image at shape (1, 3, 256, 256)\n",
            "\n",
            "0: 256x256 139 Cell-M3yVs, 18.8ms\n",
            "Speed: 0.6ms preprocess, 18.8ms inference, 8.0ms postprocess per image at shape (1, 3, 256, 256)\n",
            "\n",
            "0: 256x256 121 Cell-M3yVs, 17.0ms\n",
            "Speed: 0.6ms preprocess, 17.0ms inference, 7.1ms postprocess per image at shape (1, 3, 256, 256)\n",
            "\n",
            "0: 256x256 300 Cell-M3yVs, 16.9ms\n",
            "Speed: 1.0ms preprocess, 16.9ms inference, 13.3ms postprocess per image at shape (1, 3, 256, 256)\n",
            "\n",
            "0: 256x256 283 Cell-M3yVs, 16.2ms\n",
            "Speed: 0.6ms preprocess, 16.2ms inference, 12.6ms postprocess per image at shape (1, 3, 256, 256)\n",
            "\n",
            "0: 256x256 118 Cell-M3yVs, 15.3ms\n",
            "Speed: 0.8ms preprocess, 15.3ms inference, 6.6ms postprocess per image at shape (1, 3, 256, 256)\n",
            "\n",
            "0: 256x256 300 Cell-M3yVs, 16.9ms\n",
            "Speed: 0.6ms preprocess, 16.9ms inference, 13.3ms postprocess per image at shape (1, 3, 256, 256)\n",
            "\n",
            "0: 256x256 300 Cell-M3yVs, 15.9ms\n",
            "Speed: 0.6ms preprocess, 15.9ms inference, 13.4ms postprocess per image at shape (1, 3, 256, 256)\n",
            "\n",
            "0: 256x256 300 Cell-M3yVs, 18.2ms\n",
            "Speed: 0.6ms preprocess, 18.2ms inference, 13.5ms postprocess per image at shape (1, 3, 256, 256)\n",
            "\n",
            "0: 256x256 61 Cell-M3yVs, 18.7ms\n",
            "Speed: 0.8ms preprocess, 18.7ms inference, 4.6ms postprocess per image at shape (1, 3, 256, 256)\n",
            "\n",
            "0: 256x256 300 Cell-M3yVs, 16.0ms\n",
            "Speed: 0.8ms preprocess, 16.0ms inference, 13.3ms postprocess per image at shape (1, 3, 256, 256)\n",
            "\n",
            "0: 256x256 300 Cell-M3yVs, 17.0ms\n",
            "Speed: 0.6ms preprocess, 17.0ms inference, 13.6ms postprocess per image at shape (1, 3, 256, 256)\n",
            "\n",
            "0: 256x256 300 Cell-M3yVs, 17.8ms\n",
            "Speed: 0.9ms preprocess, 17.8ms inference, 13.6ms postprocess per image at shape (1, 3, 256, 256)\n",
            "\n",
            "0: 256x256 37 Cell-M3yVs, 23.0ms\n",
            "Speed: 0.8ms preprocess, 23.0ms inference, 4.5ms postprocess per image at shape (1, 3, 256, 256)\n",
            "\n",
            "0: 256x256 300 Cell-M3yVs, 25.3ms\n",
            "Speed: 1.0ms preprocess, 25.3ms inference, 14.1ms postprocess per image at shape (1, 3, 256, 256)\n",
            "\n",
            "0: 256x256 69 Cell-M3yVs, 27.3ms\n",
            "Speed: 0.7ms preprocess, 27.3ms inference, 7.2ms postprocess per image at shape (1, 3, 256, 256)\n",
            "\n",
            "0: 256x256 59 Cell-M3yVs, 29.5ms\n",
            "Speed: 0.7ms preprocess, 29.5ms inference, 6.1ms postprocess per image at shape (1, 3, 256, 256)\n",
            "\n",
            "0: 256x256 300 Cell-M3yVs, 28.4ms\n",
            "Speed: 0.7ms preprocess, 28.4ms inference, 14.7ms postprocess per image at shape (1, 3, 256, 256)\n",
            "\n",
            "0: 256x256 260 Cell-M3yVs, 23.9ms\n",
            "Speed: 0.7ms preprocess, 23.9ms inference, 12.1ms postprocess per image at shape (1, 3, 256, 256)\n",
            "\n",
            "0: 256x256 300 Cell-M3yVs, 21.0ms\n",
            "Speed: 0.7ms preprocess, 21.0ms inference, 13.9ms postprocess per image at shape (1, 3, 256, 256)\n",
            "\n",
            "0: 256x256 281 Cell-M3yVs, 17.4ms\n",
            "Speed: 1.0ms preprocess, 17.4ms inference, 12.7ms postprocess per image at shape (1, 3, 256, 256)\n",
            "\n",
            "0: 256x256 300 Cell-M3yVs, 18.8ms\n",
            "Speed: 0.6ms preprocess, 18.8ms inference, 13.4ms postprocess per image at shape (1, 3, 256, 256)\n",
            "\n",
            "0: 256x256 135 Cell-M3yVs, 19.2ms\n",
            "Speed: 0.6ms preprocess, 19.2ms inference, 7.2ms postprocess per image at shape (1, 3, 256, 256)\n",
            "\n",
            "0: 256x256 300 Cell-M3yVs, 19.2ms\n",
            "Speed: 0.6ms preprocess, 19.2ms inference, 13.4ms postprocess per image at shape (1, 3, 256, 256)\n",
            "\n",
            "0: 256x256 300 Cell-M3yVs, 19.6ms\n",
            "Speed: 1.0ms preprocess, 19.6ms inference, 13.2ms postprocess per image at shape (1, 3, 256, 256)\n",
            "\n",
            "0: 256x256 54 Cell-M3yVs, 17.6ms\n",
            "Speed: 0.6ms preprocess, 17.6ms inference, 4.5ms postprocess per image at shape (1, 3, 256, 256)\n",
            "\n",
            "0: 256x256 300 Cell-M3yVs, 20.1ms\n",
            "Speed: 0.6ms preprocess, 20.1ms inference, 13.5ms postprocess per image at shape (1, 3, 256, 256)\n",
            "\n",
            "0: 256x256 300 Cell-M3yVs, 17.4ms\n",
            "Speed: 1.0ms preprocess, 17.4ms inference, 14.0ms postprocess per image at shape (1, 3, 256, 256)\n",
            "\n",
            "0: 256x256 300 Cell-M3yVs, 19.2ms\n",
            "Speed: 1.0ms preprocess, 19.2ms inference, 13.3ms postprocess per image at shape (1, 3, 256, 256)\n",
            "\n",
            "0: 256x256 23 Cell-M3yVs, 25.6ms\n",
            "Speed: 0.7ms preprocess, 25.6ms inference, 4.4ms postprocess per image at shape (1, 3, 256, 256)\n",
            "\n",
            "0: 256x256 300 Cell-M3yVs, 24.4ms\n",
            "Speed: 1.2ms preprocess, 24.4ms inference, 14.8ms postprocess per image at shape (1, 3, 256, 256)\n",
            "\n",
            "0: 256x256 300 Cell-M3yVs, 18.4ms\n",
            "Speed: 0.6ms preprocess, 18.4ms inference, 15.6ms postprocess per image at shape (1, 3, 256, 256)\n",
            "\n",
            "0: 256x256 300 Cell-M3yVs, 16.0ms\n",
            "Speed: 0.8ms preprocess, 16.0ms inference, 13.2ms postprocess per image at shape (1, 3, 256, 256)\n",
            "\n",
            "0: 256x256 25 Cell-M3yVs, 16.8ms\n",
            "Speed: 0.6ms preprocess, 16.8ms inference, 3.7ms postprocess per image at shape (1, 3, 256, 256)\n",
            "\n",
            "0: 256x256 53 Cell-M3yVs, 18.4ms\n",
            "Speed: 0.8ms preprocess, 18.4ms inference, 4.6ms postprocess per image at shape (1, 3, 256, 256)\n",
            "\n",
            "0: 256x256 300 Cell-M3yVs, 25.6ms\n",
            "Speed: 0.8ms preprocess, 25.6ms inference, 14.5ms postprocess per image at shape (1, 3, 256, 256)\n",
            "\n",
            "0: 256x256 273 Cell-M3yVs, 26.0ms\n",
            "Speed: 0.9ms preprocess, 26.0ms inference, 13.7ms postprocess per image at shape (1, 3, 256, 256)\n",
            "\n",
            "0: 256x256 187 Cell-M3yVs, 36.1ms\n",
            "Speed: 0.9ms preprocess, 36.1ms inference, 11.9ms postprocess per image at shape (1, 3, 256, 256)\n",
            "\n",
            "0: 256x256 36 Cell-M3yVs, 36.1ms\n",
            "Speed: 0.8ms preprocess, 36.1ms inference, 6.8ms postprocess per image at shape (1, 3, 256, 256)\n",
            "\n",
            "0: 256x256 90 Cell-M3yVs, 32.6ms\n",
            "Speed: 0.7ms preprocess, 32.6ms inference, 6.4ms postprocess per image at shape (1, 3, 256, 256)\n",
            "\n",
            "0: 256x256 269 Cell-M3yVs, 24.4ms\n",
            "Speed: 0.6ms preprocess, 24.4ms inference, 13.3ms postprocess per image at shape (1, 3, 256, 256)\n",
            "\n",
            "0: 256x256 163 Cell-M3yVs, 23.0ms\n",
            "Speed: 0.8ms preprocess, 23.0ms inference, 9.6ms postprocess per image at shape (1, 3, 256, 256)\n",
            "\n",
            "0: 256x256 181 Cell-M3yVs, 18.4ms\n",
            "Speed: 0.7ms preprocess, 18.4ms inference, 9.0ms postprocess per image at shape (1, 3, 256, 256)\n",
            "\n",
            "0: 256x256 147 Cell-M3yVs, 17.9ms\n",
            "Speed: 0.6ms preprocess, 17.9ms inference, 7.7ms postprocess per image at shape (1, 3, 256, 256)\n",
            "\n",
            "0: 256x256 75 Cell-M3yVs, 19.7ms\n",
            "Speed: 0.6ms preprocess, 19.7ms inference, 5.0ms postprocess per image at shape (1, 3, 256, 256)\n",
            "\n",
            "0: 256x256 60 Cell-M3yVs, 16.3ms\n",
            "Speed: 0.8ms preprocess, 16.3ms inference, 4.5ms postprocess per image at shape (1, 3, 256, 256)\n",
            "\n",
            "0: 256x256 300 Cell-M3yVs, 17.4ms\n",
            "Speed: 0.6ms preprocess, 17.4ms inference, 13.2ms postprocess per image at shape (1, 3, 256, 256)\n",
            "\n",
            "0: 256x256 69 Cell-M3yVs, 18.5ms\n",
            "Speed: 1.1ms preprocess, 18.5ms inference, 4.7ms postprocess per image at shape (1, 3, 256, 256)\n",
            "\n",
            "0: 256x256 300 Cell-M3yVs, 17.0ms\n",
            "Speed: 0.7ms preprocess, 17.0ms inference, 13.4ms postprocess per image at shape (1, 3, 256, 256)\n",
            "\n",
            "0: 256x256 300 Cell-M3yVs, 17.1ms\n",
            "Speed: 0.6ms preprocess, 17.1ms inference, 13.6ms postprocess per image at shape (1, 3, 256, 256)\n",
            "\n",
            "0: 256x256 300 Cell-M3yVs, 20.1ms\n",
            "Speed: 0.6ms preprocess, 20.1ms inference, 13.9ms postprocess per image at shape (1, 3, 256, 256)\n",
            "\n",
            "0: 256x256 103 Cell-M3yVs, 16.6ms\n",
            "Speed: 0.7ms preprocess, 16.6ms inference, 6.9ms postprocess per image at shape (1, 3, 256, 256)\n",
            "\n",
            "0: 256x256 300 Cell-M3yVs, 17.2ms\n",
            "Speed: 0.7ms preprocess, 17.2ms inference, 13.4ms postprocess per image at shape (1, 3, 256, 256)\n",
            "\n",
            "0: 256x256 300 Cell-M3yVs, 16.6ms\n",
            "Speed: 0.6ms preprocess, 16.6ms inference, 13.4ms postprocess per image at shape (1, 3, 256, 256)\n",
            "\n",
            "0: 256x256 300 Cell-M3yVs, 15.8ms\n",
            "Speed: 0.8ms preprocess, 15.8ms inference, 13.3ms postprocess per image at shape (1, 3, 256, 256)\n",
            "\n",
            "0: 256x256 275 Cell-M3yVs, 16.2ms\n",
            "Speed: 0.7ms preprocess, 16.2ms inference, 12.6ms postprocess per image at shape (1, 3, 256, 256)\n",
            "\n",
            "0: 256x256 291 Cell-M3yVs, 19.1ms\n",
            "Speed: 0.7ms preprocess, 19.1ms inference, 13.2ms postprocess per image at shape (1, 3, 256, 256)\n",
            "\n",
            "0: 256x256 300 Cell-M3yVs, 24.0ms\n",
            "Speed: 0.8ms preprocess, 24.0ms inference, 14.5ms postprocess per image at shape (1, 3, 256, 256)\n",
            "\n",
            "0: 256x256 290 Cell-M3yVs, 22.9ms\n",
            "Speed: 0.9ms preprocess, 22.9ms inference, 13.8ms postprocess per image at shape (1, 3, 256, 256)\n",
            "\n",
            "0: 256x256 66 Cell-M3yVs, 26.7ms\n",
            "Speed: 0.8ms preprocess, 26.7ms inference, 6.3ms postprocess per image at shape (1, 3, 256, 256)\n",
            "\n",
            "0: 256x256 300 Cell-M3yVs, 24.7ms\n",
            "Speed: 0.8ms preprocess, 24.7ms inference, 14.9ms postprocess per image at shape (1, 3, 256, 256)\n",
            "\n",
            "0: 256x256 182 Cell-M3yVs, 27.4ms\n",
            "Speed: 0.7ms preprocess, 27.4ms inference, 10.7ms postprocess per image at shape (1, 3, 256, 256)\n",
            "\n",
            "0: 256x256 300 Cell-M3yVs, 16.1ms\n",
            "Speed: 0.8ms preprocess, 16.1ms inference, 13.3ms postprocess per image at shape (1, 3, 256, 256)\n",
            "\n",
            "0: 256x256 40 Cell-M3yVs, 17.9ms\n",
            "Speed: 4.1ms preprocess, 17.9ms inference, 4.1ms postprocess per image at shape (1, 3, 256, 256)\n",
            "\n",
            "0: 256x256 300 Cell-M3yVs, 23.0ms\n",
            "Speed: 0.7ms preprocess, 23.0ms inference, 13.8ms postprocess per image at shape (1, 3, 256, 256)\n",
            "\n",
            "0: 256x256 300 Cell-M3yVs, 20.5ms\n",
            "Speed: 0.7ms preprocess, 20.5ms inference, 13.5ms postprocess per image at shape (1, 3, 256, 256)\n",
            "\n",
            "0: 256x256 300 Cell-M3yVs, 16.0ms\n",
            "Speed: 0.7ms preprocess, 16.0ms inference, 13.6ms postprocess per image at shape (1, 3, 256, 256)\n",
            "\n",
            "0: 256x256 300 Cell-M3yVs, 15.3ms\n",
            "Speed: 1.8ms preprocess, 15.3ms inference, 13.5ms postprocess per image at shape (1, 3, 256, 256)\n",
            "\n",
            "0: 256x256 300 Cell-M3yVs, 15.1ms\n",
            "Speed: 0.7ms preprocess, 15.1ms inference, 13.5ms postprocess per image at shape (1, 3, 256, 256)\n",
            "\n",
            "0: 256x256 132 Cell-M3yVs, 18.0ms\n",
            "Speed: 0.8ms preprocess, 18.0ms inference, 7.1ms postprocess per image at shape (1, 3, 256, 256)\n",
            "\n",
            "0: 256x256 300 Cell-M3yVs, 19.5ms\n",
            "Speed: 0.6ms preprocess, 19.5ms inference, 13.4ms postprocess per image at shape (1, 3, 256, 256)\n",
            "\n",
            "0: 256x256 300 Cell-M3yVs, 19.9ms\n",
            "Speed: 0.9ms preprocess, 19.9ms inference, 13.5ms postprocess per image at shape (1, 3, 256, 256)\n",
            "\n",
            "0: 256x256 300 Cell-M3yVs, 17.3ms\n",
            "Speed: 0.7ms preprocess, 17.3ms inference, 13.4ms postprocess per image at shape (1, 3, 256, 256)\n",
            "\n",
            "0: 256x256 300 Cell-M3yVs, 20.9ms\n",
            "Speed: 1.1ms preprocess, 20.9ms inference, 13.4ms postprocess per image at shape (1, 3, 256, 256)\n",
            "\n",
            "0: 256x256 202 Cell-M3yVs, 17.6ms\n",
            "Speed: 0.6ms preprocess, 17.6ms inference, 9.7ms postprocess per image at shape (1, 3, 256, 256)\n",
            "\n",
            "0: 256x256 300 Cell-M3yVs, 16.2ms\n",
            "Speed: 0.9ms preprocess, 16.2ms inference, 13.3ms postprocess per image at shape (1, 3, 256, 256)\n",
            "\n",
            "0: 256x256 300 Cell-M3yVs, 17.4ms\n",
            "Speed: 0.8ms preprocess, 17.4ms inference, 13.7ms postprocess per image at shape (1, 3, 256, 256)\n",
            "\n",
            "0: 256x256 300 Cell-M3yVs, 16.8ms\n",
            "Speed: 0.6ms preprocess, 16.8ms inference, 13.2ms postprocess per image at shape (1, 3, 256, 256)\n",
            "\n",
            "0: 256x256 229 Cell-M3yVs, 24.9ms\n",
            "Speed: 0.6ms preprocess, 24.9ms inference, 11.7ms postprocess per image at shape (1, 3, 256, 256)\n",
            "\n",
            "0: 256x256 300 Cell-M3yVs, 25.4ms\n",
            "Speed: 0.9ms preprocess, 25.4ms inference, 14.2ms postprocess per image at shape (1, 3, 256, 256)\n",
            "\n",
            "0: 256x256 300 Cell-M3yVs, 25.4ms\n",
            "Speed: 1.0ms preprocess, 25.4ms inference, 14.4ms postprocess per image at shape (1, 3, 256, 256)\n",
            "\n",
            "0: 256x256 147 Cell-M3yVs, 26.7ms\n",
            "Speed: 1.0ms preprocess, 26.7ms inference, 8.6ms postprocess per image at shape (1, 3, 256, 256)\n",
            "\n",
            "0: 256x256 41 Cell-M3yVs, 22.9ms\n",
            "Speed: 0.7ms preprocess, 22.9ms inference, 7.1ms postprocess per image at shape (1, 3, 256, 256)\n",
            "\n",
            "0: 256x256 300 Cell-M3yVs, 30.5ms\n",
            "Speed: 1.5ms preprocess, 30.5ms inference, 14.9ms postprocess per image at shape (1, 3, 256, 256)\n",
            "\n",
            "0: 256x256 5 Cell-M3yVs, 19.2ms\n",
            "Speed: 0.7ms preprocess, 19.2ms inference, 3.0ms postprocess per image at shape (1, 3, 256, 256)\n",
            "\n",
            "0: 256x256 300 Cell-M3yVs, 17.0ms\n",
            "Speed: 0.9ms preprocess, 17.0ms inference, 13.3ms postprocess per image at shape (1, 3, 256, 256)\n",
            "\n",
            "0: 256x256 269 Cell-M3yVs, 17.4ms\n",
            "Speed: 0.6ms preprocess, 17.4ms inference, 12.4ms postprocess per image at shape (1, 3, 256, 256)\n",
            "\n",
            "0: 256x256 300 Cell-M3yVs, 18.0ms\n",
            "Speed: 0.7ms preprocess, 18.0ms inference, 13.2ms postprocess per image at shape (1, 3, 256, 256)\n",
            "\n",
            "0: 256x256 300 Cell-M3yVs, 17.4ms\n",
            "Speed: 0.7ms preprocess, 17.4ms inference, 13.2ms postprocess per image at shape (1, 3, 256, 256)\n",
            "\n",
            "0: 256x256 300 Cell-M3yVs, 18.9ms\n",
            "Speed: 0.7ms preprocess, 18.9ms inference, 14.0ms postprocess per image at shape (1, 3, 256, 256)\n",
            "\n",
            "0: 256x256 300 Cell-M3yVs, 19.0ms\n",
            "Speed: 0.6ms preprocess, 19.0ms inference, 13.7ms postprocess per image at shape (1, 3, 256, 256)\n",
            "\n",
            "0: 256x256 1 Cell-M3yV, 17.6ms\n",
            "Speed: 0.6ms preprocess, 17.6ms inference, 3.1ms postprocess per image at shape (1, 3, 256, 256)\n",
            "\n",
            "0: 256x256 300 Cell-M3yVs, 14.7ms\n",
            "Speed: 0.9ms preprocess, 14.7ms inference, 13.1ms postprocess per image at shape (1, 3, 256, 256)\n",
            "\n",
            "0: 256x256 300 Cell-M3yVs, 17.1ms\n",
            "Speed: 0.8ms preprocess, 17.1ms inference, 13.2ms postprocess per image at shape (1, 3, 256, 256)\n",
            "\n",
            "0: 256x256 296 Cell-M3yVs, 17.8ms\n",
            "Speed: 0.9ms preprocess, 17.8ms inference, 13.6ms postprocess per image at shape (1, 3, 256, 256)\n",
            "\n",
            "0: 256x256 300 Cell-M3yVs, 15.8ms\n",
            "Speed: 0.6ms preprocess, 15.8ms inference, 13.2ms postprocess per image at shape (1, 3, 256, 256)\n",
            "\n",
            "0: 256x256 300 Cell-M3yVs, 17.3ms\n",
            "Speed: 0.6ms preprocess, 17.3ms inference, 13.7ms postprocess per image at shape (1, 3, 256, 256)\n",
            "\n",
            "0: 256x256 300 Cell-M3yVs, 15.4ms\n",
            "Speed: 0.9ms preprocess, 15.4ms inference, 13.7ms postprocess per image at shape (1, 3, 256, 256)\n",
            "\n",
            "0: 256x256 300 Cell-M3yVs, 16.3ms\n",
            "Speed: 0.6ms preprocess, 16.3ms inference, 13.4ms postprocess per image at shape (1, 3, 256, 256)\n",
            "\n",
            "0: 256x256 300 Cell-M3yVs, 16.4ms\n",
            "Speed: 0.7ms preprocess, 16.4ms inference, 13.4ms postprocess per image at shape (1, 3, 256, 256)\n",
            "\n",
            "0: 256x256 300 Cell-M3yVs, 24.5ms\n",
            "Speed: 0.6ms preprocess, 24.5ms inference, 15.1ms postprocess per image at shape (1, 3, 256, 256)\n",
            "\n",
            "0: 256x256 300 Cell-M3yVs, 26.3ms\n",
            "Speed: 1.5ms preprocess, 26.3ms inference, 14.5ms postprocess per image at shape (1, 3, 256, 256)\n",
            "\n",
            "0: 256x256 300 Cell-M3yVs, 25.0ms\n",
            "Speed: 0.7ms preprocess, 25.0ms inference, 14.5ms postprocess per image at shape (1, 3, 256, 256)\n",
            "\n",
            "0: 256x256 264 Cell-M3yVs, 24.3ms\n",
            "Speed: 0.9ms preprocess, 24.3ms inference, 12.8ms postprocess per image at shape (1, 3, 256, 256)\n",
            "\n",
            "0: 256x256 28 Cell-M3yVs, 25.4ms\n",
            "Speed: 0.8ms preprocess, 25.4ms inference, 4.4ms postprocess per image at shape (1, 3, 256, 256)\n",
            "\n",
            "0: 256x256 300 Cell-M3yVs, 19.0ms\n",
            "Speed: 0.8ms preprocess, 19.0ms inference, 13.4ms postprocess per image at shape (1, 3, 256, 256)\n",
            "\n",
            "0: 256x256 62 Cell-M3yVs, 22.1ms\n",
            "Speed: 1.1ms preprocess, 22.1ms inference, 5.9ms postprocess per image at shape (1, 3, 256, 256)\n",
            "\n",
            "0: 256x256 300 Cell-M3yVs, 16.7ms\n",
            "Speed: 0.6ms preprocess, 16.7ms inference, 13.8ms postprocess per image at shape (1, 3, 256, 256)\n",
            "\n",
            "0: 256x256 (no detections), 16.7ms\n",
            "Speed: 1.0ms preprocess, 16.7ms inference, 0.5ms postprocess per image at shape (1, 3, 256, 256)\n",
            "\n",
            "0: 256x256 300 Cell-M3yVs, 18.9ms\n",
            "Speed: 0.6ms preprocess, 18.9ms inference, 13.5ms postprocess per image at shape (1, 3, 256, 256)\n",
            "\n",
            "0: 256x256 300 Cell-M3yVs, 19.1ms\n",
            "Speed: 0.6ms preprocess, 19.1ms inference, 13.3ms postprocess per image at shape (1, 3, 256, 256)\n",
            "\n",
            "0: 256x256 300 Cell-M3yVs, 17.1ms\n",
            "Speed: 0.7ms preprocess, 17.1ms inference, 13.2ms postprocess per image at shape (1, 3, 256, 256)\n",
            "\n",
            "0: 256x256 300 Cell-M3yVs, 16.1ms\n",
            "Speed: 0.6ms preprocess, 16.1ms inference, 13.6ms postprocess per image at shape (1, 3, 256, 256)\n",
            "\n",
            "0: 256x256 300 Cell-M3yVs, 17.4ms\n",
            "Speed: 0.6ms preprocess, 17.4ms inference, 13.4ms postprocess per image at shape (1, 3, 256, 256)\n",
            "\n",
            "0: 256x256 2 Cell-M3yVs, 17.2ms\n",
            "Speed: 1.0ms preprocess, 17.2ms inference, 2.8ms postprocess per image at shape (1, 3, 256, 256)\n",
            "\n",
            "0: 256x256 300 Cell-M3yVs, 15.7ms\n",
            "Speed: 0.8ms preprocess, 15.7ms inference, 13.2ms postprocess per image at shape (1, 3, 256, 256)\n",
            "\n",
            "0: 256x256 300 Cell-M3yVs, 16.4ms\n",
            "Speed: 0.6ms preprocess, 16.4ms inference, 13.3ms postprocess per image at shape (1, 3, 256, 256)\n",
            "\n",
            "0: 256x256 300 Cell-M3yVs, 16.9ms\n",
            "Speed: 1.0ms preprocess, 16.9ms inference, 13.2ms postprocess per image at shape (1, 3, 256, 256)\n",
            "\n",
            "0: 256x256 73 Cell-M3yVs, 16.8ms\n",
            "Speed: 0.7ms preprocess, 16.8ms inference, 5.2ms postprocess per image at shape (1, 3, 256, 256)\n",
            "\n",
            "0: 256x256 300 Cell-M3yVs, 15.5ms\n",
            "Speed: 0.8ms preprocess, 15.5ms inference, 13.1ms postprocess per image at shape (1, 3, 256, 256)\n",
            "\n",
            "0: 256x256 300 Cell-M3yVs, 15.8ms\n",
            "Speed: 0.8ms preprocess, 15.8ms inference, 13.3ms postprocess per image at shape (1, 3, 256, 256)\n",
            "\n",
            "0: 256x256 30 Cell-M3yVs, 16.1ms\n",
            "Speed: 0.6ms preprocess, 16.1ms inference, 3.2ms postprocess per image at shape (1, 3, 256, 256)\n",
            "\n",
            "0: 256x256 161 Cell-M3yVs, 15.1ms\n",
            "Speed: 0.5ms preprocess, 15.1ms inference, 8.0ms postprocess per image at shape (1, 3, 256, 256)\n",
            "\n",
            "0: 256x256 15 Cell-M3yVs, 19.4ms\n",
            "Speed: 0.6ms preprocess, 19.4ms inference, 3.9ms postprocess per image at shape (1, 3, 256, 256)\n",
            "\n",
            "0: 256x256 99 Cell-M3yVs, 23.6ms\n",
            "Speed: 0.7ms preprocess, 23.6ms inference, 7.2ms postprocess per image at shape (1, 3, 256, 256)\n",
            "\n",
            "0: 256x256 161 Cell-M3yVs, 22.5ms\n",
            "Speed: 0.7ms preprocess, 22.5ms inference, 9.5ms postprocess per image at shape (1, 3, 256, 256)\n",
            "\n",
            "0: 256x256 300 Cell-M3yVs, 31.4ms\n",
            "Speed: 1.4ms preprocess, 31.4ms inference, 14.3ms postprocess per image at shape (1, 3, 256, 256)\n",
            "\n",
            "0: 256x256 264 Cell-M3yVs, 23.7ms\n",
            "Speed: 0.8ms preprocess, 23.7ms inference, 13.5ms postprocess per image at shape (1, 3, 256, 256)\n",
            "\n",
            "0: 256x256 300 Cell-M3yVs, 27.8ms\n",
            "Speed: 1.7ms preprocess, 27.8ms inference, 14.5ms postprocess per image at shape (1, 3, 256, 256)\n",
            "\n",
            "0: 256x256 300 Cell-M3yVs, 17.4ms\n",
            "Speed: 0.7ms preprocess, 17.4ms inference, 13.6ms postprocess per image at shape (1, 3, 256, 256)\n",
            "\n",
            "0: 256x256 300 Cell-M3yVs, 32.8ms\n",
            "Speed: 0.8ms preprocess, 32.8ms inference, 14.7ms postprocess per image at shape (1, 3, 256, 256)\n",
            "\n",
            "0: 256x256 220 Cell-M3yVs, 25.3ms\n",
            "Speed: 0.8ms preprocess, 25.3ms inference, 11.2ms postprocess per image at shape (1, 3, 256, 256)\n",
            "\n",
            "0: 256x256 300 Cell-M3yVs, 21.9ms\n",
            "Speed: 0.7ms preprocess, 21.9ms inference, 14.5ms postprocess per image at shape (1, 3, 256, 256)\n",
            "\n",
            "0: 256x256 295 Cell-M3yVs, 21.5ms\n",
            "Speed: 1.5ms preprocess, 21.5ms inference, 15.8ms postprocess per image at shape (1, 3, 256, 256)\n",
            "\n",
            "0: 256x256 300 Cell-M3yVs, 22.2ms\n",
            "Speed: 0.7ms preprocess, 22.2ms inference, 14.7ms postprocess per image at shape (1, 3, 256, 256)\n",
            "\n",
            "0: 256x256 33 Cell-M3yVs, 33.3ms\n",
            "Speed: 0.6ms preprocess, 33.3ms inference, 6.8ms postprocess per image at shape (1, 3, 256, 256)\n",
            "\n",
            "0: 256x256 58 Cell-M3yVs, 19.9ms\n",
            "Speed: 0.7ms preprocess, 19.9ms inference, 5.1ms postprocess per image at shape (1, 3, 256, 256)\n",
            "\n",
            "0: 256x256 300 Cell-M3yVs, 24.5ms\n",
            "Speed: 0.7ms preprocess, 24.5ms inference, 14.5ms postprocess per image at shape (1, 3, 256, 256)\n",
            "\n",
            "0: 256x256 278 Cell-M3yVs, 20.7ms\n",
            "Speed: 0.7ms preprocess, 20.7ms inference, 13.2ms postprocess per image at shape (1, 3, 256, 256)\n",
            "\n",
            "0: 256x256 300 Cell-M3yVs, 24.3ms\n",
            "Speed: 0.6ms preprocess, 24.3ms inference, 14.5ms postprocess per image at shape (1, 3, 256, 256)\n",
            "\n",
            "0: 256x256 300 Cell-M3yVs, 18.1ms\n",
            "Speed: 0.6ms preprocess, 18.1ms inference, 14.2ms postprocess per image at shape (1, 3, 256, 256)\n",
            "\n",
            "0: 256x256 117 Cell-M3yVs, 23.3ms\n",
            "Speed: 0.6ms preprocess, 23.3ms inference, 12.2ms postprocess per image at shape (1, 3, 256, 256)\n",
            "\n",
            "0: 256x256 300 Cell-M3yVs, 25.0ms\n",
            "Speed: 0.7ms preprocess, 25.0ms inference, 14.4ms postprocess per image at shape (1, 3, 256, 256)\n",
            "\n",
            "0: 256x256 300 Cell-M3yVs, 23.3ms\n",
            "Speed: 0.7ms preprocess, 23.3ms inference, 14.9ms postprocess per image at shape (1, 3, 256, 256)\n",
            "\n",
            "0: 256x256 300 Cell-M3yVs, 29.4ms\n",
            "Speed: 0.7ms preprocess, 29.4ms inference, 15.3ms postprocess per image at shape (1, 3, 256, 256)\n",
            "\n",
            "0: 256x256 48 Cell-M3yVs, 19.7ms\n",
            "Speed: 0.7ms preprocess, 19.7ms inference, 5.2ms postprocess per image at shape (1, 3, 256, 256)\n",
            "\n",
            "0: 256x256 300 Cell-M3yVs, 27.1ms\n",
            "Speed: 0.8ms preprocess, 27.1ms inference, 15.1ms postprocess per image at shape (1, 3, 256, 256)\n",
            "\n",
            "0: 256x256 300 Cell-M3yVs, 20.3ms\n",
            "Speed: 1.1ms preprocess, 20.3ms inference, 14.2ms postprocess per image at shape (1, 3, 256, 256)\n",
            "\n",
            "0: 256x256 300 Cell-M3yVs, 24.0ms\n",
            "Speed: 0.7ms preprocess, 24.0ms inference, 17.0ms postprocess per image at shape (1, 3, 256, 256)\n",
            "\n",
            "0: 256x256 300 Cell-M3yVs, 20.2ms\n",
            "Speed: 0.7ms preprocess, 20.2ms inference, 14.3ms postprocess per image at shape (1, 3, 256, 256)\n",
            "\n",
            "0: 256x256 (no detections), 23.6ms\n",
            "Speed: 0.6ms preprocess, 23.6ms inference, 0.5ms postprocess per image at shape (1, 3, 256, 256)\n",
            "\n",
            "0: 256x256 300 Cell-M3yVs, 22.3ms\n",
            "Speed: 0.6ms preprocess, 22.3ms inference, 15.9ms postprocess per image at shape (1, 3, 256, 256)\n",
            "\n",
            "0: 256x256 300 Cell-M3yVs, 19.3ms\n",
            "Speed: 0.6ms preprocess, 19.3ms inference, 14.2ms postprocess per image at shape (1, 3, 256, 256)\n",
            "\n",
            "0: 256x256 300 Cell-M3yVs, 20.7ms\n",
            "Speed: 0.7ms preprocess, 20.7ms inference, 14.1ms postprocess per image at shape (1, 3, 256, 256)\n",
            "\n",
            "0: 256x256 273 Cell-M3yVs, 18.6ms\n",
            "Speed: 0.6ms preprocess, 18.6ms inference, 13.2ms postprocess per image at shape (1, 3, 256, 256)\n",
            "\n",
            "0: 256x256 213 Cell-M3yVs, 19.3ms\n",
            "Speed: 0.6ms preprocess, 19.3ms inference, 11.0ms postprocess per image at shape (1, 3, 256, 256)\n",
            "\n",
            "0: 256x256 300 Cell-M3yVs, 19.1ms\n",
            "Speed: 0.6ms preprocess, 19.1ms inference, 14.0ms postprocess per image at shape (1, 3, 256, 256)\n",
            "\n",
            "0: 256x256 248 Cell-M3yVs, 18.0ms\n",
            "Speed: 2.1ms preprocess, 18.0ms inference, 12.2ms postprocess per image at shape (1, 3, 256, 256)\n",
            "\n",
            "0: 256x256 300 Cell-M3yVs, 18.0ms\n",
            "Speed: 0.6ms preprocess, 18.0ms inference, 14.2ms postprocess per image at shape (1, 3, 256, 256)\n",
            "\n",
            "0: 256x256 300 Cell-M3yVs, 16.2ms\n",
            "Speed: 0.6ms preprocess, 16.2ms inference, 14.5ms postprocess per image at shape (1, 3, 256, 256)\n",
            "\n",
            "0: 256x256 300 Cell-M3yVs, 16.5ms\n",
            "Speed: 0.6ms preprocess, 16.5ms inference, 13.9ms postprocess per image at shape (1, 3, 256, 256)\n",
            "\n",
            "0: 256x256 300 Cell-M3yVs, 16.1ms\n",
            "Speed: 0.7ms preprocess, 16.1ms inference, 14.2ms postprocess per image at shape (1, 3, 256, 256)\n",
            "\n",
            "0: 256x256 300 Cell-M3yVs, 16.6ms\n",
            "Speed: 0.6ms preprocess, 16.6ms inference, 14.1ms postprocess per image at shape (1, 3, 256, 256)\n",
            "\n",
            "0: 256x256 300 Cell-M3yVs, 17.1ms\n",
            "Speed: 0.6ms preprocess, 17.1ms inference, 14.7ms postprocess per image at shape (1, 3, 256, 256)\n",
            "\n",
            "0: 256x256 300 Cell-M3yVs, 28.8ms\n",
            "Speed: 0.6ms preprocess, 28.8ms inference, 14.1ms postprocess per image at shape (1, 3, 256, 256)\n",
            "\n",
            "0: 256x256 300 Cell-M3yVs, 30.5ms\n",
            "Speed: 0.6ms preprocess, 30.5ms inference, 14.7ms postprocess per image at shape (1, 3, 256, 256)\n",
            "\n",
            "0: 256x256 300 Cell-M3yVs, 38.6ms\n",
            "Speed: 1.0ms preprocess, 38.6ms inference, 14.6ms postprocess per image at shape (1, 3, 256, 256)\n",
            "\n",
            "0: 256x256 300 Cell-M3yVs, 45.8ms\n",
            "Speed: 1.1ms preprocess, 45.8ms inference, 15.9ms postprocess per image at shape (1, 3, 256, 256)\n",
            "\n",
            "0: 256x256 300 Cell-M3yVs, 24.9ms\n",
            "Speed: 0.7ms preprocess, 24.9ms inference, 14.1ms postprocess per image at shape (1, 3, 256, 256)\n",
            "\n",
            "0: 256x256 268 Cell-M3yVs, 30.6ms\n",
            "Speed: 0.7ms preprocess, 30.6ms inference, 15.2ms postprocess per image at shape (1, 3, 256, 256)\n",
            "\n",
            "0: 256x256 300 Cell-M3yVs, 24.4ms\n",
            "Speed: 0.7ms preprocess, 24.4ms inference, 15.9ms postprocess per image at shape (1, 3, 256, 256)\n",
            "\n",
            "0: 256x256 300 Cell-M3yVs, 33.8ms\n",
            "Speed: 0.7ms preprocess, 33.8ms inference, 14.7ms postprocess per image at shape (1, 3, 256, 256)\n",
            "\n",
            "0: 256x256 41 Cell-M3yVs, 31.3ms\n",
            "Speed: 0.8ms preprocess, 31.3ms inference, 5.1ms postprocess per image at shape (1, 3, 256, 256)\n",
            "\n",
            "0: 256x256 300 Cell-M3yVs, 22.6ms\n",
            "Speed: 0.7ms preprocess, 22.6ms inference, 13.8ms postprocess per image at shape (1, 3, 256, 256)\n",
            "\n",
            "0: 256x256 300 Cell-M3yVs, 17.6ms\n",
            "Speed: 0.6ms preprocess, 17.6ms inference, 14.0ms postprocess per image at shape (1, 3, 256, 256)\n",
            "\n",
            "0: 256x256 300 Cell-M3yVs, 24.2ms\n",
            "Speed: 0.7ms preprocess, 24.2ms inference, 18.3ms postprocess per image at shape (1, 3, 256, 256)\n",
            "\n",
            "0: 256x256 300 Cell-M3yVs, 26.3ms\n",
            "Speed: 0.7ms preprocess, 26.3ms inference, 21.6ms postprocess per image at shape (1, 3, 256, 256)\n",
            "\n",
            "0: 256x256 300 Cell-M3yVs, 24.7ms\n",
            "Speed: 0.6ms preprocess, 24.7ms inference, 16.9ms postprocess per image at shape (1, 3, 256, 256)\n",
            "\n",
            "0: 256x256 223 Cell-M3yVs, 27.2ms\n",
            "Speed: 0.6ms preprocess, 27.2ms inference, 11.5ms postprocess per image at shape (1, 3, 256, 256)\n",
            "\n",
            "0: 256x256 290 Cell-M3yVs, 26.2ms\n",
            "Speed: 0.6ms preprocess, 26.2ms inference, 19.2ms postprocess per image at shape (1, 3, 256, 256)\n",
            "\n",
            "0: 256x256 300 Cell-M3yVs, 26.0ms\n",
            "Speed: 0.7ms preprocess, 26.0ms inference, 17.7ms postprocess per image at shape (1, 3, 256, 256)\n",
            "\n",
            "0: 256x256 300 Cell-M3yVs, 28.2ms\n",
            "Speed: 1.1ms preprocess, 28.2ms inference, 15.5ms postprocess per image at shape (1, 3, 256, 256)\n",
            "\n",
            "0: 256x256 300 Cell-M3yVs, 28.0ms\n",
            "Speed: 0.6ms preprocess, 28.0ms inference, 14.9ms postprocess per image at shape (1, 3, 256, 256)\n",
            "\n",
            "0: 256x256 300 Cell-M3yVs, 29.8ms\n",
            "Speed: 0.8ms preprocess, 29.8ms inference, 14.2ms postprocess per image at shape (1, 3, 256, 256)\n",
            "\n",
            "0: 256x256 34 Cell-M3yVs, 21.2ms\n",
            "Speed: 0.9ms preprocess, 21.2ms inference, 4.8ms postprocess per image at shape (1, 3, 256, 256)\n",
            "\n",
            "0: 256x256 299 Cell-M3yVs, 20.2ms\n",
            "Speed: 0.6ms preprocess, 20.2ms inference, 14.0ms postprocess per image at shape (1, 3, 256, 256)\n",
            "\n",
            "0: 256x256 300 Cell-M3yVs, 19.8ms\n",
            "Speed: 0.6ms preprocess, 19.8ms inference, 14.3ms postprocess per image at shape (1, 3, 256, 256)\n",
            "\n",
            "0: 256x256 300 Cell-M3yVs, 27.1ms\n",
            "Speed: 1.0ms preprocess, 27.1ms inference, 14.4ms postprocess per image at shape (1, 3, 256, 256)\n",
            "\n",
            "0: 256x256 300 Cell-M3yVs, 21.8ms\n",
            "Speed: 0.6ms preprocess, 21.8ms inference, 14.0ms postprocess per image at shape (1, 3, 256, 256)\n",
            "\n",
            "0: 256x256 80 Cell-M3yVs, 19.3ms\n",
            "Speed: 0.6ms preprocess, 19.3ms inference, 5.9ms postprocess per image at shape (1, 3, 256, 256)\n",
            "\n",
            "0: 256x256 43 Cell-M3yVs, 18.6ms\n",
            "Speed: 0.6ms preprocess, 18.6ms inference, 5.0ms postprocess per image at shape (1, 3, 256, 256)\n",
            "\n",
            "0: 256x256 300 Cell-M3yVs, 25.7ms\n",
            "Speed: 0.6ms preprocess, 25.7ms inference, 15.6ms postprocess per image at shape (1, 3, 256, 256)\n",
            "\n",
            "0: 256x256 21 Cell-M3yVs, 24.1ms\n",
            "Speed: 0.6ms preprocess, 24.1ms inference, 4.9ms postprocess per image at shape (1, 3, 256, 256)\n",
            "\n",
            "0: 256x256 300 Cell-M3yVs, 21.0ms\n",
            "Speed: 0.6ms preprocess, 21.0ms inference, 14.3ms postprocess per image at shape (1, 3, 256, 256)\n",
            "\n",
            "0: 256x256 300 Cell-M3yVs, 19.5ms\n",
            "Speed: 0.6ms preprocess, 19.5ms inference, 14.0ms postprocess per image at shape (1, 3, 256, 256)\n",
            "\n",
            "0: 256x256 8 Cell-M3yVs, 20.1ms\n",
            "Speed: 0.6ms preprocess, 20.1ms inference, 3.9ms postprocess per image at shape (1, 3, 256, 256)\n",
            "\n",
            "0: 256x256 82 Cell-M3yVs, 21.0ms\n",
            "Speed: 0.7ms preprocess, 21.0ms inference, 8.8ms postprocess per image at shape (1, 3, 256, 256)\n",
            "\n",
            "0: 256x256 300 Cell-M3yVs, 21.0ms\n",
            "Speed: 0.6ms preprocess, 21.0ms inference, 14.7ms postprocess per image at shape (1, 3, 256, 256)\n",
            "\n",
            "0: 256x256 300 Cell-M3yVs, 17.7ms\n",
            "Speed: 0.6ms preprocess, 17.7ms inference, 14.6ms postprocess per image at shape (1, 3, 256, 256)\n",
            "\n",
            "0: 256x256 84 Cell-M3yVs, 28.1ms\n",
            "Speed: 0.7ms preprocess, 28.1ms inference, 6.2ms postprocess per image at shape (1, 3, 256, 256)\n",
            "\n",
            "0: 256x256 54 Cell-M3yVs, 23.1ms\n",
            "Speed: 1.8ms preprocess, 23.1ms inference, 4.9ms postprocess per image at shape (1, 3, 256, 256)\n",
            "\n",
            "0: 256x256 300 Cell-M3yVs, 24.0ms\n",
            "Speed: 0.6ms preprocess, 24.0ms inference, 16.5ms postprocess per image at shape (1, 3, 256, 256)\n",
            "\n",
            "0: 256x256 178 Cell-M3yVs, 25.6ms\n",
            "Speed: 1.5ms preprocess, 25.6ms inference, 10.7ms postprocess per image at shape (1, 3, 256, 256)\n",
            "\n",
            "0: 256x256 (no detections), 32.3ms\n",
            "Speed: 0.7ms preprocess, 32.3ms inference, 2.7ms postprocess per image at shape (1, 3, 256, 256)\n",
            "\n",
            "0: 256x256 57 Cell-M3yVs, 33.0ms\n",
            "Speed: 2.0ms preprocess, 33.0ms inference, 5.6ms postprocess per image at shape (1, 3, 256, 256)\n",
            "\n",
            "0: 256x256 (no detections), 29.0ms\n",
            "Speed: 0.6ms preprocess, 29.0ms inference, 0.6ms postprocess per image at shape (1, 3, 256, 256)\n",
            "\n",
            "0: 256x256 14 Cell-M3yVs, 25.1ms\n",
            "Speed: 0.6ms preprocess, 25.1ms inference, 7.4ms postprocess per image at shape (1, 3, 256, 256)\n",
            "\n",
            "0: 256x256 300 Cell-M3yVs, 18.8ms\n",
            "Speed: 0.7ms preprocess, 18.8ms inference, 14.6ms postprocess per image at shape (1, 3, 256, 256)\n",
            "\n",
            "0: 256x256 21 Cell-M3yVs, 28.1ms\n",
            "Speed: 0.6ms preprocess, 28.1ms inference, 4.2ms postprocess per image at shape (1, 3, 256, 256)\n",
            "\n",
            "0: 256x256 300 Cell-M3yVs, 18.5ms\n",
            "Speed: 0.6ms preprocess, 18.5ms inference, 14.7ms postprocess per image at shape (1, 3, 256, 256)\n",
            "\n",
            "0: 256x256 300 Cell-M3yVs, 20.3ms\n",
            "Speed: 0.6ms preprocess, 20.3ms inference, 14.6ms postprocess per image at shape (1, 3, 256, 256)\n",
            "\n",
            "0: 256x256 25 Cell-M3yVs, 18.9ms\n",
            "Speed: 0.6ms preprocess, 18.9ms inference, 5.0ms postprocess per image at shape (1, 3, 256, 256)\n",
            "\n",
            "0: 256x256 256 Cell-M3yVs, 27.4ms\n",
            "Speed: 0.7ms preprocess, 27.4ms inference, 12.8ms postprocess per image at shape (1, 3, 256, 256)\n",
            "\n",
            "0: 256x256 300 Cell-M3yVs, 32.7ms\n",
            "Speed: 0.6ms preprocess, 32.7ms inference, 15.0ms postprocess per image at shape (1, 3, 256, 256)\n",
            "\n",
            "0: 256x256 45 Cell-M3yVs, 26.0ms\n",
            "Speed: 0.7ms preprocess, 26.0ms inference, 7.6ms postprocess per image at shape (1, 3, 256, 256)\n",
            "\n",
            "0: 256x256 300 Cell-M3yVs, 35.5ms\n",
            "Speed: 0.7ms preprocess, 35.5ms inference, 14.8ms postprocess per image at shape (1, 3, 256, 256)\n",
            "\n",
            "0: 256x256 300 Cell-M3yVs, 20.2ms\n",
            "Speed: 0.7ms preprocess, 20.2ms inference, 17.3ms postprocess per image at shape (1, 3, 256, 256)\n",
            "\n",
            "0: 256x256 38 Cell-M3yVs, 25.8ms\n",
            "Speed: 0.8ms preprocess, 25.8ms inference, 5.1ms postprocess per image at shape (1, 3, 256, 256)\n",
            "\n",
            "0: 256x256 18 Cell-M3yVs, 27.8ms\n",
            "Speed: 0.7ms preprocess, 27.8ms inference, 4.4ms postprocess per image at shape (1, 3, 256, 256)\n",
            "\n",
            "0: 256x256 275 Cell-M3yVs, 24.2ms\n",
            "Speed: 0.7ms preprocess, 24.2ms inference, 16.7ms postprocess per image at shape (1, 3, 256, 256)\n",
            "\n",
            "0: 256x256 300 Cell-M3yVs, 31.3ms\n",
            "Speed: 0.7ms preprocess, 31.3ms inference, 16.3ms postprocess per image at shape (1, 3, 256, 256)\n",
            "\n",
            "0: 256x256 300 Cell-M3yVs, 29.6ms\n",
            "Speed: 0.7ms preprocess, 29.6ms inference, 19.5ms postprocess per image at shape (1, 3, 256, 256)\n",
            "\n",
            "0: 256x256 250 Cell-M3yVs, 27.9ms\n",
            "Speed: 0.7ms preprocess, 27.9ms inference, 15.2ms postprocess per image at shape (1, 3, 256, 256)\n",
            "\n",
            "0: 256x256 81 Cell-M3yVs, 38.2ms\n",
            "Speed: 0.7ms preprocess, 38.2ms inference, 8.6ms postprocess per image at shape (1, 3, 256, 256)\n",
            "\n",
            "0: 256x256 300 Cell-M3yVs, 31.2ms\n",
            "Speed: 0.7ms preprocess, 31.2ms inference, 15.0ms postprocess per image at shape (1, 3, 256, 256)\n",
            "\n",
            "0: 256x256 17 Cell-M3yVs, 27.8ms\n",
            "Speed: 1.5ms preprocess, 27.8ms inference, 5.8ms postprocess per image at shape (1, 3, 256, 256)\n",
            "\n",
            "0: 256x256 300 Cell-M3yVs, 28.7ms\n",
            "Speed: 0.7ms preprocess, 28.7ms inference, 19.2ms postprocess per image at shape (1, 3, 256, 256)\n",
            "\n",
            "0: 256x256 300 Cell-M3yVs, 22.7ms\n",
            "Speed: 0.7ms preprocess, 22.7ms inference, 16.7ms postprocess per image at shape (1, 3, 256, 256)\n",
            "\n",
            "0: 256x256 300 Cell-M3yVs, 21.9ms\n",
            "Speed: 0.6ms preprocess, 21.9ms inference, 19.7ms postprocess per image at shape (1, 3, 256, 256)\n",
            "\n",
            "0: 256x256 210 Cell-M3yVs, 24.1ms\n",
            "Speed: 0.7ms preprocess, 24.1ms inference, 16.5ms postprocess per image at shape (1, 3, 256, 256)\n",
            "\n",
            "0: 256x256 1 Cell-M3yV, 28.4ms\n",
            "Speed: 1.0ms preprocess, 28.4ms inference, 8.7ms postprocess per image at shape (1, 3, 256, 256)\n",
            "\n",
            "0: 256x256 300 Cell-M3yVs, 29.6ms\n",
            "Speed: 0.7ms preprocess, 29.6ms inference, 15.1ms postprocess per image at shape (1, 3, 256, 256)\n",
            "\n",
            "0: 256x256 105 Cell-M3yVs, 31.4ms\n",
            "Speed: 0.7ms preprocess, 31.4ms inference, 7.7ms postprocess per image at shape (1, 3, 256, 256)\n",
            "\n",
            "0: 256x256 127 Cell-M3yVs, 25.8ms\n",
            "Speed: 1.0ms preprocess, 25.8ms inference, 9.8ms postprocess per image at shape (1, 3, 256, 256)\n",
            "\n",
            "0: 256x256 43 Cell-M3yVs, 25.6ms\n",
            "Speed: 1.4ms preprocess, 25.6ms inference, 5.1ms postprocess per image at shape (1, 3, 256, 256)\n",
            "\n",
            "0: 256x256 300 Cell-M3yVs, 20.5ms\n",
            "Speed: 0.6ms preprocess, 20.5ms inference, 14.9ms postprocess per image at shape (1, 3, 256, 256)\n",
            "\n",
            "0: 256x256 18 Cell-M3yVs, 22.1ms\n",
            "Speed: 2.8ms preprocess, 22.1ms inference, 4.0ms postprocess per image at shape (1, 3, 256, 256)\n",
            "\n",
            "0: 256x256 300 Cell-M3yVs, 27.6ms\n",
            "Speed: 0.6ms preprocess, 27.6ms inference, 16.5ms postprocess per image at shape (1, 3, 256, 256)\n",
            "\n",
            "0: 256x256 300 Cell-M3yVs, 31.7ms\n",
            "Speed: 0.8ms preprocess, 31.7ms inference, 18.4ms postprocess per image at shape (1, 3, 256, 256)\n",
            "\n",
            "0: 256x256 49 Cell-M3yVs, 32.2ms\n",
            "Speed: 0.7ms preprocess, 32.2ms inference, 7.3ms postprocess per image at shape (1, 3, 256, 256)\n",
            "\n",
            "0: 256x256 300 Cell-M3yVs, 30.5ms\n",
            "Speed: 0.7ms preprocess, 30.5ms inference, 16.7ms postprocess per image at shape (1, 3, 256, 256)\n",
            "\n",
            "0: 256x256 300 Cell-M3yVs, 25.3ms\n",
            "Speed: 0.9ms preprocess, 25.3ms inference, 16.0ms postprocess per image at shape (1, 3, 256, 256)\n",
            "\n",
            "0: 256x256 300 Cell-M3yVs, 23.4ms\n",
            "Speed: 0.6ms preprocess, 23.4ms inference, 15.0ms postprocess per image at shape (1, 3, 256, 256)\n",
            "\n",
            "0: 256x256 300 Cell-M3yVs, 26.7ms\n",
            "Speed: 0.7ms preprocess, 26.7ms inference, 18.4ms postprocess per image at shape (1, 3, 256, 256)\n",
            "\n",
            "0: 256x256 300 Cell-M3yVs, 31.6ms\n",
            "Speed: 3.0ms preprocess, 31.6ms inference, 15.3ms postprocess per image at shape (1, 3, 256, 256)\n",
            "\n",
            "0: 256x256 300 Cell-M3yVs, 24.2ms\n",
            "Speed: 1.9ms preprocess, 24.2ms inference, 15.1ms postprocess per image at shape (1, 3, 256, 256)\n",
            "\n",
            "0: 256x256 300 Cell-M3yVs, 24.6ms\n",
            "Speed: 1.0ms preprocess, 24.6ms inference, 14.7ms postprocess per image at shape (1, 3, 256, 256)\n",
            "\n",
            "0: 256x256 300 Cell-M3yVs, 26.3ms\n",
            "Speed: 1.0ms preprocess, 26.3ms inference, 15.5ms postprocess per image at shape (1, 3, 256, 256)\n",
            "\n",
            "0: 256x256 300 Cell-M3yVs, 26.1ms\n",
            "Speed: 0.9ms preprocess, 26.1ms inference, 15.1ms postprocess per image at shape (1, 3, 256, 256)\n",
            "\n",
            "0: 256x256 300 Cell-M3yVs, 20.9ms\n",
            "Speed: 1.3ms preprocess, 20.9ms inference, 19.1ms postprocess per image at shape (1, 3, 256, 256)\n",
            "\n",
            "0: 256x256 56 Cell-M3yVs, 19.4ms\n",
            "Speed: 1.4ms preprocess, 19.4ms inference, 8.4ms postprocess per image at shape (1, 3, 256, 256)\n",
            "\n",
            "0: 256x256 300 Cell-M3yVs, 22.0ms\n",
            "Speed: 1.1ms preprocess, 22.0ms inference, 15.1ms postprocess per image at shape (1, 3, 256, 256)\n",
            "\n",
            "0: 256x256 300 Cell-M3yVs, 26.5ms\n",
            "Speed: 0.6ms preprocess, 26.5ms inference, 15.0ms postprocess per image at shape (1, 3, 256, 256)\n",
            "\n",
            "0: 256x256 36 Cell-M3yVs, 20.4ms\n",
            "Speed: 1.0ms preprocess, 20.4ms inference, 7.2ms postprocess per image at shape (1, 3, 256, 256)\n",
            "\n",
            "0: 256x256 21 Cell-M3yVs, 22.6ms\n",
            "Speed: 0.6ms preprocess, 22.6ms inference, 3.7ms postprocess per image at shape (1, 3, 256, 256)\n",
            "\n",
            "0: 256x256 300 Cell-M3yVs, 23.4ms\n",
            "Speed: 0.7ms preprocess, 23.4ms inference, 14.9ms postprocess per image at shape (1, 3, 256, 256)\n",
            "\n",
            "0: 256x256 300 Cell-M3yVs, 33.2ms\n",
            "Speed: 1.4ms preprocess, 33.2ms inference, 16.0ms postprocess per image at shape (1, 3, 256, 256)\n",
            "\n",
            "0: 256x256 300 Cell-M3yVs, 33.1ms\n",
            "Speed: 1.5ms preprocess, 33.1ms inference, 16.0ms postprocess per image at shape (1, 3, 256, 256)\n",
            "\n",
            "0: 256x256 232 Cell-M3yVs, 27.8ms\n",
            "Speed: 1.4ms preprocess, 27.8ms inference, 12.4ms postprocess per image at shape (1, 3, 256, 256)\n",
            "\n",
            "0: 256x256 300 Cell-M3yVs, 32.9ms\n",
            "Speed: 0.7ms preprocess, 32.9ms inference, 15.2ms postprocess per image at shape (1, 3, 256, 256)\n",
            "\n",
            "0: 256x256 300 Cell-M3yVs, 31.8ms\n",
            "Speed: 0.6ms preprocess, 31.8ms inference, 15.1ms postprocess per image at shape (1, 3, 256, 256)\n",
            "\n",
            "0: 256x256 16 Cell-M3yVs, 21.4ms\n",
            "Speed: 1.5ms preprocess, 21.4ms inference, 4.3ms postprocess per image at shape (1, 3, 256, 256)\n",
            "\n",
            "0: 256x256 300 Cell-M3yVs, 20.6ms\n",
            "Speed: 0.6ms preprocess, 20.6ms inference, 15.1ms postprocess per image at shape (1, 3, 256, 256)\n",
            "\n",
            "0: 256x256 300 Cell-M3yVs, 19.0ms\n",
            "Speed: 0.6ms preprocess, 19.0ms inference, 14.7ms postprocess per image at shape (1, 3, 256, 256)\n",
            "\n",
            "0: 256x256 300 Cell-M3yVs, 19.7ms\n",
            "Speed: 0.6ms preprocess, 19.7ms inference, 14.8ms postprocess per image at shape (1, 3, 256, 256)\n",
            "\n",
            "0: 256x256 300 Cell-M3yVs, 27.2ms\n",
            "Speed: 0.7ms preprocess, 27.2ms inference, 15.0ms postprocess per image at shape (1, 3, 256, 256)\n",
            "\n",
            "0: 256x256 300 Cell-M3yVs, 18.7ms\n",
            "Speed: 0.6ms preprocess, 18.7ms inference, 14.8ms postprocess per image at shape (1, 3, 256, 256)\n",
            "\n",
            "0: 256x256 300 Cell-M3yVs, 23.1ms\n",
            "Speed: 0.8ms preprocess, 23.1ms inference, 15.2ms postprocess per image at shape (1, 3, 256, 256)\n",
            "\n",
            "0: 256x256 300 Cell-M3yVs, 21.4ms\n",
            "Speed: 0.7ms preprocess, 21.4ms inference, 15.1ms postprocess per image at shape (1, 3, 256, 256)\n",
            "\n",
            "0: 256x256 300 Cell-M3yVs, 21.6ms\n",
            "Speed: 0.6ms preprocess, 21.6ms inference, 14.7ms postprocess per image at shape (1, 3, 256, 256)\n",
            "\n",
            "0: 256x256 300 Cell-M3yVs, 29.5ms\n",
            "Speed: 0.6ms preprocess, 29.5ms inference, 16.1ms postprocess per image at shape (1, 3, 256, 256)\n",
            "\n",
            "0: 256x256 300 Cell-M3yVs, 19.1ms\n",
            "Speed: 0.6ms preprocess, 19.1ms inference, 14.9ms postprocess per image at shape (1, 3, 256, 256)\n",
            "\n",
            "0: 256x256 300 Cell-M3yVs, 21.3ms\n",
            "Speed: 0.6ms preprocess, 21.3ms inference, 14.8ms postprocess per image at shape (1, 3, 256, 256)\n",
            "\n",
            "0: 256x256 300 Cell-M3yVs, 25.0ms\n",
            "Speed: 0.6ms preprocess, 25.0ms inference, 15.2ms postprocess per image at shape (1, 3, 256, 256)\n",
            "\n",
            "0: 256x256 300 Cell-M3yVs, 25.6ms\n",
            "Speed: 0.7ms preprocess, 25.6ms inference, 18.5ms postprocess per image at shape (1, 3, 256, 256)\n",
            "\n",
            "0: 256x256 9 Cell-M3yVs, 38.2ms\n",
            "Speed: 0.7ms preprocess, 38.2ms inference, 5.9ms postprocess per image at shape (1, 3, 256, 256)\n",
            "\n",
            "0: 256x256 300 Cell-M3yVs, 45.1ms\n",
            "Speed: 0.7ms preprocess, 45.1ms inference, 16.2ms postprocess per image at shape (1, 3, 256, 256)\n",
            "\n",
            "0: 256x256 300 Cell-M3yVs, 25.1ms\n",
            "Speed: 0.8ms preprocess, 25.1ms inference, 16.1ms postprocess per image at shape (1, 3, 256, 256)\n",
            "\n",
            "0: 256x256 300 Cell-M3yVs, 21.1ms\n",
            "Speed: 0.6ms preprocess, 21.1ms inference, 15.0ms postprocess per image at shape (1, 3, 256, 256)\n",
            "\n",
            "0: 256x256 279 Cell-M3yVs, 26.6ms\n",
            "Speed: 1.3ms preprocess, 26.6ms inference, 17.2ms postprocess per image at shape (1, 3, 256, 256)\n",
            "\n",
            "0: 256x256 300 Cell-M3yVs, 24.9ms\n",
            "Speed: 0.7ms preprocess, 24.9ms inference, 15.0ms postprocess per image at shape (1, 3, 256, 256)\n",
            "\n",
            "0: 256x256 300 Cell-M3yVs, 25.3ms\n",
            "Speed: 1.5ms preprocess, 25.3ms inference, 14.5ms postprocess per image at shape (1, 3, 256, 256)\n",
            "\n",
            "0: 256x256 300 Cell-M3yVs, 19.5ms\n",
            "Speed: 1.0ms preprocess, 19.5ms inference, 14.6ms postprocess per image at shape (1, 3, 256, 256)\n",
            "\n",
            "0: 256x256 (no detections), 20.9ms\n",
            "Speed: 1.2ms preprocess, 20.9ms inference, 0.6ms postprocess per image at shape (1, 3, 256, 256)\n",
            "\n",
            "0: 256x256 300 Cell-M3yVs, 21.6ms\n",
            "Speed: 1.5ms preprocess, 21.6ms inference, 14.7ms postprocess per image at shape (1, 3, 256, 256)\n",
            "\n",
            "0: 256x256 300 Cell-M3yVs, 28.1ms\n",
            "Speed: 0.6ms preprocess, 28.1ms inference, 15.0ms postprocess per image at shape (1, 3, 256, 256)\n",
            "\n",
            "0: 256x256 25 Cell-M3yVs, 23.2ms\n",
            "Speed: 0.6ms preprocess, 23.2ms inference, 4.3ms postprocess per image at shape (1, 3, 256, 256)\n",
            "\n",
            "0: 256x256 13 Cell-M3yVs, 25.0ms\n",
            "Speed: 0.6ms preprocess, 25.0ms inference, 7.2ms postprocess per image at shape (1, 3, 256, 256)\n",
            "\n",
            "0: 256x256 300 Cell-M3yVs, 31.4ms\n",
            "Speed: 1.3ms preprocess, 31.4ms inference, 26.4ms postprocess per image at shape (1, 3, 256, 256)\n",
            "\n",
            "0: 256x256 300 Cell-M3yVs, 30.9ms\n",
            "Speed: 0.6ms preprocess, 30.9ms inference, 14.6ms postprocess per image at shape (1, 3, 256, 256)\n",
            "\n",
            "0: 256x256 297 Cell-M3yVs, 20.8ms\n",
            "Speed: 0.6ms preprocess, 20.8ms inference, 15.0ms postprocess per image at shape (1, 3, 256, 256)\n",
            "\n",
            "0: 256x256 300 Cell-M3yVs, 24.3ms\n",
            "Speed: 0.8ms preprocess, 24.3ms inference, 18.1ms postprocess per image at shape (1, 3, 256, 256)\n",
            "\n",
            "0: 256x256 14 Cell-M3yVs, 29.7ms\n",
            "Speed: 2.8ms preprocess, 29.7ms inference, 5.6ms postprocess per image at shape (1, 3, 256, 256)\n",
            "\n",
            "0: 256x256 300 Cell-M3yVs, 33.5ms\n",
            "Speed: 0.7ms preprocess, 33.5ms inference, 15.8ms postprocess per image at shape (1, 3, 256, 256)\n",
            "\n",
            "0: 256x256 2 Cell-M3yVs, 19.6ms\n",
            "Speed: 0.7ms preprocess, 19.6ms inference, 4.6ms postprocess per image at shape (1, 3, 256, 256)\n",
            "\n",
            "0: 256x256 300 Cell-M3yVs, 27.0ms\n",
            "Speed: 0.8ms preprocess, 27.0ms inference, 15.5ms postprocess per image at shape (1, 3, 256, 256)\n",
            "\n",
            "0: 256x256 300 Cell-M3yVs, 26.2ms\n",
            "Speed: 0.8ms preprocess, 26.2ms inference, 15.1ms postprocess per image at shape (1, 3, 256, 256)\n",
            "\n",
            "0: 256x256 300 Cell-M3yVs, 20.9ms\n",
            "Speed: 0.7ms preprocess, 20.9ms inference, 14.9ms postprocess per image at shape (1, 3, 256, 256)\n",
            "\n",
            "0: 256x256 300 Cell-M3yVs, 23.5ms\n",
            "Speed: 0.6ms preprocess, 23.5ms inference, 15.4ms postprocess per image at shape (1, 3, 256, 256)\n",
            "\n",
            "0: 256x256 300 Cell-M3yVs, 20.8ms\n",
            "Speed: 0.7ms preprocess, 20.8ms inference, 14.6ms postprocess per image at shape (1, 3, 256, 256)\n",
            "\n",
            "0: 256x256 300 Cell-M3yVs, 23.1ms\n",
            "Speed: 0.7ms preprocess, 23.1ms inference, 14.5ms postprocess per image at shape (1, 3, 256, 256)\n",
            "\n",
            "0: 256x256 300 Cell-M3yVs, 19.1ms\n",
            "Speed: 0.6ms preprocess, 19.1ms inference, 14.8ms postprocess per image at shape (1, 3, 256, 256)\n",
            "\n",
            "0: 256x256 300 Cell-M3yVs, 22.9ms\n",
            "Speed: 0.6ms preprocess, 22.9ms inference, 14.8ms postprocess per image at shape (1, 3, 256, 256)\n",
            "\n",
            "0: 256x256 300 Cell-M3yVs, 17.7ms\n",
            "Speed: 0.6ms preprocess, 17.7ms inference, 14.4ms postprocess per image at shape (1, 3, 256, 256)\n",
            "\n",
            "0: 256x256 158 Cell-M3yVs, 19.1ms\n",
            "Speed: 0.6ms preprocess, 19.1ms inference, 9.1ms postprocess per image at shape (1, 3, 256, 256)\n",
            "\n",
            "0: 256x256 252 Cell-M3yVs, 20.7ms\n",
            "Speed: 0.6ms preprocess, 20.7ms inference, 12.7ms postprocess per image at shape (1, 3, 256, 256)\n",
            "\n",
            "0: 256x256 (no detections), 21.0ms\n",
            "Speed: 0.7ms preprocess, 21.0ms inference, 0.4ms postprocess per image at shape (1, 3, 256, 256)\n",
            "\n",
            "0: 256x256 150 Cell-M3yVs, 20.3ms\n",
            "Speed: 0.6ms preprocess, 20.3ms inference, 9.5ms postprocess per image at shape (1, 3, 256, 256)\n",
            "\n",
            "0: 256x256 300 Cell-M3yVs, 19.9ms\n",
            "Speed: 0.6ms preprocess, 19.9ms inference, 14.7ms postprocess per image at shape (1, 3, 256, 256)\n",
            "\n",
            "0: 256x256 300 Cell-M3yVs, 20.8ms\n",
            "Speed: 0.6ms preprocess, 20.8ms inference, 14.5ms postprocess per image at shape (1, 3, 256, 256)\n",
            "\n",
            "0: 256x256 27 Cell-M3yVs, 26.2ms\n",
            "Speed: 0.6ms preprocess, 26.2ms inference, 6.3ms postprocess per image at shape (1, 3, 256, 256)\n",
            "\n",
            "0: 256x256 300 Cell-M3yVs, 20.0ms\n",
            "Speed: 0.6ms preprocess, 20.0ms inference, 17.5ms postprocess per image at shape (1, 3, 256, 256)\n",
            "\n",
            "0: 256x256 300 Cell-M3yVs, 28.5ms\n",
            "Speed: 0.7ms preprocess, 28.5ms inference, 15.3ms postprocess per image at shape (1, 3, 256, 256)\n",
            "\n",
            "0: 256x256 25 Cell-M3yVs, 26.6ms\n",
            "Speed: 0.7ms preprocess, 26.6ms inference, 4.9ms postprocess per image at shape (1, 3, 256, 256)\n",
            "\n",
            "0: 256x256 300 Cell-M3yVs, 29.6ms\n",
            "Speed: 0.7ms preprocess, 29.6ms inference, 17.2ms postprocess per image at shape (1, 3, 256, 256)\n",
            "\n",
            "0: 256x256 300 Cell-M3yVs, 22.7ms\n",
            "Speed: 0.7ms preprocess, 22.7ms inference, 14.6ms postprocess per image at shape (1, 3, 256, 256)\n",
            "\n",
            "0: 256x256 69 Cell-M3yVs, 26.3ms\n",
            "Speed: 0.7ms preprocess, 26.3ms inference, 7.3ms postprocess per image at shape (1, 3, 256, 256)\n",
            "\n",
            "0: 256x256 300 Cell-M3yVs, 20.0ms\n",
            "Speed: 0.7ms preprocess, 20.0ms inference, 14.4ms postprocess per image at shape (1, 3, 256, 256)\n",
            "\n",
            "0: 256x256 300 Cell-M3yVs, 20.4ms\n",
            "Speed: 0.6ms preprocess, 20.4ms inference, 14.7ms postprocess per image at shape (1, 3, 256, 256)\n",
            "\n",
            "0: 256x256 300 Cell-M3yVs, 19.5ms\n",
            "Speed: 0.6ms preprocess, 19.5ms inference, 14.2ms postprocess per image at shape (1, 3, 256, 256)\n",
            "\n",
            "0: 256x256 300 Cell-M3yVs, 19.6ms\n",
            "Speed: 0.7ms preprocess, 19.6ms inference, 14.3ms postprocess per image at shape (1, 3, 256, 256)\n",
            "\n",
            "0: 256x256 300 Cell-M3yVs, 22.1ms\n",
            "Speed: 0.6ms preprocess, 22.1ms inference, 14.3ms postprocess per image at shape (1, 3, 256, 256)\n",
            "\n",
            "0: 256x256 300 Cell-M3yVs, 22.3ms\n",
            "Speed: 0.6ms preprocess, 22.3ms inference, 14.4ms postprocess per image at shape (1, 3, 256, 256)\n",
            "\n",
            "0: 256x256 300 Cell-M3yVs, 26.1ms\n",
            "Speed: 0.7ms preprocess, 26.1ms inference, 14.6ms postprocess per image at shape (1, 3, 256, 256)\n",
            "\n",
            "0: 256x256 300 Cell-M3yVs, 24.3ms\n",
            "Speed: 0.7ms preprocess, 24.3ms inference, 16.5ms postprocess per image at shape (1, 3, 256, 256)\n",
            "\n",
            "0: 256x256 40 Cell-M3yVs, 25.5ms\n",
            "Speed: 0.6ms preprocess, 25.5ms inference, 4.8ms postprocess per image at shape (1, 3, 256, 256)\n",
            "\n",
            "0: 256x256 276 Cell-M3yVs, 25.1ms\n",
            "Speed: 0.7ms preprocess, 25.1ms inference, 16.8ms postprocess per image at shape (1, 3, 256, 256)\n",
            "\n",
            "0: 256x256 300 Cell-M3yVs, 23.2ms\n",
            "Speed: 0.7ms preprocess, 23.2ms inference, 15.4ms postprocess per image at shape (1, 3, 256, 256)\n",
            "\n",
            "0: 256x256 247 Cell-M3yVs, 23.3ms\n",
            "Speed: 1.0ms preprocess, 23.3ms inference, 12.3ms postprocess per image at shape (1, 3, 256, 256)\n",
            "\n",
            "0: 256x256 300 Cell-M3yVs, 21.7ms\n",
            "Speed: 0.6ms preprocess, 21.7ms inference, 16.8ms postprocess per image at shape (1, 3, 256, 256)\n",
            "\n",
            "0: 256x256 300 Cell-M3yVs, 23.5ms\n",
            "Speed: 0.7ms preprocess, 23.5ms inference, 14.6ms postprocess per image at shape (1, 3, 256, 256)\n",
            "\n",
            "0: 256x256 300 Cell-M3yVs, 31.7ms\n",
            "Speed: 1.5ms preprocess, 31.7ms inference, 16.3ms postprocess per image at shape (1, 3, 256, 256)\n",
            "\n",
            "0: 256x256 300 Cell-M3yVs, 28.9ms\n",
            "Speed: 0.7ms preprocess, 28.9ms inference, 19.5ms postprocess per image at shape (1, 3, 256, 256)\n",
            "\n",
            "0: 256x256 258 Cell-M3yVs, 35.4ms\n",
            "Speed: 0.7ms preprocess, 35.4ms inference, 18.1ms postprocess per image at shape (1, 3, 256, 256)\n",
            "\n",
            "0: 256x256 (no detections), 47.0ms\n",
            "Speed: 0.7ms preprocess, 47.0ms inference, 0.7ms postprocess per image at shape (1, 3, 256, 256)\n",
            "\n",
            "0: 256x256 231 Cell-M3yVs, 29.0ms\n",
            "Speed: 3.6ms preprocess, 29.0ms inference, 16.9ms postprocess per image at shape (1, 3, 256, 256)\n",
            "\n",
            "0: 256x256 300 Cell-M3yVs, 22.5ms\n",
            "Speed: 0.6ms preprocess, 22.5ms inference, 14.7ms postprocess per image at shape (1, 3, 256, 256)\n",
            "\n",
            "0: 256x256 300 Cell-M3yVs, 21.4ms\n",
            "Speed: 0.7ms preprocess, 21.4ms inference, 14.6ms postprocess per image at shape (1, 3, 256, 256)\n",
            "\n",
            "0: 256x256 10 Cell-M3yVs, 24.9ms\n",
            "Speed: 0.7ms preprocess, 24.9ms inference, 4.2ms postprocess per image at shape (1, 3, 256, 256)\n",
            "\n",
            "0: 256x256 300 Cell-M3yVs, 24.5ms\n",
            "Speed: 0.6ms preprocess, 24.5ms inference, 16.8ms postprocess per image at shape (1, 3, 256, 256)\n",
            "\n",
            "0: 256x256 300 Cell-M3yVs, 22.9ms\n",
            "Speed: 0.6ms preprocess, 22.9ms inference, 15.7ms postprocess per image at shape (1, 3, 256, 256)\n",
            "\n",
            "0: 256x256 300 Cell-M3yVs, 22.9ms\n",
            "Speed: 0.6ms preprocess, 22.9ms inference, 14.6ms postprocess per image at shape (1, 3, 256, 256)\n",
            "\n",
            "0: 256x256 295 Cell-M3yVs, 28.3ms\n",
            "Speed: 0.6ms preprocess, 28.3ms inference, 17.4ms postprocess per image at shape (1, 3, 256, 256)\n",
            "\n",
            "0: 256x256 300 Cell-M3yVs, 19.0ms\n",
            "Speed: 0.6ms preprocess, 19.0ms inference, 14.6ms postprocess per image at shape (1, 3, 256, 256)\n",
            "\n",
            "0: 256x256 60 Cell-M3yVs, 20.7ms\n",
            "Speed: 1.0ms preprocess, 20.7ms inference, 5.5ms postprocess per image at shape (1, 3, 256, 256)\n",
            "\n",
            "0: 256x256 300 Cell-M3yVs, 28.7ms\n",
            "Speed: 0.7ms preprocess, 28.7ms inference, 14.7ms postprocess per image at shape (1, 3, 256, 256)\n",
            "\n",
            "0: 256x256 156 Cell-M3yVs, 23.8ms\n",
            "Speed: 0.6ms preprocess, 23.8ms inference, 11.5ms postprocess per image at shape (1, 3, 256, 256)\n",
            "\n",
            "0: 256x256 16 Cell-M3yVs, 30.5ms\n",
            "Speed: 0.6ms preprocess, 30.5ms inference, 4.4ms postprocess per image at shape (1, 3, 256, 256)\n",
            "\n",
            "0: 256x256 300 Cell-M3yVs, 25.2ms\n",
            "Speed: 0.7ms preprocess, 25.2ms inference, 15.8ms postprocess per image at shape (1, 3, 256, 256)\n",
            "\n",
            "0: 256x256 300 Cell-M3yVs, 31.6ms\n",
            "Speed: 0.6ms preprocess, 31.6ms inference, 15.7ms postprocess per image at shape (1, 3, 256, 256)\n",
            "\n",
            "0: 256x256 300 Cell-M3yVs, 30.2ms\n",
            "Speed: 0.6ms preprocess, 30.2ms inference, 17.6ms postprocess per image at shape (1, 3, 256, 256)\n",
            "\n",
            "0: 256x256 300 Cell-M3yVs, 33.0ms\n",
            "Speed: 0.8ms preprocess, 33.0ms inference, 20.9ms postprocess per image at shape (1, 3, 256, 256)\n",
            "\n",
            "0: 256x256 300 Cell-M3yVs, 31.7ms\n",
            "Speed: 0.7ms preprocess, 31.7ms inference, 17.1ms postprocess per image at shape (1, 3, 256, 256)\n",
            "\n",
            "0: 256x256 300 Cell-M3yVs, 33.5ms\n",
            "Speed: 0.7ms preprocess, 33.5ms inference, 16.2ms postprocess per image at shape (1, 3, 256, 256)\n",
            "\n",
            "0: 256x256 149 Cell-M3yVs, 30.2ms\n",
            "Speed: 0.8ms preprocess, 30.2ms inference, 10.5ms postprocess per image at shape (1, 3, 256, 256)\n",
            "\n",
            "0: 256x256 300 Cell-M3yVs, 27.5ms\n",
            "Speed: 0.7ms preprocess, 27.5ms inference, 17.7ms postprocess per image at shape (1, 3, 256, 256)\n",
            "\n",
            "0: 256x256 53 Cell-M3yVs, 27.3ms\n",
            "Speed: 0.7ms preprocess, 27.3ms inference, 6.3ms postprocess per image at shape (1, 3, 256, 256)\n",
            "\n",
            "0: 256x256 200 Cell-M3yVs, 24.3ms\n",
            "Speed: 0.6ms preprocess, 24.3ms inference, 14.3ms postprocess per image at shape (1, 3, 256, 256)\n",
            "\n",
            "0: 256x256 300 Cell-M3yVs, 25.8ms\n",
            "Speed: 0.7ms preprocess, 25.8ms inference, 15.0ms postprocess per image at shape (1, 3, 256, 256)\n",
            "\n",
            "0: 256x256 87 Cell-M3yVs, 30.7ms\n",
            "Speed: 0.6ms preprocess, 30.7ms inference, 11.0ms postprocess per image at shape (1, 3, 256, 256)\n",
            "\n",
            "0: 256x256 300 Cell-M3yVs, 34.3ms\n",
            "Speed: 0.7ms preprocess, 34.3ms inference, 17.8ms postprocess per image at shape (1, 3, 256, 256)\n",
            "\n",
            "0: 256x256 300 Cell-M3yVs, 31.6ms\n",
            "Speed: 0.8ms preprocess, 31.6ms inference, 15.5ms postprocess per image at shape (1, 3, 256, 256)\n",
            "\n",
            "0: 256x256 300 Cell-M3yVs, 31.5ms\n",
            "Speed: 0.8ms preprocess, 31.5ms inference, 15.2ms postprocess per image at shape (1, 3, 256, 256)\n",
            "\n",
            "0: 256x256 300 Cell-M3yVs, 27.7ms\n",
            "Speed: 0.7ms preprocess, 27.7ms inference, 14.9ms postprocess per image at shape (1, 3, 256, 256)\n",
            "\n",
            "0: 256x256 69 Cell-M3yVs, 25.1ms\n",
            "Speed: 1.5ms preprocess, 25.1ms inference, 6.3ms postprocess per image at shape (1, 3, 256, 256)\n",
            "\n",
            "0: 256x256 300 Cell-M3yVs, 34.0ms\n",
            "Speed: 0.6ms preprocess, 34.0ms inference, 16.1ms postprocess per image at shape (1, 3, 256, 256)\n",
            "\n",
            "0: 256x256 300 Cell-M3yVs, 35.4ms\n",
            "Speed: 1.3ms preprocess, 35.4ms inference, 17.0ms postprocess per image at shape (1, 3, 256, 256)\n",
            "\n",
            "0: 256x256 152 Cell-M3yVs, 28.6ms\n",
            "Speed: 0.7ms preprocess, 28.6ms inference, 10.4ms postprocess per image at shape (1, 3, 256, 256)\n",
            "\n",
            "0: 256x256 300 Cell-M3yVs, 34.5ms\n",
            "Speed: 0.8ms preprocess, 34.5ms inference, 15.8ms postprocess per image at shape (1, 3, 256, 256)\n",
            "\n",
            "0: 256x256 281 Cell-M3yVs, 31.4ms\n",
            "Speed: 1.5ms preprocess, 31.4ms inference, 15.4ms postprocess per image at shape (1, 3, 256, 256)\n",
            "\n",
            "0: 256x256 300 Cell-M3yVs, 29.4ms\n",
            "Speed: 0.8ms preprocess, 29.4ms inference, 17.5ms postprocess per image at shape (1, 3, 256, 256)\n",
            "\n",
            "0: 256x256 70 Cell-M3yVs, 34.8ms\n",
            "Speed: 0.8ms preprocess, 34.8ms inference, 10.0ms postprocess per image at shape (1, 3, 256, 256)\n",
            "\n",
            "0: 256x256 300 Cell-M3yVs, 35.7ms\n",
            "Speed: 2.4ms preprocess, 35.7ms inference, 19.9ms postprocess per image at shape (1, 3, 256, 256)\n",
            "\n",
            "0: 256x256 300 Cell-M3yVs, 24.2ms\n",
            "Speed: 0.7ms preprocess, 24.2ms inference, 16.2ms postprocess per image at shape (1, 3, 256, 256)\n",
            "\n",
            "0: 256x256 300 Cell-M3yVs, 24.2ms\n",
            "Speed: 0.7ms preprocess, 24.2ms inference, 18.6ms postprocess per image at shape (1, 3, 256, 256)\n",
            "\n",
            "0: 256x256 300 Cell-M3yVs, 31.8ms\n",
            "Speed: 0.7ms preprocess, 31.8ms inference, 15.6ms postprocess per image at shape (1, 3, 256, 256)\n",
            "\n",
            "0: 256x256 300 Cell-M3yVs, 25.7ms\n",
            "Speed: 0.7ms preprocess, 25.7ms inference, 15.9ms postprocess per image at shape (1, 3, 256, 256)\n",
            "\n",
            "0: 256x256 300 Cell-M3yVs, 22.7ms\n",
            "Speed: 0.6ms preprocess, 22.7ms inference, 14.9ms postprocess per image at shape (1, 3, 256, 256)\n",
            "\n",
            "0: 256x256 300 Cell-M3yVs, 26.7ms\n",
            "Speed: 0.7ms preprocess, 26.7ms inference, 15.6ms postprocess per image at shape (1, 3, 256, 256)\n",
            "\n",
            "0: 256x256 300 Cell-M3yVs, 18.1ms\n",
            "Speed: 0.6ms preprocess, 18.1ms inference, 14.3ms postprocess per image at shape (1, 3, 256, 256)\n",
            "\n",
            "0: 256x256 300 Cell-M3yVs, 17.3ms\n",
            "Speed: 0.6ms preprocess, 17.3ms inference, 14.2ms postprocess per image at shape (1, 3, 256, 256)\n",
            "\n",
            "0: 256x256 300 Cell-M3yVs, 20.7ms\n",
            "Speed: 0.7ms preprocess, 20.7ms inference, 14.3ms postprocess per image at shape (1, 3, 256, 256)\n",
            "\n",
            "0: 256x256 300 Cell-M3yVs, 23.6ms\n",
            "Speed: 0.7ms preprocess, 23.6ms inference, 15.4ms postprocess per image at shape (1, 3, 256, 256)\n",
            "\n",
            "0: 256x256 300 Cell-M3yVs, 31.3ms\n",
            "Speed: 0.9ms preprocess, 31.3ms inference, 15.7ms postprocess per image at shape (1, 3, 256, 256)\n",
            "\n",
            "0: 256x256 300 Cell-M3yVs, 23.8ms\n",
            "Speed: 1.6ms preprocess, 23.8ms inference, 15.3ms postprocess per image at shape (1, 3, 256, 256)\n",
            "\n",
            "0: 256x256 13 Cell-M3yVs, 29.5ms\n",
            "Speed: 3.3ms preprocess, 29.5ms inference, 3.3ms postprocess per image at shape (1, 3, 256, 256)\n",
            "\n",
            "0: 256x256 300 Cell-M3yVs, 18.1ms\n",
            "Speed: 0.7ms preprocess, 18.1ms inference, 14.7ms postprocess per image at shape (1, 3, 256, 256)\n",
            "\n",
            "0: 256x256 70 Cell-M3yVs, 17.8ms\n",
            "Speed: 0.7ms preprocess, 17.8ms inference, 5.1ms postprocess per image at shape (1, 3, 256, 256)\n",
            "\n",
            "0: 256x256 300 Cell-M3yVs, 17.3ms\n",
            "Speed: 0.6ms preprocess, 17.3ms inference, 14.2ms postprocess per image at shape (1, 3, 256, 256)\n",
            "\n",
            "0: 256x256 300 Cell-M3yVs, 20.1ms\n",
            "Speed: 1.2ms preprocess, 20.1ms inference, 14.3ms postprocess per image at shape (1, 3, 256, 256)\n",
            "\n",
            "0: 256x256 40 Cell-M3yVs, 18.4ms\n",
            "Speed: 0.7ms preprocess, 18.4ms inference, 4.4ms postprocess per image at shape (1, 3, 256, 256)\n",
            "\n",
            "0: 256x256 300 Cell-M3yVs, 23.0ms\n",
            "Speed: 0.6ms preprocess, 23.0ms inference, 16.2ms postprocess per image at shape (1, 3, 256, 256)\n",
            "\n",
            "0: 256x256 247 Cell-M3yVs, 16.8ms\n",
            "Speed: 0.6ms preprocess, 16.8ms inference, 11.8ms postprocess per image at shape (1, 3, 256, 256)\n",
            "\n",
            "0: 256x256 300 Cell-M3yVs, 16.0ms\n",
            "Speed: 0.7ms preprocess, 16.0ms inference, 14.1ms postprocess per image at shape (1, 3, 256, 256)\n",
            "\n",
            "0: 256x256 300 Cell-M3yVs, 17.9ms\n",
            "Speed: 0.6ms preprocess, 17.9ms inference, 13.8ms postprocess per image at shape (1, 3, 256, 256)\n",
            "\n",
            "0: 256x256 264 Cell-M3yVs, 17.5ms\n",
            "Speed: 1.0ms preprocess, 17.5ms inference, 12.7ms postprocess per image at shape (1, 3, 256, 256)\n",
            "\n",
            "0: 256x256 300 Cell-M3yVs, 15.1ms\n",
            "Speed: 0.7ms preprocess, 15.1ms inference, 13.7ms postprocess per image at shape (1, 3, 256, 256)\n",
            "\n",
            "0: 256x256 300 Cell-M3yVs, 17.6ms\n",
            "Speed: 0.6ms preprocess, 17.6ms inference, 14.3ms postprocess per image at shape (1, 3, 256, 256)\n",
            "\n",
            "0: 256x256 300 Cell-M3yVs, 18.1ms\n",
            "Speed: 0.6ms preprocess, 18.1ms inference, 13.7ms postprocess per image at shape (1, 3, 256, 256)\n",
            "\n",
            "0: 256x256 300 Cell-M3yVs, 17.5ms\n",
            "Speed: 1.1ms preprocess, 17.5ms inference, 13.5ms postprocess per image at shape (1, 3, 256, 256)\n",
            "\n",
            "0: 256x256 300 Cell-M3yVs, 16.8ms\n",
            "Speed: 0.6ms preprocess, 16.8ms inference, 13.8ms postprocess per image at shape (1, 3, 256, 256)\n",
            "\n",
            "0: 256x256 300 Cell-M3yVs, 19.6ms\n",
            "Speed: 0.6ms preprocess, 19.6ms inference, 13.8ms postprocess per image at shape (1, 3, 256, 256)\n",
            "\n",
            "0: 256x256 300 Cell-M3yVs, 19.1ms\n",
            "Speed: 1.0ms preprocess, 19.1ms inference, 13.7ms postprocess per image at shape (1, 3, 256, 256)\n",
            "\n",
            "0: 256x256 300 Cell-M3yVs, 24.4ms\n",
            "Speed: 0.7ms preprocess, 24.4ms inference, 16.4ms postprocess per image at shape (1, 3, 256, 256)\n",
            "\n",
            "0: 256x256 (no detections), 27.5ms\n",
            "Speed: 0.8ms preprocess, 27.5ms inference, 0.5ms postprocess per image at shape (1, 3, 256, 256)\n",
            "\n",
            "0: 256x256 300 Cell-M3yVs, 25.9ms\n",
            "Speed: 0.6ms preprocess, 25.9ms inference, 14.5ms postprocess per image at shape (1, 3, 256, 256)\n",
            "\n",
            "0: 256x256 300 Cell-M3yVs, 24.9ms\n",
            "Speed: 0.8ms preprocess, 24.9ms inference, 15.3ms postprocess per image at shape (1, 3, 256, 256)\n",
            "\n",
            "0: 256x256 300 Cell-M3yVs, 25.0ms\n",
            "Speed: 0.7ms preprocess, 25.0ms inference, 14.8ms postprocess per image at shape (1, 3, 256, 256)\n",
            "\n",
            "0: 256x256 300 Cell-M3yVs, 18.2ms\n",
            "Speed: 0.7ms preprocess, 18.2ms inference, 13.7ms postprocess per image at shape (1, 3, 256, 256)\n",
            "\n",
            "0: 256x256 170 Cell-M3yVs, 17.6ms\n",
            "Speed: 0.9ms preprocess, 17.6ms inference, 8.9ms postprocess per image at shape (1, 3, 256, 256)\n",
            "\n",
            "0: 256x256 131 Cell-M3yVs, 20.3ms\n",
            "Speed: 0.7ms preprocess, 20.3ms inference, 7.4ms postprocess per image at shape (1, 3, 256, 256)\n",
            "\n",
            "0: 256x256 300 Cell-M3yVs, 18.8ms\n",
            "Speed: 0.7ms preprocess, 18.8ms inference, 13.8ms postprocess per image at shape (1, 3, 256, 256)\n",
            "\n",
            "0: 256x256 300 Cell-M3yVs, 18.2ms\n",
            "Speed: 0.6ms preprocess, 18.2ms inference, 13.8ms postprocess per image at shape (1, 3, 256, 256)\n",
            "\n",
            "0: 256x256 300 Cell-M3yVs, 24.9ms\n",
            "Speed: 1.2ms preprocess, 24.9ms inference, 15.4ms postprocess per image at shape (1, 3, 256, 256)\n",
            "\n",
            "0: 256x256 300 Cell-M3yVs, 17.9ms\n",
            "Speed: 0.8ms preprocess, 17.9ms inference, 13.6ms postprocess per image at shape (1, 3, 256, 256)\n",
            "\n",
            "0: 256x256 300 Cell-M3yVs, 19.7ms\n",
            "Speed: 0.7ms preprocess, 19.7ms inference, 13.5ms postprocess per image at shape (1, 3, 256, 256)\n",
            "\n",
            "0: 256x256 26 Cell-M3yVs, 18.1ms\n",
            "Speed: 1.6ms preprocess, 18.1ms inference, 3.3ms postprocess per image at shape (1, 3, 256, 256)\n",
            "\n",
            "0: 256x256 24 Cell-M3yVs, 18.1ms\n",
            "Speed: 0.6ms preprocess, 18.1ms inference, 3.6ms postprocess per image at shape (1, 3, 256, 256)\n",
            "\n",
            "0: 256x256 300 Cell-M3yVs, 17.0ms\n",
            "Speed: 0.6ms preprocess, 17.0ms inference, 14.0ms postprocess per image at shape (1, 3, 256, 256)\n",
            "\n",
            "0: 256x256 12 Cell-M3yVs, 20.4ms\n",
            "Speed: 0.8ms preprocess, 20.4ms inference, 3.1ms postprocess per image at shape (1, 3, 256, 256)\n",
            "\n",
            "0: 256x256 300 Cell-M3yVs, 17.1ms\n",
            "Speed: 1.1ms preprocess, 17.1ms inference, 13.5ms postprocess per image at shape (1, 3, 256, 256)\n",
            "\n",
            "0: 256x256 300 Cell-M3yVs, 15.5ms\n",
            "Speed: 0.7ms preprocess, 15.5ms inference, 13.3ms postprocess per image at shape (1, 3, 256, 256)\n",
            "\n",
            "0: 256x256 74 Cell-M3yVs, 17.1ms\n",
            "Speed: 0.6ms preprocess, 17.1ms inference, 5.2ms postprocess per image at shape (1, 3, 256, 256)\n",
            "\n",
            "0: 256x256 300 Cell-M3yVs, 15.8ms\n",
            "Speed: 1.7ms preprocess, 15.8ms inference, 13.6ms postprocess per image at shape (1, 3, 256, 256)\n",
            "\n",
            "0: 256x256 300 Cell-M3yVs, 16.4ms\n",
            "Speed: 1.0ms preprocess, 16.4ms inference, 13.7ms postprocess per image at shape (1, 3, 256, 256)\n",
            "\n",
            "0: 256x256 300 Cell-M3yVs, 25.3ms\n",
            "Speed: 0.8ms preprocess, 25.3ms inference, 14.3ms postprocess per image at shape (1, 3, 256, 256)\n",
            "\n",
            "0: 256x256 56 Cell-M3yVs, 26.9ms\n",
            "Speed: 1.2ms preprocess, 26.9ms inference, 5.9ms postprocess per image at shape (1, 3, 256, 256)\n",
            "\n",
            "0: 256x256 300 Cell-M3yVs, 19.6ms\n",
            "Speed: 1.5ms preprocess, 19.6ms inference, 14.3ms postprocess per image at shape (1, 3, 256, 256)\n",
            "\n",
            "0: 256x256 56 Cell-M3yVs, 23.1ms\n",
            "Speed: 0.7ms preprocess, 23.1ms inference, 5.2ms postprocess per image at shape (1, 3, 256, 256)\n",
            "\n",
            "0: 256x256 (no detections), 25.9ms\n",
            "Speed: 0.7ms preprocess, 25.9ms inference, 0.7ms postprocess per image at shape (1, 3, 256, 256)\n",
            "\n",
            "0: 256x256 300 Cell-M3yVs, 27.0ms\n",
            "Speed: 0.9ms preprocess, 27.0ms inference, 15.1ms postprocess per image at shape (1, 3, 256, 256)\n",
            "\n",
            "0: 256x256 300 Cell-M3yVs, 21.8ms\n",
            "Speed: 0.8ms preprocess, 21.8ms inference, 14.4ms postprocess per image at shape (1, 3, 256, 256)\n",
            "\n",
            "0: 256x256 300 Cell-M3yVs, 17.4ms\n",
            "Speed: 0.7ms preprocess, 17.4ms inference, 13.7ms postprocess per image at shape (1, 3, 256, 256)\n",
            "\n",
            "0: 256x256 67 Cell-M3yVs, 25.6ms\n",
            "Speed: 0.7ms preprocess, 25.6ms inference, 6.4ms postprocess per image at shape (1, 3, 256, 256)\n",
            "\n",
            "0: 256x256 58 Cell-M3yVs, 27.2ms\n",
            "Speed: 0.8ms preprocess, 27.2ms inference, 10.2ms postprocess per image at shape (1, 3, 256, 256)\n",
            "\n",
            "0: 256x256 27 Cell-M3yVs, 19.6ms\n",
            "Speed: 0.7ms preprocess, 19.6ms inference, 3.6ms postprocess per image at shape (1, 3, 256, 256)\n",
            "\n",
            "0: 256x256 255 Cell-M3yVs, 24.8ms\n",
            "Speed: 0.6ms preprocess, 24.8ms inference, 12.5ms postprocess per image at shape (1, 3, 256, 256)\n",
            "\n",
            "0: 256x256 300 Cell-M3yVs, 19.4ms\n",
            "Speed: 0.8ms preprocess, 19.4ms inference, 13.5ms postprocess per image at shape (1, 3, 256, 256)\n",
            "\n",
            "0: 256x256 12 Cell-M3yVs, 17.3ms\n",
            "Speed: 0.7ms preprocess, 17.3ms inference, 2.9ms postprocess per image at shape (1, 3, 256, 256)\n",
            "\n",
            "0: 256x256 300 Cell-M3yVs, 18.6ms\n",
            "Speed: 0.8ms preprocess, 18.6ms inference, 13.7ms postprocess per image at shape (1, 3, 256, 256)\n",
            "\n",
            "0: 256x256 300 Cell-M3yVs, 19.0ms\n",
            "Speed: 0.7ms preprocess, 19.0ms inference, 14.4ms postprocess per image at shape (1, 3, 256, 256)\n",
            "\n",
            "0: 256x256 300 Cell-M3yVs, 19.2ms\n",
            "Speed: 0.7ms preprocess, 19.2ms inference, 13.7ms postprocess per image at shape (1, 3, 256, 256)\n",
            "\n",
            "0: 256x256 300 Cell-M3yVs, 17.7ms\n",
            "Speed: 0.6ms preprocess, 17.7ms inference, 13.5ms postprocess per image at shape (1, 3, 256, 256)\n",
            "\n",
            "0: 256x256 16 Cell-M3yVs, 18.0ms\n",
            "Speed: 0.8ms preprocess, 18.0ms inference, 3.1ms postprocess per image at shape (1, 3, 256, 256)\n",
            "\n",
            "0: 256x256 300 Cell-M3yVs, 14.3ms\n",
            "Speed: 0.6ms preprocess, 14.3ms inference, 13.6ms postprocess per image at shape (1, 3, 256, 256)\n",
            "\n",
            "0: 256x256 300 Cell-M3yVs, 25.3ms\n",
            "Speed: 0.6ms preprocess, 25.3ms inference, 14.7ms postprocess per image at shape (1, 3, 256, 256)\n",
            "\n",
            "0: 256x256 33 Cell-M3yVs, 24.0ms\n",
            "Speed: 0.7ms preprocess, 24.0ms inference, 4.5ms postprocess per image at shape (1, 3, 256, 256)\n",
            "\n",
            "0: 256x256 300 Cell-M3yVs, 27.1ms\n",
            "Speed: 0.7ms preprocess, 27.1ms inference, 14.7ms postprocess per image at shape (1, 3, 256, 256)\n",
            "\n",
            "0: 256x256 (no detections), 28.1ms\n",
            "Speed: 0.8ms preprocess, 28.1ms inference, 0.8ms postprocess per image at shape (1, 3, 256, 256)\n",
            "\n",
            "0: 256x256 300 Cell-M3yVs, 24.5ms\n",
            "Speed: 0.8ms preprocess, 24.5ms inference, 14.5ms postprocess per image at shape (1, 3, 256, 256)\n",
            "\n",
            "0: 256x256 300 Cell-M3yVs, 27.3ms\n",
            "Speed: 0.8ms preprocess, 27.3ms inference, 14.3ms postprocess per image at shape (1, 3, 256, 256)\n",
            "\n",
            "0: 256x256 24 Cell-M3yVs, 26.9ms\n",
            "Speed: 0.7ms preprocess, 26.9ms inference, 4.5ms postprocess per image at shape (1, 3, 256, 256)\n",
            "\n",
            "0: 256x256 261 Cell-M3yVs, 29.7ms\n",
            "Speed: 1.4ms preprocess, 29.7ms inference, 13.2ms postprocess per image at shape (1, 3, 256, 256)\n",
            "\n",
            "0: 256x256 300 Cell-M3yVs, 23.9ms\n",
            "Speed: 0.7ms preprocess, 23.9ms inference, 14.5ms postprocess per image at shape (1, 3, 256, 256)\n",
            "\n",
            "0: 256x256 136 Cell-M3yVs, 19.6ms\n",
            "Speed: 0.6ms preprocess, 19.6ms inference, 8.4ms postprocess per image at shape (1, 3, 256, 256)\n",
            "\n",
            "0: 256x256 220 Cell-M3yVs, 16.9ms\n",
            "Speed: 0.7ms preprocess, 16.9ms inference, 10.5ms postprocess per image at shape (1, 3, 256, 256)\n",
            "\n",
            "0: 256x256 300 Cell-M3yVs, 17.6ms\n",
            "Speed: 0.7ms preprocess, 17.6ms inference, 13.5ms postprocess per image at shape (1, 3, 256, 256)\n",
            "\n",
            "0: 256x256 300 Cell-M3yVs, 19.5ms\n",
            "Speed: 0.7ms preprocess, 19.5ms inference, 13.8ms postprocess per image at shape (1, 3, 256, 256)\n",
            "\n",
            "0: 256x256 300 Cell-M3yVs, 26.5ms\n",
            "Speed: 0.6ms preprocess, 26.5ms inference, 14.5ms postprocess per image at shape (1, 3, 256, 256)\n",
            "\n",
            "0: 256x256 40 Cell-M3yVs, 18.1ms\n",
            "Speed: 0.6ms preprocess, 18.1ms inference, 3.8ms postprocess per image at shape (1, 3, 256, 256)\n",
            "\n",
            "0: 256x256 300 Cell-M3yVs, 17.2ms\n",
            "Speed: 0.6ms preprocess, 17.2ms inference, 13.6ms postprocess per image at shape (1, 3, 256, 256)\n",
            "\n",
            "0: 256x256 300 Cell-M3yVs, 17.1ms\n",
            "Speed: 0.7ms preprocess, 17.1ms inference, 13.5ms postprocess per image at shape (1, 3, 256, 256)\n",
            "\n",
            "0: 256x256 255 Cell-M3yVs, 17.8ms\n",
            "Speed: 1.5ms preprocess, 17.8ms inference, 12.0ms postprocess per image at shape (1, 3, 256, 256)\n",
            "\n",
            "0: 256x256 300 Cell-M3yVs, 15.6ms\n",
            "Speed: 0.8ms preprocess, 15.6ms inference, 13.5ms postprocess per image at shape (1, 3, 256, 256)\n",
            "\n",
            "0: 256x256 300 Cell-M3yVs, 18.8ms\n",
            "Speed: 0.7ms preprocess, 18.8ms inference, 13.5ms postprocess per image at shape (1, 3, 256, 256)\n",
            "\n",
            "0: 256x256 22 Cell-M3yVs, 16.4ms\n",
            "Speed: 1.1ms preprocess, 16.4ms inference, 3.1ms postprocess per image at shape (1, 3, 256, 256)\n",
            "\n",
            "0: 256x256 300 Cell-M3yVs, 14.3ms\n",
            "Speed: 0.6ms preprocess, 14.3ms inference, 13.4ms postprocess per image at shape (1, 3, 256, 256)\n",
            "\n",
            "0: 256x256 300 Cell-M3yVs, 17.4ms\n",
            "Speed: 1.0ms preprocess, 17.4ms inference, 15.0ms postprocess per image at shape (1, 3, 256, 256)\n",
            "\n",
            "0: 256x256 42 Cell-M3yVs, 21.2ms\n",
            "Speed: 0.7ms preprocess, 21.2ms inference, 5.9ms postprocess per image at shape (1, 3, 256, 256)\n",
            "\n",
            "0: 256x256 300 Cell-M3yVs, 25.6ms\n",
            "Speed: 0.7ms preprocess, 25.6ms inference, 15.2ms postprocess per image at shape (1, 3, 256, 256)\n",
            "\n",
            "0: 256x256 300 Cell-M3yVs, 22.4ms\n",
            "Speed: 1.0ms preprocess, 22.4ms inference, 14.3ms postprocess per image at shape (1, 3, 256, 256)\n",
            "\n",
            "0: 256x256 300 Cell-M3yVs, 26.0ms\n",
            "Speed: 2.4ms preprocess, 26.0ms inference, 14.4ms postprocess per image at shape (1, 3, 256, 256)\n",
            "\n",
            "0: 256x256 90 Cell-M3yVs, 18.6ms\n",
            "Speed: 0.7ms preprocess, 18.6ms inference, 6.0ms postprocess per image at shape (1, 3, 256, 256)\n",
            "\n",
            "0: 256x256 45 Cell-M3yVs, 16.9ms\n",
            "Speed: 1.5ms preprocess, 16.9ms inference, 4.1ms postprocess per image at shape (1, 3, 256, 256)\n",
            "\n",
            "0: 256x256 300 Cell-M3yVs, 19.3ms\n",
            "Speed: 0.6ms preprocess, 19.3ms inference, 14.5ms postprocess per image at shape (1, 3, 256, 256)\n",
            "\n",
            "0: 256x256 5 Cell-M3yVs, 18.7ms\n",
            "Speed: 0.6ms preprocess, 18.7ms inference, 3.5ms postprocess per image at shape (1, 3, 256, 256)\n",
            "\n",
            "0: 256x256 220 Cell-M3yVs, 25.0ms\n",
            "Speed: 0.7ms preprocess, 25.0ms inference, 10.8ms postprocess per image at shape (1, 3, 256, 256)\n",
            "\n",
            "0: 256x256 300 Cell-M3yVs, 20.3ms\n",
            "Speed: 0.7ms preprocess, 20.3ms inference, 14.0ms postprocess per image at shape (1, 3, 256, 256)\n",
            "\n",
            "0: 256x256 300 Cell-M3yVs, 19.5ms\n",
            "Speed: 0.6ms preprocess, 19.5ms inference, 13.9ms postprocess per image at shape (1, 3, 256, 256)\n",
            "\n",
            "0: 256x256 12 Cell-M3yVs, 16.7ms\n",
            "Speed: 1.0ms preprocess, 16.7ms inference, 2.9ms postprocess per image at shape (1, 3, 256, 256)\n",
            "\n",
            "0: 256x256 300 Cell-M3yVs, 16.5ms\n",
            "Speed: 1.5ms preprocess, 16.5ms inference, 14.1ms postprocess per image at shape (1, 3, 256, 256)\n",
            "\n",
            "0: 256x256 68 Cell-M3yVs, 26.9ms\n",
            "Speed: 0.6ms preprocess, 26.9ms inference, 6.2ms postprocess per image at shape (1, 3, 256, 256)\n",
            "\n",
            "0: 256x256 300 Cell-M3yVs, 17.7ms\n",
            "Speed: 0.7ms preprocess, 17.7ms inference, 13.4ms postprocess per image at shape (1, 3, 256, 256)\n",
            "\n",
            "0: 256x256 300 Cell-M3yVs, 15.4ms\n",
            "Speed: 1.1ms preprocess, 15.4ms inference, 13.6ms postprocess per image at shape (1, 3, 256, 256)\n",
            "\n",
            "0: 256x256 300 Cell-M3yVs, 18.0ms\n",
            "Speed: 1.0ms preprocess, 18.0ms inference, 13.6ms postprocess per image at shape (1, 3, 256, 256)\n",
            "\n",
            "0: 256x256 300 Cell-M3yVs, 17.5ms\n",
            "Speed: 0.7ms preprocess, 17.5ms inference, 13.4ms postprocess per image at shape (1, 3, 256, 256)\n",
            "\n",
            "0: 256x256 300 Cell-M3yVs, 16.5ms\n",
            "Speed: 1.1ms preprocess, 16.5ms inference, 13.4ms postprocess per image at shape (1, 3, 256, 256)\n",
            "\n",
            "0: 256x256 35 Cell-M3yVs, 17.9ms\n",
            "Speed: 0.6ms preprocess, 17.9ms inference, 3.7ms postprocess per image at shape (1, 3, 256, 256)\n",
            "\n",
            "0: 256x256 (no detections), 21.8ms\n",
            "Speed: 0.6ms preprocess, 21.8ms inference, 0.5ms postprocess per image at shape (1, 3, 256, 256)\n",
            "\n",
            "0: 256x256 300 Cell-M3yVs, 19.1ms\n",
            "Speed: 1.0ms preprocess, 19.1ms inference, 13.5ms postprocess per image at shape (1, 3, 256, 256)\n",
            "\n",
            "0: 256x256 300 Cell-M3yVs, 27.4ms\n",
            "Speed: 2.0ms preprocess, 27.4ms inference, 14.6ms postprocess per image at shape (1, 3, 256, 256)\n",
            "\n",
            "0: 256x256 288 Cell-M3yVs, 23.7ms\n",
            "Speed: 0.7ms preprocess, 23.7ms inference, 14.0ms postprocess per image at shape (1, 3, 256, 256)\n",
            "\n",
            "0: 256x256 80 Cell-M3yVs, 24.1ms\n",
            "Speed: 0.9ms preprocess, 24.1ms inference, 6.4ms postprocess per image at shape (1, 3, 256, 256)\n",
            "\n",
            "0: 256x256 91 Cell-M3yVs, 26.1ms\n",
            "Speed: 1.2ms preprocess, 26.1ms inference, 7.5ms postprocess per image at shape (1, 3, 256, 256)\n",
            "\n",
            "0: 256x256 38 Cell-M3yVs, 26.5ms\n",
            "Speed: 1.2ms preprocess, 26.5ms inference, 4.6ms postprocess per image at shape (1, 3, 256, 256)\n",
            "\n",
            "0: 256x256 300 Cell-M3yVs, 26.0ms\n",
            "Speed: 0.7ms preprocess, 26.0ms inference, 14.3ms postprocess per image at shape (1, 3, 256, 256)\n",
            "\n",
            "0: 256x256 51 Cell-M3yVs, 26.0ms\n",
            "Speed: 0.8ms preprocess, 26.0ms inference, 5.2ms postprocess per image at shape (1, 3, 256, 256)\n",
            "\n",
            "0: 256x256 270 Cell-M3yVs, 16.6ms\n",
            "Speed: 0.7ms preprocess, 16.6ms inference, 12.3ms postprocess per image at shape (1, 3, 256, 256)\n",
            "\n",
            "0: 256x256 300 Cell-M3yVs, 17.7ms\n",
            "Speed: 0.7ms preprocess, 17.7ms inference, 13.6ms postprocess per image at shape (1, 3, 256, 256)\n",
            "\n",
            "0: 256x256 300 Cell-M3yVs, 16.3ms\n",
            "Speed: 0.6ms preprocess, 16.3ms inference, 13.5ms postprocess per image at shape (1, 3, 256, 256)\n",
            "\n",
            "0: 256x256 300 Cell-M3yVs, 16.9ms\n",
            "Speed: 1.5ms preprocess, 16.9ms inference, 13.4ms postprocess per image at shape (1, 3, 256, 256)\n",
            "\n",
            "0: 256x256 25 Cell-M3yVs, 17.6ms\n",
            "Speed: 0.9ms preprocess, 17.6ms inference, 3.3ms postprocess per image at shape (1, 3, 256, 256)\n",
            "\n",
            "0: 256x256 300 Cell-M3yVs, 16.6ms\n",
            "Speed: 0.6ms preprocess, 16.6ms inference, 13.4ms postprocess per image at shape (1, 3, 256, 256)\n",
            "\n",
            "0: 256x256 93 Cell-M3yVs, 19.3ms\n",
            "Speed: 1.0ms preprocess, 19.3ms inference, 5.9ms postprocess per image at shape (1, 3, 256, 256)\n",
            "\n",
            "0: 256x256 247 Cell-M3yVs, 24.7ms\n",
            "Speed: 0.7ms preprocess, 24.7ms inference, 12.7ms postprocess per image at shape (1, 3, 256, 256)\n",
            "\n",
            "0: 256x256 100 Cell-M3yVs, 18.0ms\n",
            "Speed: 0.7ms preprocess, 18.0ms inference, 6.1ms postprocess per image at shape (1, 3, 256, 256)\n",
            "\n",
            "0: 256x256 300 Cell-M3yVs, 19.8ms\n",
            "Speed: 0.7ms preprocess, 19.8ms inference, 13.9ms postprocess per image at shape (1, 3, 256, 256)\n",
            "\n",
            "0: 256x256 300 Cell-M3yVs, 18.4ms\n",
            "Speed: 0.7ms preprocess, 18.4ms inference, 13.6ms postprocess per image at shape (1, 3, 256, 256)\n",
            "\n",
            "0: 256x256 261 Cell-M3yVs, 15.6ms\n",
            "Speed: 0.7ms preprocess, 15.6ms inference, 11.8ms postprocess per image at shape (1, 3, 256, 256)\n",
            "\n",
            "0: 256x256 300 Cell-M3yVs, 17.1ms\n",
            "Speed: 0.6ms preprocess, 17.1ms inference, 13.4ms postprocess per image at shape (1, 3, 256, 256)\n",
            "\n",
            "0: 256x256 210 Cell-M3yVs, 16.1ms\n",
            "Speed: 0.7ms preprocess, 16.1ms inference, 10.2ms postprocess per image at shape (1, 3, 256, 256)\n",
            "\n",
            "0: 256x256 300 Cell-M3yVs, 19.0ms\n",
            "Speed: 0.7ms preprocess, 19.0ms inference, 13.4ms postprocess per image at shape (1, 3, 256, 256)\n",
            "\n",
            "0: 256x256 300 Cell-M3yVs, 26.2ms\n",
            "Speed: 0.7ms preprocess, 26.2ms inference, 14.3ms postprocess per image at shape (1, 3, 256, 256)\n",
            "\n",
            "0: 256x256 300 Cell-M3yVs, 22.2ms\n",
            "Speed: 1.3ms preprocess, 22.2ms inference, 15.2ms postprocess per image at shape (1, 3, 256, 256)\n",
            "\n",
            "0: 256x256 300 Cell-M3yVs, 21.4ms\n",
            "Speed: 0.7ms preprocess, 21.4ms inference, 14.6ms postprocess per image at shape (1, 3, 256, 256)\n",
            "\n",
            "0: 256x256 300 Cell-M3yVs, 20.8ms\n",
            "Speed: 0.7ms preprocess, 20.8ms inference, 14.3ms postprocess per image at shape (1, 3, 256, 256)\n",
            "\n",
            "0: 256x256 300 Cell-M3yVs, 26.6ms\n",
            "Speed: 0.8ms preprocess, 26.6ms inference, 15.1ms postprocess per image at shape (1, 3, 256, 256)\n",
            "\n",
            "0: 256x256 300 Cell-M3yVs, 22.6ms\n",
            "Speed: 0.7ms preprocess, 22.6ms inference, 14.3ms postprocess per image at shape (1, 3, 256, 256)\n",
            "\n",
            "0: 256x256 300 Cell-M3yVs, 18.5ms\n",
            "Speed: 0.6ms preprocess, 18.5ms inference, 13.5ms postprocess per image at shape (1, 3, 256, 256)\n",
            "\n",
            "0: 256x256 300 Cell-M3yVs, 16.5ms\n",
            "Speed: 1.0ms preprocess, 16.5ms inference, 13.3ms postprocess per image at shape (1, 3, 256, 256)\n",
            "\n",
            "0: 256x256 300 Cell-M3yVs, 16.4ms\n",
            "Speed: 0.7ms preprocess, 16.4ms inference, 13.3ms postprocess per image at shape (1, 3, 256, 256)\n",
            "\n",
            "0: 256x256 300 Cell-M3yVs, 16.5ms\n",
            "Speed: 0.6ms preprocess, 16.5ms inference, 13.3ms postprocess per image at shape (1, 3, 256, 256)\n",
            "\n",
            "0: 256x256 300 Cell-M3yVs, 17.1ms\n",
            "Speed: 1.1ms preprocess, 17.1ms inference, 13.3ms postprocess per image at shape (1, 3, 256, 256)\n",
            "\n",
            "0: 256x256 300 Cell-M3yVs, 17.8ms\n",
            "Speed: 0.9ms preprocess, 17.8ms inference, 13.3ms postprocess per image at shape (1, 3, 256, 256)\n",
            "\n",
            "0: 256x256 83 Cell-M3yVs, 16.3ms\n",
            "Speed: 1.0ms preprocess, 16.3ms inference, 6.2ms postprocess per image at shape (1, 3, 256, 256)\n",
            "\n",
            "0: 256x256 240 Cell-M3yVs, 18.1ms\n",
            "Speed: 0.6ms preprocess, 18.1ms inference, 11.1ms postprocess per image at shape (1, 3, 256, 256)\n",
            "\n",
            "0: 256x256 53 Cell-M3yVs, 21.4ms\n",
            "Speed: 0.7ms preprocess, 21.4ms inference, 5.6ms postprocess per image at shape (1, 3, 256, 256)\n",
            "\n",
            "0: 256x256 68 Cell-M3yVs, 24.2ms\n",
            "Speed: 0.7ms preprocess, 24.2ms inference, 5.5ms postprocess per image at shape (1, 3, 256, 256)\n",
            "\n",
            "0: 256x256 130 Cell-M3yVs, 17.7ms\n",
            "Speed: 1.2ms preprocess, 17.7ms inference, 7.2ms postprocess per image at shape (1, 3, 256, 256)\n",
            "\n",
            "0: 256x256 291 Cell-M3yVs, 15.5ms\n",
            "Speed: 2.9ms preprocess, 15.5ms inference, 13.1ms postprocess per image at shape (1, 3, 256, 256)\n",
            "\n",
            "0: 256x256 300 Cell-M3yVs, 17.9ms\n",
            "Speed: 0.7ms preprocess, 17.9ms inference, 13.2ms postprocess per image at shape (1, 3, 256, 256)\n",
            "\n",
            "0: 256x256 2 Cell-M3yVs, 17.9ms\n",
            "Speed: 0.5ms preprocess, 17.9ms inference, 3.5ms postprocess per image at shape (1, 3, 256, 256)\n",
            "\n",
            "0: 256x256 300 Cell-M3yVs, 17.6ms\n",
            "Speed: 0.6ms preprocess, 17.6ms inference, 13.4ms postprocess per image at shape (1, 3, 256, 256)\n",
            "\n",
            "0: 256x256 300 Cell-M3yVs, 17.9ms\n",
            "Speed: 0.7ms preprocess, 17.9ms inference, 13.9ms postprocess per image at shape (1, 3, 256, 256)\n",
            "\n",
            "0: 256x256 3 Cell-M3yVs, 22.0ms\n",
            "Speed: 0.7ms preprocess, 22.0ms inference, 4.5ms postprocess per image at shape (1, 3, 256, 256)\n",
            "\n",
            "0: 256x256 90 Cell-M3yVs, 20.6ms\n",
            "Speed: 0.7ms preprocess, 20.6ms inference, 6.8ms postprocess per image at shape (1, 3, 256, 256)\n",
            "\n",
            "0: 256x256 300 Cell-M3yVs, 25.7ms\n",
            "Speed: 0.8ms preprocess, 25.7ms inference, 14.1ms postprocess per image at shape (1, 3, 256, 256)\n",
            "\n",
            "0: 256x256 300 Cell-M3yVs, 23.6ms\n",
            "Speed: 0.7ms preprocess, 23.6ms inference, 14.4ms postprocess per image at shape (1, 3, 256, 256)\n",
            "\n",
            "0: 256x256 300 Cell-M3yVs, 23.2ms\n",
            "Speed: 0.6ms preprocess, 23.2ms inference, 15.6ms postprocess per image at shape (1, 3, 256, 256)\n",
            "\n",
            "0: 256x256 20 Cell-M3yVs, 25.3ms\n",
            "Speed: 0.7ms preprocess, 25.3ms inference, 4.3ms postprocess per image at shape (1, 3, 256, 256)\n",
            "\n",
            "0: 256x256 300 Cell-M3yVs, 23.0ms\n",
            "Speed: 0.7ms preprocess, 23.0ms inference, 14.3ms postprocess per image at shape (1, 3, 256, 256)\n",
            "\n",
            "0: 256x256 300 Cell-M3yVs, 20.0ms\n",
            "Speed: 0.7ms preprocess, 20.0ms inference, 13.5ms postprocess per image at shape (1, 3, 256, 256)\n",
            "\n",
            "0: 256x256 300 Cell-M3yVs, 17.5ms\n",
            "Speed: 0.8ms preprocess, 17.5ms inference, 13.4ms postprocess per image at shape (1, 3, 256, 256)\n",
            "\n",
            "0: 256x256 300 Cell-M3yVs, 17.4ms\n",
            "Speed: 0.7ms preprocess, 17.4ms inference, 13.5ms postprocess per image at shape (1, 3, 256, 256)\n",
            "\n",
            "0: 256x256 300 Cell-M3yVs, 16.5ms\n",
            "Speed: 0.6ms preprocess, 16.5ms inference, 13.3ms postprocess per image at shape (1, 3, 256, 256)\n",
            "\n",
            "0: 256x256 53 Cell-M3yVs, 18.4ms\n",
            "Speed: 0.9ms preprocess, 18.4ms inference, 4.2ms postprocess per image at shape (1, 3, 256, 256)\n",
            "\n",
            "0: 256x256 300 Cell-M3yVs, 17.9ms\n",
            "Speed: 0.6ms preprocess, 17.9ms inference, 13.4ms postprocess per image at shape (1, 3, 256, 256)\n",
            "\n",
            "0: 256x256 300 Cell-M3yVs, 18.2ms\n",
            "Speed: 1.4ms preprocess, 18.2ms inference, 13.2ms postprocess per image at shape (1, 3, 256, 256)\n",
            "\n",
            "0: 256x256 300 Cell-M3yVs, 17.8ms\n",
            "Speed: 0.6ms preprocess, 17.8ms inference, 13.5ms postprocess per image at shape (1, 3, 256, 256)\n",
            "\n",
            "0: 256x256 300 Cell-M3yVs, 24.3ms\n",
            "Speed: 1.1ms preprocess, 24.3ms inference, 14.8ms postprocess per image at shape (1, 3, 256, 256)\n",
            "\n",
            "0: 256x256 181 Cell-M3yVs, 18.5ms\n",
            "Speed: 1.4ms preprocess, 18.5ms inference, 9.2ms postprocess per image at shape (1, 3, 256, 256)\n",
            "\n",
            "0: 256x256 300 Cell-M3yVs, 19.3ms\n",
            "Speed: 0.6ms preprocess, 19.3ms inference, 13.3ms postprocess per image at shape (1, 3, 256, 256)\n",
            "\n",
            "0: 256x256 300 Cell-M3yVs, 18.1ms\n",
            "Speed: 0.7ms preprocess, 18.1ms inference, 13.3ms postprocess per image at shape (1, 3, 256, 256)\n",
            "\n",
            "0: 256x256 112 Cell-M3yVs, 18.5ms\n",
            "Speed: 0.6ms preprocess, 18.5ms inference, 6.3ms postprocess per image at shape (1, 3, 256, 256)\n",
            "\n",
            "0: 256x256 300 Cell-M3yVs, 17.4ms\n",
            "Speed: 1.1ms preprocess, 17.4ms inference, 13.7ms postprocess per image at shape (1, 3, 256, 256)\n",
            "\n",
            "0: 256x256 300 Cell-M3yVs, 22.2ms\n",
            "Speed: 0.9ms preprocess, 22.2ms inference, 14.4ms postprocess per image at shape (1, 3, 256, 256)\n",
            "\n",
            "0: 256x256 300 Cell-M3yVs, 29.9ms\n",
            "Speed: 0.7ms preprocess, 29.9ms inference, 14.6ms postprocess per image at shape (1, 3, 256, 256)\n",
            "\n",
            "0: 256x256 300 Cell-M3yVs, 22.8ms\n",
            "Speed: 0.7ms preprocess, 22.8ms inference, 15.2ms postprocess per image at shape (1, 3, 256, 256)\n",
            "\n",
            "0: 256x256 300 Cell-M3yVs, 25.2ms\n",
            "Speed: 0.7ms preprocess, 25.2ms inference, 14.4ms postprocess per image at shape (1, 3, 256, 256)\n",
            "\n",
            "0: 256x256 300 Cell-M3yVs, 24.3ms\n",
            "Speed: 1.1ms preprocess, 24.3ms inference, 16.7ms postprocess per image at shape (1, 3, 256, 256)\n",
            "\n",
            "0: 256x256 300 Cell-M3yVs, 22.8ms\n",
            "Speed: 1.2ms preprocess, 22.8ms inference, 14.8ms postprocess per image at shape (1, 3, 256, 256)\n",
            "\n",
            "0: 256x256 37 Cell-M3yVs, 23.4ms\n",
            "Speed: 0.6ms preprocess, 23.4ms inference, 4.1ms postprocess per image at shape (1, 3, 256, 256)\n",
            "\n",
            "0: 256x256 300 Cell-M3yVs, 24.6ms\n",
            "Speed: 0.7ms preprocess, 24.6ms inference, 14.0ms postprocess per image at shape (1, 3, 256, 256)\n",
            "\n",
            "0: 256x256 268 Cell-M3yVs, 21.2ms\n",
            "Speed: 0.7ms preprocess, 21.2ms inference, 13.4ms postprocess per image at shape (1, 3, 256, 256)\n",
            "\n",
            "0: 256x256 33 Cell-M3yVs, 20.6ms\n",
            "Speed: 0.6ms preprocess, 20.6ms inference, 4.1ms postprocess per image at shape (1, 3, 256, 256)\n",
            "\n",
            "0: 256x256 300 Cell-M3yVs, 20.4ms\n",
            "Speed: 0.6ms preprocess, 20.4ms inference, 14.3ms postprocess per image at shape (1, 3, 256, 256)\n",
            "\n",
            "0: 256x256 300 Cell-M3yVs, 23.3ms\n",
            "Speed: 0.6ms preprocess, 23.3ms inference, 13.5ms postprocess per image at shape (1, 3, 256, 256)\n",
            "\n",
            "0: 256x256 300 Cell-M3yVs, 18.7ms\n",
            "Speed: 0.7ms preprocess, 18.7ms inference, 13.5ms postprocess per image at shape (1, 3, 256, 256)\n",
            "\n",
            "0: 256x256 11 Cell-M3yVs, 16.5ms\n",
            "Speed: 0.6ms preprocess, 16.5ms inference, 3.0ms postprocess per image at shape (1, 3, 256, 256)\n",
            "\n",
            "0: 256x256 300 Cell-M3yVs, 20.0ms\n",
            "Speed: 0.6ms preprocess, 20.0ms inference, 14.4ms postprocess per image at shape (1, 3, 256, 256)\n",
            "\n",
            "0: 256x256 300 Cell-M3yVs, 22.5ms\n",
            "Speed: 0.7ms preprocess, 22.5ms inference, 14.5ms postprocess per image at shape (1, 3, 256, 256)\n",
            "\n",
            "0: 256x256 300 Cell-M3yVs, 17.3ms\n",
            "Speed: 0.7ms preprocess, 17.3ms inference, 13.3ms postprocess per image at shape (1, 3, 256, 256)\n",
            "\n",
            "0: 256x256 279 Cell-M3yVs, 16.2ms\n",
            "Speed: 0.6ms preprocess, 16.2ms inference, 12.6ms postprocess per image at shape (1, 3, 256, 256)\n",
            "\n",
            "0: 256x256 49 Cell-M3yVs, 16.7ms\n",
            "Speed: 0.6ms preprocess, 16.7ms inference, 4.0ms postprocess per image at shape (1, 3, 256, 256)\n",
            "\n",
            "0: 256x256 300 Cell-M3yVs, 17.3ms\n",
            "Speed: 0.7ms preprocess, 17.3ms inference, 13.2ms postprocess per image at shape (1, 3, 256, 256)\n",
            "\n",
            "0: 256x256 300 Cell-M3yVs, 16.8ms\n",
            "Speed: 0.6ms preprocess, 16.8ms inference, 13.6ms postprocess per image at shape (1, 3, 256, 256)\n",
            "\n",
            "0: 256x256 300 Cell-M3yVs, 23.8ms\n",
            "Speed: 1.6ms preprocess, 23.8ms inference, 14.2ms postprocess per image at shape (1, 3, 256, 256)\n",
            "\n",
            "0: 256x256 300 Cell-M3yVs, 31.5ms\n",
            "Speed: 0.9ms preprocess, 31.5ms inference, 14.2ms postprocess per image at shape (1, 3, 256, 256)\n",
            "\n",
            "0: 256x256 187 Cell-M3yVs, 24.0ms\n",
            "Speed: 0.6ms preprocess, 24.0ms inference, 10.6ms postprocess per image at shape (1, 3, 256, 256)\n",
            "\n",
            "0: 256x256 57 Cell-M3yVs, 26.9ms\n",
            "Speed: 1.1ms preprocess, 26.9ms inference, 6.3ms postprocess per image at shape (1, 3, 256, 256)\n",
            "\n",
            "0: 256x256 300 Cell-M3yVs, 26.1ms\n",
            "Speed: 0.9ms preprocess, 26.1ms inference, 13.8ms postprocess per image at shape (1, 3, 256, 256)\n",
            "\n",
            "0: 256x256 300 Cell-M3yVs, 17.4ms\n",
            "Speed: 0.9ms preprocess, 17.4ms inference, 13.5ms postprocess per image at shape (1, 3, 256, 256)\n",
            "\n",
            "0: 256x256 205 Cell-M3yVs, 17.0ms\n",
            "Speed: 0.7ms preprocess, 17.0ms inference, 10.0ms postprocess per image at shape (1, 3, 256, 256)\n",
            "\n",
            "0: 256x256 300 Cell-M3yVs, 19.8ms\n",
            "Speed: 0.7ms preprocess, 19.8ms inference, 13.7ms postprocess per image at shape (1, 3, 256, 256)\n",
            "\n",
            "0: 256x256 300 Cell-M3yVs, 18.1ms\n",
            "Speed: 1.1ms preprocess, 18.1ms inference, 13.5ms postprocess per image at shape (1, 3, 256, 256)\n",
            "\n",
            "0: 256x256 237 Cell-M3yVs, 17.5ms\n",
            "Speed: 0.7ms preprocess, 17.5ms inference, 11.0ms postprocess per image at shape (1, 3, 256, 256)\n",
            "\n",
            "0: 256x256 62 Cell-M3yVs, 19.3ms\n",
            "Speed: 0.9ms preprocess, 19.3ms inference, 5.1ms postprocess per image at shape (1, 3, 256, 256)\n",
            "\n",
            "0: 256x256 300 Cell-M3yVs, 17.7ms\n",
            "Speed: 0.8ms preprocess, 17.7ms inference, 14.1ms postprocess per image at shape (1, 3, 256, 256)\n",
            "\n",
            "0: 256x256 300 Cell-M3yVs, 19.1ms\n",
            "Speed: 1.0ms preprocess, 19.1ms inference, 14.1ms postprocess per image at shape (1, 3, 256, 256)\n",
            "\n",
            "0: 256x256 286 Cell-M3yVs, 17.4ms\n",
            "Speed: 1.1ms preprocess, 17.4ms inference, 12.9ms postprocess per image at shape (1, 3, 256, 256)\n",
            "\n",
            "0: 256x256 8 Cell-M3yVs, 17.9ms\n",
            "Speed: 0.6ms preprocess, 17.9ms inference, 3.3ms postprocess per image at shape (1, 3, 256, 256)\n",
            "\n",
            "0: 256x256 254 Cell-M3yVs, 17.1ms\n",
            "Speed: 0.7ms preprocess, 17.1ms inference, 11.8ms postprocess per image at shape (1, 3, 256, 256)\n",
            "\n",
            "0: 256x256 300 Cell-M3yVs, 19.5ms\n",
            "Speed: 0.7ms preprocess, 19.5ms inference, 13.6ms postprocess per image at shape (1, 3, 256, 256)\n",
            "\n",
            "0: 256x256 300 Cell-M3yVs, 24.4ms\n",
            "Speed: 0.7ms preprocess, 24.4ms inference, 13.6ms postprocess per image at shape (1, 3, 256, 256)\n",
            "\n",
            "0: 256x256 3 Cell-M3yVs, 28.0ms\n",
            "Speed: 0.7ms preprocess, 28.0ms inference, 4.8ms postprocess per image at shape (1, 3, 256, 256)\n",
            "\n",
            "0: 256x256 (no detections), 23.7ms\n",
            "Speed: 0.7ms preprocess, 23.7ms inference, 0.6ms postprocess per image at shape (1, 3, 256, 256)\n",
            "\n",
            "0: 256x256 300 Cell-M3yVs, 23.9ms\n",
            "Speed: 0.6ms preprocess, 23.9ms inference, 15.0ms postprocess per image at shape (1, 3, 256, 256)\n",
            "\n",
            "0: 256x256 300 Cell-M3yVs, 21.7ms\n",
            "Speed: 0.7ms preprocess, 21.7ms inference, 14.7ms postprocess per image at shape (1, 3, 256, 256)\n",
            "\n",
            "0: 256x256 146 Cell-M3yVs, 25.7ms\n",
            "Speed: 1.0ms preprocess, 25.7ms inference, 9.0ms postprocess per image at shape (1, 3, 256, 256)\n",
            "\n",
            "0: 256x256 300 Cell-M3yVs, 37.5ms\n",
            "Speed: 1.2ms preprocess, 37.5ms inference, 18.4ms postprocess per image at shape (1, 3, 256, 256)\n",
            "\n",
            "0: 256x256 300 Cell-M3yVs, 32.5ms\n",
            "Speed: 1.0ms preprocess, 32.5ms inference, 16.1ms postprocess per image at shape (1, 3, 256, 256)\n",
            "\n",
            "0: 256x256 300 Cell-M3yVs, 29.4ms\n",
            "Speed: 1.3ms preprocess, 29.4ms inference, 16.5ms postprocess per image at shape (1, 3, 256, 256)\n",
            "\n",
            "0: 256x256 78 Cell-M3yVs, 22.0ms\n",
            "Speed: 1.4ms preprocess, 22.0ms inference, 6.1ms postprocess per image at shape (1, 3, 256, 256)\n",
            "\n",
            "0: 256x256 300 Cell-M3yVs, 19.7ms\n",
            "Speed: 0.6ms preprocess, 19.7ms inference, 14.2ms postprocess per image at shape (1, 3, 256, 256)\n",
            "\n",
            "0: 256x256 300 Cell-M3yVs, 22.4ms\n",
            "Speed: 0.7ms preprocess, 22.4ms inference, 14.3ms postprocess per image at shape (1, 3, 256, 256)\n",
            "\n",
            "0: 256x256 300 Cell-M3yVs, 23.5ms\n",
            "Speed: 0.7ms preprocess, 23.5ms inference, 16.8ms postprocess per image at shape (1, 3, 256, 256)\n",
            "\n",
            "0: 256x256 300 Cell-M3yVs, 22.8ms\n",
            "Speed: 0.9ms preprocess, 22.8ms inference, 14.1ms postprocess per image at shape (1, 3, 256, 256)\n",
            "\n",
            "0: 256x256 7 Cell-M3yVs, 19.1ms\n",
            "Speed: 0.6ms preprocess, 19.1ms inference, 4.4ms postprocess per image at shape (1, 3, 256, 256)\n",
            "\n",
            "0: 256x256 300 Cell-M3yVs, 23.0ms\n",
            "Speed: 0.8ms preprocess, 23.0ms inference, 14.8ms postprocess per image at shape (1, 3, 256, 256)\n",
            "\n",
            "0: 256x256 300 Cell-M3yVs, 19.6ms\n",
            "Speed: 1.4ms preprocess, 19.6ms inference, 15.0ms postprocess per image at shape (1, 3, 256, 256)\n",
            "\n",
            "0: 256x256 300 Cell-M3yVs, 29.1ms\n",
            "Speed: 0.6ms preprocess, 29.1ms inference, 14.6ms postprocess per image at shape (1, 3, 256, 256)\n",
            "\n",
            "0: 256x256 300 Cell-M3yVs, 21.8ms\n",
            "Speed: 0.6ms preprocess, 21.8ms inference, 14.2ms postprocess per image at shape (1, 3, 256, 256)\n",
            "\n",
            "0: 256x256 300 Cell-M3yVs, 20.5ms\n",
            "Speed: 0.6ms preprocess, 20.5ms inference, 15.0ms postprocess per image at shape (1, 3, 256, 256)\n",
            "\n",
            "0: 256x256 300 Cell-M3yVs, 20.4ms\n",
            "Speed: 0.7ms preprocess, 20.4ms inference, 14.4ms postprocess per image at shape (1, 3, 256, 256)\n",
            "\n",
            "0: 256x256 300 Cell-M3yVs, 23.6ms\n",
            "Speed: 0.6ms preprocess, 23.6ms inference, 15.3ms postprocess per image at shape (1, 3, 256, 256)\n",
            "\n",
            "0: 256x256 257 Cell-M3yVs, 24.0ms\n",
            "Speed: 0.7ms preprocess, 24.0ms inference, 13.2ms postprocess per image at shape (1, 3, 256, 256)\n",
            "\n",
            "0: 256x256 300 Cell-M3yVs, 30.9ms\n",
            "Speed: 0.7ms preprocess, 30.9ms inference, 14.5ms postprocess per image at shape (1, 3, 256, 256)\n",
            "\n",
            "0: 256x256 114 Cell-M3yVs, 22.3ms\n",
            "Speed: 1.3ms preprocess, 22.3ms inference, 8.5ms postprocess per image at shape (1, 3, 256, 256)\n",
            "\n",
            "0: 256x256 300 Cell-M3yVs, 27.1ms\n",
            "Speed: 0.7ms preprocess, 27.1ms inference, 15.5ms postprocess per image at shape (1, 3, 256, 256)\n",
            "\n",
            "0: 256x256 266 Cell-M3yVs, 28.8ms\n",
            "Speed: 0.8ms preprocess, 28.8ms inference, 13.2ms postprocess per image at shape (1, 3, 256, 256)\n",
            "\n",
            "0: 256x256 300 Cell-M3yVs, 18.1ms\n",
            "Speed: 0.7ms preprocess, 18.1ms inference, 14.3ms postprocess per image at shape (1, 3, 256, 256)\n",
            "\n",
            "0: 256x256 (no detections), 22.1ms\n",
            "Speed: 0.7ms preprocess, 22.1ms inference, 0.8ms postprocess per image at shape (1, 3, 256, 256)\n",
            "\n",
            "0: 256x256 300 Cell-M3yVs, 20.1ms\n",
            "Speed: 0.9ms preprocess, 20.1ms inference, 14.5ms postprocess per image at shape (1, 3, 256, 256)\n",
            "\n",
            "0: 256x256 300 Cell-M3yVs, 20.7ms\n",
            "Speed: 0.7ms preprocess, 20.7ms inference, 14.6ms postprocess per image at shape (1, 3, 256, 256)\n",
            "\n",
            "0: 256x256 300 Cell-M3yVs, 23.2ms\n",
            "Speed: 0.6ms preprocess, 23.2ms inference, 14.3ms postprocess per image at shape (1, 3, 256, 256)\n",
            "\n",
            "0: 256x256 280 Cell-M3yVs, 23.7ms\n",
            "Speed: 0.6ms preprocess, 23.7ms inference, 13.5ms postprocess per image at shape (1, 3, 256, 256)\n",
            "\n",
            "0: 256x256 20 Cell-M3yVs, 21.3ms\n",
            "Speed: 0.7ms preprocess, 21.3ms inference, 3.7ms postprocess per image at shape (1, 3, 256, 256)\n",
            "\n",
            "0: 256x256 300 Cell-M3yVs, 23.4ms\n",
            "Speed: 0.6ms preprocess, 23.4ms inference, 15.8ms postprocess per image at shape (1, 3, 256, 256)\n",
            "\n",
            "0: 256x256 67 Cell-M3yVs, 23.7ms\n",
            "Speed: 0.6ms preprocess, 23.7ms inference, 7.8ms postprocess per image at shape (1, 3, 256, 256)\n",
            "Total Images Processed: 2679\n",
            "Total Cells Counted: 632724\n",
            "Total Inference Time: 113.447 seconds\n",
            "Average Inference Time per Image: 0.042 seconds\n"
          ]
        }
      ]
    }
  ]
}